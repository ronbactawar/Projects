{
 "cells": [
  {
   "cell_type": "code",
   "execution_count": 1,
   "metadata": {
    "execution": {
     "iopub.execute_input": "2021-05-04T00:20:57.660Z",
     "iopub.status.busy": "2021-05-04T00:20:57.217Z",
     "iopub.status.idle": "2021-05-04T00:21:03.137Z"
    },
    "nteract": {
     "transient": {
      "deleting": false
     }
    }
   },
   "outputs": [],
   "source": [
    "using Primes\n",
    "using DataFrames\n",
    "using Queryverse\n",
    "using VegaLite\n"
   ]
  },
  {
   "cell_type": "code",
   "execution_count": 2,
   "metadata": {
    "execution": {
     "iopub.execute_input": "2021-05-04T00:21:08.615Z",
     "iopub.status.busy": "2021-05-04T00:21:08.235Z",
     "iopub.status.idle": "2021-05-04T00:21:08.791Z"
    },
    "nteract": {
     "transient": {
      "deleting": false
     }
    }
   },
   "outputs": [
    {
     "data": {
      "text/plain": [
       "display (generic function with 1 method)"
      ]
     },
     "execution_count": 2,
     "metadata": {},
     "output_type": "execute_result"
    }
   ],
   "source": [
    "# Determine if a complex integer z is a gaussian prime or not\n",
    "function gaussian_prime(z::Complex{Int64})\n",
    "  a = real(z)\n",
    "  b = imag(z)\n",
    "  if z == 0\n",
    "    return false\n",
    "  elseif a != 0 && b != 0\n",
    "    modulus_z_squared = abs2(z) |> Int\n",
    "    tv = isprime(modulus_z_squared) && (mod(modulus_z_squared, 4) != 3)\n",
    "    return tv\n",
    "  elseif a == 0 || b == 0\n",
    "    modulus_z = abs(z) |> Int\n",
    "    tv =  (isprime(modulus_z)) && (mod(modulus_z, 4) == 3)\n",
    "    return tv\n",
    "  end\n",
    "end\n",
    "\n",
    "# Get all gaussian primes in the range of n units up/down/left/right from z\n",
    "function gaussian_prime_list(z::Complex{Int64}, n::Int64)\n",
    "  my_list = Complex{Int64}[]\n",
    "  x = real(z)\n",
    "  y = imag(z)\n",
    "  for a = x - n:x + n, b = y - n:y + n\n",
    "    complex_num = a + b * im\n",
    "    push!(my_list, complex_num)\n",
    "  end\n",
    "  return filter(gaussian_prime, my_list)\n",
    "end\n",
    "\n",
    "# Define the struct spiral\n",
    "# Keeps track of the span, position, mode {1, i, -1, -i}, primes (enclosed area) path and movements along the gaussian spiral\n",
    "mutable struct Spiral\n",
    "  span::Complex{Int64}\n",
    "  position::Complex{Int64}\n",
    "  mode::Complex{Int64}\n",
    "  primes::Vector{Complex{Int64}}\n",
    "  path::Vector{Complex{Int64}}\n",
    "  movements::Int64 \n",
    "end\n",
    "\n",
    "# Create a spiral object from just the span (complex prime) and extent n\n",
    "function Spiral(span::Complex{Int64}, n)\n",
    "  return Spiral(span, span, 1 + 0im, gaussian_prime_list(span, n), [span], 0)\n",
    "end\n",
    "\n",
    "# A function to move one integer unit along the Gaussian prime spiral\n",
    "function update!(s::Spiral)\n",
    "  s.position = s.position + s.mode\n",
    "  if s.position in s.primes\n",
    "    s.mode = s.mode * im\n",
    "  end\n",
    "  s.path = push!(s.path, s.position)\n",
    "  s.movements = s.movements + 1\n",
    "  return nothing\n",
    "end\n",
    "\n",
    "# Transverse the path along the gaussian spiral, ie. return to the spanning prime\n",
    "function transverse!(s::Spiral)\n",
    "    update!(s)\n",
    "    while true\n",
    "        if s.position == s.span\n",
    "            break\n",
    "        end\n",
    "        update!(s)\n",
    "    end\n",
    "    return nothing\n",
    "end\n",
    "\n",
    "# Function to display the spiral\n",
    "function display(s::Spiral)\n",
    "    # Create some arrays to create a dataframe\n",
    "    ar1 = 0:s.movements # get the movements\n",
    "    ar2 = s.path # Get the transverse path\n",
    "    ar3 = gaussian_prime.(s.path) # Get indicator if path elements are prime\n",
    "    \n",
    "    num_type(x) = ifelse(x == true, \"prime\", \"composite\")\n",
    "\n",
    "    # Create base dataframe for plotting\n",
    "    df = DataFrame(Movements = ar1, Points = ar2, Class = ar3)\n",
    "\n",
    "    # Get all data\n",
    "    all_data = df |> \n",
    "    @mutate(Real_Axis = real.(_.Points)) |>\n",
    "    @mutate(Imaginary_Axis = imag.(_.Points)) |>\n",
    "    @mutate(Class = num_type.(_.Class)) |> DataFrame\n",
    "\n",
    "    # Get just primes\n",
    "    only_primes = all_data |> @filter(_.Class == \"prime\") |> DataFrame\n",
    "    \n",
    "    # Create Vegalite plot\n",
    "    my_plot =\n",
    "    @vlplot(\n",
    "        title = \"Gaussian Prime Spiral\",\n",
    "        height = 700,\n",
    "        width = 700\n",
    "    ) +\n",
    "    @vlplot(\n",
    "        data = all_data,\n",
    "        mark = {:line, color = \"black\", opacity = 1.0},\n",
    "        x = {\"Real_Axis:q\", title = \"Real Axis; Span = $(s.span); Movements = $(s.movements)\"},\n",
    "        y = {\"Imaginary_Axis:q\", title = \"Imaginary Axis\" },\n",
    "        order = \"Movements:o\" \n",
    "        \n",
    "    ) +\n",
    "    @vlplot(\n",
    "        data = only_primes,\n",
    "        mark = {:circle, color = \"red\", opacity = 0.5},\n",
    "        x = \"Real_Axis:q\",\n",
    "        y = \"Imaginary_Axis:q\"\n",
    "    ) \n",
    "    return my_plot\n",
    "end\n"
   ]
  },
  {
   "cell_type": "code",
   "execution_count": 3,
   "metadata": {},
   "outputs": [
    {
     "data": {
      "application/vnd.vegalite.v4+json": {
       "height": 700,
       "layer": [
        {
         "data": {
          "values": [
           {
            "Class": "composite",
            "Imaginary_Axis": 23,
            "Movements": 0,
            "Points": {
             "im": 23,
             "re": 5
            },
            "Real_Axis": 5
           },
           {
            "Class": "composite",
            "Imaginary_Axis": 23,
            "Movements": 1,
            "Points": {
             "im": 23,
             "re": 6
            },
            "Real_Axis": 6
           },
           {
            "Class": "composite",
            "Imaginary_Axis": 23,
            "Movements": 2,
            "Points": {
             "im": 23,
             "re": 7
            },
            "Real_Axis": 7
           },
           {
            "Class": "prime",
            "Imaginary_Axis": 23,
            "Movements": 3,
            "Points": {
             "im": 23,
             "re": 8
            },
            "Real_Axis": 8
           },
           {
            "Class": "composite",
            "Imaginary_Axis": 24,
            "Movements": 4,
            "Points": {
             "im": 24,
             "re": 8
            },
            "Real_Axis": 8
           },
           {
            "Class": "composite",
            "Imaginary_Axis": 25,
            "Movements": 5,
            "Points": {
             "im": 25,
             "re": 8
            },
            "Real_Axis": 8
           },
           {
            "Class": "composite",
            "Imaginary_Axis": 26,
            "Movements": 6,
            "Points": {
             "im": 26,
             "re": 8
            },
            "Real_Axis": 8
           },
           {
            "Class": "composite",
            "Imaginary_Axis": 27,
            "Movements": 7,
            "Points": {
             "im": 27,
             "re": 8
            },
            "Real_Axis": 8
           },
           {
            "Class": "composite",
            "Imaginary_Axis": 28,
            "Movements": 8,
            "Points": {
             "im": 28,
             "re": 8
            },
            "Real_Axis": 8
           },
           {
            "Class": "composite",
            "Imaginary_Axis": 29,
            "Movements": 9,
            "Points": {
             "im": 29,
             "re": 8
            },
            "Real_Axis": 8
           },
           {
            "Class": "composite",
            "Imaginary_Axis": 30,
            "Movements": 10,
            "Points": {
             "im": 30,
             "re": 8
            },
            "Real_Axis": 8
           },
           {
            "Class": "composite",
            "Imaginary_Axis": 31,
            "Movements": 11,
            "Points": {
             "im": 31,
             "re": 8
            },
            "Real_Axis": 8
           },
           {
            "Class": "composite",
            "Imaginary_Axis": 32,
            "Movements": 12,
            "Points": {
             "im": 32,
             "re": 8
            },
            "Real_Axis": 8
           },
           {
            "Class": "prime",
            "Imaginary_Axis": 33,
            "Movements": 13,
            "Points": {
             "im": 33,
             "re": 8
            },
            "Real_Axis": 8
           },
           {
            "Class": "composite",
            "Imaginary_Axis": 33,
            "Movements": 14,
            "Points": {
             "im": 33,
             "re": 7
            },
            "Real_Axis": 7
           },
           {
            "Class": "composite",
            "Imaginary_Axis": 33,
            "Movements": 15,
            "Points": {
             "im": 33,
             "re": 6
            },
            "Real_Axis": 6
           },
           {
            "Class": "composite",
            "Imaginary_Axis": 33,
            "Movements": 16,
            "Points": {
             "im": 33,
             "re": 5
            },
            "Real_Axis": 5
           },
           {
            "Class": "composite",
            "Imaginary_Axis": 33,
            "Movements": 17,
            "Points": {
             "im": 33,
             "re": 4
            },
            "Real_Axis": 4
           },
           {
            "Class": "composite",
            "Imaginary_Axis": 33,
            "Movements": 18,
            "Points": {
             "im": 33,
             "re": 3
            },
            "Real_Axis": 3
           },
           {
            "Class": "prime",
            "Imaginary_Axis": 33,
            "Movements": 19,
            "Points": {
             "im": 33,
             "re": 2
            },
            "Real_Axis": 2
           },
           {
            "Class": "composite",
            "Imaginary_Axis": 32,
            "Movements": 20,
            "Points": {
             "im": 32,
             "re": 2
            },
            "Real_Axis": 2
           },
           {
            "Class": "composite",
            "Imaginary_Axis": 31,
            "Movements": 21,
            "Points": {
             "im": 31,
             "re": 2
            },
            "Real_Axis": 2
           },
           {
            "Class": "composite",
            "Imaginary_Axis": 30,
            "Movements": 22,
            "Points": {
             "im": 30,
             "re": 2
            },
            "Real_Axis": 2
           },
           {
            "Class": "composite",
            "Imaginary_Axis": 29,
            "Movements": 23,
            "Points": {
             "im": 29,
             "re": 2
            },
            "Real_Axis": 2
           },
           {
            "Class": "composite",
            "Imaginary_Axis": 28,
            "Movements": 24,
            "Points": {
             "im": 28,
             "re": 2
            },
            "Real_Axis": 2
           },
           {
            "Class": "prime",
            "Imaginary_Axis": 27,
            "Movements": 25,
            "Points": {
             "im": 27,
             "re": 2
            },
            "Real_Axis": 2
           },
           {
            "Class": "composite",
            "Imaginary_Axis": 27,
            "Movements": 26,
            "Points": {
             "im": 27,
             "re": 3
            },
            "Real_Axis": 3
           },
           {
            "Class": "composite",
            "Imaginary_Axis": 27,
            "Movements": 27,
            "Points": {
             "im": 27,
             "re": 4
            },
            "Real_Axis": 4
           },
           {
            "Class": "composite",
            "Imaginary_Axis": 27,
            "Movements": 28,
            "Points": {
             "im": 27,
             "re": 5
            },
            "Real_Axis": 5
           },
           {
            "Class": "composite",
            "Imaginary_Axis": 27,
            "Movements": 29,
            "Points": {
             "im": 27,
             "re": 6
            },
            "Real_Axis": 6
           },
           {
            "Class": "composite",
            "Imaginary_Axis": 27,
            "Movements": 30,
            "Points": {
             "im": 27,
             "re": 7
            },
            "Real_Axis": 7
           },
           {
            "Class": "composite",
            "Imaginary_Axis": 27,
            "Movements": 31,
            "Points": {
             "im": 27,
             "re": 8
            },
            "Real_Axis": 8
           },
           {
            "Class": "composite",
            "Imaginary_Axis": 27,
            "Movements": 32,
            "Points": {
             "im": 27,
             "re": 9
            },
            "Real_Axis": 9
           },
           {
            "Class": "prime",
            "Imaginary_Axis": 27,
            "Movements": 33,
            "Points": {
             "im": 27,
             "re": 10
            },
            "Real_Axis": 10
           },
           {
            "Class": "composite",
            "Imaginary_Axis": 28,
            "Movements": 34,
            "Points": {
             "im": 28,
             "re": 10
            },
            "Real_Axis": 10
           },
           {
            "Class": "prime",
            "Imaginary_Axis": 29,
            "Movements": 35,
            "Points": {
             "im": 29,
             "re": 10
            },
            "Real_Axis": 10
           },
           {
            "Class": "composite",
            "Imaginary_Axis": 29,
            "Movements": 36,
            "Points": {
             "im": 29,
             "re": 9
            },
            "Real_Axis": 9
           },
           {
            "Class": "composite",
            "Imaginary_Axis": 29,
            "Movements": 37,
            "Points": {
             "im": 29,
             "re": 8
            },
            "Real_Axis": 8
           },
           {
            "Class": "composite",
            "Imaginary_Axis": 29,
            "Movements": 38,
            "Points": {
             "im": 29,
             "re": 7
            },
            "Real_Axis": 7
           },
           {
            "Class": "prime",
            "Imaginary_Axis": 29,
            "Movements": 39,
            "Points": {
             "im": 29,
             "re": 6
            },
            "Real_Axis": 6
           },
           {
            "Class": "composite",
            "Imaginary_Axis": 28,
            "Movements": 40,
            "Points": {
             "im": 28,
             "re": 6
            },
            "Real_Axis": 6
           },
           {
            "Class": "composite",
            "Imaginary_Axis": 27,
            "Movements": 41,
            "Points": {
             "im": 27,
             "re": 6
            },
            "Real_Axis": 6
           },
           {
            "Class": "composite",
            "Imaginary_Axis": 26,
            "Movements": 42,
            "Points": {
             "im": 26,
             "re": 6
            },
            "Real_Axis": 6
           },
           {
            "Class": "prime",
            "Imaginary_Axis": 25,
            "Movements": 43,
            "Points": {
             "im": 25,
             "re": 6
            },
            "Real_Axis": 6
           },
           {
            "Class": "composite",
            "Imaginary_Axis": 25,
            "Movements": 44,
            "Points": {
             "im": 25,
             "re": 7
            },
            "Real_Axis": 7
           },
           {
            "Class": "composite",
            "Imaginary_Axis": 25,
            "Movements": 45,
            "Points": {
             "im": 25,
             "re": 8
            },
            "Real_Axis": 8
           },
           {
            "Class": "composite",
            "Imaginary_Axis": 25,
            "Movements": 46,
            "Points": {
             "im": 25,
             "re": 9
            },
            "Real_Axis": 9
           },
           {
            "Class": "composite",
            "Imaginary_Axis": 25,
            "Movements": 47,
            "Points": {
             "im": 25,
             "re": 10
            },
            "Real_Axis": 10
           },
           {
            "Class": "composite",
            "Imaginary_Axis": 25,
            "Movements": 48,
            "Points": {
             "im": 25,
             "re": 11
            },
            "Real_Axis": 11
           },
           {
            "Class": "prime",
            "Imaginary_Axis": 25,
            "Movements": 49,
            "Points": {
             "im": 25,
             "re": 12
            },
            "Real_Axis": 12
           },
           {
            "Class": "composite",
            "Imaginary_Axis": 26,
            "Movements": 50,
            "Points": {
             "im": 26,
             "re": 12
            },
            "Real_Axis": 12
           },
           {
            "Class": "composite",
            "Imaginary_Axis": 27,
            "Movements": 51,
            "Points": {
             "im": 27,
             "re": 12
            },
            "Real_Axis": 12
           },
           {
            "Class": "composite",
            "Imaginary_Axis": 28,
            "Movements": 52,
            "Points": {
             "im": 28,
             "re": 12
            },
            "Real_Axis": 12
           },
           {
            "Class": "composite",
            "Imaginary_Axis": 29,
            "Movements": 53,
            "Points": {
             "im": 29,
             "re": 12
            },
            "Real_Axis": 12
           },
           {
            "Class": "composite",
            "Imaginary_Axis": 30,
            "Movements": 54,
            "Points": {
             "im": 30,
             "re": 12
            },
            "Real_Axis": 12
           },
           {
            "Class": "composite",
            "Imaginary_Axis": 31,
            "Movements": 55,
            "Points": {
             "im": 31,
             "re": 12
            },
            "Real_Axis": 12
           },
           {
            "Class": "composite",
            "Imaginary_Axis": 32,
            "Movements": 56,
            "Points": {
             "im": 32,
             "re": 12
            },
            "Real_Axis": 12
           },
           {
            "Class": "composite",
            "Imaginary_Axis": 33,
            "Movements": 57,
            "Points": {
             "im": 33,
             "re": 12
            },
            "Real_Axis": 12
           },
           {
            "Class": "composite",
            "Imaginary_Axis": 34,
            "Movements": 58,
            "Points": {
             "im": 34,
             "re": 12
            },
            "Real_Axis": 12
           },
           {
            "Class": "composite",
            "Imaginary_Axis": 35,
            "Movements": 59,
            "Points": {
             "im": 35,
             "re": 12
            },
            "Real_Axis": 12
           },
           {
            "Class": "composite",
            "Imaginary_Axis": 36,
            "Movements": 60,
            "Points": {
             "im": 36,
             "re": 12
            },
            "Real_Axis": 12
           },
           {
            "Class": "composite",
            "Imaginary_Axis": 37,
            "Movements": 61,
            "Points": {
             "im": 37,
             "re": 12
            },
            "Real_Axis": 12
           },
           {
            "Class": "composite",
            "Imaginary_Axis": 38,
            "Movements": 62,
            "Points": {
             "im": 38,
             "re": 12
            },
            "Real_Axis": 12
           },
           {
            "Class": "composite",
            "Imaginary_Axis": 39,
            "Movements": 63,
            "Points": {
             "im": 39,
             "re": 12
            },
            "Real_Axis": 12
           },
           {
            "Class": "composite",
            "Imaginary_Axis": 40,
            "Movements": 64,
            "Points": {
             "im": 40,
             "re": 12
            },
            "Real_Axis": 12
           },
           {
            "Class": "composite",
            "Imaginary_Axis": 41,
            "Movements": 65,
            "Points": {
             "im": 41,
             "re": 12
            },
            "Real_Axis": 12
           },
           {
            "Class": "composite",
            "Imaginary_Axis": 42,
            "Movements": 66,
            "Points": {
             "im": 42,
             "re": 12
            },
            "Real_Axis": 12
           },
           {
            "Class": "prime",
            "Imaginary_Axis": 43,
            "Movements": 67,
            "Points": {
             "im": 43,
             "re": 12
            },
            "Real_Axis": 12
           },
           {
            "Class": "composite",
            "Imaginary_Axis": 43,
            "Movements": 68,
            "Points": {
             "im": 43,
             "re": 11
            },
            "Real_Axis": 11
           },
           {
            "Class": "prime",
            "Imaginary_Axis": 43,
            "Movements": 69,
            "Points": {
             "im": 43,
             "re": 10
            },
            "Real_Axis": 10
           },
           {
            "Class": "composite",
            "Imaginary_Axis": 42,
            "Movements": 70,
            "Points": {
             "im": 42,
             "re": 10
            },
            "Real_Axis": 10
           },
           {
            "Class": "composite",
            "Imaginary_Axis": 41,
            "Movements": 71,
            "Points": {
             "im": 41,
             "re": 10
            },
            "Real_Axis": 10
           },
           {
            "Class": "composite",
            "Imaginary_Axis": 40,
            "Movements": 72,
            "Points": {
             "im": 40,
             "re": 10
            },
            "Real_Axis": 10
           },
           {
            "Class": "prime",
            "Imaginary_Axis": 39,
            "Movements": 73,
            "Points": {
             "im": 39,
             "re": 10
            },
            "Real_Axis": 10
           },
           {
            "Class": "composite",
            "Imaginary_Axis": 39,
            "Movements": 74,
            "Points": {
             "im": 39,
             "re": 11
            },
            "Real_Axis": 11
           },
           {
            "Class": "composite",
            "Imaginary_Axis": 39,
            "Movements": 75,
            "Points": {
             "im": 39,
             "re": 12
            },
            "Real_Axis": 12
           },
           {
            "Class": "composite",
            "Imaginary_Axis": 39,
            "Movements": 76,
            "Points": {
             "im": 39,
             "re": 13
            },
            "Real_Axis": 13
           },
           {
            "Class": "composite",
            "Imaginary_Axis": 39,
            "Movements": 77,
            "Points": {
             "im": 39,
             "re": 14
            },
            "Real_Axis": 14
           },
           {
            "Class": "composite",
            "Imaginary_Axis": 39,
            "Movements": 78,
            "Points": {
             "im": 39,
             "re": 15
            },
            "Real_Axis": 15
           },
           {
            "Class": "prime",
            "Imaginary_Axis": 39,
            "Movements": 79,
            "Points": {
             "im": 39,
             "re": 16
            },
            "Real_Axis": 16
           },
           {
            "Class": "composite",
            "Imaginary_Axis": 40,
            "Movements": 80,
            "Points": {
             "im": 40,
             "re": 16
            },
            "Real_Axis": 16
           },
           {
            "Class": "composite",
            "Imaginary_Axis": 41,
            "Movements": 81,
            "Points": {
             "im": 41,
             "re": 16
            },
            "Real_Axis": 16
           },
           {
            "Class": "composite",
            "Imaginary_Axis": 42,
            "Movements": 82,
            "Points": {
             "im": 42,
             "re": 16
            },
            "Real_Axis": 16
           },
           {
            "Class": "composite",
            "Imaginary_Axis": 43,
            "Movements": 83,
            "Points": {
             "im": 43,
             "re": 16
            },
            "Real_Axis": 16
           },
           {
            "Class": "composite",
            "Imaginary_Axis": 44,
            "Movements": 84,
            "Points": {
             "im": 44,
             "re": 16
            },
            "Real_Axis": 16
           },
           {
            "Class": "prime",
            "Imaginary_Axis": 45,
            "Movements": 85,
            "Points": {
             "im": 45,
             "re": 16
            },
            "Real_Axis": 16
           },
           {
            "Class": "composite",
            "Imaginary_Axis": 45,
            "Movements": 86,
            "Points": {
             "im": 45,
             "re": 15
            },
            "Real_Axis": 15
           },
           {
            "Class": "prime",
            "Imaginary_Axis": 45,
            "Movements": 87,
            "Points": {
             "im": 45,
             "re": 14
            },
            "Real_Axis": 14
           },
           {
            "Class": "composite",
            "Imaginary_Axis": 44,
            "Movements": 88,
            "Points": {
             "im": 44,
             "re": 14
            },
            "Real_Axis": 14
           },
           {
            "Class": "composite",
            "Imaginary_Axis": 43,
            "Movements": 89,
            "Points": {
             "im": 43,
             "re": 14
            },
            "Real_Axis": 14
           },
           {
            "Class": "composite",
            "Imaginary_Axis": 42,
            "Movements": 90,
            "Points": {
             "im": 42,
             "re": 14
            },
            "Real_Axis": 14
           },
           {
            "Class": "prime",
            "Imaginary_Axis": 41,
            "Movements": 91,
            "Points": {
             "im": 41,
             "re": 14
            },
            "Real_Axis": 14
           },
           {
            "Class": "composite",
            "Imaginary_Axis": 41,
            "Movements": 92,
            "Points": {
             "im": 41,
             "re": 15
            },
            "Real_Axis": 15
           },
           {
            "Class": "composite",
            "Imaginary_Axis": 41,
            "Movements": 93,
            "Points": {
             "im": 41,
             "re": 16
            },
            "Real_Axis": 16
           },
           {
            "Class": "composite",
            "Imaginary_Axis": 41,
            "Movements": 94,
            "Points": {
             "im": 41,
             "re": 17
            },
            "Real_Axis": 17
           },
           {
            "Class": "composite",
            "Imaginary_Axis": 41,
            "Movements": 95,
            "Points": {
             "im": 41,
             "re": 18
            },
            "Real_Axis": 18
           },
           {
            "Class": "composite",
            "Imaginary_Axis": 41,
            "Movements": 96,
            "Points": {
             "im": 41,
             "re": 19
            },
            "Real_Axis": 19
           },
           {
            "Class": "prime",
            "Imaginary_Axis": 41,
            "Movements": 97,
            "Points": {
             "im": 41,
             "re": 20
            },
            "Real_Axis": 20
           },
           {
            "Class": "composite",
            "Imaginary_Axis": 42,
            "Movements": 98,
            "Points": {
             "im": 42,
             "re": 20
            },
            "Real_Axis": 20
           },
           {
            "Class": "composite",
            "Imaginary_Axis": 43,
            "Movements": 99,
            "Points": {
             "im": 43,
             "re": 20
            },
            "Real_Axis": 20
           },
           {
            "Class": "composite",
            "Imaginary_Axis": 44,
            "Movements": 100,
            "Points": {
             "im": 44,
             "re": 20
            },
            "Real_Axis": 20
           },
           {
            "Class": "composite",
            "Imaginary_Axis": 45,
            "Movements": 101,
            "Points": {
             "im": 45,
             "re": 20
            },
            "Real_Axis": 20
           },
           {
            "Class": "composite",
            "Imaginary_Axis": 46,
            "Movements": 102,
            "Points": {
             "im": 46,
             "re": 20
            },
            "Real_Axis": 20
           },
           {
            "Class": "prime",
            "Imaginary_Axis": 47,
            "Movements": 103,
            "Points": {
             "im": 47,
             "re": 20
            },
            "Real_Axis": 20
           },
           {
            "Class": "composite",
            "Imaginary_Axis": 47,
            "Movements": 104,
            "Points": {
             "im": 47,
             "re": 19
            },
            "Real_Axis": 19
           },
           {
            "Class": "composite",
            "Imaginary_Axis": 47,
            "Movements": 105,
            "Points": {
             "im": 47,
             "re": 18
            },
            "Real_Axis": 18
           },
           {
            "Class": "composite",
            "Imaginary_Axis": 47,
            "Movements": 106,
            "Points": {
             "im": 47,
             "re": 17
            },
            "Real_Axis": 17
           },
           {
            "Class": "composite",
            "Imaginary_Axis": 47,
            "Movements": 107,
            "Points": {
             "im": 47,
             "re": 16
            },
            "Real_Axis": 16
           },
           {
            "Class": "composite",
            "Imaginary_Axis": 47,
            "Movements": 108,
            "Points": {
             "im": 47,
             "re": 15
            },
            "Real_Axis": 15
           },
           {
            "Class": "composite",
            "Imaginary_Axis": 47,
            "Movements": 109,
            "Points": {
             "im": 47,
             "re": 14
            },
            "Real_Axis": 14
           },
           {
            "Class": "composite",
            "Imaginary_Axis": 47,
            "Movements": 110,
            "Points": {
             "im": 47,
             "re": 13
            },
            "Real_Axis": 13
           },
           {
            "Class": "composite",
            "Imaginary_Axis": 47,
            "Movements": 111,
            "Points": {
             "im": 47,
             "re": 12
            },
            "Real_Axis": 12
           },
           {
            "Class": "composite",
            "Imaginary_Axis": 47,
            "Movements": 112,
            "Points": {
             "im": 47,
             "re": 11
            },
            "Real_Axis": 11
           },
           {
            "Class": "prime",
            "Imaginary_Axis": 47,
            "Movements": 113,
            "Points": {
             "im": 47,
             "re": 10
            },
            "Real_Axis": 10
           },
           {
            "Class": "composite",
            "Imaginary_Axis": 46,
            "Movements": 114,
            "Points": {
             "im": 46,
             "re": 10
            },
            "Real_Axis": 10
           },
           {
            "Class": "composite",
            "Imaginary_Axis": 45,
            "Movements": 115,
            "Points": {
             "im": 45,
             "re": 10
            },
            "Real_Axis": 10
           },
           {
            "Class": "composite",
            "Imaginary_Axis": 44,
            "Movements": 116,
            "Points": {
             "im": 44,
             "re": 10
            },
            "Real_Axis": 10
           },
           {
            "Class": "prime",
            "Imaginary_Axis": 43,
            "Movements": 117,
            "Points": {
             "im": 43,
             "re": 10
            },
            "Real_Axis": 10
           },
           {
            "Class": "composite",
            "Imaginary_Axis": 43,
            "Movements": 118,
            "Points": {
             "im": 43,
             "re": 11
            },
            "Real_Axis": 11
           },
           {
            "Class": "prime",
            "Imaginary_Axis": 43,
            "Movements": 119,
            "Points": {
             "im": 43,
             "re": 12
            },
            "Real_Axis": 12
           },
           {
            "Class": "composite",
            "Imaginary_Axis": 44,
            "Movements": 120,
            "Points": {
             "im": 44,
             "re": 12
            },
            "Real_Axis": 12
           },
           {
            "Class": "composite",
            "Imaginary_Axis": 45,
            "Movements": 121,
            "Points": {
             "im": 45,
             "re": 12
            },
            "Real_Axis": 12
           },
           {
            "Class": "composite",
            "Imaginary_Axis": 46,
            "Movements": 122,
            "Points": {
             "im": 46,
             "re": 12
            },
            "Real_Axis": 12
           },
           {
            "Class": "composite",
            "Imaginary_Axis": 47,
            "Movements": 123,
            "Points": {
             "im": 47,
             "re": 12
            },
            "Real_Axis": 12
           },
           {
            "Class": "composite",
            "Imaginary_Axis": 48,
            "Movements": 124,
            "Points": {
             "im": 48,
             "re": 12
            },
            "Real_Axis": 12
           },
           {
            "Class": "composite",
            "Imaginary_Axis": 49,
            "Movements": 125,
            "Points": {
             "im": 49,
             "re": 12
            },
            "Real_Axis": 12
           },
           {
            "Class": "composite",
            "Imaginary_Axis": 50,
            "Movements": 126,
            "Points": {
             "im": 50,
             "re": 12
            },
            "Real_Axis": 12
           },
           {
            "Class": "composite",
            "Imaginary_Axis": 51,
            "Movements": 127,
            "Points": {
             "im": 51,
             "re": 12
            },
            "Real_Axis": 12
           },
           {
            "Class": "composite",
            "Imaginary_Axis": 52,
            "Movements": 128,
            "Points": {
             "im": 52,
             "re": 12
            },
            "Real_Axis": 12
           },
           {
            "Class": "prime",
            "Imaginary_Axis": 53,
            "Movements": 129,
            "Points": {
             "im": 53,
             "re": 12
            },
            "Real_Axis": 12
           },
           {
            "Class": "composite",
            "Imaginary_Axis": 53,
            "Movements": 130,
            "Points": {
             "im": 53,
             "re": 11
            },
            "Real_Axis": 11
           },
           {
            "Class": "prime",
            "Imaginary_Axis": 53,
            "Movements": 131,
            "Points": {
             "im": 53,
             "re": 10
            },
            "Real_Axis": 10
           },
           {
            "Class": "composite",
            "Imaginary_Axis": 52,
            "Movements": 132,
            "Points": {
             "im": 52,
             "re": 10
            },
            "Real_Axis": 10
           },
           {
            "Class": "composite",
            "Imaginary_Axis": 51,
            "Movements": 133,
            "Points": {
             "im": 51,
             "re": 10
            },
            "Real_Axis": 10
           },
           {
            "Class": "composite",
            "Imaginary_Axis": 50,
            "Movements": 134,
            "Points": {
             "im": 50,
             "re": 10
            },
            "Real_Axis": 10
           },
           {
            "Class": "composite",
            "Imaginary_Axis": 49,
            "Movements": 135,
            "Points": {
             "im": 49,
             "re": 10
            },
            "Real_Axis": 10
           },
           {
            "Class": "composite",
            "Imaginary_Axis": 48,
            "Movements": 136,
            "Points": {
             "im": 48,
             "re": 10
            },
            "Real_Axis": 10
           },
           {
            "Class": "prime",
            "Imaginary_Axis": 47,
            "Movements": 137,
            "Points": {
             "im": 47,
             "re": 10
            },
            "Real_Axis": 10
           },
           {
            "Class": "composite",
            "Imaginary_Axis": 47,
            "Movements": 138,
            "Points": {
             "im": 47,
             "re": 11
            },
            "Real_Axis": 11
           },
           {
            "Class": "composite",
            "Imaginary_Axis": 47,
            "Movements": 139,
            "Points": {
             "im": 47,
             "re": 12
            },
            "Real_Axis": 12
           },
           {
            "Class": "composite",
            "Imaginary_Axis": 47,
            "Movements": 140,
            "Points": {
             "im": 47,
             "re": 13
            },
            "Real_Axis": 13
           },
           {
            "Class": "composite",
            "Imaginary_Axis": 47,
            "Movements": 141,
            "Points": {
             "im": 47,
             "re": 14
            },
            "Real_Axis": 14
           },
           {
            "Class": "composite",
            "Imaginary_Axis": 47,
            "Movements": 142,
            "Points": {
             "im": 47,
             "re": 15
            },
            "Real_Axis": 15
           },
           {
            "Class": "composite",
            "Imaginary_Axis": 47,
            "Movements": 143,
            "Points": {
             "im": 47,
             "re": 16
            },
            "Real_Axis": 16
           },
           {
            "Class": "composite",
            "Imaginary_Axis": 47,
            "Movements": 144,
            "Points": {
             "im": 47,
             "re": 17
            },
            "Real_Axis": 17
           },
           {
            "Class": "composite",
            "Imaginary_Axis": 47,
            "Movements": 145,
            "Points": {
             "im": 47,
             "re": 18
            },
            "Real_Axis": 18
           },
           {
            "Class": "composite",
            "Imaginary_Axis": 47,
            "Movements": 146,
            "Points": {
             "im": 47,
             "re": 19
            },
            "Real_Axis": 19
           },
           {
            "Class": "prime",
            "Imaginary_Axis": 47,
            "Movements": 147,
            "Points": {
             "im": 47,
             "re": 20
            },
            "Real_Axis": 20
           },
           {
            "Class": "composite",
            "Imaginary_Axis": 48,
            "Movements": 148,
            "Points": {
             "im": 48,
             "re": 20
            },
            "Real_Axis": 20
           },
           {
            "Class": "prime",
            "Imaginary_Axis": 49,
            "Movements": 149,
            "Points": {
             "im": 49,
             "re": 20
            },
            "Real_Axis": 20
           },
           {
            "Class": "composite",
            "Imaginary_Axis": 49,
            "Movements": 150,
            "Points": {
             "im": 49,
             "re": 19
            },
            "Real_Axis": 19
           },
           {
            "Class": "composite",
            "Imaginary_Axis": 49,
            "Movements": 151,
            "Points": {
             "im": 49,
             "re": 18
            },
            "Real_Axis": 18
           },
           {
            "Class": "composite",
            "Imaginary_Axis": 49,
            "Movements": 152,
            "Points": {
             "im": 49,
             "re": 17
            },
            "Real_Axis": 17
           },
           {
            "Class": "prime",
            "Imaginary_Axis": 49,
            "Movements": 153,
            "Points": {
             "im": 49,
             "re": 16
            },
            "Real_Axis": 16
           },
           {
            "Class": "composite",
            "Imaginary_Axis": 48,
            "Movements": 154,
            "Points": {
             "im": 48,
             "re": 16
            },
            "Real_Axis": 16
           },
           {
            "Class": "composite",
            "Imaginary_Axis": 47,
            "Movements": 155,
            "Points": {
             "im": 47,
             "re": 16
            },
            "Real_Axis": 16
           },
           {
            "Class": "composite",
            "Imaginary_Axis": 46,
            "Movements": 156,
            "Points": {
             "im": 46,
             "re": 16
            },
            "Real_Axis": 16
           },
           {
            "Class": "prime",
            "Imaginary_Axis": 45,
            "Movements": 157,
            "Points": {
             "im": 45,
             "re": 16
            },
            "Real_Axis": 16
           },
           {
            "Class": "composite",
            "Imaginary_Axis": 45,
            "Movements": 158,
            "Points": {
             "im": 45,
             "re": 17
            },
            "Real_Axis": 17
           },
           {
            "Class": "composite",
            "Imaginary_Axis": 45,
            "Movements": 159,
            "Points": {
             "im": 45,
             "re": 18
            },
            "Real_Axis": 18
           },
           {
            "Class": "composite",
            "Imaginary_Axis": 45,
            "Movements": 160,
            "Points": {
             "im": 45,
             "re": 19
            },
            "Real_Axis": 19
           },
           {
            "Class": "composite",
            "Imaginary_Axis": 45,
            "Movements": 161,
            "Points": {
             "im": 45,
             "re": 20
            },
            "Real_Axis": 20
           },
           {
            "Class": "composite",
            "Imaginary_Axis": 45,
            "Movements": 162,
            "Points": {
             "im": 45,
             "re": 21
            },
            "Real_Axis": 21
           },
           {
            "Class": "composite",
            "Imaginary_Axis": 45,
            "Movements": 163,
            "Points": {
             "im": 45,
             "re": 22
            },
            "Real_Axis": 22
           },
           {
            "Class": "composite",
            "Imaginary_Axis": 45,
            "Movements": 164,
            "Points": {
             "im": 45,
             "re": 23
            },
            "Real_Axis": 23
           },
           {
            "Class": "composite",
            "Imaginary_Axis": 45,
            "Movements": 165,
            "Points": {
             "im": 45,
             "re": 24
            },
            "Real_Axis": 24
           },
           {
            "Class": "composite",
            "Imaginary_Axis": 45,
            "Movements": 166,
            "Points": {
             "im": 45,
             "re": 25
            },
            "Real_Axis": 25
           },
           {
            "Class": "composite",
            "Imaginary_Axis": 45,
            "Movements": 167,
            "Points": {
             "im": 45,
             "re": 26
            },
            "Real_Axis": 26
           },
           {
            "Class": "composite",
            "Imaginary_Axis": 45,
            "Movements": 168,
            "Points": {
             "im": 45,
             "re": 27
            },
            "Real_Axis": 27
           },
           {
            "Class": "composite",
            "Imaginary_Axis": 45,
            "Movements": 169,
            "Points": {
             "im": 45,
             "re": 28
            },
            "Real_Axis": 28
           },
           {
            "Class": "composite",
            "Imaginary_Axis": 45,
            "Movements": 170,
            "Points": {
             "im": 45,
             "re": 29
            },
            "Real_Axis": 29
           },
           {
            "Class": "composite",
            "Imaginary_Axis": 45,
            "Movements": 171,
            "Points": {
             "im": 45,
             "re": 30
            },
            "Real_Axis": 30
           },
           {
            "Class": "composite",
            "Imaginary_Axis": 45,
            "Movements": 172,
            "Points": {
             "im": 45,
             "re": 31
            },
            "Real_Axis": 31
           },
           {
            "Class": "prime",
            "Imaginary_Axis": 45,
            "Movements": 173,
            "Points": {
             "im": 45,
             "re": 32
            },
            "Real_Axis": 32
           },
           {
            "Class": "composite",
            "Imaginary_Axis": 46,
            "Movements": 174,
            "Points": {
             "im": 46,
             "re": 32
            },
            "Real_Axis": 32
           },
           {
            "Class": "composite",
            "Imaginary_Axis": 47,
            "Movements": 175,
            "Points": {
             "im": 47,
             "re": 32
            },
            "Real_Axis": 32
           },
           {
            "Class": "composite",
            "Imaginary_Axis": 48,
            "Movements": 176,
            "Points": {
             "im": 48,
             "re": 32
            },
            "Real_Axis": 32
           },
           {
            "Class": "composite",
            "Imaginary_Axis": 49,
            "Movements": 177,
            "Points": {
             "im": 49,
             "re": 32
            },
            "Real_Axis": 32
           },
           {
            "Class": "composite",
            "Imaginary_Axis": 50,
            "Movements": 178,
            "Points": {
             "im": 50,
             "re": 32
            },
            "Real_Axis": 32
           },
           {
            "Class": "composite",
            "Imaginary_Axis": 51,
            "Movements": 179,
            "Points": {
             "im": 51,
             "re": 32
            },
            "Real_Axis": 32
           },
           {
            "Class": "composite",
            "Imaginary_Axis": 52,
            "Movements": 180,
            "Points": {
             "im": 52,
             "re": 32
            },
            "Real_Axis": 32
           },
           {
            "Class": "prime",
            "Imaginary_Axis": 53,
            "Movements": 181,
            "Points": {
             "im": 53,
             "re": 32
            },
            "Real_Axis": 32
           },
           {
            "Class": "composite",
            "Imaginary_Axis": 53,
            "Movements": 182,
            "Points": {
             "im": 53,
             "re": 31
            },
            "Real_Axis": 31
           },
           {
            "Class": "prime",
            "Imaginary_Axis": 53,
            "Movements": 183,
            "Points": {
             "im": 53,
             "re": 30
            },
            "Real_Axis": 30
           },
           {
            "Class": "composite",
            "Imaginary_Axis": 52,
            "Movements": 184,
            "Points": {
             "im": 52,
             "re": 30
            },
            "Real_Axis": 30
           },
           {
            "Class": "composite",
            "Imaginary_Axis": 51,
            "Movements": 185,
            "Points": {
             "im": 51,
             "re": 30
            },
            "Real_Axis": 30
           },
           {
            "Class": "composite",
            "Imaginary_Axis": 50,
            "Movements": 186,
            "Points": {
             "im": 50,
             "re": 30
            },
            "Real_Axis": 30
           },
           {
            "Class": "prime",
            "Imaginary_Axis": 49,
            "Movements": 187,
            "Points": {
             "im": 49,
             "re": 30
            },
            "Real_Axis": 30
           },
           {
            "Class": "composite",
            "Imaginary_Axis": 49,
            "Movements": 188,
            "Points": {
             "im": 49,
             "re": 31
            },
            "Real_Axis": 31
           },
           {
            "Class": "composite",
            "Imaginary_Axis": 49,
            "Movements": 189,
            "Points": {
             "im": 49,
             "re": 32
            },
            "Real_Axis": 32
           },
           {
            "Class": "composite",
            "Imaginary_Axis": 49,
            "Movements": 190,
            "Points": {
             "im": 49,
             "re": 33
            },
            "Real_Axis": 33
           },
           {
            "Class": "prime",
            "Imaginary_Axis": 49,
            "Movements": 191,
            "Points": {
             "im": 49,
             "re": 34
            },
            "Real_Axis": 34
           },
           {
            "Class": "composite",
            "Imaginary_Axis": 50,
            "Movements": 192,
            "Points": {
             "im": 50,
             "re": 34
            },
            "Real_Axis": 34
           },
           {
            "Class": "composite",
            "Imaginary_Axis": 51,
            "Movements": 193,
            "Points": {
             "im": 51,
             "re": 34
            },
            "Real_Axis": 34
           },
           {
            "Class": "composite",
            "Imaginary_Axis": 52,
            "Movements": 194,
            "Points": {
             "im": 52,
             "re": 34
            },
            "Real_Axis": 34
           },
           {
            "Class": "composite",
            "Imaginary_Axis": 53,
            "Movements": 195,
            "Points": {
             "im": 53,
             "re": 34
            },
            "Real_Axis": 34
           },
           {
            "Class": "composite",
            "Imaginary_Axis": 54,
            "Movements": 196,
            "Points": {
             "im": 54,
             "re": 34
            },
            "Real_Axis": 34
           },
           {
            "Class": "composite",
            "Imaginary_Axis": 55,
            "Movements": 197,
            "Points": {
             "im": 55,
             "re": 34
            },
            "Real_Axis": 34
           },
           {
            "Class": "composite",
            "Imaginary_Axis": 56,
            "Movements": 198,
            "Points": {
             "im": 56,
             "re": 34
            },
            "Real_Axis": 34
           },
           {
            "Class": "composite",
            "Imaginary_Axis": 57,
            "Movements": 199,
            "Points": {
             "im": 57,
             "re": 34
            },
            "Real_Axis": 34
           },
           {
            "Class": "composite",
            "Imaginary_Axis": 58,
            "Movements": 200,
            "Points": {
             "im": 58,
             "re": 34
            },
            "Real_Axis": 34
           },
           {
            "Class": "prime",
            "Imaginary_Axis": 59,
            "Movements": 201,
            "Points": {
             "im": 59,
             "re": 34
            },
            "Real_Axis": 34
           },
           {
            "Class": "composite",
            "Imaginary_Axis": 59,
            "Movements": 202,
            "Points": {
             "im": 59,
             "re": 33
            },
            "Real_Axis": 33
           },
           {
            "Class": "composite",
            "Imaginary_Axis": 59,
            "Movements": 203,
            "Points": {
             "im": 59,
             "re": 32
            },
            "Real_Axis": 32
           },
           {
            "Class": "composite",
            "Imaginary_Axis": 59,
            "Movements": 204,
            "Points": {
             "im": 59,
             "re": 31
            },
            "Real_Axis": 31
           },
           {
            "Class": "composite",
            "Imaginary_Axis": 59,
            "Movements": 205,
            "Points": {
             "im": 59,
             "re": 30
            },
            "Real_Axis": 30
           },
           {
            "Class": "composite",
            "Imaginary_Axis": 59,
            "Movements": 206,
            "Points": {
             "im": 59,
             "re": 29
            },
            "Real_Axis": 29
           },
           {
            "Class": "composite",
            "Imaginary_Axis": 59,
            "Movements": 207,
            "Points": {
             "im": 59,
             "re": 28
            },
            "Real_Axis": 28
           },
           {
            "Class": "composite",
            "Imaginary_Axis": 59,
            "Movements": 208,
            "Points": {
             "im": 59,
             "re": 27
            },
            "Real_Axis": 27
           },
           {
            "Class": "prime",
            "Imaginary_Axis": 59,
            "Movements": 209,
            "Points": {
             "im": 59,
             "re": 26
            },
            "Real_Axis": 26
           },
           {
            "Class": "composite",
            "Imaginary_Axis": 58,
            "Movements": 210,
            "Points": {
             "im": 58,
             "re": 26
            },
            "Real_Axis": 26
           },
           {
            "Class": "composite",
            "Imaginary_Axis": 57,
            "Movements": 211,
            "Points": {
             "im": 57,
             "re": 26
            },
            "Real_Axis": 26
           },
           {
            "Class": "composite",
            "Imaginary_Axis": 56,
            "Movements": 212,
            "Points": {
             "im": 56,
             "re": 26
            },
            "Real_Axis": 26
           },
           {
            "Class": "prime",
            "Imaginary_Axis": 55,
            "Movements": 213,
            "Points": {
             "im": 55,
             "re": 26
            },
            "Real_Axis": 26
           },
           {
            "Class": "composite",
            "Imaginary_Axis": 55,
            "Movements": 214,
            "Points": {
             "im": 55,
             "re": 27
            },
            "Real_Axis": 27
           },
           {
            "Class": "composite",
            "Imaginary_Axis": 55,
            "Movements": 215,
            "Points": {
             "im": 55,
             "re": 28
            },
            "Real_Axis": 28
           },
           {
            "Class": "composite",
            "Imaginary_Axis": 55,
            "Movements": 216,
            "Points": {
             "im": 55,
             "re": 29
            },
            "Real_Axis": 29
           },
           {
            "Class": "composite",
            "Imaginary_Axis": 55,
            "Movements": 217,
            "Points": {
             "im": 55,
             "re": 30
            },
            "Real_Axis": 30
           },
           {
            "Class": "composite",
            "Imaginary_Axis": 55,
            "Movements": 218,
            "Points": {
             "im": 55,
             "re": 31
            },
            "Real_Axis": 31
           },
           {
            "Class": "prime",
            "Imaginary_Axis": 55,
            "Movements": 219,
            "Points": {
             "im": 55,
             "re": 32
            },
            "Real_Axis": 32
           },
           {
            "Class": "composite",
            "Imaginary_Axis": 56,
            "Movements": 220,
            "Points": {
             "im": 56,
             "re": 32
            },
            "Real_Axis": 32
           },
           {
            "Class": "prime",
            "Imaginary_Axis": 57,
            "Movements": 221,
            "Points": {
             "im": 57,
             "re": 32
            },
            "Real_Axis": 32
           },
           {
            "Class": "composite",
            "Imaginary_Axis": 57,
            "Movements": 222,
            "Points": {
             "im": 57,
             "re": 31
            },
            "Real_Axis": 31
           },
           {
            "Class": "composite",
            "Imaginary_Axis": 57,
            "Movements": 223,
            "Points": {
             "im": 57,
             "re": 30
            },
            "Real_Axis": 30
           },
           {
            "Class": "composite",
            "Imaginary_Axis": 57,
            "Movements": 224,
            "Points": {
             "im": 57,
             "re": 29
            },
            "Real_Axis": 29
           },
           {
            "Class": "composite",
            "Imaginary_Axis": 57,
            "Movements": 225,
            "Points": {
             "im": 57,
             "re": 28
            },
            "Real_Axis": 28
           },
           {
            "Class": "composite",
            "Imaginary_Axis": 57,
            "Movements": 226,
            "Points": {
             "im": 57,
             "re": 27
            },
            "Real_Axis": 27
           },
           {
            "Class": "composite",
            "Imaginary_Axis": 57,
            "Movements": 227,
            "Points": {
             "im": 57,
             "re": 26
            },
            "Real_Axis": 26
           },
           {
            "Class": "composite",
            "Imaginary_Axis": 57,
            "Movements": 228,
            "Points": {
             "im": 57,
             "re": 25
            },
            "Real_Axis": 25
           },
           {
            "Class": "composite",
            "Imaginary_Axis": 57,
            "Movements": 229,
            "Points": {
             "im": 57,
             "re": 24
            },
            "Real_Axis": 24
           },
           {
            "Class": "composite",
            "Imaginary_Axis": 57,
            "Movements": 230,
            "Points": {
             "im": 57,
             "re": 23
            },
            "Real_Axis": 23
           },
           {
            "Class": "prime",
            "Imaginary_Axis": 57,
            "Movements": 231,
            "Points": {
             "im": 57,
             "re": 22
            },
            "Real_Axis": 22
           },
           {
            "Class": "composite",
            "Imaginary_Axis": 56,
            "Movements": 232,
            "Points": {
             "im": 56,
             "re": 22
            },
            "Real_Axis": 22
           },
           {
            "Class": "composite",
            "Imaginary_Axis": 55,
            "Movements": 233,
            "Points": {
             "im": 55,
             "re": 22
            },
            "Real_Axis": 22
           },
           {
            "Class": "composite",
            "Imaginary_Axis": 54,
            "Movements": 234,
            "Points": {
             "im": 54,
             "re": 22
            },
            "Real_Axis": 22
           },
           {
            "Class": "composite",
            "Imaginary_Axis": 53,
            "Movements": 235,
            "Points": {
             "im": 53,
             "re": 22
            },
            "Real_Axis": 22
           },
           {
            "Class": "composite",
            "Imaginary_Axis": 52,
            "Movements": 236,
            "Points": {
             "im": 52,
             "re": 22
            },
            "Real_Axis": 22
           },
           {
            "Class": "composite",
            "Imaginary_Axis": 51,
            "Movements": 237,
            "Points": {
             "im": 51,
             "re": 22
            },
            "Real_Axis": 22
           },
           {
            "Class": "composite",
            "Imaginary_Axis": 50,
            "Movements": 238,
            "Points": {
             "im": 50,
             "re": 22
            },
            "Real_Axis": 22
           },
           {
            "Class": "composite",
            "Imaginary_Axis": 49,
            "Movements": 239,
            "Points": {
             "im": 49,
             "re": 22
            },
            "Real_Axis": 22
           },
           {
            "Class": "composite",
            "Imaginary_Axis": 48,
            "Movements": 240,
            "Points": {
             "im": 48,
             "re": 22
            },
            "Real_Axis": 22
           },
           {
            "Class": "prime",
            "Imaginary_Axis": 47,
            "Movements": 241,
            "Points": {
             "im": 47,
             "re": 22
            },
            "Real_Axis": 22
           },
           {
            "Class": "composite",
            "Imaginary_Axis": 47,
            "Movements": 242,
            "Points": {
             "im": 47,
             "re": 23
            },
            "Real_Axis": 23
           },
           {
            "Class": "composite",
            "Imaginary_Axis": 47,
            "Movements": 243,
            "Points": {
             "im": 47,
             "re": 24
            },
            "Real_Axis": 24
           },
           {
            "Class": "composite",
            "Imaginary_Axis": 47,
            "Movements": 244,
            "Points": {
             "im": 47,
             "re": 25
            },
            "Real_Axis": 25
           },
           {
            "Class": "composite",
            "Imaginary_Axis": 47,
            "Movements": 245,
            "Points": {
             "im": 47,
             "re": 26
            },
            "Real_Axis": 26
           },
           {
            "Class": "composite",
            "Imaginary_Axis": 47,
            "Movements": 246,
            "Points": {
             "im": 47,
             "re": 27
            },
            "Real_Axis": 27
           },
           {
            "Class": "composite",
            "Imaginary_Axis": 47,
            "Movements": 247,
            "Points": {
             "im": 47,
             "re": 28
            },
            "Real_Axis": 28
           },
           {
            "Class": "composite",
            "Imaginary_Axis": 47,
            "Movements": 248,
            "Points": {
             "im": 47,
             "re": 29
            },
            "Real_Axis": 29
           },
           {
            "Class": "prime",
            "Imaginary_Axis": 47,
            "Movements": 249,
            "Points": {
             "im": 47,
             "re": 30
            },
            "Real_Axis": 30
           },
           {
            "Class": "composite",
            "Imaginary_Axis": 48,
            "Movements": 250,
            "Points": {
             "im": 48,
             "re": 30
            },
            "Real_Axis": 30
           },
           {
            "Class": "prime",
            "Imaginary_Axis": 49,
            "Movements": 251,
            "Points": {
             "im": 49,
             "re": 30
            },
            "Real_Axis": 30
           },
           {
            "Class": "composite",
            "Imaginary_Axis": 49,
            "Movements": 252,
            "Points": {
             "im": 49,
             "re": 29
            },
            "Real_Axis": 29
           },
           {
            "Class": "composite",
            "Imaginary_Axis": 49,
            "Movements": 253,
            "Points": {
             "im": 49,
             "re": 28
            },
            "Real_Axis": 28
           },
           {
            "Class": "composite",
            "Imaginary_Axis": 49,
            "Movements": 254,
            "Points": {
             "im": 49,
             "re": 27
            },
            "Real_Axis": 27
           },
           {
            "Class": "composite",
            "Imaginary_Axis": 49,
            "Movements": 255,
            "Points": {
             "im": 49,
             "re": 26
            },
            "Real_Axis": 26
           },
           {
            "Class": "composite",
            "Imaginary_Axis": 49,
            "Movements": 256,
            "Points": {
             "im": 49,
             "re": 25
            },
            "Real_Axis": 25
           },
           {
            "Class": "composite",
            "Imaginary_Axis": 49,
            "Movements": 257,
            "Points": {
             "im": 49,
             "re": 24
            },
            "Real_Axis": 24
           },
           {
            "Class": "composite",
            "Imaginary_Axis": 49,
            "Movements": 258,
            "Points": {
             "im": 49,
             "re": 23
            },
            "Real_Axis": 23
           },
           {
            "Class": "composite",
            "Imaginary_Axis": 49,
            "Movements": 259,
            "Points": {
             "im": 49,
             "re": 22
            },
            "Real_Axis": 22
           },
           {
            "Class": "composite",
            "Imaginary_Axis": 49,
            "Movements": 260,
            "Points": {
             "im": 49,
             "re": 21
            },
            "Real_Axis": 21
           },
           {
            "Class": "prime",
            "Imaginary_Axis": 49,
            "Movements": 261,
            "Points": {
             "im": 49,
             "re": 20
            },
            "Real_Axis": 20
           },
           {
            "Class": "composite",
            "Imaginary_Axis": 48,
            "Movements": 262,
            "Points": {
             "im": 48,
             "re": 20
            },
            "Real_Axis": 20
           },
           {
            "Class": "prime",
            "Imaginary_Axis": 47,
            "Movements": 263,
            "Points": {
             "im": 47,
             "re": 20
            },
            "Real_Axis": 20
           },
           {
            "Class": "composite",
            "Imaginary_Axis": 47,
            "Movements": 264,
            "Points": {
             "im": 47,
             "re": 21
            },
            "Real_Axis": 21
           },
           {
            "Class": "prime",
            "Imaginary_Axis": 47,
            "Movements": 265,
            "Points": {
             "im": 47,
             "re": 22
            },
            "Real_Axis": 22
           },
           {
            "Class": "composite",
            "Imaginary_Axis": 48,
            "Movements": 266,
            "Points": {
             "im": 48,
             "re": 22
            },
            "Real_Axis": 22
           },
           {
            "Class": "composite",
            "Imaginary_Axis": 49,
            "Movements": 267,
            "Points": {
             "im": 49,
             "re": 22
            },
            "Real_Axis": 22
           },
           {
            "Class": "composite",
            "Imaginary_Axis": 50,
            "Movements": 268,
            "Points": {
             "im": 50,
             "re": 22
            },
            "Real_Axis": 22
           },
           {
            "Class": "composite",
            "Imaginary_Axis": 51,
            "Movements": 269,
            "Points": {
             "im": 51,
             "re": 22
            },
            "Real_Axis": 22
           },
           {
            "Class": "composite",
            "Imaginary_Axis": 52,
            "Movements": 270,
            "Points": {
             "im": 52,
             "re": 22
            },
            "Real_Axis": 22
           },
           {
            "Class": "composite",
            "Imaginary_Axis": 53,
            "Movements": 271,
            "Points": {
             "im": 53,
             "re": 22
            },
            "Real_Axis": 22
           },
           {
            "Class": "composite",
            "Imaginary_Axis": 54,
            "Movements": 272,
            "Points": {
             "im": 54,
             "re": 22
            },
            "Real_Axis": 22
           },
           {
            "Class": "composite",
            "Imaginary_Axis": 55,
            "Movements": 273,
            "Points": {
             "im": 55,
             "re": 22
            },
            "Real_Axis": 22
           },
           {
            "Class": "composite",
            "Imaginary_Axis": 56,
            "Movements": 274,
            "Points": {
             "im": 56,
             "re": 22
            },
            "Real_Axis": 22
           },
           {
            "Class": "prime",
            "Imaginary_Axis": 57,
            "Movements": 275,
            "Points": {
             "im": 57,
             "re": 22
            },
            "Real_Axis": 22
           },
           {
            "Class": "composite",
            "Imaginary_Axis": 57,
            "Movements": 276,
            "Points": {
             "im": 57,
             "re": 21
            },
            "Real_Axis": 21
           },
           {
            "Class": "composite",
            "Imaginary_Axis": 57,
            "Movements": 277,
            "Points": {
             "im": 57,
             "re": 20
            },
            "Real_Axis": 20
           },
           {
            "Class": "composite",
            "Imaginary_Axis": 57,
            "Movements": 278,
            "Points": {
             "im": 57,
             "re": 19
            },
            "Real_Axis": 19
           },
           {
            "Class": "composite",
            "Imaginary_Axis": 57,
            "Movements": 279,
            "Points": {
             "im": 57,
             "re": 18
            },
            "Real_Axis": 18
           },
           {
            "Class": "composite",
            "Imaginary_Axis": 57,
            "Movements": 280,
            "Points": {
             "im": 57,
             "re": 17
            },
            "Real_Axis": 17
           },
           {
            "Class": "composite",
            "Imaginary_Axis": 57,
            "Movements": 281,
            "Points": {
             "im": 57,
             "re": 16
            },
            "Real_Axis": 16
           },
           {
            "Class": "composite",
            "Imaginary_Axis": 57,
            "Movements": 282,
            "Points": {
             "im": 57,
             "re": 15
            },
            "Real_Axis": 15
           },
           {
            "Class": "composite",
            "Imaginary_Axis": 57,
            "Movements": 283,
            "Points": {
             "im": 57,
             "re": 14
            },
            "Real_Axis": 14
           },
           {
            "Class": "composite",
            "Imaginary_Axis": 57,
            "Movements": 284,
            "Points": {
             "im": 57,
             "re": 13
            },
            "Real_Axis": 13
           },
           {
            "Class": "composite",
            "Imaginary_Axis": 57,
            "Movements": 285,
            "Points": {
             "im": 57,
             "re": 12
            },
            "Real_Axis": 12
           },
           {
            "Class": "composite",
            "Imaginary_Axis": 57,
            "Movements": 286,
            "Points": {
             "im": 57,
             "re": 11
            },
            "Real_Axis": 11
           },
           {
            "Class": "composite",
            "Imaginary_Axis": 57,
            "Movements": 287,
            "Points": {
             "im": 57,
             "re": 10
            },
            "Real_Axis": 10
           },
           {
            "Class": "composite",
            "Imaginary_Axis": 57,
            "Movements": 288,
            "Points": {
             "im": 57,
             "re": 9
            },
            "Real_Axis": 9
           },
           {
            "Class": "prime",
            "Imaginary_Axis": 57,
            "Movements": 289,
            "Points": {
             "im": 57,
             "re": 8
            },
            "Real_Axis": 8
           },
           {
            "Class": "composite",
            "Imaginary_Axis": 56,
            "Movements": 290,
            "Points": {
             "im": 56,
             "re": 8
            },
            "Real_Axis": 8
           },
           {
            "Class": "prime",
            "Imaginary_Axis": 55,
            "Movements": 291,
            "Points": {
             "im": 55,
             "re": 8
            },
            "Real_Axis": 8
           },
           {
            "Class": "composite",
            "Imaginary_Axis": 55,
            "Movements": 292,
            "Points": {
             "im": 55,
             "re": 9
            },
            "Real_Axis": 9
           },
           {
            "Class": "composite",
            "Imaginary_Axis": 55,
            "Movements": 293,
            "Points": {
             "im": 55,
             "re": 10
            },
            "Real_Axis": 10
           },
           {
            "Class": "composite",
            "Imaginary_Axis": 55,
            "Movements": 294,
            "Points": {
             "im": 55,
             "re": 11
            },
            "Real_Axis": 11
           },
           {
            "Class": "prime",
            "Imaginary_Axis": 55,
            "Movements": 295,
            "Points": {
             "im": 55,
             "re": 12
            },
            "Real_Axis": 12
           },
           {
            "Class": "composite",
            "Imaginary_Axis": 56,
            "Movements": 296,
            "Points": {
             "im": 56,
             "re": 12
            },
            "Real_Axis": 12
           },
           {
            "Class": "composite",
            "Imaginary_Axis": 57,
            "Movements": 297,
            "Points": {
             "im": 57,
             "re": 12
            },
            "Real_Axis": 12
           },
           {
            "Class": "composite",
            "Imaginary_Axis": 58,
            "Movements": 298,
            "Points": {
             "im": 58,
             "re": 12
            },
            "Real_Axis": 12
           },
           {
            "Class": "composite",
            "Imaginary_Axis": 59,
            "Movements": 299,
            "Points": {
             "im": 59,
             "re": 12
            },
            "Real_Axis": 12
           },
           {
            "Class": "composite",
            "Imaginary_Axis": 60,
            "Movements": 300,
            "Points": {
             "im": 60,
             "re": 12
            },
            "Real_Axis": 12
           },
           {
            "Class": "composite",
            "Imaginary_Axis": 61,
            "Movements": 301,
            "Points": {
             "im": 61,
             "re": 12
            },
            "Real_Axis": 12
           },
           {
            "Class": "composite",
            "Imaginary_Axis": 62,
            "Movements": 302,
            "Points": {
             "im": 62,
             "re": 12
            },
            "Real_Axis": 12
           },
           {
            "Class": "composite",
            "Imaginary_Axis": 63,
            "Movements": 303,
            "Points": {
             "im": 63,
             "re": 12
            },
            "Real_Axis": 12
           },
           {
            "Class": "composite",
            "Imaginary_Axis": 64,
            "Movements": 304,
            "Points": {
             "im": 64,
             "re": 12
            },
            "Real_Axis": 12
           },
           {
            "Class": "composite",
            "Imaginary_Axis": 65,
            "Movements": 305,
            "Points": {
             "im": 65,
             "re": 12
            },
            "Real_Axis": 12
           },
           {
            "Class": "composite",
            "Imaginary_Axis": 66,
            "Movements": 306,
            "Points": {
             "im": 66,
             "re": 12
            },
            "Real_Axis": 12
           },
           {
            "Class": "composite",
            "Imaginary_Axis": 67,
            "Movements": 307,
            "Points": {
             "im": 67,
             "re": 12
            },
            "Real_Axis": 12
           },
           {
            "Class": "composite",
            "Imaginary_Axis": 68,
            "Movements": 308,
            "Points": {
             "im": 68,
             "re": 12
            },
            "Real_Axis": 12
           },
           {
            "Class": "composite",
            "Imaginary_Axis": 69,
            "Movements": 309,
            "Points": {
             "im": 69,
             "re": 12
            },
            "Real_Axis": 12
           },
           {
            "Class": "composite",
            "Imaginary_Axis": 70,
            "Movements": 310,
            "Points": {
             "im": 70,
             "re": 12
            },
            "Real_Axis": 12
           },
           {
            "Class": "composite",
            "Imaginary_Axis": 71,
            "Movements": 311,
            "Points": {
             "im": 71,
             "re": 12
            },
            "Real_Axis": 12
           },
           {
            "Class": "composite",
            "Imaginary_Axis": 72,
            "Movements": 312,
            "Points": {
             "im": 72,
             "re": 12
            },
            "Real_Axis": 12
           },
           {
            "Class": "composite",
            "Imaginary_Axis": 73,
            "Movements": 313,
            "Points": {
             "im": 73,
             "re": 12
            },
            "Real_Axis": 12
           },
           {
            "Class": "composite",
            "Imaginary_Axis": 74,
            "Movements": 314,
            "Points": {
             "im": 74,
             "re": 12
            },
            "Real_Axis": 12
           },
           {
            "Class": "composite",
            "Imaginary_Axis": 75,
            "Movements": 315,
            "Points": {
             "im": 75,
             "re": 12
            },
            "Real_Axis": 12
           },
           {
            "Class": "composite",
            "Imaginary_Axis": 76,
            "Movements": 316,
            "Points": {
             "im": 76,
             "re": 12
            },
            "Real_Axis": 12
           },
           {
            "Class": "prime",
            "Imaginary_Axis": 77,
            "Movements": 317,
            "Points": {
             "im": 77,
             "re": 12
            },
            "Real_Axis": 12
           },
           {
            "Class": "composite",
            "Imaginary_Axis": 77,
            "Movements": 318,
            "Points": {
             "im": 77,
             "re": 11
            },
            "Real_Axis": 11
           },
           {
            "Class": "prime",
            "Imaginary_Axis": 77,
            "Movements": 319,
            "Points": {
             "im": 77,
             "re": 10
            },
            "Real_Axis": 10
           },
           {
            "Class": "composite",
            "Imaginary_Axis": 76,
            "Movements": 320,
            "Points": {
             "im": 76,
             "re": 10
            },
            "Real_Axis": 10
           },
           {
            "Class": "composite",
            "Imaginary_Axis": 75,
            "Movements": 321,
            "Points": {
             "im": 75,
             "re": 10
            },
            "Real_Axis": 10
           },
           {
            "Class": "composite",
            "Imaginary_Axis": 74,
            "Movements": 322,
            "Points": {
             "im": 74,
             "re": 10
            },
            "Real_Axis": 10
           },
           {
            "Class": "composite",
            "Imaginary_Axis": 73,
            "Movements": 323,
            "Points": {
             "im": 73,
             "re": 10
            },
            "Real_Axis": 10
           },
           {
            "Class": "composite",
            "Imaginary_Axis": 72,
            "Movements": 324,
            "Points": {
             "im": 72,
             "re": 10
            },
            "Real_Axis": 10
           },
           {
            "Class": "composite",
            "Imaginary_Axis": 71,
            "Movements": 325,
            "Points": {
             "im": 71,
             "re": 10
            },
            "Real_Axis": 10
           },
           {
            "Class": "composite",
            "Imaginary_Axis": 70,
            "Movements": 326,
            "Points": {
             "im": 70,
             "re": 10
            },
            "Real_Axis": 10
           },
           {
            "Class": "prime",
            "Imaginary_Axis": 69,
            "Movements": 327,
            "Points": {
             "im": 69,
             "re": 10
            },
            "Real_Axis": 10
           },
           {
            "Class": "composite",
            "Imaginary_Axis": 69,
            "Movements": 328,
            "Points": {
             "im": 69,
             "re": 11
            },
            "Real_Axis": 11
           },
           {
            "Class": "composite",
            "Imaginary_Axis": 69,
            "Movements": 329,
            "Points": {
             "im": 69,
             "re": 12
            },
            "Real_Axis": 12
           },
           {
            "Class": "composite",
            "Imaginary_Axis": 69,
            "Movements": 330,
            "Points": {
             "im": 69,
             "re": 13
            },
            "Real_Axis": 13
           },
           {
            "Class": "prime",
            "Imaginary_Axis": 69,
            "Movements": 331,
            "Points": {
             "im": 69,
             "re": 14
            },
            "Real_Axis": 14
           },
           {
            "Class": "composite",
            "Imaginary_Axis": 70,
            "Movements": 332,
            "Points": {
             "im": 70,
             "re": 14
            },
            "Real_Axis": 14
           },
           {
            "Class": "prime",
            "Imaginary_Axis": 71,
            "Movements": 333,
            "Points": {
             "im": 71,
             "re": 14
            },
            "Real_Axis": 14
           },
           {
            "Class": "composite",
            "Imaginary_Axis": 71,
            "Movements": 334,
            "Points": {
             "im": 71,
             "re": 13
            },
            "Real_Axis": 13
           },
           {
            "Class": "composite",
            "Imaginary_Axis": 71,
            "Movements": 335,
            "Points": {
             "im": 71,
             "re": 12
            },
            "Real_Axis": 12
           },
           {
            "Class": "composite",
            "Imaginary_Axis": 71,
            "Movements": 336,
            "Points": {
             "im": 71,
             "re": 11
            },
            "Real_Axis": 11
           },
           {
            "Class": "composite",
            "Imaginary_Axis": 71,
            "Movements": 337,
            "Points": {
             "im": 71,
             "re": 10
            },
            "Real_Axis": 10
           },
           {
            "Class": "composite",
            "Imaginary_Axis": 71,
            "Movements": 338,
            "Points": {
             "im": 71,
             "re": 9
            },
            "Real_Axis": 9
           },
           {
            "Class": "composite",
            "Imaginary_Axis": 71,
            "Movements": 339,
            "Points": {
             "im": 71,
             "re": 8
            },
            "Real_Axis": 8
           },
           {
            "Class": "composite",
            "Imaginary_Axis": 71,
            "Movements": 340,
            "Points": {
             "im": 71,
             "re": 7
            },
            "Real_Axis": 7
           },
           {
            "Class": "prime",
            "Imaginary_Axis": 71,
            "Movements": 341,
            "Points": {
             "im": 71,
             "re": 6
            },
            "Real_Axis": 6
           },
           {
            "Class": "composite",
            "Imaginary_Axis": 70,
            "Movements": 342,
            "Points": {
             "im": 70,
             "re": 6
            },
            "Real_Axis": 6
           },
           {
            "Class": "composite",
            "Imaginary_Axis": 69,
            "Movements": 343,
            "Points": {
             "im": 69,
             "re": 6
            },
            "Real_Axis": 6
           },
           {
            "Class": "composite",
            "Imaginary_Axis": 68,
            "Movements": 344,
            "Points": {
             "im": 68,
             "re": 6
            },
            "Real_Axis": 6
           },
           {
            "Class": "composite",
            "Imaginary_Axis": 67,
            "Movements": 345,
            "Points": {
             "im": 67,
             "re": 6
            },
            "Real_Axis": 6
           },
           {
            "Class": "composite",
            "Imaginary_Axis": 66,
            "Movements": 346,
            "Points": {
             "im": 66,
             "re": 6
            },
            "Real_Axis": 6
           },
           {
            "Class": "prime",
            "Imaginary_Axis": 65,
            "Movements": 347,
            "Points": {
             "im": 65,
             "re": 6
            },
            "Real_Axis": 6
           },
           {
            "Class": "composite",
            "Imaginary_Axis": 65,
            "Movements": 348,
            "Points": {
             "im": 65,
             "re": 7
            },
            "Real_Axis": 7
           },
           {
            "Class": "prime",
            "Imaginary_Axis": 65,
            "Movements": 349,
            "Points": {
             "im": 65,
             "re": 8
            },
            "Real_Axis": 8
           },
           {
            "Class": "composite",
            "Imaginary_Axis": 66,
            "Movements": 350,
            "Points": {
             "im": 66,
             "re": 8
            },
            "Real_Axis": 8
           },
           {
            "Class": "composite",
            "Imaginary_Axis": 67,
            "Movements": 351,
            "Points": {
             "im": 67,
             "re": 8
            },
            "Real_Axis": 8
           },
           {
            "Class": "composite",
            "Imaginary_Axis": 68,
            "Movements": 352,
            "Points": {
             "im": 68,
             "re": 8
            },
            "Real_Axis": 8
           },
           {
            "Class": "composite",
            "Imaginary_Axis": 69,
            "Movements": 353,
            "Points": {
             "im": 69,
             "re": 8
            },
            "Real_Axis": 8
           },
           {
            "Class": "composite",
            "Imaginary_Axis": 70,
            "Movements": 354,
            "Points": {
             "im": 70,
             "re": 8
            },
            "Real_Axis": 8
           },
           {
            "Class": "composite",
            "Imaginary_Axis": 71,
            "Movements": 355,
            "Points": {
             "im": 71,
             "re": 8
            },
            "Real_Axis": 8
           },
           {
            "Class": "composite",
            "Imaginary_Axis": 72,
            "Movements": 356,
            "Points": {
             "im": 72,
             "re": 8
            },
            "Real_Axis": 8
           },
           {
            "Class": "prime",
            "Imaginary_Axis": 73,
            "Movements": 357,
            "Points": {
             "im": 73,
             "re": 8
            },
            "Real_Axis": 8
           },
           {
            "Class": "composite",
            "Imaginary_Axis": 73,
            "Movements": 358,
            "Points": {
             "im": 73,
             "re": 7
            },
            "Real_Axis": 7
           },
           {
            "Class": "composite",
            "Imaginary_Axis": 73,
            "Movements": 359,
            "Points": {
             "im": 73,
             "re": 6
            },
            "Real_Axis": 6
           },
           {
            "Class": "composite",
            "Imaginary_Axis": 73,
            "Movements": 360,
            "Points": {
             "im": 73,
             "re": 5
            },
            "Real_Axis": 5
           },
           {
            "Class": "composite",
            "Imaginary_Axis": 73,
            "Movements": 361,
            "Points": {
             "im": 73,
             "re": 4
            },
            "Real_Axis": 4
           },
           {
            "Class": "composite",
            "Imaginary_Axis": 73,
            "Movements": 362,
            "Points": {
             "im": 73,
             "re": 3
            },
            "Real_Axis": 3
           },
           {
            "Class": "prime",
            "Imaginary_Axis": 73,
            "Movements": 363,
            "Points": {
             "im": 73,
             "re": 2
            },
            "Real_Axis": 2
           },
           {
            "Class": "composite",
            "Imaginary_Axis": 72,
            "Movements": 364,
            "Points": {
             "im": 72,
             "re": 2
            },
            "Real_Axis": 2
           },
           {
            "Class": "composite",
            "Imaginary_Axis": 71,
            "Movements": 365,
            "Points": {
             "im": 71,
             "re": 2
            },
            "Real_Axis": 2
           },
           {
            "Class": "composite",
            "Imaginary_Axis": 70,
            "Movements": 366,
            "Points": {
             "im": 70,
             "re": 2
            },
            "Real_Axis": 2
           },
           {
            "Class": "composite",
            "Imaginary_Axis": 69,
            "Movements": 367,
            "Points": {
             "im": 69,
             "re": 2
            },
            "Real_Axis": 2
           },
           {
            "Class": "composite",
            "Imaginary_Axis": 68,
            "Movements": 368,
            "Points": {
             "im": 68,
             "re": 2
            },
            "Real_Axis": 2
           },
           {
            "Class": "prime",
            "Imaginary_Axis": 67,
            "Movements": 369,
            "Points": {
             "im": 67,
             "re": 2
            },
            "Real_Axis": 2
           },
           {
            "Class": "composite",
            "Imaginary_Axis": 67,
            "Movements": 370,
            "Points": {
             "im": 67,
             "re": 3
            },
            "Real_Axis": 3
           },
           {
            "Class": "composite",
            "Imaginary_Axis": 67,
            "Movements": 371,
            "Points": {
             "im": 67,
             "re": 4
            },
            "Real_Axis": 4
           },
           {
            "Class": "composite",
            "Imaginary_Axis": 67,
            "Movements": 372,
            "Points": {
             "im": 67,
             "re": 5
            },
            "Real_Axis": 5
           },
           {
            "Class": "composite",
            "Imaginary_Axis": 67,
            "Movements": 373,
            "Points": {
             "im": 67,
             "re": 6
            },
            "Real_Axis": 6
           },
           {
            "Class": "composite",
            "Imaginary_Axis": 67,
            "Movements": 374,
            "Points": {
             "im": 67,
             "re": 7
            },
            "Real_Axis": 7
           },
           {
            "Class": "composite",
            "Imaginary_Axis": 67,
            "Movements": 375,
            "Points": {
             "im": 67,
             "re": 8
            },
            "Real_Axis": 8
           },
           {
            "Class": "composite",
            "Imaginary_Axis": 67,
            "Movements": 376,
            "Points": {
             "im": 67,
             "re": 9
            },
            "Real_Axis": 9
           },
           {
            "Class": "composite",
            "Imaginary_Axis": 67,
            "Movements": 377,
            "Points": {
             "im": 67,
             "re": 10
            },
            "Real_Axis": 10
           },
           {
            "Class": "composite",
            "Imaginary_Axis": 67,
            "Movements": 378,
            "Points": {
             "im": 67,
             "re": 11
            },
            "Real_Axis": 11
           },
           {
            "Class": "composite",
            "Imaginary_Axis": 67,
            "Movements": 379,
            "Points": {
             "im": 67,
             "re": 12
            },
            "Real_Axis": 12
           },
           {
            "Class": "composite",
            "Imaginary_Axis": 67,
            "Movements": 380,
            "Points": {
             "im": 67,
             "re": 13
            },
            "Real_Axis": 13
           },
           {
            "Class": "composite",
            "Imaginary_Axis": 67,
            "Movements": 381,
            "Points": {
             "im": 67,
             "re": 14
            },
            "Real_Axis": 14
           },
           {
            "Class": "composite",
            "Imaginary_Axis": 67,
            "Movements": 382,
            "Points": {
             "im": 67,
             "re": 15
            },
            "Real_Axis": 15
           },
           {
            "Class": "composite",
            "Imaginary_Axis": 67,
            "Movements": 383,
            "Points": {
             "im": 67,
             "re": 16
            },
            "Real_Axis": 16
           },
           {
            "Class": "composite",
            "Imaginary_Axis": 67,
            "Movements": 384,
            "Points": {
             "im": 67,
             "re": 17
            },
            "Real_Axis": 17
           },
           {
            "Class": "prime",
            "Imaginary_Axis": 67,
            "Movements": 385,
            "Points": {
             "im": 67,
             "re": 18
            },
            "Real_Axis": 18
           },
           {
            "Class": "composite",
            "Imaginary_Axis": 68,
            "Movements": 386,
            "Points": {
             "im": 68,
             "re": 18
            },
            "Real_Axis": 18
           },
           {
            "Class": "composite",
            "Imaginary_Axis": 69,
            "Movements": 387,
            "Points": {
             "im": 69,
             "re": 18
            },
            "Real_Axis": 18
           },
           {
            "Class": "composite",
            "Imaginary_Axis": 70,
            "Movements": 388,
            "Points": {
             "im": 70,
             "re": 18
            },
            "Real_Axis": 18
           },
           {
            "Class": "composite",
            "Imaginary_Axis": 71,
            "Movements": 389,
            "Points": {
             "im": 71,
             "re": 18
            },
            "Real_Axis": 18
           },
           {
            "Class": "composite",
            "Imaginary_Axis": 72,
            "Movements": 390,
            "Points": {
             "im": 72,
             "re": 18
            },
            "Real_Axis": 18
           },
           {
            "Class": "prime",
            "Imaginary_Axis": 73,
            "Movements": 391,
            "Points": {
             "im": 73,
             "re": 18
            },
            "Real_Axis": 18
           },
           {
            "Class": "composite",
            "Imaginary_Axis": 73,
            "Movements": 392,
            "Points": {
             "im": 73,
             "re": 17
            },
            "Real_Axis": 17
           },
           {
            "Class": "composite",
            "Imaginary_Axis": 73,
            "Movements": 393,
            "Points": {
             "im": 73,
             "re": 16
            },
            "Real_Axis": 16
           },
           {
            "Class": "composite",
            "Imaginary_Axis": 73,
            "Movements": 394,
            "Points": {
             "im": 73,
             "re": 15
            },
            "Real_Axis": 15
           },
           {
            "Class": "composite",
            "Imaginary_Axis": 73,
            "Movements": 395,
            "Points": {
             "im": 73,
             "re": 14
            },
            "Real_Axis": 14
           },
           {
            "Class": "composite",
            "Imaginary_Axis": 73,
            "Movements": 396,
            "Points": {
             "im": 73,
             "re": 13
            },
            "Real_Axis": 13
           },
           {
            "Class": "composite",
            "Imaginary_Axis": 73,
            "Movements": 397,
            "Points": {
             "im": 73,
             "re": 12
            },
            "Real_Axis": 12
           },
           {
            "Class": "composite",
            "Imaginary_Axis": 73,
            "Movements": 398,
            "Points": {
             "im": 73,
             "re": 11
            },
            "Real_Axis": 11
           },
           {
            "Class": "composite",
            "Imaginary_Axis": 73,
            "Movements": 399,
            "Points": {
             "im": 73,
             "re": 10
            },
            "Real_Axis": 10
           },
           {
            "Class": "composite",
            "Imaginary_Axis": 73,
            "Movements": 400,
            "Points": {
             "im": 73,
             "re": 9
            },
            "Real_Axis": 9
           },
           {
            "Class": "prime",
            "Imaginary_Axis": 73,
            "Movements": 401,
            "Points": {
             "im": 73,
             "re": 8
            },
            "Real_Axis": 8
           },
           {
            "Class": "composite",
            "Imaginary_Axis": 72,
            "Movements": 402,
            "Points": {
             "im": 72,
             "re": 8
            },
            "Real_Axis": 8
           },
           {
            "Class": "composite",
            "Imaginary_Axis": 71,
            "Movements": 403,
            "Points": {
             "im": 71,
             "re": 8
            },
            "Real_Axis": 8
           },
           {
            "Class": "composite",
            "Imaginary_Axis": 70,
            "Movements": 404,
            "Points": {
             "im": 70,
             "re": 8
            },
            "Real_Axis": 8
           },
           {
            "Class": "composite",
            "Imaginary_Axis": 69,
            "Movements": 405,
            "Points": {
             "im": 69,
             "re": 8
            },
            "Real_Axis": 8
           },
           {
            "Class": "composite",
            "Imaginary_Axis": 68,
            "Movements": 406,
            "Points": {
             "im": 68,
             "re": 8
            },
            "Real_Axis": 8
           },
           {
            "Class": "composite",
            "Imaginary_Axis": 67,
            "Movements": 407,
            "Points": {
             "im": 67,
             "re": 8
            },
            "Real_Axis": 8
           },
           {
            "Class": "composite",
            "Imaginary_Axis": 66,
            "Movements": 408,
            "Points": {
             "im": 66,
             "re": 8
            },
            "Real_Axis": 8
           },
           {
            "Class": "prime",
            "Imaginary_Axis": 65,
            "Movements": 409,
            "Points": {
             "im": 65,
             "re": 8
            },
            "Real_Axis": 8
           },
           {
            "Class": "composite",
            "Imaginary_Axis": 65,
            "Movements": 410,
            "Points": {
             "im": 65,
             "re": 9
            },
            "Real_Axis": 9
           },
           {
            "Class": "composite",
            "Imaginary_Axis": 65,
            "Movements": 411,
            "Points": {
             "im": 65,
             "re": 10
            },
            "Real_Axis": 10
           },
           {
            "Class": "composite",
            "Imaginary_Axis": 65,
            "Movements": 412,
            "Points": {
             "im": 65,
             "re": 11
            },
            "Real_Axis": 11
           },
           {
            "Class": "composite",
            "Imaginary_Axis": 65,
            "Movements": 413,
            "Points": {
             "im": 65,
             "re": 12
            },
            "Real_Axis": 12
           },
           {
            "Class": "composite",
            "Imaginary_Axis": 65,
            "Movements": 414,
            "Points": {
             "im": 65,
             "re": 13
            },
            "Real_Axis": 13
           },
           {
            "Class": "prime",
            "Imaginary_Axis": 65,
            "Movements": 415,
            "Points": {
             "im": 65,
             "re": 14
            },
            "Real_Axis": 14
           },
           {
            "Class": "composite",
            "Imaginary_Axis": 66,
            "Movements": 416,
            "Points": {
             "im": 66,
             "re": 14
            },
            "Real_Axis": 14
           },
           {
            "Class": "composite",
            "Imaginary_Axis": 67,
            "Movements": 417,
            "Points": {
             "im": 67,
             "re": 14
            },
            "Real_Axis": 14
           },
           {
            "Class": "composite",
            "Imaginary_Axis": 68,
            "Movements": 418,
            "Points": {
             "im": 68,
             "re": 14
            },
            "Real_Axis": 14
           },
           {
            "Class": "prime",
            "Imaginary_Axis": 69,
            "Movements": 419,
            "Points": {
             "im": 69,
             "re": 14
            },
            "Real_Axis": 14
           },
           {
            "Class": "composite",
            "Imaginary_Axis": 69,
            "Movements": 420,
            "Points": {
             "im": 69,
             "re": 13
            },
            "Real_Axis": 13
           },
           {
            "Class": "composite",
            "Imaginary_Axis": 69,
            "Movements": 421,
            "Points": {
             "im": 69,
             "re": 12
            },
            "Real_Axis": 12
           },
           {
            "Class": "composite",
            "Imaginary_Axis": 69,
            "Movements": 422,
            "Points": {
             "im": 69,
             "re": 11
            },
            "Real_Axis": 11
           },
           {
            "Class": "prime",
            "Imaginary_Axis": 69,
            "Movements": 423,
            "Points": {
             "im": 69,
             "re": 10
            },
            "Real_Axis": 10
           },
           {
            "Class": "composite",
            "Imaginary_Axis": 68,
            "Movements": 424,
            "Points": {
             "im": 68,
             "re": 10
            },
            "Real_Axis": 10
           },
           {
            "Class": "composite",
            "Imaginary_Axis": 67,
            "Movements": 425,
            "Points": {
             "im": 67,
             "re": 10
            },
            "Real_Axis": 10
           },
           {
            "Class": "composite",
            "Imaginary_Axis": 66,
            "Movements": 426,
            "Points": {
             "im": 66,
             "re": 10
            },
            "Real_Axis": 10
           },
           {
            "Class": "composite",
            "Imaginary_Axis": 65,
            "Movements": 427,
            "Points": {
             "im": 65,
             "re": 10
            },
            "Real_Axis": 10
           },
           {
            "Class": "composite",
            "Imaginary_Axis": 64,
            "Movements": 428,
            "Points": {
             "im": 64,
             "re": 10
            },
            "Real_Axis": 10
           },
           {
            "Class": "composite",
            "Imaginary_Axis": 63,
            "Movements": 429,
            "Points": {
             "im": 63,
             "re": 10
            },
            "Real_Axis": 10
           },
           {
            "Class": "composite",
            "Imaginary_Axis": 62,
            "Movements": 430,
            "Points": {
             "im": 62,
             "re": 10
            },
            "Real_Axis": 10
           },
           {
            "Class": "prime",
            "Imaginary_Axis": 61,
            "Movements": 431,
            "Points": {
             "im": 61,
             "re": 10
            },
            "Real_Axis": 10
           },
           {
            "Class": "composite",
            "Imaginary_Axis": 61,
            "Movements": 432,
            "Points": {
             "im": 61,
             "re": 11
            },
            "Real_Axis": 11
           },
           {
            "Class": "composite",
            "Imaginary_Axis": 61,
            "Movements": 433,
            "Points": {
             "im": 61,
             "re": 12
            },
            "Real_Axis": 12
           },
           {
            "Class": "composite",
            "Imaginary_Axis": 61,
            "Movements": 434,
            "Points": {
             "im": 61,
             "re": 13
            },
            "Real_Axis": 13
           },
           {
            "Class": "prime",
            "Imaginary_Axis": 61,
            "Movements": 435,
            "Points": {
             "im": 61,
             "re": 14
            },
            "Real_Axis": 14
           },
           {
            "Class": "composite",
            "Imaginary_Axis": 62,
            "Movements": 436,
            "Points": {
             "im": 62,
             "re": 14
            },
            "Real_Axis": 14
           },
           {
            "Class": "composite",
            "Imaginary_Axis": 63,
            "Movements": 437,
            "Points": {
             "im": 63,
             "re": 14
            },
            "Real_Axis": 14
           },
           {
            "Class": "composite",
            "Imaginary_Axis": 64,
            "Movements": 438,
            "Points": {
             "im": 64,
             "re": 14
            },
            "Real_Axis": 14
           },
           {
            "Class": "prime",
            "Imaginary_Axis": 65,
            "Movements": 439,
            "Points": {
             "im": 65,
             "re": 14
            },
            "Real_Axis": 14
           },
           {
            "Class": "composite",
            "Imaginary_Axis": 65,
            "Movements": 440,
            "Points": {
             "im": 65,
             "re": 13
            },
            "Real_Axis": 13
           },
           {
            "Class": "composite",
            "Imaginary_Axis": 65,
            "Movements": 441,
            "Points": {
             "im": 65,
             "re": 12
            },
            "Real_Axis": 12
           },
           {
            "Class": "composite",
            "Imaginary_Axis": 65,
            "Movements": 442,
            "Points": {
             "im": 65,
             "re": 11
            },
            "Real_Axis": 11
           },
           {
            "Class": "composite",
            "Imaginary_Axis": 65,
            "Movements": 443,
            "Points": {
             "im": 65,
             "re": 10
            },
            "Real_Axis": 10
           },
           {
            "Class": "composite",
            "Imaginary_Axis": 65,
            "Movements": 444,
            "Points": {
             "im": 65,
             "re": 9
            },
            "Real_Axis": 9
           },
           {
            "Class": "prime",
            "Imaginary_Axis": 65,
            "Movements": 445,
            "Points": {
             "im": 65,
             "re": 8
            },
            "Real_Axis": 8
           },
           {
            "Class": "composite",
            "Imaginary_Axis": 64,
            "Movements": 446,
            "Points": {
             "im": 64,
             "re": 8
            },
            "Real_Axis": 8
           },
           {
            "Class": "composite",
            "Imaginary_Axis": 63,
            "Movements": 447,
            "Points": {
             "im": 63,
             "re": 8
            },
            "Real_Axis": 8
           },
           {
            "Class": "composite",
            "Imaginary_Axis": 62,
            "Movements": 448,
            "Points": {
             "im": 62,
             "re": 8
            },
            "Real_Axis": 8
           },
           {
            "Class": "composite",
            "Imaginary_Axis": 61,
            "Movements": 449,
            "Points": {
             "im": 61,
             "re": 8
            },
            "Real_Axis": 8
           },
           {
            "Class": "composite",
            "Imaginary_Axis": 60,
            "Movements": 450,
            "Points": {
             "im": 60,
             "re": 8
            },
            "Real_Axis": 8
           },
           {
            "Class": "composite",
            "Imaginary_Axis": 59,
            "Movements": 451,
            "Points": {
             "im": 59,
             "re": 8
            },
            "Real_Axis": 8
           },
           {
            "Class": "composite",
            "Imaginary_Axis": 58,
            "Movements": 452,
            "Points": {
             "im": 58,
             "re": 8
            },
            "Real_Axis": 8
           },
           {
            "Class": "prime",
            "Imaginary_Axis": 57,
            "Movements": 453,
            "Points": {
             "im": 57,
             "re": 8
            },
            "Real_Axis": 8
           },
           {
            "Class": "composite",
            "Imaginary_Axis": 57,
            "Movements": 454,
            "Points": {
             "im": 57,
             "re": 9
            },
            "Real_Axis": 9
           },
           {
            "Class": "composite",
            "Imaginary_Axis": 57,
            "Movements": 455,
            "Points": {
             "im": 57,
             "re": 10
            },
            "Real_Axis": 10
           },
           {
            "Class": "composite",
            "Imaginary_Axis": 57,
            "Movements": 456,
            "Points": {
             "im": 57,
             "re": 11
            },
            "Real_Axis": 11
           },
           {
            "Class": "composite",
            "Imaginary_Axis": 57,
            "Movements": 457,
            "Points": {
             "im": 57,
             "re": 12
            },
            "Real_Axis": 12
           },
           {
            "Class": "composite",
            "Imaginary_Axis": 57,
            "Movements": 458,
            "Points": {
             "im": 57,
             "re": 13
            },
            "Real_Axis": 13
           },
           {
            "Class": "composite",
            "Imaginary_Axis": 57,
            "Movements": 459,
            "Points": {
             "im": 57,
             "re": 14
            },
            "Real_Axis": 14
           },
           {
            "Class": "composite",
            "Imaginary_Axis": 57,
            "Movements": 460,
            "Points": {
             "im": 57,
             "re": 15
            },
            "Real_Axis": 15
           },
           {
            "Class": "composite",
            "Imaginary_Axis": 57,
            "Movements": 461,
            "Points": {
             "im": 57,
             "re": 16
            },
            "Real_Axis": 16
           },
           {
            "Class": "composite",
            "Imaginary_Axis": 57,
            "Movements": 462,
            "Points": {
             "im": 57,
             "re": 17
            },
            "Real_Axis": 17
           },
           {
            "Class": "composite",
            "Imaginary_Axis": 57,
            "Movements": 463,
            "Points": {
             "im": 57,
             "re": 18
            },
            "Real_Axis": 18
           },
           {
            "Class": "composite",
            "Imaginary_Axis": 57,
            "Movements": 464,
            "Points": {
             "im": 57,
             "re": 19
            },
            "Real_Axis": 19
           },
           {
            "Class": "composite",
            "Imaginary_Axis": 57,
            "Movements": 465,
            "Points": {
             "im": 57,
             "re": 20
            },
            "Real_Axis": 20
           },
           {
            "Class": "composite",
            "Imaginary_Axis": 57,
            "Movements": 466,
            "Points": {
             "im": 57,
             "re": 21
            },
            "Real_Axis": 21
           },
           {
            "Class": "prime",
            "Imaginary_Axis": 57,
            "Movements": 467,
            "Points": {
             "im": 57,
             "re": 22
            },
            "Real_Axis": 22
           },
           {
            "Class": "composite",
            "Imaginary_Axis": 58,
            "Movements": 468,
            "Points": {
             "im": 58,
             "re": 22
            },
            "Real_Axis": 22
           },
           {
            "Class": "composite",
            "Imaginary_Axis": 59,
            "Movements": 469,
            "Points": {
             "im": 59,
             "re": 22
            },
            "Real_Axis": 22
           },
           {
            "Class": "composite",
            "Imaginary_Axis": 60,
            "Movements": 470,
            "Points": {
             "im": 60,
             "re": 22
            },
            "Real_Axis": 22
           },
           {
            "Class": "composite",
            "Imaginary_Axis": 61,
            "Movements": 471,
            "Points": {
             "im": 61,
             "re": 22
            },
            "Real_Axis": 22
           },
           {
            "Class": "composite",
            "Imaginary_Axis": 62,
            "Movements": 472,
            "Points": {
             "im": 62,
             "re": 22
            },
            "Real_Axis": 22
           },
           {
            "Class": "composite",
            "Imaginary_Axis": 63,
            "Movements": 473,
            "Points": {
             "im": 63,
             "re": 22
            },
            "Real_Axis": 22
           },
           {
            "Class": "composite",
            "Imaginary_Axis": 64,
            "Movements": 474,
            "Points": {
             "im": 64,
             "re": 22
            },
            "Real_Axis": 22
           },
           {
            "Class": "composite",
            "Imaginary_Axis": 65,
            "Movements": 475,
            "Points": {
             "im": 65,
             "re": 22
            },
            "Real_Axis": 22
           },
           {
            "Class": "composite",
            "Imaginary_Axis": 66,
            "Movements": 476,
            "Points": {
             "im": 66,
             "re": 22
            },
            "Real_Axis": 22
           },
           {
            "Class": "prime",
            "Imaginary_Axis": 67,
            "Movements": 477,
            "Points": {
             "im": 67,
             "re": 22
            },
            "Real_Axis": 22
           },
           {
            "Class": "composite",
            "Imaginary_Axis": 67,
            "Movements": 478,
            "Points": {
             "im": 67,
             "re": 21
            },
            "Real_Axis": 21
           },
           {
            "Class": "prime",
            "Imaginary_Axis": 67,
            "Movements": 479,
            "Points": {
             "im": 67,
             "re": 20
            },
            "Real_Axis": 20
           },
           {
            "Class": "composite",
            "Imaginary_Axis": 66,
            "Movements": 480,
            "Points": {
             "im": 66,
             "re": 20
            },
            "Real_Axis": 20
           },
           {
            "Class": "composite",
            "Imaginary_Axis": 65,
            "Movements": 481,
            "Points": {
             "im": 65,
             "re": 20
            },
            "Real_Axis": 20
           },
           {
            "Class": "composite",
            "Imaginary_Axis": 64,
            "Movements": 482,
            "Points": {
             "im": 64,
             "re": 20
            },
            "Real_Axis": 20
           },
           {
            "Class": "composite",
            "Imaginary_Axis": 63,
            "Movements": 483,
            "Points": {
             "im": 63,
             "re": 20
            },
            "Real_Axis": 20
           },
           {
            "Class": "composite",
            "Imaginary_Axis": 62,
            "Movements": 484,
            "Points": {
             "im": 62,
             "re": 20
            },
            "Real_Axis": 20
           },
           {
            "Class": "composite",
            "Imaginary_Axis": 61,
            "Movements": 485,
            "Points": {
             "im": 61,
             "re": 20
            },
            "Real_Axis": 20
           },
           {
            "Class": "composite",
            "Imaginary_Axis": 60,
            "Movements": 486,
            "Points": {
             "im": 60,
             "re": 20
            },
            "Real_Axis": 20
           },
           {
            "Class": "prime",
            "Imaginary_Axis": 59,
            "Movements": 487,
            "Points": {
             "im": 59,
             "re": 20
            },
            "Real_Axis": 20
           },
           {
            "Class": "composite",
            "Imaginary_Axis": 59,
            "Movements": 488,
            "Points": {
             "im": 59,
             "re": 21
            },
            "Real_Axis": 21
           },
           {
            "Class": "composite",
            "Imaginary_Axis": 59,
            "Movements": 489,
            "Points": {
             "im": 59,
             "re": 22
            },
            "Real_Axis": 22
           },
           {
            "Class": "composite",
            "Imaginary_Axis": 59,
            "Movements": 490,
            "Points": {
             "im": 59,
             "re": 23
            },
            "Real_Axis": 23
           },
           {
            "Class": "prime",
            "Imaginary_Axis": 59,
            "Movements": 491,
            "Points": {
             "im": 59,
             "re": 24
            },
            "Real_Axis": 24
           },
           {
            "Class": "composite",
            "Imaginary_Axis": 60,
            "Movements": 492,
            "Points": {
             "im": 60,
             "re": 24
            },
            "Real_Axis": 24
           },
           {
            "Class": "prime",
            "Imaginary_Axis": 61,
            "Movements": 493,
            "Points": {
             "im": 61,
             "re": 24
            },
            "Real_Axis": 24
           },
           {
            "Class": "composite",
            "Imaginary_Axis": 61,
            "Movements": 494,
            "Points": {
             "im": 61,
             "re": 23
            },
            "Real_Axis": 23
           },
           {
            "Class": "composite",
            "Imaginary_Axis": 61,
            "Movements": 495,
            "Points": {
             "im": 61,
             "re": 22
            },
            "Real_Axis": 22
           },
           {
            "Class": "composite",
            "Imaginary_Axis": 61,
            "Movements": 496,
            "Points": {
             "im": 61,
             "re": 21
            },
            "Real_Axis": 21
           },
           {
            "Class": "composite",
            "Imaginary_Axis": 61,
            "Movements": 497,
            "Points": {
             "im": 61,
             "re": 20
            },
            "Real_Axis": 20
           },
           {
            "Class": "composite",
            "Imaginary_Axis": 61,
            "Movements": 498,
            "Points": {
             "im": 61,
             "re": 19
            },
            "Real_Axis": 19
           },
           {
            "Class": "composite",
            "Imaginary_Axis": 61,
            "Movements": 499,
            "Points": {
             "im": 61,
             "re": 18
            },
            "Real_Axis": 18
           },
           {
            "Class": "composite",
            "Imaginary_Axis": 61,
            "Movements": 500,
            "Points": {
             "im": 61,
             "re": 17
            },
            "Real_Axis": 17
           },
           {
            "Class": "composite",
            "Imaginary_Axis": 61,
            "Movements": 501,
            "Points": {
             "im": 61,
             "re": 16
            },
            "Real_Axis": 16
           },
           {
            "Class": "composite",
            "Imaginary_Axis": 61,
            "Movements": 502,
            "Points": {
             "im": 61,
             "re": 15
            },
            "Real_Axis": 15
           },
           {
            "Class": "prime",
            "Imaginary_Axis": 61,
            "Movements": 503,
            "Points": {
             "im": 61,
             "re": 14
            },
            "Real_Axis": 14
           },
           {
            "Class": "composite",
            "Imaginary_Axis": 60,
            "Movements": 504,
            "Points": {
             "im": 60,
             "re": 14
            },
            "Real_Axis": 14
           },
           {
            "Class": "prime",
            "Imaginary_Axis": 59,
            "Movements": 505,
            "Points": {
             "im": 59,
             "re": 14
            },
            "Real_Axis": 14
           },
           {
            "Class": "composite",
            "Imaginary_Axis": 59,
            "Movements": 506,
            "Points": {
             "im": 59,
             "re": 15
            },
            "Real_Axis": 15
           },
           {
            "Class": "composite",
            "Imaginary_Axis": 59,
            "Movements": 507,
            "Points": {
             "im": 59,
             "re": 16
            },
            "Real_Axis": 16
           },
           {
            "Class": "composite",
            "Imaginary_Axis": 59,
            "Movements": 508,
            "Points": {
             "im": 59,
             "re": 17
            },
            "Real_Axis": 17
           },
           {
            "Class": "composite",
            "Imaginary_Axis": 59,
            "Movements": 509,
            "Points": {
             "im": 59,
             "re": 18
            },
            "Real_Axis": 18
           },
           {
            "Class": "composite",
            "Imaginary_Axis": 59,
            "Movements": 510,
            "Points": {
             "im": 59,
             "re": 19
            },
            "Real_Axis": 19
           },
           {
            "Class": "prime",
            "Imaginary_Axis": 59,
            "Movements": 511,
            "Points": {
             "im": 59,
             "re": 20
            },
            "Real_Axis": 20
           },
           {
            "Class": "composite",
            "Imaginary_Axis": 60,
            "Movements": 512,
            "Points": {
             "im": 60,
             "re": 20
            },
            "Real_Axis": 20
           },
           {
            "Class": "composite",
            "Imaginary_Axis": 61,
            "Movements": 513,
            "Points": {
             "im": 61,
             "re": 20
            },
            "Real_Axis": 20
           },
           {
            "Class": "composite",
            "Imaginary_Axis": 62,
            "Movements": 514,
            "Points": {
             "im": 62,
             "re": 20
            },
            "Real_Axis": 20
           },
           {
            "Class": "composite",
            "Imaginary_Axis": 63,
            "Movements": 515,
            "Points": {
             "im": 63,
             "re": 20
            },
            "Real_Axis": 20
           },
           {
            "Class": "composite",
            "Imaginary_Axis": 64,
            "Movements": 516,
            "Points": {
             "im": 64,
             "re": 20
            },
            "Real_Axis": 20
           },
           {
            "Class": "composite",
            "Imaginary_Axis": 65,
            "Movements": 517,
            "Points": {
             "im": 65,
             "re": 20
            },
            "Real_Axis": 20
           },
           {
            "Class": "composite",
            "Imaginary_Axis": 66,
            "Movements": 518,
            "Points": {
             "im": 66,
             "re": 20
            },
            "Real_Axis": 20
           },
           {
            "Class": "prime",
            "Imaginary_Axis": 67,
            "Movements": 519,
            "Points": {
             "im": 67,
             "re": 20
            },
            "Real_Axis": 20
           },
           {
            "Class": "composite",
            "Imaginary_Axis": 67,
            "Movements": 520,
            "Points": {
             "im": 67,
             "re": 19
            },
            "Real_Axis": 19
           },
           {
            "Class": "prime",
            "Imaginary_Axis": 67,
            "Movements": 521,
            "Points": {
             "im": 67,
             "re": 18
            },
            "Real_Axis": 18
           },
           {
            "Class": "composite",
            "Imaginary_Axis": 66,
            "Movements": 522,
            "Points": {
             "im": 66,
             "re": 18
            },
            "Real_Axis": 18
           },
           {
            "Class": "prime",
            "Imaginary_Axis": 65,
            "Movements": 523,
            "Points": {
             "im": 65,
             "re": 18
            },
            "Real_Axis": 18
           },
           {
            "Class": "composite",
            "Imaginary_Axis": 65,
            "Movements": 524,
            "Points": {
             "im": 65,
             "re": 19
            },
            "Real_Axis": 19
           },
           {
            "Class": "composite",
            "Imaginary_Axis": 65,
            "Movements": 525,
            "Points": {
             "im": 65,
             "re": 20
            },
            "Real_Axis": 20
           },
           {
            "Class": "composite",
            "Imaginary_Axis": 65,
            "Movements": 526,
            "Points": {
             "im": 65,
             "re": 21
            },
            "Real_Axis": 21
           },
           {
            "Class": "composite",
            "Imaginary_Axis": 65,
            "Movements": 527,
            "Points": {
             "im": 65,
             "re": 22
            },
            "Real_Axis": 22
           },
           {
            "Class": "composite",
            "Imaginary_Axis": 65,
            "Movements": 528,
            "Points": {
             "im": 65,
             "re": 23
            },
            "Real_Axis": 23
           },
           {
            "Class": "prime",
            "Imaginary_Axis": 65,
            "Movements": 529,
            "Points": {
             "im": 65,
             "re": 24
            },
            "Real_Axis": 24
           },
           {
            "Class": "composite",
            "Imaginary_Axis": 66,
            "Movements": 530,
            "Points": {
             "im": 66,
             "re": 24
            },
            "Real_Axis": 24
           },
           {
            "Class": "composite",
            "Imaginary_Axis": 67,
            "Movements": 531,
            "Points": {
             "im": 67,
             "re": 24
            },
            "Real_Axis": 24
           },
           {
            "Class": "composite",
            "Imaginary_Axis": 68,
            "Movements": 532,
            "Points": {
             "im": 68,
             "re": 24
            },
            "Real_Axis": 24
           },
           {
            "Class": "composite",
            "Imaginary_Axis": 69,
            "Movements": 533,
            "Points": {
             "im": 69,
             "re": 24
            },
            "Real_Axis": 24
           },
           {
            "Class": "composite",
            "Imaginary_Axis": 70,
            "Movements": 534,
            "Points": {
             "im": 70,
             "re": 24
            },
            "Real_Axis": 24
           },
           {
            "Class": "composite",
            "Imaginary_Axis": 71,
            "Movements": 535,
            "Points": {
             "im": 71,
             "re": 24
            },
            "Real_Axis": 24
           },
           {
            "Class": "composite",
            "Imaginary_Axis": 72,
            "Movements": 536,
            "Points": {
             "im": 72,
             "re": 24
            },
            "Real_Axis": 24
           },
           {
            "Class": "composite",
            "Imaginary_Axis": 73,
            "Movements": 537,
            "Points": {
             "im": 73,
             "re": 24
            },
            "Real_Axis": 24
           },
           {
            "Class": "composite",
            "Imaginary_Axis": 74,
            "Movements": 538,
            "Points": {
             "im": 74,
             "re": 24
            },
            "Real_Axis": 24
           },
           {
            "Class": "composite",
            "Imaginary_Axis": 75,
            "Movements": 539,
            "Points": {
             "im": 75,
             "re": 24
            },
            "Real_Axis": 24
           },
           {
            "Class": "composite",
            "Imaginary_Axis": 76,
            "Movements": 540,
            "Points": {
             "im": 76,
             "re": 24
            },
            "Real_Axis": 24
           },
           {
            "Class": "composite",
            "Imaginary_Axis": 77,
            "Movements": 541,
            "Points": {
             "im": 77,
             "re": 24
            },
            "Real_Axis": 24
           },
           {
            "Class": "composite",
            "Imaginary_Axis": 78,
            "Movements": 542,
            "Points": {
             "im": 78,
             "re": 24
            },
            "Real_Axis": 24
           },
           {
            "Class": "composite",
            "Imaginary_Axis": 79,
            "Movements": 543,
            "Points": {
             "im": 79,
             "re": 24
            },
            "Real_Axis": 24
           },
           {
            "Class": "composite",
            "Imaginary_Axis": 80,
            "Movements": 544,
            "Points": {
             "im": 80,
             "re": 24
            },
            "Real_Axis": 24
           },
           {
            "Class": "composite",
            "Imaginary_Axis": 81,
            "Movements": 545,
            "Points": {
             "im": 81,
             "re": 24
            },
            "Real_Axis": 24
           },
           {
            "Class": "composite",
            "Imaginary_Axis": 82,
            "Movements": 546,
            "Points": {
             "im": 82,
             "re": 24
            },
            "Real_Axis": 24
           },
           {
            "Class": "composite",
            "Imaginary_Axis": 83,
            "Movements": 547,
            "Points": {
             "im": 83,
             "re": 24
            },
            "Real_Axis": 24
           },
           {
            "Class": "composite",
            "Imaginary_Axis": 84,
            "Movements": 548,
            "Points": {
             "im": 84,
             "re": 24
            },
            "Real_Axis": 24
           },
           {
            "Class": "composite",
            "Imaginary_Axis": 85,
            "Movements": 549,
            "Points": {
             "im": 85,
             "re": 24
            },
            "Real_Axis": 24
           },
           {
            "Class": "composite",
            "Imaginary_Axis": 86,
            "Movements": 550,
            "Points": {
             "im": 86,
             "re": 24
            },
            "Real_Axis": 24
           },
           {
            "Class": "composite",
            "Imaginary_Axis": 87,
            "Movements": 551,
            "Points": {
             "im": 87,
             "re": 24
            },
            "Real_Axis": 24
           },
           {
            "Class": "composite",
            "Imaginary_Axis": 88,
            "Movements": 552,
            "Points": {
             "im": 88,
             "re": 24
            },
            "Real_Axis": 24
           },
           {
            "Class": "composite",
            "Imaginary_Axis": 89,
            "Movements": 553,
            "Points": {
             "im": 89,
             "re": 24
            },
            "Real_Axis": 24
           },
           {
            "Class": "composite",
            "Imaginary_Axis": 90,
            "Movements": 554,
            "Points": {
             "im": 90,
             "re": 24
            },
            "Real_Axis": 24
           },
           {
            "Class": "composite",
            "Imaginary_Axis": 91,
            "Movements": 555,
            "Points": {
             "im": 91,
             "re": 24
            },
            "Real_Axis": 24
           },
           {
            "Class": "composite",
            "Imaginary_Axis": 92,
            "Movements": 556,
            "Points": {
             "im": 92,
             "re": 24
            },
            "Real_Axis": 24
           },
           {
            "Class": "composite",
            "Imaginary_Axis": 93,
            "Movements": 557,
            "Points": {
             "im": 93,
             "re": 24
            },
            "Real_Axis": 24
           },
           {
            "Class": "composite",
            "Imaginary_Axis": 94,
            "Movements": 558,
            "Points": {
             "im": 94,
             "re": 24
            },
            "Real_Axis": 24
           },
           {
            "Class": "prime",
            "Imaginary_Axis": 95,
            "Movements": 559,
            "Points": {
             "im": 95,
             "re": 24
            },
            "Real_Axis": 24
           },
           {
            "Class": "composite",
            "Imaginary_Axis": 95,
            "Movements": 560,
            "Points": {
             "im": 95,
             "re": 23
            },
            "Real_Axis": 23
           },
           {
            "Class": "composite",
            "Imaginary_Axis": 95,
            "Movements": 561,
            "Points": {
             "im": 95,
             "re": 22
            },
            "Real_Axis": 22
           },
           {
            "Class": "composite",
            "Imaginary_Axis": 95,
            "Movements": 562,
            "Points": {
             "im": 95,
             "re": 21
            },
            "Real_Axis": 21
           },
           {
            "Class": "composite",
            "Imaginary_Axis": 95,
            "Movements": 563,
            "Points": {
             "im": 95,
             "re": 20
            },
            "Real_Axis": 20
           },
           {
            "Class": "composite",
            "Imaginary_Axis": 95,
            "Movements": 564,
            "Points": {
             "im": 95,
             "re": 19
            },
            "Real_Axis": 19
           },
           {
            "Class": "prime",
            "Imaginary_Axis": 95,
            "Movements": 565,
            "Points": {
             "im": 95,
             "re": 18
            },
            "Real_Axis": 18
           },
           {
            "Class": "composite",
            "Imaginary_Axis": 94,
            "Movements": 566,
            "Points": {
             "im": 94,
             "re": 18
            },
            "Real_Axis": 18
           },
           {
            "Class": "composite",
            "Imaginary_Axis": 93,
            "Movements": 567,
            "Points": {
             "im": 93,
             "re": 18
            },
            "Real_Axis": 18
           },
           {
            "Class": "composite",
            "Imaginary_Axis": 92,
            "Movements": 568,
            "Points": {
             "im": 92,
             "re": 18
            },
            "Real_Axis": 18
           },
           {
            "Class": "composite",
            "Imaginary_Axis": 91,
            "Movements": 569,
            "Points": {
             "im": 91,
             "re": 18
            },
            "Real_Axis": 18
           },
           {
            "Class": "composite",
            "Imaginary_Axis": 90,
            "Movements": 570,
            "Points": {
             "im": 90,
             "re": 18
            },
            "Real_Axis": 18
           },
           {
            "Class": "composite",
            "Imaginary_Axis": 89,
            "Movements": 571,
            "Points": {
             "im": 89,
             "re": 18
            },
            "Real_Axis": 18
           },
           {
            "Class": "composite",
            "Imaginary_Axis": 88,
            "Movements": 572,
            "Points": {
             "im": 88,
             "re": 18
            },
            "Real_Axis": 18
           },
           {
            "Class": "composite",
            "Imaginary_Axis": 87,
            "Movements": 573,
            "Points": {
             "im": 87,
             "re": 18
            },
            "Real_Axis": 18
           },
           {
            "Class": "composite",
            "Imaginary_Axis": 86,
            "Movements": 574,
            "Points": {
             "im": 86,
             "re": 18
            },
            "Real_Axis": 18
           },
           {
            "Class": "prime",
            "Imaginary_Axis": 85,
            "Movements": 575,
            "Points": {
             "im": 85,
             "re": 18
            },
            "Real_Axis": 18
           },
           {
            "Class": "composite",
            "Imaginary_Axis": 85,
            "Movements": 576,
            "Points": {
             "im": 85,
             "re": 19
            },
            "Real_Axis": 19
           },
           {
            "Class": "composite",
            "Imaginary_Axis": 85,
            "Movements": 577,
            "Points": {
             "im": 85,
             "re": 20
            },
            "Real_Axis": 20
           },
           {
            "Class": "composite",
            "Imaginary_Axis": 85,
            "Movements": 578,
            "Points": {
             "im": 85,
             "re": 21
            },
            "Real_Axis": 21
           },
           {
            "Class": "composite",
            "Imaginary_Axis": 85,
            "Movements": 579,
            "Points": {
             "im": 85,
             "re": 22
            },
            "Real_Axis": 22
           },
           {
            "Class": "composite",
            "Imaginary_Axis": 85,
            "Movements": 580,
            "Points": {
             "im": 85,
             "re": 23
            },
            "Real_Axis": 23
           },
           {
            "Class": "composite",
            "Imaginary_Axis": 85,
            "Movements": 581,
            "Points": {
             "im": 85,
             "re": 24
            },
            "Real_Axis": 24
           },
           {
            "Class": "composite",
            "Imaginary_Axis": 85,
            "Movements": 582,
            "Points": {
             "im": 85,
             "re": 25
            },
            "Real_Axis": 25
           },
           {
            "Class": "prime",
            "Imaginary_Axis": 85,
            "Movements": 583,
            "Points": {
             "im": 85,
             "re": 26
            },
            "Real_Axis": 26
           },
           {
            "Class": "composite",
            "Imaginary_Axis": 86,
            "Movements": 584,
            "Points": {
             "im": 86,
             "re": 26
            },
            "Real_Axis": 26
           },
           {
            "Class": "composite",
            "Imaginary_Axis": 87,
            "Movements": 585,
            "Points": {
             "im": 87,
             "re": 26
            },
            "Real_Axis": 26
           },
           {
            "Class": "composite",
            "Imaginary_Axis": 88,
            "Movements": 586,
            "Points": {
             "im": 88,
             "re": 26
            },
            "Real_Axis": 26
           },
           {
            "Class": "prime",
            "Imaginary_Axis": 89,
            "Movements": 587,
            "Points": {
             "im": 89,
             "re": 26
            },
            "Real_Axis": 26
           },
           {
            "Class": "composite",
            "Imaginary_Axis": 89,
            "Movements": 588,
            "Points": {
             "im": 89,
             "re": 25
            },
            "Real_Axis": 25
           },
           {
            "Class": "composite",
            "Imaginary_Axis": 89,
            "Movements": 589,
            "Points": {
             "im": 89,
             "re": 24
            },
            "Real_Axis": 24
           },
           {
            "Class": "composite",
            "Imaginary_Axis": 89,
            "Movements": 590,
            "Points": {
             "im": 89,
             "re": 23
            },
            "Real_Axis": 23
           },
           {
            "Class": "composite",
            "Imaginary_Axis": 89,
            "Movements": 591,
            "Points": {
             "im": 89,
             "re": 22
            },
            "Real_Axis": 22
           },
           {
            "Class": "composite",
            "Imaginary_Axis": 89,
            "Movements": 592,
            "Points": {
             "im": 89,
             "re": 21
            },
            "Real_Axis": 21
           },
           {
            "Class": "composite",
            "Imaginary_Axis": 89,
            "Movements": 593,
            "Points": {
             "im": 89,
             "re": 20
            },
            "Real_Axis": 20
           },
           {
            "Class": "composite",
            "Imaginary_Axis": 89,
            "Movements": 594,
            "Points": {
             "im": 89,
             "re": 19
            },
            "Real_Axis": 19
           },
           {
            "Class": "composite",
            "Imaginary_Axis": 89,
            "Movements": 595,
            "Points": {
             "im": 89,
             "re": 18
            },
            "Real_Axis": 18
           },
           {
            "Class": "composite",
            "Imaginary_Axis": 89,
            "Movements": 596,
            "Points": {
             "im": 89,
             "re": 17
            },
            "Real_Axis": 17
           },
           {
            "Class": "composite",
            "Imaginary_Axis": 89,
            "Movements": 597,
            "Points": {
             "im": 89,
             "re": 16
            },
            "Real_Axis": 16
           },
           {
            "Class": "composite",
            "Imaginary_Axis": 89,
            "Movements": 598,
            "Points": {
             "im": 89,
             "re": 15
            },
            "Real_Axis": 15
           },
           {
            "Class": "prime",
            "Imaginary_Axis": 89,
            "Movements": 599,
            "Points": {
             "im": 89,
             "re": 14
            },
            "Real_Axis": 14
           },
           {
            "Class": "composite",
            "Imaginary_Axis": 88,
            "Movements": 600,
            "Points": {
             "im": 88,
             "re": 14
            },
            "Real_Axis": 14
           },
           {
            "Class": "composite",
            "Imaginary_Axis": 87,
            "Movements": 601,
            "Points": {
             "im": 87,
             "re": 14
            },
            "Real_Axis": 14
           },
           {
            "Class": "composite",
            "Imaginary_Axis": 86,
            "Movements": 602,
            "Points": {
             "im": 86,
             "re": 14
            },
            "Real_Axis": 14
           },
           {
            "Class": "composite",
            "Imaginary_Axis": 85,
            "Movements": 603,
            "Points": {
             "im": 85,
             "re": 14
            },
            "Real_Axis": 14
           },
           {
            "Class": "composite",
            "Imaginary_Axis": 84,
            "Movements": 604,
            "Points": {
             "im": 84,
             "re": 14
            },
            "Real_Axis": 14
           },
           {
            "Class": "composite",
            "Imaginary_Axis": 83,
            "Movements": 605,
            "Points": {
             "im": 83,
             "re": 14
            },
            "Real_Axis": 14
           },
           {
            "Class": "composite",
            "Imaginary_Axis": 82,
            "Movements": 606,
            "Points": {
             "im": 82,
             "re": 14
            },
            "Real_Axis": 14
           },
           {
            "Class": "composite",
            "Imaginary_Axis": 81,
            "Movements": 607,
            "Points": {
             "im": 81,
             "re": 14
            },
            "Real_Axis": 14
           },
           {
            "Class": "composite",
            "Imaginary_Axis": 80,
            "Movements": 608,
            "Points": {
             "im": 80,
             "re": 14
            },
            "Real_Axis": 14
           },
           {
            "Class": "composite",
            "Imaginary_Axis": 79,
            "Movements": 609,
            "Points": {
             "im": 79,
             "re": 14
            },
            "Real_Axis": 14
           },
           {
            "Class": "composite",
            "Imaginary_Axis": 78,
            "Movements": 610,
            "Points": {
             "im": 78,
             "re": 14
            },
            "Real_Axis": 14
           },
           {
            "Class": "composite",
            "Imaginary_Axis": 77,
            "Movements": 611,
            "Points": {
             "im": 77,
             "re": 14
            },
            "Real_Axis": 14
           },
           {
            "Class": "composite",
            "Imaginary_Axis": 76,
            "Movements": 612,
            "Points": {
             "im": 76,
             "re": 14
            },
            "Real_Axis": 14
           },
           {
            "Class": "prime",
            "Imaginary_Axis": 75,
            "Movements": 613,
            "Points": {
             "im": 75,
             "re": 14
            },
            "Real_Axis": 14
           },
           {
            "Class": "composite",
            "Imaginary_Axis": 75,
            "Movements": 614,
            "Points": {
             "im": 75,
             "re": 15
            },
            "Real_Axis": 15
           },
           {
            "Class": "prime",
            "Imaginary_Axis": 75,
            "Movements": 615,
            "Points": {
             "im": 75,
             "re": 16
            },
            "Real_Axis": 16
           },
           {
            "Class": "composite",
            "Imaginary_Axis": 76,
            "Movements": 616,
            "Points": {
             "im": 76,
             "re": 16
            },
            "Real_Axis": 16
           },
           {
            "Class": "composite",
            "Imaginary_Axis": 77,
            "Movements": 617,
            "Points": {
             "im": 77,
             "re": 16
            },
            "Real_Axis": 16
           },
           {
            "Class": "composite",
            "Imaginary_Axis": 78,
            "Movements": 618,
            "Points": {
             "im": 78,
             "re": 16
            },
            "Real_Axis": 16
           },
           {
            "Class": "composite",
            "Imaginary_Axis": 79,
            "Movements": 619,
            "Points": {
             "im": 79,
             "re": 16
            },
            "Real_Axis": 16
           },
           {
            "Class": "composite",
            "Imaginary_Axis": 80,
            "Movements": 620,
            "Points": {
             "im": 80,
             "re": 16
            },
            "Real_Axis": 16
           },
           {
            "Class": "composite",
            "Imaginary_Axis": 81,
            "Movements": 621,
            "Points": {
             "im": 81,
             "re": 16
            },
            "Real_Axis": 16
           },
           {
            "Class": "composite",
            "Imaginary_Axis": 82,
            "Movements": 622,
            "Points": {
             "im": 82,
             "re": 16
            },
            "Real_Axis": 16
           },
           {
            "Class": "composite",
            "Imaginary_Axis": 83,
            "Movements": 623,
            "Points": {
             "im": 83,
             "re": 16
            },
            "Real_Axis": 16
           },
           {
            "Class": "composite",
            "Imaginary_Axis": 84,
            "Movements": 624,
            "Points": {
             "im": 84,
             "re": 16
            },
            "Real_Axis": 16
           },
           {
            "Class": "prime",
            "Imaginary_Axis": 85,
            "Movements": 625,
            "Points": {
             "im": 85,
             "re": 16
            },
            "Real_Axis": 16
           },
           {
            "Class": "composite",
            "Imaginary_Axis": 85,
            "Movements": 626,
            "Points": {
             "im": 85,
             "re": 15
            },
            "Real_Axis": 15
           },
           {
            "Class": "composite",
            "Imaginary_Axis": 85,
            "Movements": 627,
            "Points": {
             "im": 85,
             "re": 14
            },
            "Real_Axis": 14
           },
           {
            "Class": "composite",
            "Imaginary_Axis": 85,
            "Movements": 628,
            "Points": {
             "im": 85,
             "re": 13
            },
            "Real_Axis": 13
           },
           {
            "Class": "prime",
            "Imaginary_Axis": 85,
            "Movements": 629,
            "Points": {
             "im": 85,
             "re": 12
            },
            "Real_Axis": 12
           },
           {
            "Class": "composite",
            "Imaginary_Axis": 84,
            "Movements": 630,
            "Points": {
             "im": 84,
             "re": 12
            },
            "Real_Axis": 12
           },
           {
            "Class": "composite",
            "Imaginary_Axis": 83,
            "Movements": 631,
            "Points": {
             "im": 83,
             "re": 12
            },
            "Real_Axis": 12
           },
           {
            "Class": "composite",
            "Imaginary_Axis": 82,
            "Movements": 632,
            "Points": {
             "im": 82,
             "re": 12
            },
            "Real_Axis": 12
           },
           {
            "Class": "composite",
            "Imaginary_Axis": 81,
            "Movements": 633,
            "Points": {
             "im": 81,
             "re": 12
            },
            "Real_Axis": 12
           },
           {
            "Class": "composite",
            "Imaginary_Axis": 80,
            "Movements": 634,
            "Points": {
             "im": 80,
             "re": 12
            },
            "Real_Axis": 12
           },
           {
            "Class": "composite",
            "Imaginary_Axis": 79,
            "Movements": 635,
            "Points": {
             "im": 79,
             "re": 12
            },
            "Real_Axis": 12
           },
           {
            "Class": "composite",
            "Imaginary_Axis": 78,
            "Movements": 636,
            "Points": {
             "im": 78,
             "re": 12
            },
            "Real_Axis": 12
           },
           {
            "Class": "prime",
            "Imaginary_Axis": 77,
            "Movements": 637,
            "Points": {
             "im": 77,
             "re": 12
            },
            "Real_Axis": 12
           },
           {
            "Class": "composite",
            "Imaginary_Axis": 77,
            "Movements": 638,
            "Points": {
             "im": 77,
             "re": 13
            },
            "Real_Axis": 13
           },
           {
            "Class": "composite",
            "Imaginary_Axis": 77,
            "Movements": 639,
            "Points": {
             "im": 77,
             "re": 14
            },
            "Real_Axis": 14
           },
           {
            "Class": "composite",
            "Imaginary_Axis": 77,
            "Movements": 640,
            "Points": {
             "im": 77,
             "re": 15
            },
            "Real_Axis": 15
           },
           {
            "Class": "composite",
            "Imaginary_Axis": 77,
            "Movements": 641,
            "Points": {
             "im": 77,
             "re": 16
            },
            "Real_Axis": 16
           },
           {
            "Class": "composite",
            "Imaginary_Axis": 77,
            "Movements": 642,
            "Points": {
             "im": 77,
             "re": 17
            },
            "Real_Axis": 17
           },
           {
            "Class": "composite",
            "Imaginary_Axis": 77,
            "Movements": 643,
            "Points": {
             "im": 77,
             "re": 18
            },
            "Real_Axis": 18
           },
           {
            "Class": "composite",
            "Imaginary_Axis": 77,
            "Movements": 644,
            "Points": {
             "im": 77,
             "re": 19
            },
            "Real_Axis": 19
           },
           {
            "Class": "prime",
            "Imaginary_Axis": 77,
            "Movements": 645,
            "Points": {
             "im": 77,
             "re": 20
            },
            "Real_Axis": 20
           },
           {
            "Class": "composite",
            "Imaginary_Axis": 78,
            "Movements": 646,
            "Points": {
             "im": 78,
             "re": 20
            },
            "Real_Axis": 20
           },
           {
            "Class": "composite",
            "Imaginary_Axis": 79,
            "Movements": 647,
            "Points": {
             "im": 79,
             "re": 20
            },
            "Real_Axis": 20
           },
           {
            "Class": "composite",
            "Imaginary_Axis": 80,
            "Movements": 648,
            "Points": {
             "im": 80,
             "re": 20
            },
            "Real_Axis": 20
           },
           {
            "Class": "prime",
            "Imaginary_Axis": 81,
            "Movements": 649,
            "Points": {
             "im": 81,
             "re": 20
            },
            "Real_Axis": 20
           },
           {
            "Class": "composite",
            "Imaginary_Axis": 81,
            "Movements": 650,
            "Points": {
             "im": 81,
             "re": 19
            },
            "Real_Axis": 19
           },
           {
            "Class": "composite",
            "Imaginary_Axis": 81,
            "Movements": 651,
            "Points": {
             "im": 81,
             "re": 18
            },
            "Real_Axis": 18
           },
           {
            "Class": "composite",
            "Imaginary_Axis": 81,
            "Movements": 652,
            "Points": {
             "im": 81,
             "re": 17
            },
            "Real_Axis": 17
           },
           {
            "Class": "composite",
            "Imaginary_Axis": 81,
            "Movements": 653,
            "Points": {
             "im": 81,
             "re": 16
            },
            "Real_Axis": 16
           },
           {
            "Class": "composite",
            "Imaginary_Axis": 81,
            "Movements": 654,
            "Points": {
             "im": 81,
             "re": 15
            },
            "Real_Axis": 15
           },
           {
            "Class": "composite",
            "Imaginary_Axis": 81,
            "Movements": 655,
            "Points": {
             "im": 81,
             "re": 14
            },
            "Real_Axis": 14
           },
           {
            "Class": "composite",
            "Imaginary_Axis": 81,
            "Movements": 656,
            "Points": {
             "im": 81,
             "re": 13
            },
            "Real_Axis": 13
           },
           {
            "Class": "composite",
            "Imaginary_Axis": 81,
            "Movements": 657,
            "Points": {
             "im": 81,
             "re": 12
            },
            "Real_Axis": 12
           },
           {
            "Class": "composite",
            "Imaginary_Axis": 81,
            "Movements": 658,
            "Points": {
             "im": 81,
             "re": 11
            },
            "Real_Axis": 11
           },
           {
            "Class": "prime",
            "Imaginary_Axis": 81,
            "Movements": 659,
            "Points": {
             "im": 81,
             "re": 10
            },
            "Real_Axis": 10
           },
           {
            "Class": "composite",
            "Imaginary_Axis": 80,
            "Movements": 660,
            "Points": {
             "im": 80,
             "re": 10
            },
            "Real_Axis": 10
           },
           {
            "Class": "composite",
            "Imaginary_Axis": 79,
            "Movements": 661,
            "Points": {
             "im": 79,
             "re": 10
            },
            "Real_Axis": 10
           },
           {
            "Class": "composite",
            "Imaginary_Axis": 78,
            "Movements": 662,
            "Points": {
             "im": 78,
             "re": 10
            },
            "Real_Axis": 10
           },
           {
            "Class": "prime",
            "Imaginary_Axis": 77,
            "Movements": 663,
            "Points": {
             "im": 77,
             "re": 10
            },
            "Real_Axis": 10
           },
           {
            "Class": "composite",
            "Imaginary_Axis": 77,
            "Movements": 664,
            "Points": {
             "im": 77,
             "re": 11
            },
            "Real_Axis": 11
           },
           {
            "Class": "prime",
            "Imaginary_Axis": 77,
            "Movements": 665,
            "Points": {
             "im": 77,
             "re": 12
            },
            "Real_Axis": 12
           },
           {
            "Class": "composite",
            "Imaginary_Axis": 78,
            "Movements": 666,
            "Points": {
             "im": 78,
             "re": 12
            },
            "Real_Axis": 12
           },
           {
            "Class": "composite",
            "Imaginary_Axis": 79,
            "Movements": 667,
            "Points": {
             "im": 79,
             "re": 12
            },
            "Real_Axis": 12
           },
           {
            "Class": "composite",
            "Imaginary_Axis": 80,
            "Movements": 668,
            "Points": {
             "im": 80,
             "re": 12
            },
            "Real_Axis": 12
           },
           {
            "Class": "composite",
            "Imaginary_Axis": 81,
            "Movements": 669,
            "Points": {
             "im": 81,
             "re": 12
            },
            "Real_Axis": 12
           },
           {
            "Class": "composite",
            "Imaginary_Axis": 82,
            "Movements": 670,
            "Points": {
             "im": 82,
             "re": 12
            },
            "Real_Axis": 12
           },
           {
            "Class": "composite",
            "Imaginary_Axis": 83,
            "Movements": 671,
            "Points": {
             "im": 83,
             "re": 12
            },
            "Real_Axis": 12
           },
           {
            "Class": "composite",
            "Imaginary_Axis": 84,
            "Movements": 672,
            "Points": {
             "im": 84,
             "re": 12
            },
            "Real_Axis": 12
           },
           {
            "Class": "prime",
            "Imaginary_Axis": 85,
            "Movements": 673,
            "Points": {
             "im": 85,
             "re": 12
            },
            "Real_Axis": 12
           },
           {
            "Class": "composite",
            "Imaginary_Axis": 85,
            "Movements": 674,
            "Points": {
             "im": 85,
             "re": 11
            },
            "Real_Axis": 11
           },
           {
            "Class": "composite",
            "Imaginary_Axis": 85,
            "Movements": 675,
            "Points": {
             "im": 85,
             "re": 10
            },
            "Real_Axis": 10
           },
           {
            "Class": "composite",
            "Imaginary_Axis": 85,
            "Movements": 676,
            "Points": {
             "im": 85,
             "re": 9
            },
            "Real_Axis": 9
           },
           {
            "Class": "composite",
            "Imaginary_Axis": 85,
            "Movements": 677,
            "Points": {
             "im": 85,
             "re": 8
            },
            "Real_Axis": 8
           },
           {
            "Class": "composite",
            "Imaginary_Axis": 85,
            "Movements": 678,
            "Points": {
             "im": 85,
             "re": 7
            },
            "Real_Axis": 7
           },
           {
            "Class": "composite",
            "Imaginary_Axis": 85,
            "Movements": 679,
            "Points": {
             "im": 85,
             "re": 6
            },
            "Real_Axis": 6
           },
           {
            "Class": "composite",
            "Imaginary_Axis": 85,
            "Movements": 680,
            "Points": {
             "im": 85,
             "re": 5
            },
            "Real_Axis": 5
           },
           {
            "Class": "composite",
            "Imaginary_Axis": 85,
            "Movements": 681,
            "Points": {
             "im": 85,
             "re": 4
            },
            "Real_Axis": 4
           },
           {
            "Class": "composite",
            "Imaginary_Axis": 85,
            "Movements": 682,
            "Points": {
             "im": 85,
             "re": 3
            },
            "Real_Axis": 3
           },
           {
            "Class": "prime",
            "Imaginary_Axis": 85,
            "Movements": 683,
            "Points": {
             "im": 85,
             "re": 2
            },
            "Real_Axis": 2
           },
           {
            "Class": "composite",
            "Imaginary_Axis": 84,
            "Movements": 684,
            "Points": {
             "im": 84,
             "re": 2
            },
            "Real_Axis": 2
           },
           {
            "Class": "composite",
            "Imaginary_Axis": 83,
            "Movements": 685,
            "Points": {
             "im": 83,
             "re": 2
            },
            "Real_Axis": 2
           },
           {
            "Class": "composite",
            "Imaginary_Axis": 82,
            "Movements": 686,
            "Points": {
             "im": 82,
             "re": 2
            },
            "Real_Axis": 2
           },
           {
            "Class": "composite",
            "Imaginary_Axis": 81,
            "Movements": 687,
            "Points": {
             "im": 81,
             "re": 2
            },
            "Real_Axis": 2
           },
           {
            "Class": "composite",
            "Imaginary_Axis": 80,
            "Movements": 688,
            "Points": {
             "im": 80,
             "re": 2
            },
            "Real_Axis": 2
           },
           {
            "Class": "composite",
            "Imaginary_Axis": 79,
            "Movements": 689,
            "Points": {
             "im": 79,
             "re": 2
            },
            "Real_Axis": 2
           },
           {
            "Class": "composite",
            "Imaginary_Axis": 78,
            "Movements": 690,
            "Points": {
             "im": 78,
             "re": 2
            },
            "Real_Axis": 2
           },
           {
            "Class": "composite",
            "Imaginary_Axis": 77,
            "Movements": 691,
            "Points": {
             "im": 77,
             "re": 2
            },
            "Real_Axis": 2
           },
           {
            "Class": "composite",
            "Imaginary_Axis": 76,
            "Movements": 692,
            "Points": {
             "im": 76,
             "re": 2
            },
            "Real_Axis": 2
           },
           {
            "Class": "composite",
            "Imaginary_Axis": 75,
            "Movements": 693,
            "Points": {
             "im": 75,
             "re": 2
            },
            "Real_Axis": 2
           },
           {
            "Class": "composite",
            "Imaginary_Axis": 74,
            "Movements": 694,
            "Points": {
             "im": 74,
             "re": 2
            },
            "Real_Axis": 2
           },
           {
            "Class": "prime",
            "Imaginary_Axis": 73,
            "Movements": 695,
            "Points": {
             "im": 73,
             "re": 2
            },
            "Real_Axis": 2
           },
           {
            "Class": "composite",
            "Imaginary_Axis": 73,
            "Movements": 696,
            "Points": {
             "im": 73,
             "re": 3
            },
            "Real_Axis": 3
           },
           {
            "Class": "composite",
            "Imaginary_Axis": 73,
            "Movements": 697,
            "Points": {
             "im": 73,
             "re": 4
            },
            "Real_Axis": 4
           },
           {
            "Class": "composite",
            "Imaginary_Axis": 73,
            "Movements": 698,
            "Points": {
             "im": 73,
             "re": 5
            },
            "Real_Axis": 5
           },
           {
            "Class": "composite",
            "Imaginary_Axis": 73,
            "Movements": 699,
            "Points": {
             "im": 73,
             "re": 6
            },
            "Real_Axis": 6
           },
           {
            "Class": "composite",
            "Imaginary_Axis": 73,
            "Movements": 700,
            "Points": {
             "im": 73,
             "re": 7
            },
            "Real_Axis": 7
           },
           {
            "Class": "prime",
            "Imaginary_Axis": 73,
            "Movements": 701,
            "Points": {
             "im": 73,
             "re": 8
            },
            "Real_Axis": 8
           },
           {
            "Class": "composite",
            "Imaginary_Axis": 74,
            "Movements": 702,
            "Points": {
             "im": 74,
             "re": 8
            },
            "Real_Axis": 8
           },
           {
            "Class": "prime",
            "Imaginary_Axis": 75,
            "Movements": 703,
            "Points": {
             "im": 75,
             "re": 8
            },
            "Real_Axis": 8
           },
           {
            "Class": "composite",
            "Imaginary_Axis": 75,
            "Movements": 704,
            "Points": {
             "im": 75,
             "re": 7
            },
            "Real_Axis": 7
           },
           {
            "Class": "composite",
            "Imaginary_Axis": 75,
            "Movements": 705,
            "Points": {
             "im": 75,
             "re": 6
            },
            "Real_Axis": 6
           },
           {
            "Class": "composite",
            "Imaginary_Axis": 75,
            "Movements": 706,
            "Points": {
             "im": 75,
             "re": 5
            },
            "Real_Axis": 5
           },
           {
            "Class": "prime",
            "Imaginary_Axis": 75,
            "Movements": 707,
            "Points": {
             "im": 75,
             "re": 4
            },
            "Real_Axis": 4
           },
           {
            "Class": "composite",
            "Imaginary_Axis": 74,
            "Movements": 708,
            "Points": {
             "im": 74,
             "re": 4
            },
            "Real_Axis": 4
           },
           {
            "Class": "composite",
            "Imaginary_Axis": 73,
            "Movements": 709,
            "Points": {
             "im": 73,
             "re": 4
            },
            "Real_Axis": 4
           },
           {
            "Class": "composite",
            "Imaginary_Axis": 72,
            "Movements": 710,
            "Points": {
             "im": 72,
             "re": 4
            },
            "Real_Axis": 4
           },
           {
            "Class": "composite",
            "Imaginary_Axis": 71,
            "Movements": 711,
            "Points": {
             "im": 71,
             "re": 4
            },
            "Real_Axis": 4
           },
           {
            "Class": "composite",
            "Imaginary_Axis": 70,
            "Movements": 712,
            "Points": {
             "im": 70,
             "re": 4
            },
            "Real_Axis": 4
           },
           {
            "Class": "composite",
            "Imaginary_Axis": 69,
            "Movements": 713,
            "Points": {
             "im": 69,
             "re": 4
            },
            "Real_Axis": 4
           },
           {
            "Class": "composite",
            "Imaginary_Axis": 68,
            "Movements": 714,
            "Points": {
             "im": 68,
             "re": 4
            },
            "Real_Axis": 4
           },
           {
            "Class": "composite",
            "Imaginary_Axis": 67,
            "Movements": 715,
            "Points": {
             "im": 67,
             "re": 4
            },
            "Real_Axis": 4
           },
           {
            "Class": "composite",
            "Imaginary_Axis": 66,
            "Movements": 716,
            "Points": {
             "im": 66,
             "re": 4
            },
            "Real_Axis": 4
           },
           {
            "Class": "prime",
            "Imaginary_Axis": 65,
            "Movements": 717,
            "Points": {
             "im": 65,
             "re": 4
            },
            "Real_Axis": 4
           },
           {
            "Class": "composite",
            "Imaginary_Axis": 65,
            "Movements": 718,
            "Points": {
             "im": 65,
             "re": 5
            },
            "Real_Axis": 5
           },
           {
            "Class": "prime",
            "Imaginary_Axis": 65,
            "Movements": 719,
            "Points": {
             "im": 65,
             "re": 6
            },
            "Real_Axis": 6
           },
           {
            "Class": "composite",
            "Imaginary_Axis": 66,
            "Movements": 720,
            "Points": {
             "im": 66,
             "re": 6
            },
            "Real_Axis": 6
           },
           {
            "Class": "composite",
            "Imaginary_Axis": 67,
            "Movements": 721,
            "Points": {
             "im": 67,
             "re": 6
            },
            "Real_Axis": 6
           },
           {
            "Class": "composite",
            "Imaginary_Axis": 68,
            "Movements": 722,
            "Points": {
             "im": 68,
             "re": 6
            },
            "Real_Axis": 6
           },
           {
            "Class": "composite",
            "Imaginary_Axis": 69,
            "Movements": 723,
            "Points": {
             "im": 69,
             "re": 6
            },
            "Real_Axis": 6
           },
           {
            "Class": "composite",
            "Imaginary_Axis": 70,
            "Movements": 724,
            "Points": {
             "im": 70,
             "re": 6
            },
            "Real_Axis": 6
           },
           {
            "Class": "prime",
            "Imaginary_Axis": 71,
            "Movements": 725,
            "Points": {
             "im": 71,
             "re": 6
            },
            "Real_Axis": 6
           },
           {
            "Class": "composite",
            "Imaginary_Axis": 71,
            "Movements": 726,
            "Points": {
             "im": 71,
             "re": 5
            },
            "Real_Axis": 5
           },
           {
            "Class": "composite",
            "Imaginary_Axis": 71,
            "Movements": 727,
            "Points": {
             "im": 71,
             "re": 4
            },
            "Real_Axis": 4
           },
           {
            "Class": "composite",
            "Imaginary_Axis": 71,
            "Movements": 728,
            "Points": {
             "im": 71,
             "re": 3
            },
            "Real_Axis": 3
           },
           {
            "Class": "composite",
            "Imaginary_Axis": 71,
            "Movements": 729,
            "Points": {
             "im": 71,
             "re": 2
            },
            "Real_Axis": 2
           },
           {
            "Class": "composite",
            "Imaginary_Axis": 71,
            "Movements": 730,
            "Points": {
             "im": 71,
             "re": 1
            },
            "Real_Axis": 1
           },
           {
            "Class": "prime",
            "Imaginary_Axis": 71,
            "Movements": 731,
            "Points": {
             "im": 71,
             "re": 0
            },
            "Real_Axis": 0
           },
           {
            "Class": "composite",
            "Imaginary_Axis": 70,
            "Movements": 732,
            "Points": {
             "im": 70,
             "re": 0
            },
            "Real_Axis": 0
           },
           {
            "Class": "composite",
            "Imaginary_Axis": 69,
            "Movements": 733,
            "Points": {
             "im": 69,
             "re": 0
            },
            "Real_Axis": 0
           },
           {
            "Class": "composite",
            "Imaginary_Axis": 68,
            "Movements": 734,
            "Points": {
             "im": 68,
             "re": 0
            },
            "Real_Axis": 0
           },
           {
            "Class": "prime",
            "Imaginary_Axis": 67,
            "Movements": 735,
            "Points": {
             "im": 67,
             "re": 0
            },
            "Real_Axis": 0
           },
           {
            "Class": "composite",
            "Imaginary_Axis": 67,
            "Movements": 736,
            "Points": {
             "im": 67,
             "re": 1
            },
            "Real_Axis": 1
           },
           {
            "Class": "prime",
            "Imaginary_Axis": 67,
            "Movements": 737,
            "Points": {
             "im": 67,
             "re": 2
            },
            "Real_Axis": 2
           },
           {
            "Class": "composite",
            "Imaginary_Axis": 68,
            "Movements": 738,
            "Points": {
             "im": 68,
             "re": 2
            },
            "Real_Axis": 2
           },
           {
            "Class": "composite",
            "Imaginary_Axis": 69,
            "Movements": 739,
            "Points": {
             "im": 69,
             "re": 2
            },
            "Real_Axis": 2
           },
           {
            "Class": "composite",
            "Imaginary_Axis": 70,
            "Movements": 740,
            "Points": {
             "im": 70,
             "re": 2
            },
            "Real_Axis": 2
           },
           {
            "Class": "composite",
            "Imaginary_Axis": 71,
            "Movements": 741,
            "Points": {
             "im": 71,
             "re": 2
            },
            "Real_Axis": 2
           },
           {
            "Class": "composite",
            "Imaginary_Axis": 72,
            "Movements": 742,
            "Points": {
             "im": 72,
             "re": 2
            },
            "Real_Axis": 2
           },
           {
            "Class": "prime",
            "Imaginary_Axis": 73,
            "Movements": 743,
            "Points": {
             "im": 73,
             "re": 2
            },
            "Real_Axis": 2
           },
           {
            "Class": "composite",
            "Imaginary_Axis": 73,
            "Movements": 744,
            "Points": {
             "im": 73,
             "re": 1
            },
            "Real_Axis": 1
           },
           {
            "Class": "composite",
            "Imaginary_Axis": 73,
            "Movements": 745,
            "Points": {
             "im": 73,
             "re": 0
            },
            "Real_Axis": 0
           },
           {
            "Class": "composite",
            "Imaginary_Axis": 73,
            "Movements": 746,
            "Points": {
             "im": 73,
             "re": -1
            },
            "Real_Axis": -1
           },
           {
            "Class": "prime",
            "Imaginary_Axis": 73,
            "Movements": 747,
            "Points": {
             "im": 73,
             "re": -2
            },
            "Real_Axis": -2
           },
           {
            "Class": "composite",
            "Imaginary_Axis": 72,
            "Movements": 748,
            "Points": {
             "im": 72,
             "re": -2
            },
            "Real_Axis": -2
           },
           {
            "Class": "composite",
            "Imaginary_Axis": 71,
            "Movements": 749,
            "Points": {
             "im": 71,
             "re": -2
            },
            "Real_Axis": -2
           },
           {
            "Class": "composite",
            "Imaginary_Axis": 70,
            "Movements": 750,
            "Points": {
             "im": 70,
             "re": -2
            },
            "Real_Axis": -2
           },
           {
            "Class": "composite",
            "Imaginary_Axis": 69,
            "Movements": 751,
            "Points": {
             "im": 69,
             "re": -2
            },
            "Real_Axis": -2
           },
           {
            "Class": "composite",
            "Imaginary_Axis": 68,
            "Movements": 752,
            "Points": {
             "im": 68,
             "re": -2
            },
            "Real_Axis": -2
           },
           {
            "Class": "prime",
            "Imaginary_Axis": 67,
            "Movements": 753,
            "Points": {
             "im": 67,
             "re": -2
            },
            "Real_Axis": -2
           },
           {
            "Class": "composite",
            "Imaginary_Axis": 67,
            "Movements": 754,
            "Points": {
             "im": 67,
             "re": -1
            },
            "Real_Axis": -1
           },
           {
            "Class": "prime",
            "Imaginary_Axis": 67,
            "Movements": 755,
            "Points": {
             "im": 67,
             "re": 0
            },
            "Real_Axis": 0
           },
           {
            "Class": "composite",
            "Imaginary_Axis": 68,
            "Movements": 756,
            "Points": {
             "im": 68,
             "re": 0
            },
            "Real_Axis": 0
           },
           {
            "Class": "composite",
            "Imaginary_Axis": 69,
            "Movements": 757,
            "Points": {
             "im": 69,
             "re": 0
            },
            "Real_Axis": 0
           },
           {
            "Class": "composite",
            "Imaginary_Axis": 70,
            "Movements": 758,
            "Points": {
             "im": 70,
             "re": 0
            },
            "Real_Axis": 0
           },
           {
            "Class": "prime",
            "Imaginary_Axis": 71,
            "Movements": 759,
            "Points": {
             "im": 71,
             "re": 0
            },
            "Real_Axis": 0
           },
           {
            "Class": "composite",
            "Imaginary_Axis": 71,
            "Movements": 760,
            "Points": {
             "im": 71,
             "re": -1
            },
            "Real_Axis": -1
           },
           {
            "Class": "composite",
            "Imaginary_Axis": 71,
            "Movements": 761,
            "Points": {
             "im": 71,
             "re": -2
            },
            "Real_Axis": -2
           },
           {
            "Class": "composite",
            "Imaginary_Axis": 71,
            "Movements": 762,
            "Points": {
             "im": 71,
             "re": -3
            },
            "Real_Axis": -3
           },
           {
            "Class": "composite",
            "Imaginary_Axis": 71,
            "Movements": 763,
            "Points": {
             "im": 71,
             "re": -4
            },
            "Real_Axis": -4
           },
           {
            "Class": "composite",
            "Imaginary_Axis": 71,
            "Movements": 764,
            "Points": {
             "im": 71,
             "re": -5
            },
            "Real_Axis": -5
           },
           {
            "Class": "prime",
            "Imaginary_Axis": 71,
            "Movements": 765,
            "Points": {
             "im": 71,
             "re": -6
            },
            "Real_Axis": -6
           },
           {
            "Class": "composite",
            "Imaginary_Axis": 70,
            "Movements": 766,
            "Points": {
             "im": 70,
             "re": -6
            },
            "Real_Axis": -6
           },
           {
            "Class": "composite",
            "Imaginary_Axis": 69,
            "Movements": 767,
            "Points": {
             "im": 69,
             "re": -6
            },
            "Real_Axis": -6
           },
           {
            "Class": "composite",
            "Imaginary_Axis": 68,
            "Movements": 768,
            "Points": {
             "im": 68,
             "re": -6
            },
            "Real_Axis": -6
           },
           {
            "Class": "composite",
            "Imaginary_Axis": 67,
            "Movements": 769,
            "Points": {
             "im": 67,
             "re": -6
            },
            "Real_Axis": -6
           },
           {
            "Class": "composite",
            "Imaginary_Axis": 66,
            "Movements": 770,
            "Points": {
             "im": 66,
             "re": -6
            },
            "Real_Axis": -6
           },
           {
            "Class": "prime",
            "Imaginary_Axis": 65,
            "Movements": 771,
            "Points": {
             "im": 65,
             "re": -6
            },
            "Real_Axis": -6
           },
           {
            "Class": "composite",
            "Imaginary_Axis": 65,
            "Movements": 772,
            "Points": {
             "im": 65,
             "re": -5
            },
            "Real_Axis": -5
           },
           {
            "Class": "prime",
            "Imaginary_Axis": 65,
            "Movements": 773,
            "Points": {
             "im": 65,
             "re": -4
            },
            "Real_Axis": -4
           },
           {
            "Class": "composite",
            "Imaginary_Axis": 66,
            "Movements": 774,
            "Points": {
             "im": 66,
             "re": -4
            },
            "Real_Axis": -4
           },
           {
            "Class": "composite",
            "Imaginary_Axis": 67,
            "Movements": 775,
            "Points": {
             "im": 67,
             "re": -4
            },
            "Real_Axis": -4
           },
           {
            "Class": "composite",
            "Imaginary_Axis": 68,
            "Movements": 776,
            "Points": {
             "im": 68,
             "re": -4
            },
            "Real_Axis": -4
           },
           {
            "Class": "composite",
            "Imaginary_Axis": 69,
            "Movements": 777,
            "Points": {
             "im": 69,
             "re": -4
            },
            "Real_Axis": -4
           },
           {
            "Class": "composite",
            "Imaginary_Axis": 70,
            "Movements": 778,
            "Points": {
             "im": 70,
             "re": -4
            },
            "Real_Axis": -4
           },
           {
            "Class": "composite",
            "Imaginary_Axis": 71,
            "Movements": 779,
            "Points": {
             "im": 71,
             "re": -4
            },
            "Real_Axis": -4
           },
           {
            "Class": "composite",
            "Imaginary_Axis": 72,
            "Movements": 780,
            "Points": {
             "im": 72,
             "re": -4
            },
            "Real_Axis": -4
           },
           {
            "Class": "composite",
            "Imaginary_Axis": 73,
            "Movements": 781,
            "Points": {
             "im": 73,
             "re": -4
            },
            "Real_Axis": -4
           },
           {
            "Class": "composite",
            "Imaginary_Axis": 74,
            "Movements": 782,
            "Points": {
             "im": 74,
             "re": -4
            },
            "Real_Axis": -4
           },
           {
            "Class": "prime",
            "Imaginary_Axis": 75,
            "Movements": 783,
            "Points": {
             "im": 75,
             "re": -4
            },
            "Real_Axis": -4
           },
           {
            "Class": "composite",
            "Imaginary_Axis": 75,
            "Movements": 784,
            "Points": {
             "im": 75,
             "re": -5
            },
            "Real_Axis": -5
           },
           {
            "Class": "composite",
            "Imaginary_Axis": 75,
            "Movements": 785,
            "Points": {
             "im": 75,
             "re": -6
            },
            "Real_Axis": -6
           },
           {
            "Class": "composite",
            "Imaginary_Axis": 75,
            "Movements": 786,
            "Points": {
             "im": 75,
             "re": -7
            },
            "Real_Axis": -7
           },
           {
            "Class": "prime",
            "Imaginary_Axis": 75,
            "Movements": 787,
            "Points": {
             "im": 75,
             "re": -8
            },
            "Real_Axis": -8
           },
           {
            "Class": "composite",
            "Imaginary_Axis": 74,
            "Movements": 788,
            "Points": {
             "im": 74,
             "re": -8
            },
            "Real_Axis": -8
           },
           {
            "Class": "prime",
            "Imaginary_Axis": 73,
            "Movements": 789,
            "Points": {
             "im": 73,
             "re": -8
            },
            "Real_Axis": -8
           },
           {
            "Class": "composite",
            "Imaginary_Axis": 73,
            "Movements": 790,
            "Points": {
             "im": 73,
             "re": -7
            },
            "Real_Axis": -7
           },
           {
            "Class": "composite",
            "Imaginary_Axis": 73,
            "Movements": 791,
            "Points": {
             "im": 73,
             "re": -6
            },
            "Real_Axis": -6
           },
           {
            "Class": "composite",
            "Imaginary_Axis": 73,
            "Movements": 792,
            "Points": {
             "im": 73,
             "re": -5
            },
            "Real_Axis": -5
           },
           {
            "Class": "composite",
            "Imaginary_Axis": 73,
            "Movements": 793,
            "Points": {
             "im": 73,
             "re": -4
            },
            "Real_Axis": -4
           },
           {
            "Class": "composite",
            "Imaginary_Axis": 73,
            "Movements": 794,
            "Points": {
             "im": 73,
             "re": -3
            },
            "Real_Axis": -3
           },
           {
            "Class": "prime",
            "Imaginary_Axis": 73,
            "Movements": 795,
            "Points": {
             "im": 73,
             "re": -2
            },
            "Real_Axis": -2
           },
           {
            "Class": "composite",
            "Imaginary_Axis": 74,
            "Movements": 796,
            "Points": {
             "im": 74,
             "re": -2
            },
            "Real_Axis": -2
           },
           {
            "Class": "composite",
            "Imaginary_Axis": 75,
            "Movements": 797,
            "Points": {
             "im": 75,
             "re": -2
            },
            "Real_Axis": -2
           },
           {
            "Class": "composite",
            "Imaginary_Axis": 76,
            "Movements": 798,
            "Points": {
             "im": 76,
             "re": -2
            },
            "Real_Axis": -2
           },
           {
            "Class": "composite",
            "Imaginary_Axis": 77,
            "Movements": 799,
            "Points": {
             "im": 77,
             "re": -2
            },
            "Real_Axis": -2
           },
           {
            "Class": "composite",
            "Imaginary_Axis": 78,
            "Movements": 800,
            "Points": {
             "im": 78,
             "re": -2
            },
            "Real_Axis": -2
           },
           {
            "Class": "composite",
            "Imaginary_Axis": 79,
            "Movements": 801,
            "Points": {
             "im": 79,
             "re": -2
            },
            "Real_Axis": -2
           },
           {
            "Class": "composite",
            "Imaginary_Axis": 80,
            "Movements": 802,
            "Points": {
             "im": 80,
             "re": -2
            },
            "Real_Axis": -2
           },
           {
            "Class": "composite",
            "Imaginary_Axis": 81,
            "Movements": 803,
            "Points": {
             "im": 81,
             "re": -2
            },
            "Real_Axis": -2
           },
           {
            "Class": "composite",
            "Imaginary_Axis": 82,
            "Movements": 804,
            "Points": {
             "im": 82,
             "re": -2
            },
            "Real_Axis": -2
           },
           {
            "Class": "composite",
            "Imaginary_Axis": 83,
            "Movements": 805,
            "Points": {
             "im": 83,
             "re": -2
            },
            "Real_Axis": -2
           },
           {
            "Class": "composite",
            "Imaginary_Axis": 84,
            "Movements": 806,
            "Points": {
             "im": 84,
             "re": -2
            },
            "Real_Axis": -2
           },
           {
            "Class": "prime",
            "Imaginary_Axis": 85,
            "Movements": 807,
            "Points": {
             "im": 85,
             "re": -2
            },
            "Real_Axis": -2
           },
           {
            "Class": "composite",
            "Imaginary_Axis": 85,
            "Movements": 808,
            "Points": {
             "im": 85,
             "re": -3
            },
            "Real_Axis": -3
           },
           {
            "Class": "composite",
            "Imaginary_Axis": 85,
            "Movements": 809,
            "Points": {
             "im": 85,
             "re": -4
            },
            "Real_Axis": -4
           },
           {
            "Class": "composite",
            "Imaginary_Axis": 85,
            "Movements": 810,
            "Points": {
             "im": 85,
             "re": -5
            },
            "Real_Axis": -5
           },
           {
            "Class": "composite",
            "Imaginary_Axis": 85,
            "Movements": 811,
            "Points": {
             "im": 85,
             "re": -6
            },
            "Real_Axis": -6
           },
           {
            "Class": "composite",
            "Imaginary_Axis": 85,
            "Movements": 812,
            "Points": {
             "im": 85,
             "re": -7
            },
            "Real_Axis": -7
           },
           {
            "Class": "composite",
            "Imaginary_Axis": 85,
            "Movements": 813,
            "Points": {
             "im": 85,
             "re": -8
            },
            "Real_Axis": -8
           },
           {
            "Class": "composite",
            "Imaginary_Axis": 85,
            "Movements": 814,
            "Points": {
             "im": 85,
             "re": -9
            },
            "Real_Axis": -9
           },
           {
            "Class": "composite",
            "Imaginary_Axis": 85,
            "Movements": 815,
            "Points": {
             "im": 85,
             "re": -10
            },
            "Real_Axis": -10
           },
           {
            "Class": "composite",
            "Imaginary_Axis": 85,
            "Movements": 816,
            "Points": {
             "im": 85,
             "re": -11
            },
            "Real_Axis": -11
           },
           {
            "Class": "prime",
            "Imaginary_Axis": 85,
            "Movements": 817,
            "Points": {
             "im": 85,
             "re": -12
            },
            "Real_Axis": -12
           },
           {
            "Class": "composite",
            "Imaginary_Axis": 84,
            "Movements": 818,
            "Points": {
             "im": 84,
             "re": -12
            },
            "Real_Axis": -12
           },
           {
            "Class": "composite",
            "Imaginary_Axis": 83,
            "Movements": 819,
            "Points": {
             "im": 83,
             "re": -12
            },
            "Real_Axis": -12
           },
           {
            "Class": "composite",
            "Imaginary_Axis": 82,
            "Movements": 820,
            "Points": {
             "im": 82,
             "re": -12
            },
            "Real_Axis": -12
           },
           {
            "Class": "composite",
            "Imaginary_Axis": 81,
            "Movements": 821,
            "Points": {
             "im": 81,
             "re": -12
            },
            "Real_Axis": -12
           },
           {
            "Class": "composite",
            "Imaginary_Axis": 80,
            "Movements": 822,
            "Points": {
             "im": 80,
             "re": -12
            },
            "Real_Axis": -12
           },
           {
            "Class": "composite",
            "Imaginary_Axis": 79,
            "Movements": 823,
            "Points": {
             "im": 79,
             "re": -12
            },
            "Real_Axis": -12
           },
           {
            "Class": "composite",
            "Imaginary_Axis": 78,
            "Movements": 824,
            "Points": {
             "im": 78,
             "re": -12
            },
            "Real_Axis": -12
           },
           {
            "Class": "prime",
            "Imaginary_Axis": 77,
            "Movements": 825,
            "Points": {
             "im": 77,
             "re": -12
            },
            "Real_Axis": -12
           },
           {
            "Class": "composite",
            "Imaginary_Axis": 77,
            "Movements": 826,
            "Points": {
             "im": 77,
             "re": -11
            },
            "Real_Axis": -11
           },
           {
            "Class": "prime",
            "Imaginary_Axis": 77,
            "Movements": 827,
            "Points": {
             "im": 77,
             "re": -10
            },
            "Real_Axis": -10
           },
           {
            "Class": "composite",
            "Imaginary_Axis": 78,
            "Movements": 828,
            "Points": {
             "im": 78,
             "re": -10
            },
            "Real_Axis": -10
           },
           {
            "Class": "composite",
            "Imaginary_Axis": 79,
            "Movements": 829,
            "Points": {
             "im": 79,
             "re": -10
            },
            "Real_Axis": -10
           },
           {
            "Class": "composite",
            "Imaginary_Axis": 80,
            "Movements": 830,
            "Points": {
             "im": 80,
             "re": -10
            },
            "Real_Axis": -10
           },
           {
            "Class": "prime",
            "Imaginary_Axis": 81,
            "Movements": 831,
            "Points": {
             "im": 81,
             "re": -10
            },
            "Real_Axis": -10
           },
           {
            "Class": "composite",
            "Imaginary_Axis": 81,
            "Movements": 832,
            "Points": {
             "im": 81,
             "re": -11
            },
            "Real_Axis": -11
           },
           {
            "Class": "composite",
            "Imaginary_Axis": 81,
            "Movements": 833,
            "Points": {
             "im": 81,
             "re": -12
            },
            "Real_Axis": -12
           },
           {
            "Class": "composite",
            "Imaginary_Axis": 81,
            "Movements": 834,
            "Points": {
             "im": 81,
             "re": -13
            },
            "Real_Axis": -13
           },
           {
            "Class": "composite",
            "Imaginary_Axis": 81,
            "Movements": 835,
            "Points": {
             "im": 81,
             "re": -14
            },
            "Real_Axis": -14
           },
           {
            "Class": "composite",
            "Imaginary_Axis": 81,
            "Movements": 836,
            "Points": {
             "im": 81,
             "re": -15
            },
            "Real_Axis": -15
           },
           {
            "Class": "composite",
            "Imaginary_Axis": 81,
            "Movements": 837,
            "Points": {
             "im": 81,
             "re": -16
            },
            "Real_Axis": -16
           },
           {
            "Class": "composite",
            "Imaginary_Axis": 81,
            "Movements": 838,
            "Points": {
             "im": 81,
             "re": -17
            },
            "Real_Axis": -17
           },
           {
            "Class": "composite",
            "Imaginary_Axis": 81,
            "Movements": 839,
            "Points": {
             "im": 81,
             "re": -18
            },
            "Real_Axis": -18
           },
           {
            "Class": "composite",
            "Imaginary_Axis": 81,
            "Movements": 840,
            "Points": {
             "im": 81,
             "re": -19
            },
            "Real_Axis": -19
           },
           {
            "Class": "prime",
            "Imaginary_Axis": 81,
            "Movements": 841,
            "Points": {
             "im": 81,
             "re": -20
            },
            "Real_Axis": -20
           },
           {
            "Class": "composite",
            "Imaginary_Axis": 80,
            "Movements": 842,
            "Points": {
             "im": 80,
             "re": -20
            },
            "Real_Axis": -20
           },
           {
            "Class": "composite",
            "Imaginary_Axis": 79,
            "Movements": 843,
            "Points": {
             "im": 79,
             "re": -20
            },
            "Real_Axis": -20
           },
           {
            "Class": "composite",
            "Imaginary_Axis": 78,
            "Movements": 844,
            "Points": {
             "im": 78,
             "re": -20
            },
            "Real_Axis": -20
           },
           {
            "Class": "prime",
            "Imaginary_Axis": 77,
            "Movements": 845,
            "Points": {
             "im": 77,
             "re": -20
            },
            "Real_Axis": -20
           },
           {
            "Class": "composite",
            "Imaginary_Axis": 77,
            "Movements": 846,
            "Points": {
             "im": 77,
             "re": -19
            },
            "Real_Axis": -19
           },
           {
            "Class": "composite",
            "Imaginary_Axis": 77,
            "Movements": 847,
            "Points": {
             "im": 77,
             "re": -18
            },
            "Real_Axis": -18
           },
           {
            "Class": "composite",
            "Imaginary_Axis": 77,
            "Movements": 848,
            "Points": {
             "im": 77,
             "re": -17
            },
            "Real_Axis": -17
           },
           {
            "Class": "composite",
            "Imaginary_Axis": 77,
            "Movements": 849,
            "Points": {
             "im": 77,
             "re": -16
            },
            "Real_Axis": -16
           },
           {
            "Class": "composite",
            "Imaginary_Axis": 77,
            "Movements": 850,
            "Points": {
             "im": 77,
             "re": -15
            },
            "Real_Axis": -15
           },
           {
            "Class": "composite",
            "Imaginary_Axis": 77,
            "Movements": 851,
            "Points": {
             "im": 77,
             "re": -14
            },
            "Real_Axis": -14
           },
           {
            "Class": "composite",
            "Imaginary_Axis": 77,
            "Movements": 852,
            "Points": {
             "im": 77,
             "re": -13
            },
            "Real_Axis": -13
           },
           {
            "Class": "prime",
            "Imaginary_Axis": 77,
            "Movements": 853,
            "Points": {
             "im": 77,
             "re": -12
            },
            "Real_Axis": -12
           },
           {
            "Class": "composite",
            "Imaginary_Axis": 78,
            "Movements": 854,
            "Points": {
             "im": 78,
             "re": -12
            },
            "Real_Axis": -12
           },
           {
            "Class": "composite",
            "Imaginary_Axis": 79,
            "Movements": 855,
            "Points": {
             "im": 79,
             "re": -12
            },
            "Real_Axis": -12
           },
           {
            "Class": "composite",
            "Imaginary_Axis": 80,
            "Movements": 856,
            "Points": {
             "im": 80,
             "re": -12
            },
            "Real_Axis": -12
           },
           {
            "Class": "composite",
            "Imaginary_Axis": 81,
            "Movements": 857,
            "Points": {
             "im": 81,
             "re": -12
            },
            "Real_Axis": -12
           },
           {
            "Class": "composite",
            "Imaginary_Axis": 82,
            "Movements": 858,
            "Points": {
             "im": 82,
             "re": -12
            },
            "Real_Axis": -12
           },
           {
            "Class": "composite",
            "Imaginary_Axis": 83,
            "Movements": 859,
            "Points": {
             "im": 83,
             "re": -12
            },
            "Real_Axis": -12
           },
           {
            "Class": "composite",
            "Imaginary_Axis": 84,
            "Movements": 860,
            "Points": {
             "im": 84,
             "re": -12
            },
            "Real_Axis": -12
           },
           {
            "Class": "prime",
            "Imaginary_Axis": 85,
            "Movements": 861,
            "Points": {
             "im": 85,
             "re": -12
            },
            "Real_Axis": -12
           },
           {
            "Class": "composite",
            "Imaginary_Axis": 85,
            "Movements": 862,
            "Points": {
             "im": 85,
             "re": -13
            },
            "Real_Axis": -13
           },
           {
            "Class": "composite",
            "Imaginary_Axis": 85,
            "Movements": 863,
            "Points": {
             "im": 85,
             "re": -14
            },
            "Real_Axis": -14
           },
           {
            "Class": "composite",
            "Imaginary_Axis": 85,
            "Movements": 864,
            "Points": {
             "im": 85,
             "re": -15
            },
            "Real_Axis": -15
           },
           {
            "Class": "prime",
            "Imaginary_Axis": 85,
            "Movements": 865,
            "Points": {
             "im": 85,
             "re": -16
            },
            "Real_Axis": -16
           },
           {
            "Class": "composite",
            "Imaginary_Axis": 84,
            "Movements": 866,
            "Points": {
             "im": 84,
             "re": -16
            },
            "Real_Axis": -16
           },
           {
            "Class": "composite",
            "Imaginary_Axis": 83,
            "Movements": 867,
            "Points": {
             "im": 83,
             "re": -16
            },
            "Real_Axis": -16
           },
           {
            "Class": "composite",
            "Imaginary_Axis": 82,
            "Movements": 868,
            "Points": {
             "im": 82,
             "re": -16
            },
            "Real_Axis": -16
           },
           {
            "Class": "composite",
            "Imaginary_Axis": 81,
            "Movements": 869,
            "Points": {
             "im": 81,
             "re": -16
            },
            "Real_Axis": -16
           },
           {
            "Class": "composite",
            "Imaginary_Axis": 80,
            "Movements": 870,
            "Points": {
             "im": 80,
             "re": -16
            },
            "Real_Axis": -16
           },
           {
            "Class": "composite",
            "Imaginary_Axis": 79,
            "Movements": 871,
            "Points": {
             "im": 79,
             "re": -16
            },
            "Real_Axis": -16
           },
           {
            "Class": "composite",
            "Imaginary_Axis": 78,
            "Movements": 872,
            "Points": {
             "im": 78,
             "re": -16
            },
            "Real_Axis": -16
           },
           {
            "Class": "composite",
            "Imaginary_Axis": 77,
            "Movements": 873,
            "Points": {
             "im": 77,
             "re": -16
            },
            "Real_Axis": -16
           },
           {
            "Class": "composite",
            "Imaginary_Axis": 76,
            "Movements": 874,
            "Points": {
             "im": 76,
             "re": -16
            },
            "Real_Axis": -16
           },
           {
            "Class": "prime",
            "Imaginary_Axis": 75,
            "Movements": 875,
            "Points": {
             "im": 75,
             "re": -16
            },
            "Real_Axis": -16
           },
           {
            "Class": "composite",
            "Imaginary_Axis": 75,
            "Movements": 876,
            "Points": {
             "im": 75,
             "re": -15
            },
            "Real_Axis": -15
           },
           {
            "Class": "prime",
            "Imaginary_Axis": 75,
            "Movements": 877,
            "Points": {
             "im": 75,
             "re": -14
            },
            "Real_Axis": -14
           },
           {
            "Class": "composite",
            "Imaginary_Axis": 76,
            "Movements": 878,
            "Points": {
             "im": 76,
             "re": -14
            },
            "Real_Axis": -14
           },
           {
            "Class": "composite",
            "Imaginary_Axis": 77,
            "Movements": 879,
            "Points": {
             "im": 77,
             "re": -14
            },
            "Real_Axis": -14
           },
           {
            "Class": "composite",
            "Imaginary_Axis": 78,
            "Movements": 880,
            "Points": {
             "im": 78,
             "re": -14
            },
            "Real_Axis": -14
           },
           {
            "Class": "composite",
            "Imaginary_Axis": 79,
            "Movements": 881,
            "Points": {
             "im": 79,
             "re": -14
            },
            "Real_Axis": -14
           },
           {
            "Class": "composite",
            "Imaginary_Axis": 80,
            "Movements": 882,
            "Points": {
             "im": 80,
             "re": -14
            },
            "Real_Axis": -14
           },
           {
            "Class": "composite",
            "Imaginary_Axis": 81,
            "Movements": 883,
            "Points": {
             "im": 81,
             "re": -14
            },
            "Real_Axis": -14
           },
           {
            "Class": "composite",
            "Imaginary_Axis": 82,
            "Movements": 884,
            "Points": {
             "im": 82,
             "re": -14
            },
            "Real_Axis": -14
           },
           {
            "Class": "composite",
            "Imaginary_Axis": 83,
            "Movements": 885,
            "Points": {
             "im": 83,
             "re": -14
            },
            "Real_Axis": -14
           },
           {
            "Class": "composite",
            "Imaginary_Axis": 84,
            "Movements": 886,
            "Points": {
             "im": 84,
             "re": -14
            },
            "Real_Axis": -14
           },
           {
            "Class": "composite",
            "Imaginary_Axis": 85,
            "Movements": 887,
            "Points": {
             "im": 85,
             "re": -14
            },
            "Real_Axis": -14
           },
           {
            "Class": "composite",
            "Imaginary_Axis": 86,
            "Movements": 888,
            "Points": {
             "im": 86,
             "re": -14
            },
            "Real_Axis": -14
           },
           {
            "Class": "composite",
            "Imaginary_Axis": 87,
            "Movements": 889,
            "Points": {
             "im": 87,
             "re": -14
            },
            "Real_Axis": -14
           },
           {
            "Class": "composite",
            "Imaginary_Axis": 88,
            "Movements": 890,
            "Points": {
             "im": 88,
             "re": -14
            },
            "Real_Axis": -14
           },
           {
            "Class": "prime",
            "Imaginary_Axis": 89,
            "Movements": 891,
            "Points": {
             "im": 89,
             "re": -14
            },
            "Real_Axis": -14
           },
           {
            "Class": "composite",
            "Imaginary_Axis": 89,
            "Movements": 892,
            "Points": {
             "im": 89,
             "re": -15
            },
            "Real_Axis": -15
           },
           {
            "Class": "composite",
            "Imaginary_Axis": 89,
            "Movements": 893,
            "Points": {
             "im": 89,
             "re": -16
            },
            "Real_Axis": -16
           },
           {
            "Class": "composite",
            "Imaginary_Axis": 89,
            "Movements": 894,
            "Points": {
             "im": 89,
             "re": -17
            },
            "Real_Axis": -17
           },
           {
            "Class": "composite",
            "Imaginary_Axis": 89,
            "Movements": 895,
            "Points": {
             "im": 89,
             "re": -18
            },
            "Real_Axis": -18
           },
           {
            "Class": "composite",
            "Imaginary_Axis": 89,
            "Movements": 896,
            "Points": {
             "im": 89,
             "re": -19
            },
            "Real_Axis": -19
           },
           {
            "Class": "composite",
            "Imaginary_Axis": 89,
            "Movements": 897,
            "Points": {
             "im": 89,
             "re": -20
            },
            "Real_Axis": -20
           },
           {
            "Class": "composite",
            "Imaginary_Axis": 89,
            "Movements": 898,
            "Points": {
             "im": 89,
             "re": -21
            },
            "Real_Axis": -21
           },
           {
            "Class": "composite",
            "Imaginary_Axis": 89,
            "Movements": 899,
            "Points": {
             "im": 89,
             "re": -22
            },
            "Real_Axis": -22
           },
           {
            "Class": "composite",
            "Imaginary_Axis": 89,
            "Movements": 900,
            "Points": {
             "im": 89,
             "re": -23
            },
            "Real_Axis": -23
           },
           {
            "Class": "composite",
            "Imaginary_Axis": 89,
            "Movements": 901,
            "Points": {
             "im": 89,
             "re": -24
            },
            "Real_Axis": -24
           },
           {
            "Class": "composite",
            "Imaginary_Axis": 89,
            "Movements": 902,
            "Points": {
             "im": 89,
             "re": -25
            },
            "Real_Axis": -25
           },
           {
            "Class": "prime",
            "Imaginary_Axis": 89,
            "Movements": 903,
            "Points": {
             "im": 89,
             "re": -26
            },
            "Real_Axis": -26
           },
           {
            "Class": "composite",
            "Imaginary_Axis": 88,
            "Movements": 904,
            "Points": {
             "im": 88,
             "re": -26
            },
            "Real_Axis": -26
           },
           {
            "Class": "composite",
            "Imaginary_Axis": 87,
            "Movements": 905,
            "Points": {
             "im": 87,
             "re": -26
            },
            "Real_Axis": -26
           },
           {
            "Class": "composite",
            "Imaginary_Axis": 86,
            "Movements": 906,
            "Points": {
             "im": 86,
             "re": -26
            },
            "Real_Axis": -26
           },
           {
            "Class": "prime",
            "Imaginary_Axis": 85,
            "Movements": 907,
            "Points": {
             "im": 85,
             "re": -26
            },
            "Real_Axis": -26
           },
           {
            "Class": "composite",
            "Imaginary_Axis": 85,
            "Movements": 908,
            "Points": {
             "im": 85,
             "re": -25
            },
            "Real_Axis": -25
           },
           {
            "Class": "composite",
            "Imaginary_Axis": 85,
            "Movements": 909,
            "Points": {
             "im": 85,
             "re": -24
            },
            "Real_Axis": -24
           },
           {
            "Class": "composite",
            "Imaginary_Axis": 85,
            "Movements": 910,
            "Points": {
             "im": 85,
             "re": -23
            },
            "Real_Axis": -23
           },
           {
            "Class": "composite",
            "Imaginary_Axis": 85,
            "Movements": 911,
            "Points": {
             "im": 85,
             "re": -22
            },
            "Real_Axis": -22
           },
           {
            "Class": "composite",
            "Imaginary_Axis": 85,
            "Movements": 912,
            "Points": {
             "im": 85,
             "re": -21
            },
            "Real_Axis": -21
           },
           {
            "Class": "composite",
            "Imaginary_Axis": 85,
            "Movements": 913,
            "Points": {
             "im": 85,
             "re": -20
            },
            "Real_Axis": -20
           },
           {
            "Class": "composite",
            "Imaginary_Axis": 85,
            "Movements": 914,
            "Points": {
             "im": 85,
             "re": -19
            },
            "Real_Axis": -19
           },
           {
            "Class": "prime",
            "Imaginary_Axis": 85,
            "Movements": 915,
            "Points": {
             "im": 85,
             "re": -18
            },
            "Real_Axis": -18
           },
           {
            "Class": "composite",
            "Imaginary_Axis": 86,
            "Movements": 916,
            "Points": {
             "im": 86,
             "re": -18
            },
            "Real_Axis": -18
           },
           {
            "Class": "composite",
            "Imaginary_Axis": 87,
            "Movements": 917,
            "Points": {
             "im": 87,
             "re": -18
            },
            "Real_Axis": -18
           },
           {
            "Class": "composite",
            "Imaginary_Axis": 88,
            "Movements": 918,
            "Points": {
             "im": 88,
             "re": -18
            },
            "Real_Axis": -18
           },
           {
            "Class": "composite",
            "Imaginary_Axis": 89,
            "Movements": 919,
            "Points": {
             "im": 89,
             "re": -18
            },
            "Real_Axis": -18
           },
           {
            "Class": "composite",
            "Imaginary_Axis": 90,
            "Movements": 920,
            "Points": {
             "im": 90,
             "re": -18
            },
            "Real_Axis": -18
           },
           {
            "Class": "composite",
            "Imaginary_Axis": 91,
            "Movements": 921,
            "Points": {
             "im": 91,
             "re": -18
            },
            "Real_Axis": -18
           },
           {
            "Class": "composite",
            "Imaginary_Axis": 92,
            "Movements": 922,
            "Points": {
             "im": 92,
             "re": -18
            },
            "Real_Axis": -18
           },
           {
            "Class": "composite",
            "Imaginary_Axis": 93,
            "Movements": 923,
            "Points": {
             "im": 93,
             "re": -18
            },
            "Real_Axis": -18
           },
           {
            "Class": "composite",
            "Imaginary_Axis": 94,
            "Movements": 924,
            "Points": {
             "im": 94,
             "re": -18
            },
            "Real_Axis": -18
           },
           {
            "Class": "prime",
            "Imaginary_Axis": 95,
            "Movements": 925,
            "Points": {
             "im": 95,
             "re": -18
            },
            "Real_Axis": -18
           },
           {
            "Class": "composite",
            "Imaginary_Axis": 95,
            "Movements": 926,
            "Points": {
             "im": 95,
             "re": -19
            },
            "Real_Axis": -19
           },
           {
            "Class": "composite",
            "Imaginary_Axis": 95,
            "Movements": 927,
            "Points": {
             "im": 95,
             "re": -20
            },
            "Real_Axis": -20
           },
           {
            "Class": "composite",
            "Imaginary_Axis": 95,
            "Movements": 928,
            "Points": {
             "im": 95,
             "re": -21
            },
            "Real_Axis": -21
           },
           {
            "Class": "composite",
            "Imaginary_Axis": 95,
            "Movements": 929,
            "Points": {
             "im": 95,
             "re": -22
            },
            "Real_Axis": -22
           },
           {
            "Class": "composite",
            "Imaginary_Axis": 95,
            "Movements": 930,
            "Points": {
             "im": 95,
             "re": -23
            },
            "Real_Axis": -23
           },
           {
            "Class": "prime",
            "Imaginary_Axis": 95,
            "Movements": 931,
            "Points": {
             "im": 95,
             "re": -24
            },
            "Real_Axis": -24
           },
           {
            "Class": "composite",
            "Imaginary_Axis": 94,
            "Movements": 932,
            "Points": {
             "im": 94,
             "re": -24
            },
            "Real_Axis": -24
           },
           {
            "Class": "composite",
            "Imaginary_Axis": 93,
            "Movements": 933,
            "Points": {
             "im": 93,
             "re": -24
            },
            "Real_Axis": -24
           },
           {
            "Class": "composite",
            "Imaginary_Axis": 92,
            "Movements": 934,
            "Points": {
             "im": 92,
             "re": -24
            },
            "Real_Axis": -24
           },
           {
            "Class": "composite",
            "Imaginary_Axis": 91,
            "Movements": 935,
            "Points": {
             "im": 91,
             "re": -24
            },
            "Real_Axis": -24
           },
           {
            "Class": "composite",
            "Imaginary_Axis": 90,
            "Movements": 936,
            "Points": {
             "im": 90,
             "re": -24
            },
            "Real_Axis": -24
           },
           {
            "Class": "composite",
            "Imaginary_Axis": 89,
            "Movements": 937,
            "Points": {
             "im": 89,
             "re": -24
            },
            "Real_Axis": -24
           },
           {
            "Class": "composite",
            "Imaginary_Axis": 88,
            "Movements": 938,
            "Points": {
             "im": 88,
             "re": -24
            },
            "Real_Axis": -24
           },
           {
            "Class": "composite",
            "Imaginary_Axis": 87,
            "Movements": 939,
            "Points": {
             "im": 87,
             "re": -24
            },
            "Real_Axis": -24
           },
           {
            "Class": "composite",
            "Imaginary_Axis": 86,
            "Movements": 940,
            "Points": {
             "im": 86,
             "re": -24
            },
            "Real_Axis": -24
           },
           {
            "Class": "composite",
            "Imaginary_Axis": 85,
            "Movements": 941,
            "Points": {
             "im": 85,
             "re": -24
            },
            "Real_Axis": -24
           },
           {
            "Class": "composite",
            "Imaginary_Axis": 84,
            "Movements": 942,
            "Points": {
             "im": 84,
             "re": -24
            },
            "Real_Axis": -24
           },
           {
            "Class": "composite",
            "Imaginary_Axis": 83,
            "Movements": 943,
            "Points": {
             "im": 83,
             "re": -24
            },
            "Real_Axis": -24
           },
           {
            "Class": "composite",
            "Imaginary_Axis": 82,
            "Movements": 944,
            "Points": {
             "im": 82,
             "re": -24
            },
            "Real_Axis": -24
           },
           {
            "Class": "composite",
            "Imaginary_Axis": 81,
            "Movements": 945,
            "Points": {
             "im": 81,
             "re": -24
            },
            "Real_Axis": -24
           },
           {
            "Class": "composite",
            "Imaginary_Axis": 80,
            "Movements": 946,
            "Points": {
             "im": 80,
             "re": -24
            },
            "Real_Axis": -24
           },
           {
            "Class": "composite",
            "Imaginary_Axis": 79,
            "Movements": 947,
            "Points": {
             "im": 79,
             "re": -24
            },
            "Real_Axis": -24
           },
           {
            "Class": "composite",
            "Imaginary_Axis": 78,
            "Movements": 948,
            "Points": {
             "im": 78,
             "re": -24
            },
            "Real_Axis": -24
           },
           {
            "Class": "composite",
            "Imaginary_Axis": 77,
            "Movements": 949,
            "Points": {
             "im": 77,
             "re": -24
            },
            "Real_Axis": -24
           },
           {
            "Class": "composite",
            "Imaginary_Axis": 76,
            "Movements": 950,
            "Points": {
             "im": 76,
             "re": -24
            },
            "Real_Axis": -24
           },
           {
            "Class": "composite",
            "Imaginary_Axis": 75,
            "Movements": 951,
            "Points": {
             "im": 75,
             "re": -24
            },
            "Real_Axis": -24
           },
           {
            "Class": "composite",
            "Imaginary_Axis": 74,
            "Movements": 952,
            "Points": {
             "im": 74,
             "re": -24
            },
            "Real_Axis": -24
           },
           {
            "Class": "composite",
            "Imaginary_Axis": 73,
            "Movements": 953,
            "Points": {
             "im": 73,
             "re": -24
            },
            "Real_Axis": -24
           },
           {
            "Class": "composite",
            "Imaginary_Axis": 72,
            "Movements": 954,
            "Points": {
             "im": 72,
             "re": -24
            },
            "Real_Axis": -24
           },
           {
            "Class": "composite",
            "Imaginary_Axis": 71,
            "Movements": 955,
            "Points": {
             "im": 71,
             "re": -24
            },
            "Real_Axis": -24
           },
           {
            "Class": "composite",
            "Imaginary_Axis": 70,
            "Movements": 956,
            "Points": {
             "im": 70,
             "re": -24
            },
            "Real_Axis": -24
           },
           {
            "Class": "composite",
            "Imaginary_Axis": 69,
            "Movements": 957,
            "Points": {
             "im": 69,
             "re": -24
            },
            "Real_Axis": -24
           },
           {
            "Class": "composite",
            "Imaginary_Axis": 68,
            "Movements": 958,
            "Points": {
             "im": 68,
             "re": -24
            },
            "Real_Axis": -24
           },
           {
            "Class": "composite",
            "Imaginary_Axis": 67,
            "Movements": 959,
            "Points": {
             "im": 67,
             "re": -24
            },
            "Real_Axis": -24
           },
           {
            "Class": "composite",
            "Imaginary_Axis": 66,
            "Movements": 960,
            "Points": {
             "im": 66,
             "re": -24
            },
            "Real_Axis": -24
           },
           {
            "Class": "prime",
            "Imaginary_Axis": 65,
            "Movements": 961,
            "Points": {
             "im": 65,
             "re": -24
            },
            "Real_Axis": -24
           },
           {
            "Class": "composite",
            "Imaginary_Axis": 65,
            "Movements": 962,
            "Points": {
             "im": 65,
             "re": -23
            },
            "Real_Axis": -23
           },
           {
            "Class": "composite",
            "Imaginary_Axis": 65,
            "Movements": 963,
            "Points": {
             "im": 65,
             "re": -22
            },
            "Real_Axis": -22
           },
           {
            "Class": "composite",
            "Imaginary_Axis": 65,
            "Movements": 964,
            "Points": {
             "im": 65,
             "re": -21
            },
            "Real_Axis": -21
           },
           {
            "Class": "composite",
            "Imaginary_Axis": 65,
            "Movements": 965,
            "Points": {
             "im": 65,
             "re": -20
            },
            "Real_Axis": -20
           },
           {
            "Class": "composite",
            "Imaginary_Axis": 65,
            "Movements": 966,
            "Points": {
             "im": 65,
             "re": -19
            },
            "Real_Axis": -19
           },
           {
            "Class": "prime",
            "Imaginary_Axis": 65,
            "Movements": 967,
            "Points": {
             "im": 65,
             "re": -18
            },
            "Real_Axis": -18
           },
           {
            "Class": "composite",
            "Imaginary_Axis": 66,
            "Movements": 968,
            "Points": {
             "im": 66,
             "re": -18
            },
            "Real_Axis": -18
           },
           {
            "Class": "prime",
            "Imaginary_Axis": 67,
            "Movements": 969,
            "Points": {
             "im": 67,
             "re": -18
            },
            "Real_Axis": -18
           },
           {
            "Class": "composite",
            "Imaginary_Axis": 67,
            "Movements": 970,
            "Points": {
             "im": 67,
             "re": -19
            },
            "Real_Axis": -19
           },
           {
            "Class": "prime",
            "Imaginary_Axis": 67,
            "Movements": 971,
            "Points": {
             "im": 67,
             "re": -20
            },
            "Real_Axis": -20
           },
           {
            "Class": "composite",
            "Imaginary_Axis": 66,
            "Movements": 972,
            "Points": {
             "im": 66,
             "re": -20
            },
            "Real_Axis": -20
           },
           {
            "Class": "composite",
            "Imaginary_Axis": 65,
            "Movements": 973,
            "Points": {
             "im": 65,
             "re": -20
            },
            "Real_Axis": -20
           },
           {
            "Class": "composite",
            "Imaginary_Axis": 64,
            "Movements": 974,
            "Points": {
             "im": 64,
             "re": -20
            },
            "Real_Axis": -20
           },
           {
            "Class": "composite",
            "Imaginary_Axis": 63,
            "Movements": 975,
            "Points": {
             "im": 63,
             "re": -20
            },
            "Real_Axis": -20
           },
           {
            "Class": "composite",
            "Imaginary_Axis": 62,
            "Movements": 976,
            "Points": {
             "im": 62,
             "re": -20
            },
            "Real_Axis": -20
           },
           {
            "Class": "composite",
            "Imaginary_Axis": 61,
            "Movements": 977,
            "Points": {
             "im": 61,
             "re": -20
            },
            "Real_Axis": -20
           },
           {
            "Class": "composite",
            "Imaginary_Axis": 60,
            "Movements": 978,
            "Points": {
             "im": 60,
             "re": -20
            },
            "Real_Axis": -20
           },
           {
            "Class": "prime",
            "Imaginary_Axis": 59,
            "Movements": 979,
            "Points": {
             "im": 59,
             "re": -20
            },
            "Real_Axis": -20
           },
           {
            "Class": "composite",
            "Imaginary_Axis": 59,
            "Movements": 980,
            "Points": {
             "im": 59,
             "re": -19
            },
            "Real_Axis": -19
           },
           {
            "Class": "composite",
            "Imaginary_Axis": 59,
            "Movements": 981,
            "Points": {
             "im": 59,
             "re": -18
            },
            "Real_Axis": -18
           },
           {
            "Class": "composite",
            "Imaginary_Axis": 59,
            "Movements": 982,
            "Points": {
             "im": 59,
             "re": -17
            },
            "Real_Axis": -17
           },
           {
            "Class": "composite",
            "Imaginary_Axis": 59,
            "Movements": 983,
            "Points": {
             "im": 59,
             "re": -16
            },
            "Real_Axis": -16
           },
           {
            "Class": "composite",
            "Imaginary_Axis": 59,
            "Movements": 984,
            "Points": {
             "im": 59,
             "re": -15
            },
            "Real_Axis": -15
           },
           {
            "Class": "prime",
            "Imaginary_Axis": 59,
            "Movements": 985,
            "Points": {
             "im": 59,
             "re": -14
            },
            "Real_Axis": -14
           },
           {
            "Class": "composite",
            "Imaginary_Axis": 60,
            "Movements": 986,
            "Points": {
             "im": 60,
             "re": -14
            },
            "Real_Axis": -14
           },
           {
            "Class": "prime",
            "Imaginary_Axis": 61,
            "Movements": 987,
            "Points": {
             "im": 61,
             "re": -14
            },
            "Real_Axis": -14
           },
           {
            "Class": "composite",
            "Imaginary_Axis": 61,
            "Movements": 988,
            "Points": {
             "im": 61,
             "re": -15
            },
            "Real_Axis": -15
           },
           {
            "Class": "composite",
            "Imaginary_Axis": 61,
            "Movements": 989,
            "Points": {
             "im": 61,
             "re": -16
            },
            "Real_Axis": -16
           },
           {
            "Class": "composite",
            "Imaginary_Axis": 61,
            "Movements": 990,
            "Points": {
             "im": 61,
             "re": -17
            },
            "Real_Axis": -17
           },
           {
            "Class": "composite",
            "Imaginary_Axis": 61,
            "Movements": 991,
            "Points": {
             "im": 61,
             "re": -18
            },
            "Real_Axis": -18
           },
           {
            "Class": "composite",
            "Imaginary_Axis": 61,
            "Movements": 992,
            "Points": {
             "im": 61,
             "re": -19
            },
            "Real_Axis": -19
           },
           {
            "Class": "composite",
            "Imaginary_Axis": 61,
            "Movements": 993,
            "Points": {
             "im": 61,
             "re": -20
            },
            "Real_Axis": -20
           },
           {
            "Class": "composite",
            "Imaginary_Axis": 61,
            "Movements": 994,
            "Points": {
             "im": 61,
             "re": -21
            },
            "Real_Axis": -21
           },
           {
            "Class": "composite",
            "Imaginary_Axis": 61,
            "Movements": 995,
            "Points": {
             "im": 61,
             "re": -22
            },
            "Real_Axis": -22
           },
           {
            "Class": "composite",
            "Imaginary_Axis": 61,
            "Movements": 996,
            "Points": {
             "im": 61,
             "re": -23
            },
            "Real_Axis": -23
           },
           {
            "Class": "prime",
            "Imaginary_Axis": 61,
            "Movements": 997,
            "Points": {
             "im": 61,
             "re": -24
            },
            "Real_Axis": -24
           },
           {
            "Class": "composite",
            "Imaginary_Axis": 60,
            "Movements": 998,
            "Points": {
             "im": 60,
             "re": -24
            },
            "Real_Axis": -24
           },
           {
            "Class": "prime",
            "Imaginary_Axis": 59,
            "Movements": 999,
            "Points": {
             "im": 59,
             "re": -24
            },
            "Real_Axis": -24
           },
           {
            "Class": "composite",
            "Imaginary_Axis": 59,
            "Movements": 1000,
            "Points": {
             "im": 59,
             "re": -23
            },
            "Real_Axis": -23
           },
           {
            "Class": "composite",
            "Imaginary_Axis": 59,
            "Movements": 1001,
            "Points": {
             "im": 59,
             "re": -22
            },
            "Real_Axis": -22
           },
           {
            "Class": "composite",
            "Imaginary_Axis": 59,
            "Movements": 1002,
            "Points": {
             "im": 59,
             "re": -21
            },
            "Real_Axis": -21
           },
           {
            "Class": "prime",
            "Imaginary_Axis": 59,
            "Movements": 1003,
            "Points": {
             "im": 59,
             "re": -20
            },
            "Real_Axis": -20
           },
           {
            "Class": "composite",
            "Imaginary_Axis": 60,
            "Movements": 1004,
            "Points": {
             "im": 60,
             "re": -20
            },
            "Real_Axis": -20
           },
           {
            "Class": "composite",
            "Imaginary_Axis": 61,
            "Movements": 1005,
            "Points": {
             "im": 61,
             "re": -20
            },
            "Real_Axis": -20
           },
           {
            "Class": "composite",
            "Imaginary_Axis": 62,
            "Movements": 1006,
            "Points": {
             "im": 62,
             "re": -20
            },
            "Real_Axis": -20
           },
           {
            "Class": "composite",
            "Imaginary_Axis": 63,
            "Movements": 1007,
            "Points": {
             "im": 63,
             "re": -20
            },
            "Real_Axis": -20
           },
           {
            "Class": "composite",
            "Imaginary_Axis": 64,
            "Movements": 1008,
            "Points": {
             "im": 64,
             "re": -20
            },
            "Real_Axis": -20
           },
           {
            "Class": "composite",
            "Imaginary_Axis": 65,
            "Movements": 1009,
            "Points": {
             "im": 65,
             "re": -20
            },
            "Real_Axis": -20
           },
           {
            "Class": "composite",
            "Imaginary_Axis": 66,
            "Movements": 1010,
            "Points": {
             "im": 66,
             "re": -20
            },
            "Real_Axis": -20
           },
           {
            "Class": "prime",
            "Imaginary_Axis": 67,
            "Movements": 1011,
            "Points": {
             "im": 67,
             "re": -20
            },
            "Real_Axis": -20
           },
           {
            "Class": "composite",
            "Imaginary_Axis": 67,
            "Movements": 1012,
            "Points": {
             "im": 67,
             "re": -21
            },
            "Real_Axis": -21
           },
           {
            "Class": "prime",
            "Imaginary_Axis": 67,
            "Movements": 1013,
            "Points": {
             "im": 67,
             "re": -22
            },
            "Real_Axis": -22
           },
           {
            "Class": "composite",
            "Imaginary_Axis": 66,
            "Movements": 1014,
            "Points": {
             "im": 66,
             "re": -22
            },
            "Real_Axis": -22
           },
           {
            "Class": "composite",
            "Imaginary_Axis": 65,
            "Movements": 1015,
            "Points": {
             "im": 65,
             "re": -22
            },
            "Real_Axis": -22
           },
           {
            "Class": "composite",
            "Imaginary_Axis": 64,
            "Movements": 1016,
            "Points": {
             "im": 64,
             "re": -22
            },
            "Real_Axis": -22
           },
           {
            "Class": "composite",
            "Imaginary_Axis": 63,
            "Movements": 1017,
            "Points": {
             "im": 63,
             "re": -22
            },
            "Real_Axis": -22
           },
           {
            "Class": "composite",
            "Imaginary_Axis": 62,
            "Movements": 1018,
            "Points": {
             "im": 62,
             "re": -22
            },
            "Real_Axis": -22
           },
           {
            "Class": "composite",
            "Imaginary_Axis": 61,
            "Movements": 1019,
            "Points": {
             "im": 61,
             "re": -22
            },
            "Real_Axis": -22
           },
           {
            "Class": "composite",
            "Imaginary_Axis": 60,
            "Movements": 1020,
            "Points": {
             "im": 60,
             "re": -22
            },
            "Real_Axis": -22
           },
           {
            "Class": "composite",
            "Imaginary_Axis": 59,
            "Movements": 1021,
            "Points": {
             "im": 59,
             "re": -22
            },
            "Real_Axis": -22
           },
           {
            "Class": "composite",
            "Imaginary_Axis": 58,
            "Movements": 1022,
            "Points": {
             "im": 58,
             "re": -22
            },
            "Real_Axis": -22
           },
           {
            "Class": "prime",
            "Imaginary_Axis": 57,
            "Movements": 1023,
            "Points": {
             "im": 57,
             "re": -22
            },
            "Real_Axis": -22
           },
           {
            "Class": "composite",
            "Imaginary_Axis": 57,
            "Movements": 1024,
            "Points": {
             "im": 57,
             "re": -21
            },
            "Real_Axis": -21
           },
           {
            "Class": "composite",
            "Imaginary_Axis": 57,
            "Movements": 1025,
            "Points": {
             "im": 57,
             "re": -20
            },
            "Real_Axis": -20
           },
           {
            "Class": "composite",
            "Imaginary_Axis": 57,
            "Movements": 1026,
            "Points": {
             "im": 57,
             "re": -19
            },
            "Real_Axis": -19
           },
           {
            "Class": "composite",
            "Imaginary_Axis": 57,
            "Movements": 1027,
            "Points": {
             "im": 57,
             "re": -18
            },
            "Real_Axis": -18
           },
           {
            "Class": "composite",
            "Imaginary_Axis": 57,
            "Movements": 1028,
            "Points": {
             "im": 57,
             "re": -17
            },
            "Real_Axis": -17
           },
           {
            "Class": "composite",
            "Imaginary_Axis": 57,
            "Movements": 1029,
            "Points": {
             "im": 57,
             "re": -16
            },
            "Real_Axis": -16
           },
           {
            "Class": "composite",
            "Imaginary_Axis": 57,
            "Movements": 1030,
            "Points": {
             "im": 57,
             "re": -15
            },
            "Real_Axis": -15
           },
           {
            "Class": "composite",
            "Imaginary_Axis": 57,
            "Movements": 1031,
            "Points": {
             "im": 57,
             "re": -14
            },
            "Real_Axis": -14
           },
           {
            "Class": "composite",
            "Imaginary_Axis": 57,
            "Movements": 1032,
            "Points": {
             "im": 57,
             "re": -13
            },
            "Real_Axis": -13
           },
           {
            "Class": "composite",
            "Imaginary_Axis": 57,
            "Movements": 1033,
            "Points": {
             "im": 57,
             "re": -12
            },
            "Real_Axis": -12
           },
           {
            "Class": "composite",
            "Imaginary_Axis": 57,
            "Movements": 1034,
            "Points": {
             "im": 57,
             "re": -11
            },
            "Real_Axis": -11
           },
           {
            "Class": "composite",
            "Imaginary_Axis": 57,
            "Movements": 1035,
            "Points": {
             "im": 57,
             "re": -10
            },
            "Real_Axis": -10
           },
           {
            "Class": "composite",
            "Imaginary_Axis": 57,
            "Movements": 1036,
            "Points": {
             "im": 57,
             "re": -9
            },
            "Real_Axis": -9
           },
           {
            "Class": "prime",
            "Imaginary_Axis": 57,
            "Movements": 1037,
            "Points": {
             "im": 57,
             "re": -8
            },
            "Real_Axis": -8
           },
           {
            "Class": "composite",
            "Imaginary_Axis": 58,
            "Movements": 1038,
            "Points": {
             "im": 58,
             "re": -8
            },
            "Real_Axis": -8
           },
           {
            "Class": "composite",
            "Imaginary_Axis": 59,
            "Movements": 1039,
            "Points": {
             "im": 59,
             "re": -8
            },
            "Real_Axis": -8
           },
           {
            "Class": "composite",
            "Imaginary_Axis": 60,
            "Movements": 1040,
            "Points": {
             "im": 60,
             "re": -8
            },
            "Real_Axis": -8
           },
           {
            "Class": "composite",
            "Imaginary_Axis": 61,
            "Movements": 1041,
            "Points": {
             "im": 61,
             "re": -8
            },
            "Real_Axis": -8
           },
           {
            "Class": "composite",
            "Imaginary_Axis": 62,
            "Movements": 1042,
            "Points": {
             "im": 62,
             "re": -8
            },
            "Real_Axis": -8
           },
           {
            "Class": "composite",
            "Imaginary_Axis": 63,
            "Movements": 1043,
            "Points": {
             "im": 63,
             "re": -8
            },
            "Real_Axis": -8
           },
           {
            "Class": "composite",
            "Imaginary_Axis": 64,
            "Movements": 1044,
            "Points": {
             "im": 64,
             "re": -8
            },
            "Real_Axis": -8
           },
           {
            "Class": "prime",
            "Imaginary_Axis": 65,
            "Movements": 1045,
            "Points": {
             "im": 65,
             "re": -8
            },
            "Real_Axis": -8
           },
           {
            "Class": "composite",
            "Imaginary_Axis": 65,
            "Movements": 1046,
            "Points": {
             "im": 65,
             "re": -9
            },
            "Real_Axis": -9
           },
           {
            "Class": "composite",
            "Imaginary_Axis": 65,
            "Movements": 1047,
            "Points": {
             "im": 65,
             "re": -10
            },
            "Real_Axis": -10
           },
           {
            "Class": "composite",
            "Imaginary_Axis": 65,
            "Movements": 1048,
            "Points": {
             "im": 65,
             "re": -11
            },
            "Real_Axis": -11
           },
           {
            "Class": "composite",
            "Imaginary_Axis": 65,
            "Movements": 1049,
            "Points": {
             "im": 65,
             "re": -12
            },
            "Real_Axis": -12
           },
           {
            "Class": "composite",
            "Imaginary_Axis": 65,
            "Movements": 1050,
            "Points": {
             "im": 65,
             "re": -13
            },
            "Real_Axis": -13
           },
           {
            "Class": "prime",
            "Imaginary_Axis": 65,
            "Movements": 1051,
            "Points": {
             "im": 65,
             "re": -14
            },
            "Real_Axis": -14
           },
           {
            "Class": "composite",
            "Imaginary_Axis": 64,
            "Movements": 1052,
            "Points": {
             "im": 64,
             "re": -14
            },
            "Real_Axis": -14
           },
           {
            "Class": "composite",
            "Imaginary_Axis": 63,
            "Movements": 1053,
            "Points": {
             "im": 63,
             "re": -14
            },
            "Real_Axis": -14
           },
           {
            "Class": "composite",
            "Imaginary_Axis": 62,
            "Movements": 1054,
            "Points": {
             "im": 62,
             "re": -14
            },
            "Real_Axis": -14
           },
           {
            "Class": "prime",
            "Imaginary_Axis": 61,
            "Movements": 1055,
            "Points": {
             "im": 61,
             "re": -14
            },
            "Real_Axis": -14
           },
           {
            "Class": "composite",
            "Imaginary_Axis": 61,
            "Movements": 1056,
            "Points": {
             "im": 61,
             "re": -13
            },
            "Real_Axis": -13
           },
           {
            "Class": "composite",
            "Imaginary_Axis": 61,
            "Movements": 1057,
            "Points": {
             "im": 61,
             "re": -12
            },
            "Real_Axis": -12
           },
           {
            "Class": "composite",
            "Imaginary_Axis": 61,
            "Movements": 1058,
            "Points": {
             "im": 61,
             "re": -11
            },
            "Real_Axis": -11
           },
           {
            "Class": "prime",
            "Imaginary_Axis": 61,
            "Movements": 1059,
            "Points": {
             "im": 61,
             "re": -10
            },
            "Real_Axis": -10
           },
           {
            "Class": "composite",
            "Imaginary_Axis": 62,
            "Movements": 1060,
            "Points": {
             "im": 62,
             "re": -10
            },
            "Real_Axis": -10
           },
           {
            "Class": "composite",
            "Imaginary_Axis": 63,
            "Movements": 1061,
            "Points": {
             "im": 63,
             "re": -10
            },
            "Real_Axis": -10
           },
           {
            "Class": "composite",
            "Imaginary_Axis": 64,
            "Movements": 1062,
            "Points": {
             "im": 64,
             "re": -10
            },
            "Real_Axis": -10
           },
           {
            "Class": "composite",
            "Imaginary_Axis": 65,
            "Movements": 1063,
            "Points": {
             "im": 65,
             "re": -10
            },
            "Real_Axis": -10
           },
           {
            "Class": "composite",
            "Imaginary_Axis": 66,
            "Movements": 1064,
            "Points": {
             "im": 66,
             "re": -10
            },
            "Real_Axis": -10
           },
           {
            "Class": "composite",
            "Imaginary_Axis": 67,
            "Movements": 1065,
            "Points": {
             "im": 67,
             "re": -10
            },
            "Real_Axis": -10
           },
           {
            "Class": "composite",
            "Imaginary_Axis": 68,
            "Movements": 1066,
            "Points": {
             "im": 68,
             "re": -10
            },
            "Real_Axis": -10
           },
           {
            "Class": "prime",
            "Imaginary_Axis": 69,
            "Movements": 1067,
            "Points": {
             "im": 69,
             "re": -10
            },
            "Real_Axis": -10
           },
           {
            "Class": "composite",
            "Imaginary_Axis": 69,
            "Movements": 1068,
            "Points": {
             "im": 69,
             "re": -11
            },
            "Real_Axis": -11
           },
           {
            "Class": "composite",
            "Imaginary_Axis": 69,
            "Movements": 1069,
            "Points": {
             "im": 69,
             "re": -12
            },
            "Real_Axis": -12
           },
           {
            "Class": "composite",
            "Imaginary_Axis": 69,
            "Movements": 1070,
            "Points": {
             "im": 69,
             "re": -13
            },
            "Real_Axis": -13
           },
           {
            "Class": "prime",
            "Imaginary_Axis": 69,
            "Movements": 1071,
            "Points": {
             "im": 69,
             "re": -14
            },
            "Real_Axis": -14
           },
           {
            "Class": "composite",
            "Imaginary_Axis": 68,
            "Movements": 1072,
            "Points": {
             "im": 68,
             "re": -14
            },
            "Real_Axis": -14
           },
           {
            "Class": "composite",
            "Imaginary_Axis": 67,
            "Movements": 1073,
            "Points": {
             "im": 67,
             "re": -14
            },
            "Real_Axis": -14
           },
           {
            "Class": "composite",
            "Imaginary_Axis": 66,
            "Movements": 1074,
            "Points": {
             "im": 66,
             "re": -14
            },
            "Real_Axis": -14
           },
           {
            "Class": "prime",
            "Imaginary_Axis": 65,
            "Movements": 1075,
            "Points": {
             "im": 65,
             "re": -14
            },
            "Real_Axis": -14
           },
           {
            "Class": "composite",
            "Imaginary_Axis": 65,
            "Movements": 1076,
            "Points": {
             "im": 65,
             "re": -13
            },
            "Real_Axis": -13
           },
           {
            "Class": "composite",
            "Imaginary_Axis": 65,
            "Movements": 1077,
            "Points": {
             "im": 65,
             "re": -12
            },
            "Real_Axis": -12
           },
           {
            "Class": "composite",
            "Imaginary_Axis": 65,
            "Movements": 1078,
            "Points": {
             "im": 65,
             "re": -11
            },
            "Real_Axis": -11
           },
           {
            "Class": "composite",
            "Imaginary_Axis": 65,
            "Movements": 1079,
            "Points": {
             "im": 65,
             "re": -10
            },
            "Real_Axis": -10
           },
           {
            "Class": "composite",
            "Imaginary_Axis": 65,
            "Movements": 1080,
            "Points": {
             "im": 65,
             "re": -9
            },
            "Real_Axis": -9
           },
           {
            "Class": "prime",
            "Imaginary_Axis": 65,
            "Movements": 1081,
            "Points": {
             "im": 65,
             "re": -8
            },
            "Real_Axis": -8
           },
           {
            "Class": "composite",
            "Imaginary_Axis": 66,
            "Movements": 1082,
            "Points": {
             "im": 66,
             "re": -8
            },
            "Real_Axis": -8
           },
           {
            "Class": "composite",
            "Imaginary_Axis": 67,
            "Movements": 1083,
            "Points": {
             "im": 67,
             "re": -8
            },
            "Real_Axis": -8
           },
           {
            "Class": "composite",
            "Imaginary_Axis": 68,
            "Movements": 1084,
            "Points": {
             "im": 68,
             "re": -8
            },
            "Real_Axis": -8
           },
           {
            "Class": "composite",
            "Imaginary_Axis": 69,
            "Movements": 1085,
            "Points": {
             "im": 69,
             "re": -8
            },
            "Real_Axis": -8
           },
           {
            "Class": "composite",
            "Imaginary_Axis": 70,
            "Movements": 1086,
            "Points": {
             "im": 70,
             "re": -8
            },
            "Real_Axis": -8
           },
           {
            "Class": "composite",
            "Imaginary_Axis": 71,
            "Movements": 1087,
            "Points": {
             "im": 71,
             "re": -8
            },
            "Real_Axis": -8
           },
           {
            "Class": "composite",
            "Imaginary_Axis": 72,
            "Movements": 1088,
            "Points": {
             "im": 72,
             "re": -8
            },
            "Real_Axis": -8
           },
           {
            "Class": "prime",
            "Imaginary_Axis": 73,
            "Movements": 1089,
            "Points": {
             "im": 73,
             "re": -8
            },
            "Real_Axis": -8
           },
           {
            "Class": "composite",
            "Imaginary_Axis": 73,
            "Movements": 1090,
            "Points": {
             "im": 73,
             "re": -9
            },
            "Real_Axis": -9
           },
           {
            "Class": "composite",
            "Imaginary_Axis": 73,
            "Movements": 1091,
            "Points": {
             "im": 73,
             "re": -10
            },
            "Real_Axis": -10
           },
           {
            "Class": "composite",
            "Imaginary_Axis": 73,
            "Movements": 1092,
            "Points": {
             "im": 73,
             "re": -11
            },
            "Real_Axis": -11
           },
           {
            "Class": "composite",
            "Imaginary_Axis": 73,
            "Movements": 1093,
            "Points": {
             "im": 73,
             "re": -12
            },
            "Real_Axis": -12
           },
           {
            "Class": "composite",
            "Imaginary_Axis": 73,
            "Movements": 1094,
            "Points": {
             "im": 73,
             "re": -13
            },
            "Real_Axis": -13
           },
           {
            "Class": "composite",
            "Imaginary_Axis": 73,
            "Movements": 1095,
            "Points": {
             "im": 73,
             "re": -14
            },
            "Real_Axis": -14
           },
           {
            "Class": "composite",
            "Imaginary_Axis": 73,
            "Movements": 1096,
            "Points": {
             "im": 73,
             "re": -15
            },
            "Real_Axis": -15
           },
           {
            "Class": "composite",
            "Imaginary_Axis": 73,
            "Movements": 1097,
            "Points": {
             "im": 73,
             "re": -16
            },
            "Real_Axis": -16
           },
           {
            "Class": "composite",
            "Imaginary_Axis": 73,
            "Movements": 1098,
            "Points": {
             "im": 73,
             "re": -17
            },
            "Real_Axis": -17
           },
           {
            "Class": "prime",
            "Imaginary_Axis": 73,
            "Movements": 1099,
            "Points": {
             "im": 73,
             "re": -18
            },
            "Real_Axis": -18
           },
           {
            "Class": "composite",
            "Imaginary_Axis": 72,
            "Movements": 1100,
            "Points": {
             "im": 72,
             "re": -18
            },
            "Real_Axis": -18
           },
           {
            "Class": "composite",
            "Imaginary_Axis": 71,
            "Movements": 1101,
            "Points": {
             "im": 71,
             "re": -18
            },
            "Real_Axis": -18
           },
           {
            "Class": "composite",
            "Imaginary_Axis": 70,
            "Movements": 1102,
            "Points": {
             "im": 70,
             "re": -18
            },
            "Real_Axis": -18
           },
           {
            "Class": "composite",
            "Imaginary_Axis": 69,
            "Movements": 1103,
            "Points": {
             "im": 69,
             "re": -18
            },
            "Real_Axis": -18
           },
           {
            "Class": "composite",
            "Imaginary_Axis": 68,
            "Movements": 1104,
            "Points": {
             "im": 68,
             "re": -18
            },
            "Real_Axis": -18
           },
           {
            "Class": "prime",
            "Imaginary_Axis": 67,
            "Movements": 1105,
            "Points": {
             "im": 67,
             "re": -18
            },
            "Real_Axis": -18
           },
           {
            "Class": "composite",
            "Imaginary_Axis": 67,
            "Movements": 1106,
            "Points": {
             "im": 67,
             "re": -17
            },
            "Real_Axis": -17
           },
           {
            "Class": "composite",
            "Imaginary_Axis": 67,
            "Movements": 1107,
            "Points": {
             "im": 67,
             "re": -16
            },
            "Real_Axis": -16
           },
           {
            "Class": "composite",
            "Imaginary_Axis": 67,
            "Movements": 1108,
            "Points": {
             "im": 67,
             "re": -15
            },
            "Real_Axis": -15
           },
           {
            "Class": "composite",
            "Imaginary_Axis": 67,
            "Movements": 1109,
            "Points": {
             "im": 67,
             "re": -14
            },
            "Real_Axis": -14
           },
           {
            "Class": "composite",
            "Imaginary_Axis": 67,
            "Movements": 1110,
            "Points": {
             "im": 67,
             "re": -13
            },
            "Real_Axis": -13
           },
           {
            "Class": "composite",
            "Imaginary_Axis": 67,
            "Movements": 1111,
            "Points": {
             "im": 67,
             "re": -12
            },
            "Real_Axis": -12
           },
           {
            "Class": "composite",
            "Imaginary_Axis": 67,
            "Movements": 1112,
            "Points": {
             "im": 67,
             "re": -11
            },
            "Real_Axis": -11
           },
           {
            "Class": "composite",
            "Imaginary_Axis": 67,
            "Movements": 1113,
            "Points": {
             "im": 67,
             "re": -10
            },
            "Real_Axis": -10
           },
           {
            "Class": "composite",
            "Imaginary_Axis": 67,
            "Movements": 1114,
            "Points": {
             "im": 67,
             "re": -9
            },
            "Real_Axis": -9
           },
           {
            "Class": "composite",
            "Imaginary_Axis": 67,
            "Movements": 1115,
            "Points": {
             "im": 67,
             "re": -8
            },
            "Real_Axis": -8
           },
           {
            "Class": "composite",
            "Imaginary_Axis": 67,
            "Movements": 1116,
            "Points": {
             "im": 67,
             "re": -7
            },
            "Real_Axis": -7
           },
           {
            "Class": "composite",
            "Imaginary_Axis": 67,
            "Movements": 1117,
            "Points": {
             "im": 67,
             "re": -6
            },
            "Real_Axis": -6
           },
           {
            "Class": "composite",
            "Imaginary_Axis": 67,
            "Movements": 1118,
            "Points": {
             "im": 67,
             "re": -5
            },
            "Real_Axis": -5
           },
           {
            "Class": "composite",
            "Imaginary_Axis": 67,
            "Movements": 1119,
            "Points": {
             "im": 67,
             "re": -4
            },
            "Real_Axis": -4
           },
           {
            "Class": "composite",
            "Imaginary_Axis": 67,
            "Movements": 1120,
            "Points": {
             "im": 67,
             "re": -3
            },
            "Real_Axis": -3
           },
           {
            "Class": "prime",
            "Imaginary_Axis": 67,
            "Movements": 1121,
            "Points": {
             "im": 67,
             "re": -2
            },
            "Real_Axis": -2
           },
           {
            "Class": "composite",
            "Imaginary_Axis": 68,
            "Movements": 1122,
            "Points": {
             "im": 68,
             "re": -2
            },
            "Real_Axis": -2
           },
           {
            "Class": "composite",
            "Imaginary_Axis": 69,
            "Movements": 1123,
            "Points": {
             "im": 69,
             "re": -2
            },
            "Real_Axis": -2
           },
           {
            "Class": "composite",
            "Imaginary_Axis": 70,
            "Movements": 1124,
            "Points": {
             "im": 70,
             "re": -2
            },
            "Real_Axis": -2
           },
           {
            "Class": "composite",
            "Imaginary_Axis": 71,
            "Movements": 1125,
            "Points": {
             "im": 71,
             "re": -2
            },
            "Real_Axis": -2
           },
           {
            "Class": "composite",
            "Imaginary_Axis": 72,
            "Movements": 1126,
            "Points": {
             "im": 72,
             "re": -2
            },
            "Real_Axis": -2
           },
           {
            "Class": "prime",
            "Imaginary_Axis": 73,
            "Movements": 1127,
            "Points": {
             "im": 73,
             "re": -2
            },
            "Real_Axis": -2
           },
           {
            "Class": "composite",
            "Imaginary_Axis": 73,
            "Movements": 1128,
            "Points": {
             "im": 73,
             "re": -3
            },
            "Real_Axis": -3
           },
           {
            "Class": "composite",
            "Imaginary_Axis": 73,
            "Movements": 1129,
            "Points": {
             "im": 73,
             "re": -4
            },
            "Real_Axis": -4
           },
           {
            "Class": "composite",
            "Imaginary_Axis": 73,
            "Movements": 1130,
            "Points": {
             "im": 73,
             "re": -5
            },
            "Real_Axis": -5
           },
           {
            "Class": "composite",
            "Imaginary_Axis": 73,
            "Movements": 1131,
            "Points": {
             "im": 73,
             "re": -6
            },
            "Real_Axis": -6
           },
           {
            "Class": "composite",
            "Imaginary_Axis": 73,
            "Movements": 1132,
            "Points": {
             "im": 73,
             "re": -7
            },
            "Real_Axis": -7
           },
           {
            "Class": "prime",
            "Imaginary_Axis": 73,
            "Movements": 1133,
            "Points": {
             "im": 73,
             "re": -8
            },
            "Real_Axis": -8
           },
           {
            "Class": "composite",
            "Imaginary_Axis": 72,
            "Movements": 1134,
            "Points": {
             "im": 72,
             "re": -8
            },
            "Real_Axis": -8
           },
           {
            "Class": "composite",
            "Imaginary_Axis": 71,
            "Movements": 1135,
            "Points": {
             "im": 71,
             "re": -8
            },
            "Real_Axis": -8
           },
           {
            "Class": "composite",
            "Imaginary_Axis": 70,
            "Movements": 1136,
            "Points": {
             "im": 70,
             "re": -8
            },
            "Real_Axis": -8
           },
           {
            "Class": "composite",
            "Imaginary_Axis": 69,
            "Movements": 1137,
            "Points": {
             "im": 69,
             "re": -8
            },
            "Real_Axis": -8
           },
           {
            "Class": "composite",
            "Imaginary_Axis": 68,
            "Movements": 1138,
            "Points": {
             "im": 68,
             "re": -8
            },
            "Real_Axis": -8
           },
           {
            "Class": "composite",
            "Imaginary_Axis": 67,
            "Movements": 1139,
            "Points": {
             "im": 67,
             "re": -8
            },
            "Real_Axis": -8
           },
           {
            "Class": "composite",
            "Imaginary_Axis": 66,
            "Movements": 1140,
            "Points": {
             "im": 66,
             "re": -8
            },
            "Real_Axis": -8
           },
           {
            "Class": "prime",
            "Imaginary_Axis": 65,
            "Movements": 1141,
            "Points": {
             "im": 65,
             "re": -8
            },
            "Real_Axis": -8
           },
           {
            "Class": "composite",
            "Imaginary_Axis": 65,
            "Movements": 1142,
            "Points": {
             "im": 65,
             "re": -7
            },
            "Real_Axis": -7
           },
           {
            "Class": "prime",
            "Imaginary_Axis": 65,
            "Movements": 1143,
            "Points": {
             "im": 65,
             "re": -6
            },
            "Real_Axis": -6
           },
           {
            "Class": "composite",
            "Imaginary_Axis": 66,
            "Movements": 1144,
            "Points": {
             "im": 66,
             "re": -6
            },
            "Real_Axis": -6
           },
           {
            "Class": "composite",
            "Imaginary_Axis": 67,
            "Movements": 1145,
            "Points": {
             "im": 67,
             "re": -6
            },
            "Real_Axis": -6
           },
           {
            "Class": "composite",
            "Imaginary_Axis": 68,
            "Movements": 1146,
            "Points": {
             "im": 68,
             "re": -6
            },
            "Real_Axis": -6
           },
           {
            "Class": "composite",
            "Imaginary_Axis": 69,
            "Movements": 1147,
            "Points": {
             "im": 69,
             "re": -6
            },
            "Real_Axis": -6
           },
           {
            "Class": "composite",
            "Imaginary_Axis": 70,
            "Movements": 1148,
            "Points": {
             "im": 70,
             "re": -6
            },
            "Real_Axis": -6
           },
           {
            "Class": "prime",
            "Imaginary_Axis": 71,
            "Movements": 1149,
            "Points": {
             "im": 71,
             "re": -6
            },
            "Real_Axis": -6
           },
           {
            "Class": "composite",
            "Imaginary_Axis": 71,
            "Movements": 1150,
            "Points": {
             "im": 71,
             "re": -7
            },
            "Real_Axis": -7
           },
           {
            "Class": "composite",
            "Imaginary_Axis": 71,
            "Movements": 1151,
            "Points": {
             "im": 71,
             "re": -8
            },
            "Real_Axis": -8
           },
           {
            "Class": "composite",
            "Imaginary_Axis": 71,
            "Movements": 1152,
            "Points": {
             "im": 71,
             "re": -9
            },
            "Real_Axis": -9
           },
           {
            "Class": "composite",
            "Imaginary_Axis": 71,
            "Movements": 1153,
            "Points": {
             "im": 71,
             "re": -10
            },
            "Real_Axis": -10
           },
           {
            "Class": "composite",
            "Imaginary_Axis": 71,
            "Movements": 1154,
            "Points": {
             "im": 71,
             "re": -11
            },
            "Real_Axis": -11
           },
           {
            "Class": "composite",
            "Imaginary_Axis": 71,
            "Movements": 1155,
            "Points": {
             "im": 71,
             "re": -12
            },
            "Real_Axis": -12
           },
           {
            "Class": "composite",
            "Imaginary_Axis": 71,
            "Movements": 1156,
            "Points": {
             "im": 71,
             "re": -13
            },
            "Real_Axis": -13
           },
           {
            "Class": "prime",
            "Imaginary_Axis": 71,
            "Movements": 1157,
            "Points": {
             "im": 71,
             "re": -14
            },
            "Real_Axis": -14
           },
           {
            "Class": "composite",
            "Imaginary_Axis": 70,
            "Movements": 1158,
            "Points": {
             "im": 70,
             "re": -14
            },
            "Real_Axis": -14
           },
           {
            "Class": "prime",
            "Imaginary_Axis": 69,
            "Movements": 1159,
            "Points": {
             "im": 69,
             "re": -14
            },
            "Real_Axis": -14
           },
           {
            "Class": "composite",
            "Imaginary_Axis": 69,
            "Movements": 1160,
            "Points": {
             "im": 69,
             "re": -13
            },
            "Real_Axis": -13
           },
           {
            "Class": "composite",
            "Imaginary_Axis": 69,
            "Movements": 1161,
            "Points": {
             "im": 69,
             "re": -12
            },
            "Real_Axis": -12
           },
           {
            "Class": "composite",
            "Imaginary_Axis": 69,
            "Movements": 1162,
            "Points": {
             "im": 69,
             "re": -11
            },
            "Real_Axis": -11
           },
           {
            "Class": "prime",
            "Imaginary_Axis": 69,
            "Movements": 1163,
            "Points": {
             "im": 69,
             "re": -10
            },
            "Real_Axis": -10
           },
           {
            "Class": "composite",
            "Imaginary_Axis": 70,
            "Movements": 1164,
            "Points": {
             "im": 70,
             "re": -10
            },
            "Real_Axis": -10
           },
           {
            "Class": "composite",
            "Imaginary_Axis": 71,
            "Movements": 1165,
            "Points": {
             "im": 71,
             "re": -10
            },
            "Real_Axis": -10
           },
           {
            "Class": "composite",
            "Imaginary_Axis": 72,
            "Movements": 1166,
            "Points": {
             "im": 72,
             "re": -10
            },
            "Real_Axis": -10
           },
           {
            "Class": "composite",
            "Imaginary_Axis": 73,
            "Movements": 1167,
            "Points": {
             "im": 73,
             "re": -10
            },
            "Real_Axis": -10
           },
           {
            "Class": "composite",
            "Imaginary_Axis": 74,
            "Movements": 1168,
            "Points": {
             "im": 74,
             "re": -10
            },
            "Real_Axis": -10
           },
           {
            "Class": "composite",
            "Imaginary_Axis": 75,
            "Movements": 1169,
            "Points": {
             "im": 75,
             "re": -10
            },
            "Real_Axis": -10
           },
           {
            "Class": "composite",
            "Imaginary_Axis": 76,
            "Movements": 1170,
            "Points": {
             "im": 76,
             "re": -10
            },
            "Real_Axis": -10
           },
           {
            "Class": "prime",
            "Imaginary_Axis": 77,
            "Movements": 1171,
            "Points": {
             "im": 77,
             "re": -10
            },
            "Real_Axis": -10
           },
           {
            "Class": "composite",
            "Imaginary_Axis": 77,
            "Movements": 1172,
            "Points": {
             "im": 77,
             "re": -11
            },
            "Real_Axis": -11
           },
           {
            "Class": "prime",
            "Imaginary_Axis": 77,
            "Movements": 1173,
            "Points": {
             "im": 77,
             "re": -12
            },
            "Real_Axis": -12
           },
           {
            "Class": "composite",
            "Imaginary_Axis": 76,
            "Movements": 1174,
            "Points": {
             "im": 76,
             "re": -12
            },
            "Real_Axis": -12
           },
           {
            "Class": "composite",
            "Imaginary_Axis": 75,
            "Movements": 1175,
            "Points": {
             "im": 75,
             "re": -12
            },
            "Real_Axis": -12
           },
           {
            "Class": "composite",
            "Imaginary_Axis": 74,
            "Movements": 1176,
            "Points": {
             "im": 74,
             "re": -12
            },
            "Real_Axis": -12
           },
           {
            "Class": "composite",
            "Imaginary_Axis": 73,
            "Movements": 1177,
            "Points": {
             "im": 73,
             "re": -12
            },
            "Real_Axis": -12
           },
           {
            "Class": "composite",
            "Imaginary_Axis": 72,
            "Movements": 1178,
            "Points": {
             "im": 72,
             "re": -12
            },
            "Real_Axis": -12
           },
           {
            "Class": "composite",
            "Imaginary_Axis": 71,
            "Movements": 1179,
            "Points": {
             "im": 71,
             "re": -12
            },
            "Real_Axis": -12
           },
           {
            "Class": "composite",
            "Imaginary_Axis": 70,
            "Movements": 1180,
            "Points": {
             "im": 70,
             "re": -12
            },
            "Real_Axis": -12
           },
           {
            "Class": "composite",
            "Imaginary_Axis": 69,
            "Movements": 1181,
            "Points": {
             "im": 69,
             "re": -12
            },
            "Real_Axis": -12
           },
           {
            "Class": "composite",
            "Imaginary_Axis": 68,
            "Movements": 1182,
            "Points": {
             "im": 68,
             "re": -12
            },
            "Real_Axis": -12
           },
           {
            "Class": "composite",
            "Imaginary_Axis": 67,
            "Movements": 1183,
            "Points": {
             "im": 67,
             "re": -12
            },
            "Real_Axis": -12
           },
           {
            "Class": "composite",
            "Imaginary_Axis": 66,
            "Movements": 1184,
            "Points": {
             "im": 66,
             "re": -12
            },
            "Real_Axis": -12
           },
           {
            "Class": "composite",
            "Imaginary_Axis": 65,
            "Movements": 1185,
            "Points": {
             "im": 65,
             "re": -12
            },
            "Real_Axis": -12
           },
           {
            "Class": "composite",
            "Imaginary_Axis": 64,
            "Movements": 1186,
            "Points": {
             "im": 64,
             "re": -12
            },
            "Real_Axis": -12
           },
           {
            "Class": "composite",
            "Imaginary_Axis": 63,
            "Movements": 1187,
            "Points": {
             "im": 63,
             "re": -12
            },
            "Real_Axis": -12
           },
           {
            "Class": "composite",
            "Imaginary_Axis": 62,
            "Movements": 1188,
            "Points": {
             "im": 62,
             "re": -12
            },
            "Real_Axis": -12
           },
           {
            "Class": "composite",
            "Imaginary_Axis": 61,
            "Movements": 1189,
            "Points": {
             "im": 61,
             "re": -12
            },
            "Real_Axis": -12
           },
           {
            "Class": "composite",
            "Imaginary_Axis": 60,
            "Movements": 1190,
            "Points": {
             "im": 60,
             "re": -12
            },
            "Real_Axis": -12
           },
           {
            "Class": "composite",
            "Imaginary_Axis": 59,
            "Movements": 1191,
            "Points": {
             "im": 59,
             "re": -12
            },
            "Real_Axis": -12
           },
           {
            "Class": "composite",
            "Imaginary_Axis": 58,
            "Movements": 1192,
            "Points": {
             "im": 58,
             "re": -12
            },
            "Real_Axis": -12
           },
           {
            "Class": "composite",
            "Imaginary_Axis": 57,
            "Movements": 1193,
            "Points": {
             "im": 57,
             "re": -12
            },
            "Real_Axis": -12
           },
           {
            "Class": "composite",
            "Imaginary_Axis": 56,
            "Movements": 1194,
            "Points": {
             "im": 56,
             "re": -12
            },
            "Real_Axis": -12
           },
           {
            "Class": "prime",
            "Imaginary_Axis": 55,
            "Movements": 1195,
            "Points": {
             "im": 55,
             "re": -12
            },
            "Real_Axis": -12
           },
           {
            "Class": "composite",
            "Imaginary_Axis": 55,
            "Movements": 1196,
            "Points": {
             "im": 55,
             "re": -11
            },
            "Real_Axis": -11
           },
           {
            "Class": "composite",
            "Imaginary_Axis": 55,
            "Movements": 1197,
            "Points": {
             "im": 55,
             "re": -10
            },
            "Real_Axis": -10
           },
           {
            "Class": "composite",
            "Imaginary_Axis": 55,
            "Movements": 1198,
            "Points": {
             "im": 55,
             "re": -9
            },
            "Real_Axis": -9
           },
           {
            "Class": "prime",
            "Imaginary_Axis": 55,
            "Movements": 1199,
            "Points": {
             "im": 55,
             "re": -8
            },
            "Real_Axis": -8
           },
           {
            "Class": "composite",
            "Imaginary_Axis": 56,
            "Movements": 1200,
            "Points": {
             "im": 56,
             "re": -8
            },
            "Real_Axis": -8
           },
           {
            "Class": "prime",
            "Imaginary_Axis": 57,
            "Movements": 1201,
            "Points": {
             "im": 57,
             "re": -8
            },
            "Real_Axis": -8
           },
           {
            "Class": "composite",
            "Imaginary_Axis": 57,
            "Movements": 1202,
            "Points": {
             "im": 57,
             "re": -9
            },
            "Real_Axis": -9
           },
           {
            "Class": "composite",
            "Imaginary_Axis": 57,
            "Movements": 1203,
            "Points": {
             "im": 57,
             "re": -10
            },
            "Real_Axis": -10
           },
           {
            "Class": "composite",
            "Imaginary_Axis": 57,
            "Movements": 1204,
            "Points": {
             "im": 57,
             "re": -11
            },
            "Real_Axis": -11
           },
           {
            "Class": "composite",
            "Imaginary_Axis": 57,
            "Movements": 1205,
            "Points": {
             "im": 57,
             "re": -12
            },
            "Real_Axis": -12
           },
           {
            "Class": "composite",
            "Imaginary_Axis": 57,
            "Movements": 1206,
            "Points": {
             "im": 57,
             "re": -13
            },
            "Real_Axis": -13
           },
           {
            "Class": "composite",
            "Imaginary_Axis": 57,
            "Movements": 1207,
            "Points": {
             "im": 57,
             "re": -14
            },
            "Real_Axis": -14
           },
           {
            "Class": "composite",
            "Imaginary_Axis": 57,
            "Movements": 1208,
            "Points": {
             "im": 57,
             "re": -15
            },
            "Real_Axis": -15
           },
           {
            "Class": "composite",
            "Imaginary_Axis": 57,
            "Movements": 1209,
            "Points": {
             "im": 57,
             "re": -16
            },
            "Real_Axis": -16
           },
           {
            "Class": "composite",
            "Imaginary_Axis": 57,
            "Movements": 1210,
            "Points": {
             "im": 57,
             "re": -17
            },
            "Real_Axis": -17
           },
           {
            "Class": "composite",
            "Imaginary_Axis": 57,
            "Movements": 1211,
            "Points": {
             "im": 57,
             "re": -18
            },
            "Real_Axis": -18
           },
           {
            "Class": "composite",
            "Imaginary_Axis": 57,
            "Movements": 1212,
            "Points": {
             "im": 57,
             "re": -19
            },
            "Real_Axis": -19
           },
           {
            "Class": "composite",
            "Imaginary_Axis": 57,
            "Movements": 1213,
            "Points": {
             "im": 57,
             "re": -20
            },
            "Real_Axis": -20
           },
           {
            "Class": "composite",
            "Imaginary_Axis": 57,
            "Movements": 1214,
            "Points": {
             "im": 57,
             "re": -21
            },
            "Real_Axis": -21
           },
           {
            "Class": "prime",
            "Imaginary_Axis": 57,
            "Movements": 1215,
            "Points": {
             "im": 57,
             "re": -22
            },
            "Real_Axis": -22
           },
           {
            "Class": "composite",
            "Imaginary_Axis": 56,
            "Movements": 1216,
            "Points": {
             "im": 56,
             "re": -22
            },
            "Real_Axis": -22
           },
           {
            "Class": "composite",
            "Imaginary_Axis": 55,
            "Movements": 1217,
            "Points": {
             "im": 55,
             "re": -22
            },
            "Real_Axis": -22
           },
           {
            "Class": "composite",
            "Imaginary_Axis": 54,
            "Movements": 1218,
            "Points": {
             "im": 54,
             "re": -22
            },
            "Real_Axis": -22
           },
           {
            "Class": "composite",
            "Imaginary_Axis": 53,
            "Movements": 1219,
            "Points": {
             "im": 53,
             "re": -22
            },
            "Real_Axis": -22
           },
           {
            "Class": "composite",
            "Imaginary_Axis": 52,
            "Movements": 1220,
            "Points": {
             "im": 52,
             "re": -22
            },
            "Real_Axis": -22
           },
           {
            "Class": "composite",
            "Imaginary_Axis": 51,
            "Movements": 1221,
            "Points": {
             "im": 51,
             "re": -22
            },
            "Real_Axis": -22
           },
           {
            "Class": "composite",
            "Imaginary_Axis": 50,
            "Movements": 1222,
            "Points": {
             "im": 50,
             "re": -22
            },
            "Real_Axis": -22
           },
           {
            "Class": "composite",
            "Imaginary_Axis": 49,
            "Movements": 1223,
            "Points": {
             "im": 49,
             "re": -22
            },
            "Real_Axis": -22
           },
           {
            "Class": "composite",
            "Imaginary_Axis": 48,
            "Movements": 1224,
            "Points": {
             "im": 48,
             "re": -22
            },
            "Real_Axis": -22
           },
           {
            "Class": "prime",
            "Imaginary_Axis": 47,
            "Movements": 1225,
            "Points": {
             "im": 47,
             "re": -22
            },
            "Real_Axis": -22
           },
           {
            "Class": "composite",
            "Imaginary_Axis": 47,
            "Movements": 1226,
            "Points": {
             "im": 47,
             "re": -21
            },
            "Real_Axis": -21
           },
           {
            "Class": "prime",
            "Imaginary_Axis": 47,
            "Movements": 1227,
            "Points": {
             "im": 47,
             "re": -20
            },
            "Real_Axis": -20
           },
           {
            "Class": "composite",
            "Imaginary_Axis": 48,
            "Movements": 1228,
            "Points": {
             "im": 48,
             "re": -20
            },
            "Real_Axis": -20
           },
           {
            "Class": "prime",
            "Imaginary_Axis": 49,
            "Movements": 1229,
            "Points": {
             "im": 49,
             "re": -20
            },
            "Real_Axis": -20
           },
           {
            "Class": "composite",
            "Imaginary_Axis": 49,
            "Movements": 1230,
            "Points": {
             "im": 49,
             "re": -21
            },
            "Real_Axis": -21
           },
           {
            "Class": "composite",
            "Imaginary_Axis": 49,
            "Movements": 1231,
            "Points": {
             "im": 49,
             "re": -22
            },
            "Real_Axis": -22
           },
           {
            "Class": "composite",
            "Imaginary_Axis": 49,
            "Movements": 1232,
            "Points": {
             "im": 49,
             "re": -23
            },
            "Real_Axis": -23
           },
           {
            "Class": "composite",
            "Imaginary_Axis": 49,
            "Movements": 1233,
            "Points": {
             "im": 49,
             "re": -24
            },
            "Real_Axis": -24
           },
           {
            "Class": "composite",
            "Imaginary_Axis": 49,
            "Movements": 1234,
            "Points": {
             "im": 49,
             "re": -25
            },
            "Real_Axis": -25
           },
           {
            "Class": "composite",
            "Imaginary_Axis": 49,
            "Movements": 1235,
            "Points": {
             "im": 49,
             "re": -26
            },
            "Real_Axis": -26
           },
           {
            "Class": "composite",
            "Imaginary_Axis": 49,
            "Movements": 1236,
            "Points": {
             "im": 49,
             "re": -27
            },
            "Real_Axis": -27
           },
           {
            "Class": "composite",
            "Imaginary_Axis": 49,
            "Movements": 1237,
            "Points": {
             "im": 49,
             "re": -28
            },
            "Real_Axis": -28
           },
           {
            "Class": "composite",
            "Imaginary_Axis": 49,
            "Movements": 1238,
            "Points": {
             "im": 49,
             "re": -29
            },
            "Real_Axis": -29
           },
           {
            "Class": "prime",
            "Imaginary_Axis": 49,
            "Movements": 1239,
            "Points": {
             "im": 49,
             "re": -30
            },
            "Real_Axis": -30
           },
           {
            "Class": "composite",
            "Imaginary_Axis": 48,
            "Movements": 1240,
            "Points": {
             "im": 48,
             "re": -30
            },
            "Real_Axis": -30
           },
           {
            "Class": "prime",
            "Imaginary_Axis": 47,
            "Movements": 1241,
            "Points": {
             "im": 47,
             "re": -30
            },
            "Real_Axis": -30
           },
           {
            "Class": "composite",
            "Imaginary_Axis": 47,
            "Movements": 1242,
            "Points": {
             "im": 47,
             "re": -29
            },
            "Real_Axis": -29
           },
           {
            "Class": "composite",
            "Imaginary_Axis": 47,
            "Movements": 1243,
            "Points": {
             "im": 47,
             "re": -28
            },
            "Real_Axis": -28
           },
           {
            "Class": "composite",
            "Imaginary_Axis": 47,
            "Movements": 1244,
            "Points": {
             "im": 47,
             "re": -27
            },
            "Real_Axis": -27
           },
           {
            "Class": "composite",
            "Imaginary_Axis": 47,
            "Movements": 1245,
            "Points": {
             "im": 47,
             "re": -26
            },
            "Real_Axis": -26
           },
           {
            "Class": "composite",
            "Imaginary_Axis": 47,
            "Movements": 1246,
            "Points": {
             "im": 47,
             "re": -25
            },
            "Real_Axis": -25
           },
           {
            "Class": "composite",
            "Imaginary_Axis": 47,
            "Movements": 1247,
            "Points": {
             "im": 47,
             "re": -24
            },
            "Real_Axis": -24
           },
           {
            "Class": "composite",
            "Imaginary_Axis": 47,
            "Movements": 1248,
            "Points": {
             "im": 47,
             "re": -23
            },
            "Real_Axis": -23
           },
           {
            "Class": "prime",
            "Imaginary_Axis": 47,
            "Movements": 1249,
            "Points": {
             "im": 47,
             "re": -22
            },
            "Real_Axis": -22
           },
           {
            "Class": "composite",
            "Imaginary_Axis": 48,
            "Movements": 1250,
            "Points": {
             "im": 48,
             "re": -22
            },
            "Real_Axis": -22
           },
           {
            "Class": "composite",
            "Imaginary_Axis": 49,
            "Movements": 1251,
            "Points": {
             "im": 49,
             "re": -22
            },
            "Real_Axis": -22
           },
           {
            "Class": "composite",
            "Imaginary_Axis": 50,
            "Movements": 1252,
            "Points": {
             "im": 50,
             "re": -22
            },
            "Real_Axis": -22
           },
           {
            "Class": "composite",
            "Imaginary_Axis": 51,
            "Movements": 1253,
            "Points": {
             "im": 51,
             "re": -22
            },
            "Real_Axis": -22
           },
           {
            "Class": "composite",
            "Imaginary_Axis": 52,
            "Movements": 1254,
            "Points": {
             "im": 52,
             "re": -22
            },
            "Real_Axis": -22
           },
           {
            "Class": "composite",
            "Imaginary_Axis": 53,
            "Movements": 1255,
            "Points": {
             "im": 53,
             "re": -22
            },
            "Real_Axis": -22
           },
           {
            "Class": "composite",
            "Imaginary_Axis": 54,
            "Movements": 1256,
            "Points": {
             "im": 54,
             "re": -22
            },
            "Real_Axis": -22
           },
           {
            "Class": "composite",
            "Imaginary_Axis": 55,
            "Movements": 1257,
            "Points": {
             "im": 55,
             "re": -22
            },
            "Real_Axis": -22
           },
           {
            "Class": "composite",
            "Imaginary_Axis": 56,
            "Movements": 1258,
            "Points": {
             "im": 56,
             "re": -22
            },
            "Real_Axis": -22
           },
           {
            "Class": "prime",
            "Imaginary_Axis": 57,
            "Movements": 1259,
            "Points": {
             "im": 57,
             "re": -22
            },
            "Real_Axis": -22
           },
           {
            "Class": "composite",
            "Imaginary_Axis": 57,
            "Movements": 1260,
            "Points": {
             "im": 57,
             "re": -23
            },
            "Real_Axis": -23
           },
           {
            "Class": "composite",
            "Imaginary_Axis": 57,
            "Movements": 1261,
            "Points": {
             "im": 57,
             "re": -24
            },
            "Real_Axis": -24
           },
           {
            "Class": "composite",
            "Imaginary_Axis": 57,
            "Movements": 1262,
            "Points": {
             "im": 57,
             "re": -25
            },
            "Real_Axis": -25
           },
           {
            "Class": "composite",
            "Imaginary_Axis": 57,
            "Movements": 1263,
            "Points": {
             "im": 57,
             "re": -26
            },
            "Real_Axis": -26
           },
           {
            "Class": "composite",
            "Imaginary_Axis": 57,
            "Movements": 1264,
            "Points": {
             "im": 57,
             "re": -27
            },
            "Real_Axis": -27
           },
           {
            "Class": "composite",
            "Imaginary_Axis": 57,
            "Movements": 1265,
            "Points": {
             "im": 57,
             "re": -28
            },
            "Real_Axis": -28
           },
           {
            "Class": "composite",
            "Imaginary_Axis": 57,
            "Movements": 1266,
            "Points": {
             "im": 57,
             "re": -29
            },
            "Real_Axis": -29
           },
           {
            "Class": "composite",
            "Imaginary_Axis": 57,
            "Movements": 1267,
            "Points": {
             "im": 57,
             "re": -30
            },
            "Real_Axis": -30
           },
           {
            "Class": "composite",
            "Imaginary_Axis": 57,
            "Movements": 1268,
            "Points": {
             "im": 57,
             "re": -31
            },
            "Real_Axis": -31
           },
           {
            "Class": "prime",
            "Imaginary_Axis": 57,
            "Movements": 1269,
            "Points": {
             "im": 57,
             "re": -32
            },
            "Real_Axis": -32
           },
           {
            "Class": "composite",
            "Imaginary_Axis": 56,
            "Movements": 1270,
            "Points": {
             "im": 56,
             "re": -32
            },
            "Real_Axis": -32
           },
           {
            "Class": "prime",
            "Imaginary_Axis": 55,
            "Movements": 1271,
            "Points": {
             "im": 55,
             "re": -32
            },
            "Real_Axis": -32
           },
           {
            "Class": "composite",
            "Imaginary_Axis": 55,
            "Movements": 1272,
            "Points": {
             "im": 55,
             "re": -31
            },
            "Real_Axis": -31
           },
           {
            "Class": "composite",
            "Imaginary_Axis": 55,
            "Movements": 1273,
            "Points": {
             "im": 55,
             "re": -30
            },
            "Real_Axis": -30
           },
           {
            "Class": "composite",
            "Imaginary_Axis": 55,
            "Movements": 1274,
            "Points": {
             "im": 55,
             "re": -29
            },
            "Real_Axis": -29
           },
           {
            "Class": "composite",
            "Imaginary_Axis": 55,
            "Movements": 1275,
            "Points": {
             "im": 55,
             "re": -28
            },
            "Real_Axis": -28
           },
           {
            "Class": "composite",
            "Imaginary_Axis": 55,
            "Movements": 1276,
            "Points": {
             "im": 55,
             "re": -27
            },
            "Real_Axis": -27
           },
           {
            "Class": "prime",
            "Imaginary_Axis": 55,
            "Movements": 1277,
            "Points": {
             "im": 55,
             "re": -26
            },
            "Real_Axis": -26
           },
           {
            "Class": "composite",
            "Imaginary_Axis": 56,
            "Movements": 1278,
            "Points": {
             "im": 56,
             "re": -26
            },
            "Real_Axis": -26
           },
           {
            "Class": "composite",
            "Imaginary_Axis": 57,
            "Movements": 1279,
            "Points": {
             "im": 57,
             "re": -26
            },
            "Real_Axis": -26
           },
           {
            "Class": "composite",
            "Imaginary_Axis": 58,
            "Movements": 1280,
            "Points": {
             "im": 58,
             "re": -26
            },
            "Real_Axis": -26
           },
           {
            "Class": "prime",
            "Imaginary_Axis": 59,
            "Movements": 1281,
            "Points": {
             "im": 59,
             "re": -26
            },
            "Real_Axis": -26
           },
           {
            "Class": "composite",
            "Imaginary_Axis": 59,
            "Movements": 1282,
            "Points": {
             "im": 59,
             "re": -27
            },
            "Real_Axis": -27
           },
           {
            "Class": "composite",
            "Imaginary_Axis": 59,
            "Movements": 1283,
            "Points": {
             "im": 59,
             "re": -28
            },
            "Real_Axis": -28
           },
           {
            "Class": "composite",
            "Imaginary_Axis": 59,
            "Movements": 1284,
            "Points": {
             "im": 59,
             "re": -29
            },
            "Real_Axis": -29
           },
           {
            "Class": "composite",
            "Imaginary_Axis": 59,
            "Movements": 1285,
            "Points": {
             "im": 59,
             "re": -30
            },
            "Real_Axis": -30
           },
           {
            "Class": "composite",
            "Imaginary_Axis": 59,
            "Movements": 1286,
            "Points": {
             "im": 59,
             "re": -31
            },
            "Real_Axis": -31
           },
           {
            "Class": "composite",
            "Imaginary_Axis": 59,
            "Movements": 1287,
            "Points": {
             "im": 59,
             "re": -32
            },
            "Real_Axis": -32
           },
           {
            "Class": "composite",
            "Imaginary_Axis": 59,
            "Movements": 1288,
            "Points": {
             "im": 59,
             "re": -33
            },
            "Real_Axis": -33
           },
           {
            "Class": "prime",
            "Imaginary_Axis": 59,
            "Movements": 1289,
            "Points": {
             "im": 59,
             "re": -34
            },
            "Real_Axis": -34
           },
           {
            "Class": "composite",
            "Imaginary_Axis": 58,
            "Movements": 1290,
            "Points": {
             "im": 58,
             "re": -34
            },
            "Real_Axis": -34
           },
           {
            "Class": "composite",
            "Imaginary_Axis": 57,
            "Movements": 1291,
            "Points": {
             "im": 57,
             "re": -34
            },
            "Real_Axis": -34
           },
           {
            "Class": "composite",
            "Imaginary_Axis": 56,
            "Movements": 1292,
            "Points": {
             "im": 56,
             "re": -34
            },
            "Real_Axis": -34
           },
           {
            "Class": "composite",
            "Imaginary_Axis": 55,
            "Movements": 1293,
            "Points": {
             "im": 55,
             "re": -34
            },
            "Real_Axis": -34
           },
           {
            "Class": "composite",
            "Imaginary_Axis": 54,
            "Movements": 1294,
            "Points": {
             "im": 54,
             "re": -34
            },
            "Real_Axis": -34
           },
           {
            "Class": "composite",
            "Imaginary_Axis": 53,
            "Movements": 1295,
            "Points": {
             "im": 53,
             "re": -34
            },
            "Real_Axis": -34
           },
           {
            "Class": "composite",
            "Imaginary_Axis": 52,
            "Movements": 1296,
            "Points": {
             "im": 52,
             "re": -34
            },
            "Real_Axis": -34
           },
           {
            "Class": "composite",
            "Imaginary_Axis": 51,
            "Movements": 1297,
            "Points": {
             "im": 51,
             "re": -34
            },
            "Real_Axis": -34
           },
           {
            "Class": "composite",
            "Imaginary_Axis": 50,
            "Movements": 1298,
            "Points": {
             "im": 50,
             "re": -34
            },
            "Real_Axis": -34
           },
           {
            "Class": "prime",
            "Imaginary_Axis": 49,
            "Movements": 1299,
            "Points": {
             "im": 49,
             "re": -34
            },
            "Real_Axis": -34
           },
           {
            "Class": "composite",
            "Imaginary_Axis": 49,
            "Movements": 1300,
            "Points": {
             "im": 49,
             "re": -33
            },
            "Real_Axis": -33
           },
           {
            "Class": "composite",
            "Imaginary_Axis": 49,
            "Movements": 1301,
            "Points": {
             "im": 49,
             "re": -32
            },
            "Real_Axis": -32
           },
           {
            "Class": "composite",
            "Imaginary_Axis": 49,
            "Movements": 1302,
            "Points": {
             "im": 49,
             "re": -31
            },
            "Real_Axis": -31
           },
           {
            "Class": "prime",
            "Imaginary_Axis": 49,
            "Movements": 1303,
            "Points": {
             "im": 49,
             "re": -30
            },
            "Real_Axis": -30
           },
           {
            "Class": "composite",
            "Imaginary_Axis": 50,
            "Movements": 1304,
            "Points": {
             "im": 50,
             "re": -30
            },
            "Real_Axis": -30
           },
           {
            "Class": "composite",
            "Imaginary_Axis": 51,
            "Movements": 1305,
            "Points": {
             "im": 51,
             "re": -30
            },
            "Real_Axis": -30
           },
           {
            "Class": "composite",
            "Imaginary_Axis": 52,
            "Movements": 1306,
            "Points": {
             "im": 52,
             "re": -30
            },
            "Real_Axis": -30
           },
           {
            "Class": "prime",
            "Imaginary_Axis": 53,
            "Movements": 1307,
            "Points": {
             "im": 53,
             "re": -30
            },
            "Real_Axis": -30
           },
           {
            "Class": "composite",
            "Imaginary_Axis": 53,
            "Movements": 1308,
            "Points": {
             "im": 53,
             "re": -31
            },
            "Real_Axis": -31
           },
           {
            "Class": "prime",
            "Imaginary_Axis": 53,
            "Movements": 1309,
            "Points": {
             "im": 53,
             "re": -32
            },
            "Real_Axis": -32
           },
           {
            "Class": "composite",
            "Imaginary_Axis": 52,
            "Movements": 1310,
            "Points": {
             "im": 52,
             "re": -32
            },
            "Real_Axis": -32
           },
           {
            "Class": "composite",
            "Imaginary_Axis": 51,
            "Movements": 1311,
            "Points": {
             "im": 51,
             "re": -32
            },
            "Real_Axis": -32
           },
           {
            "Class": "composite",
            "Imaginary_Axis": 50,
            "Movements": 1312,
            "Points": {
             "im": 50,
             "re": -32
            },
            "Real_Axis": -32
           },
           {
            "Class": "composite",
            "Imaginary_Axis": 49,
            "Movements": 1313,
            "Points": {
             "im": 49,
             "re": -32
            },
            "Real_Axis": -32
           },
           {
            "Class": "composite",
            "Imaginary_Axis": 48,
            "Movements": 1314,
            "Points": {
             "im": 48,
             "re": -32
            },
            "Real_Axis": -32
           },
           {
            "Class": "composite",
            "Imaginary_Axis": 47,
            "Movements": 1315,
            "Points": {
             "im": 47,
             "re": -32
            },
            "Real_Axis": -32
           },
           {
            "Class": "composite",
            "Imaginary_Axis": 46,
            "Movements": 1316,
            "Points": {
             "im": 46,
             "re": -32
            },
            "Real_Axis": -32
           },
           {
            "Class": "prime",
            "Imaginary_Axis": 45,
            "Movements": 1317,
            "Points": {
             "im": 45,
             "re": -32
            },
            "Real_Axis": -32
           },
           {
            "Class": "composite",
            "Imaginary_Axis": 45,
            "Movements": 1318,
            "Points": {
             "im": 45,
             "re": -31
            },
            "Real_Axis": -31
           },
           {
            "Class": "composite",
            "Imaginary_Axis": 45,
            "Movements": 1319,
            "Points": {
             "im": 45,
             "re": -30
            },
            "Real_Axis": -30
           },
           {
            "Class": "composite",
            "Imaginary_Axis": 45,
            "Movements": 1320,
            "Points": {
             "im": 45,
             "re": -29
            },
            "Real_Axis": -29
           },
           {
            "Class": "composite",
            "Imaginary_Axis": 45,
            "Movements": 1321,
            "Points": {
             "im": 45,
             "re": -28
            },
            "Real_Axis": -28
           },
           {
            "Class": "composite",
            "Imaginary_Axis": 45,
            "Movements": 1322,
            "Points": {
             "im": 45,
             "re": -27
            },
            "Real_Axis": -27
           },
           {
            "Class": "composite",
            "Imaginary_Axis": 45,
            "Movements": 1323,
            "Points": {
             "im": 45,
             "re": -26
            },
            "Real_Axis": -26
           },
           {
            "Class": "composite",
            "Imaginary_Axis": 45,
            "Movements": 1324,
            "Points": {
             "im": 45,
             "re": -25
            },
            "Real_Axis": -25
           },
           {
            "Class": "composite",
            "Imaginary_Axis": 45,
            "Movements": 1325,
            "Points": {
             "im": 45,
             "re": -24
            },
            "Real_Axis": -24
           },
           {
            "Class": "composite",
            "Imaginary_Axis": 45,
            "Movements": 1326,
            "Points": {
             "im": 45,
             "re": -23
            },
            "Real_Axis": -23
           },
           {
            "Class": "composite",
            "Imaginary_Axis": 45,
            "Movements": 1327,
            "Points": {
             "im": 45,
             "re": -22
            },
            "Real_Axis": -22
           },
           {
            "Class": "composite",
            "Imaginary_Axis": 45,
            "Movements": 1328,
            "Points": {
             "im": 45,
             "re": -21
            },
            "Real_Axis": -21
           },
           {
            "Class": "composite",
            "Imaginary_Axis": 45,
            "Movements": 1329,
            "Points": {
             "im": 45,
             "re": -20
            },
            "Real_Axis": -20
           },
           {
            "Class": "composite",
            "Imaginary_Axis": 45,
            "Movements": 1330,
            "Points": {
             "im": 45,
             "re": -19
            },
            "Real_Axis": -19
           },
           {
            "Class": "composite",
            "Imaginary_Axis": 45,
            "Movements": 1331,
            "Points": {
             "im": 45,
             "re": -18
            },
            "Real_Axis": -18
           },
           {
            "Class": "composite",
            "Imaginary_Axis": 45,
            "Movements": 1332,
            "Points": {
             "im": 45,
             "re": -17
            },
            "Real_Axis": -17
           },
           {
            "Class": "prime",
            "Imaginary_Axis": 45,
            "Movements": 1333,
            "Points": {
             "im": 45,
             "re": -16
            },
            "Real_Axis": -16
           },
           {
            "Class": "composite",
            "Imaginary_Axis": 46,
            "Movements": 1334,
            "Points": {
             "im": 46,
             "re": -16
            },
            "Real_Axis": -16
           },
           {
            "Class": "composite",
            "Imaginary_Axis": 47,
            "Movements": 1335,
            "Points": {
             "im": 47,
             "re": -16
            },
            "Real_Axis": -16
           },
           {
            "Class": "composite",
            "Imaginary_Axis": 48,
            "Movements": 1336,
            "Points": {
             "im": 48,
             "re": -16
            },
            "Real_Axis": -16
           },
           {
            "Class": "prime",
            "Imaginary_Axis": 49,
            "Movements": 1337,
            "Points": {
             "im": 49,
             "re": -16
            },
            "Real_Axis": -16
           },
           {
            "Class": "composite",
            "Imaginary_Axis": 49,
            "Movements": 1338,
            "Points": {
             "im": 49,
             "re": -17
            },
            "Real_Axis": -17
           },
           {
            "Class": "composite",
            "Imaginary_Axis": 49,
            "Movements": 1339,
            "Points": {
             "im": 49,
             "re": -18
            },
            "Real_Axis": -18
           },
           {
            "Class": "composite",
            "Imaginary_Axis": 49,
            "Movements": 1340,
            "Points": {
             "im": 49,
             "re": -19
            },
            "Real_Axis": -19
           },
           {
            "Class": "prime",
            "Imaginary_Axis": 49,
            "Movements": 1341,
            "Points": {
             "im": 49,
             "re": -20
            },
            "Real_Axis": -20
           },
           {
            "Class": "composite",
            "Imaginary_Axis": 48,
            "Movements": 1342,
            "Points": {
             "im": 48,
             "re": -20
            },
            "Real_Axis": -20
           },
           {
            "Class": "prime",
            "Imaginary_Axis": 47,
            "Movements": 1343,
            "Points": {
             "im": 47,
             "re": -20
            },
            "Real_Axis": -20
           },
           {
            "Class": "composite",
            "Imaginary_Axis": 47,
            "Movements": 1344,
            "Points": {
             "im": 47,
             "re": -19
            },
            "Real_Axis": -19
           },
           {
            "Class": "composite",
            "Imaginary_Axis": 47,
            "Movements": 1345,
            "Points": {
             "im": 47,
             "re": -18
            },
            "Real_Axis": -18
           },
           {
            "Class": "composite",
            "Imaginary_Axis": 47,
            "Movements": 1346,
            "Points": {
             "im": 47,
             "re": -17
            },
            "Real_Axis": -17
           },
           {
            "Class": "composite",
            "Imaginary_Axis": 47,
            "Movements": 1347,
            "Points": {
             "im": 47,
             "re": -16
            },
            "Real_Axis": -16
           },
           {
            "Class": "composite",
            "Imaginary_Axis": 47,
            "Movements": 1348,
            "Points": {
             "im": 47,
             "re": -15
            },
            "Real_Axis": -15
           },
           {
            "Class": "composite",
            "Imaginary_Axis": 47,
            "Movements": 1349,
            "Points": {
             "im": 47,
             "re": -14
            },
            "Real_Axis": -14
           },
           {
            "Class": "composite",
            "Imaginary_Axis": 47,
            "Movements": 1350,
            "Points": {
             "im": 47,
             "re": -13
            },
            "Real_Axis": -13
           },
           {
            "Class": "composite",
            "Imaginary_Axis": 47,
            "Movements": 1351,
            "Points": {
             "im": 47,
             "re": -12
            },
            "Real_Axis": -12
           },
           {
            "Class": "composite",
            "Imaginary_Axis": 47,
            "Movements": 1352,
            "Points": {
             "im": 47,
             "re": -11
            },
            "Real_Axis": -11
           },
           {
            "Class": "prime",
            "Imaginary_Axis": 47,
            "Movements": 1353,
            "Points": {
             "im": 47,
             "re": -10
            },
            "Real_Axis": -10
           },
           {
            "Class": "composite",
            "Imaginary_Axis": 48,
            "Movements": 1354,
            "Points": {
             "im": 48,
             "re": -10
            },
            "Real_Axis": -10
           },
           {
            "Class": "composite",
            "Imaginary_Axis": 49,
            "Movements": 1355,
            "Points": {
             "im": 49,
             "re": -10
            },
            "Real_Axis": -10
           },
           {
            "Class": "composite",
            "Imaginary_Axis": 50,
            "Movements": 1356,
            "Points": {
             "im": 50,
             "re": -10
            },
            "Real_Axis": -10
           },
           {
            "Class": "composite",
            "Imaginary_Axis": 51,
            "Movements": 1357,
            "Points": {
             "im": 51,
             "re": -10
            },
            "Real_Axis": -10
           },
           {
            "Class": "composite",
            "Imaginary_Axis": 52,
            "Movements": 1358,
            "Points": {
             "im": 52,
             "re": -10
            },
            "Real_Axis": -10
           },
           {
            "Class": "prime",
            "Imaginary_Axis": 53,
            "Movements": 1359,
            "Points": {
             "im": 53,
             "re": -10
            },
            "Real_Axis": -10
           },
           {
            "Class": "composite",
            "Imaginary_Axis": 53,
            "Movements": 1360,
            "Points": {
             "im": 53,
             "re": -11
            },
            "Real_Axis": -11
           },
           {
            "Class": "prime",
            "Imaginary_Axis": 53,
            "Movements": 1361,
            "Points": {
             "im": 53,
             "re": -12
            },
            "Real_Axis": -12
           },
           {
            "Class": "composite",
            "Imaginary_Axis": 52,
            "Movements": 1362,
            "Points": {
             "im": 52,
             "re": -12
            },
            "Real_Axis": -12
           },
           {
            "Class": "composite",
            "Imaginary_Axis": 51,
            "Movements": 1363,
            "Points": {
             "im": 51,
             "re": -12
            },
            "Real_Axis": -12
           },
           {
            "Class": "composite",
            "Imaginary_Axis": 50,
            "Movements": 1364,
            "Points": {
             "im": 50,
             "re": -12
            },
            "Real_Axis": -12
           },
           {
            "Class": "composite",
            "Imaginary_Axis": 49,
            "Movements": 1365,
            "Points": {
             "im": 49,
             "re": -12
            },
            "Real_Axis": -12
           },
           {
            "Class": "composite",
            "Imaginary_Axis": 48,
            "Movements": 1366,
            "Points": {
             "im": 48,
             "re": -12
            },
            "Real_Axis": -12
           },
           {
            "Class": "composite",
            "Imaginary_Axis": 47,
            "Movements": 1367,
            "Points": {
             "im": 47,
             "re": -12
            },
            "Real_Axis": -12
           },
           {
            "Class": "composite",
            "Imaginary_Axis": 46,
            "Movements": 1368,
            "Points": {
             "im": 46,
             "re": -12
            },
            "Real_Axis": -12
           },
           {
            "Class": "composite",
            "Imaginary_Axis": 45,
            "Movements": 1369,
            "Points": {
             "im": 45,
             "re": -12
            },
            "Real_Axis": -12
           },
           {
            "Class": "composite",
            "Imaginary_Axis": 44,
            "Movements": 1370,
            "Points": {
             "im": 44,
             "re": -12
            },
            "Real_Axis": -12
           },
           {
            "Class": "prime",
            "Imaginary_Axis": 43,
            "Movements": 1371,
            "Points": {
             "im": 43,
             "re": -12
            },
            "Real_Axis": -12
           },
           {
            "Class": "composite",
            "Imaginary_Axis": 43,
            "Movements": 1372,
            "Points": {
             "im": 43,
             "re": -11
            },
            "Real_Axis": -11
           },
           {
            "Class": "prime",
            "Imaginary_Axis": 43,
            "Movements": 1373,
            "Points": {
             "im": 43,
             "re": -10
            },
            "Real_Axis": -10
           },
           {
            "Class": "composite",
            "Imaginary_Axis": 44,
            "Movements": 1374,
            "Points": {
             "im": 44,
             "re": -10
            },
            "Real_Axis": -10
           },
           {
            "Class": "composite",
            "Imaginary_Axis": 45,
            "Movements": 1375,
            "Points": {
             "im": 45,
             "re": -10
            },
            "Real_Axis": -10
           },
           {
            "Class": "composite",
            "Imaginary_Axis": 46,
            "Movements": 1376,
            "Points": {
             "im": 46,
             "re": -10
            },
            "Real_Axis": -10
           },
           {
            "Class": "prime",
            "Imaginary_Axis": 47,
            "Movements": 1377,
            "Points": {
             "im": 47,
             "re": -10
            },
            "Real_Axis": -10
           },
           {
            "Class": "composite",
            "Imaginary_Axis": 47,
            "Movements": 1378,
            "Points": {
             "im": 47,
             "re": -11
            },
            "Real_Axis": -11
           },
           {
            "Class": "composite",
            "Imaginary_Axis": 47,
            "Movements": 1379,
            "Points": {
             "im": 47,
             "re": -12
            },
            "Real_Axis": -12
           },
           {
            "Class": "composite",
            "Imaginary_Axis": 47,
            "Movements": 1380,
            "Points": {
             "im": 47,
             "re": -13
            },
            "Real_Axis": -13
           },
           {
            "Class": "composite",
            "Imaginary_Axis": 47,
            "Movements": 1381,
            "Points": {
             "im": 47,
             "re": -14
            },
            "Real_Axis": -14
           },
           {
            "Class": "composite",
            "Imaginary_Axis": 47,
            "Movements": 1382,
            "Points": {
             "im": 47,
             "re": -15
            },
            "Real_Axis": -15
           },
           {
            "Class": "composite",
            "Imaginary_Axis": 47,
            "Movements": 1383,
            "Points": {
             "im": 47,
             "re": -16
            },
            "Real_Axis": -16
           },
           {
            "Class": "composite",
            "Imaginary_Axis": 47,
            "Movements": 1384,
            "Points": {
             "im": 47,
             "re": -17
            },
            "Real_Axis": -17
           },
           {
            "Class": "composite",
            "Imaginary_Axis": 47,
            "Movements": 1385,
            "Points": {
             "im": 47,
             "re": -18
            },
            "Real_Axis": -18
           },
           {
            "Class": "composite",
            "Imaginary_Axis": 47,
            "Movements": 1386,
            "Points": {
             "im": 47,
             "re": -19
            },
            "Real_Axis": -19
           },
           {
            "Class": "prime",
            "Imaginary_Axis": 47,
            "Movements": 1387,
            "Points": {
             "im": 47,
             "re": -20
            },
            "Real_Axis": -20
           },
           {
            "Class": "composite",
            "Imaginary_Axis": 46,
            "Movements": 1388,
            "Points": {
             "im": 46,
             "re": -20
            },
            "Real_Axis": -20
           },
           {
            "Class": "composite",
            "Imaginary_Axis": 45,
            "Movements": 1389,
            "Points": {
             "im": 45,
             "re": -20
            },
            "Real_Axis": -20
           },
           {
            "Class": "composite",
            "Imaginary_Axis": 44,
            "Movements": 1390,
            "Points": {
             "im": 44,
             "re": -20
            },
            "Real_Axis": -20
           },
           {
            "Class": "composite",
            "Imaginary_Axis": 43,
            "Movements": 1391,
            "Points": {
             "im": 43,
             "re": -20
            },
            "Real_Axis": -20
           },
           {
            "Class": "composite",
            "Imaginary_Axis": 42,
            "Movements": 1392,
            "Points": {
             "im": 42,
             "re": -20
            },
            "Real_Axis": -20
           },
           {
            "Class": "prime",
            "Imaginary_Axis": 41,
            "Movements": 1393,
            "Points": {
             "im": 41,
             "re": -20
            },
            "Real_Axis": -20
           },
           {
            "Class": "composite",
            "Imaginary_Axis": 41,
            "Movements": 1394,
            "Points": {
             "im": 41,
             "re": -19
            },
            "Real_Axis": -19
           },
           {
            "Class": "composite",
            "Imaginary_Axis": 41,
            "Movements": 1395,
            "Points": {
             "im": 41,
             "re": -18
            },
            "Real_Axis": -18
           },
           {
            "Class": "composite",
            "Imaginary_Axis": 41,
            "Movements": 1396,
            "Points": {
             "im": 41,
             "re": -17
            },
            "Real_Axis": -17
           },
           {
            "Class": "composite",
            "Imaginary_Axis": 41,
            "Movements": 1397,
            "Points": {
             "im": 41,
             "re": -16
            },
            "Real_Axis": -16
           },
           {
            "Class": "composite",
            "Imaginary_Axis": 41,
            "Movements": 1398,
            "Points": {
             "im": 41,
             "re": -15
            },
            "Real_Axis": -15
           },
           {
            "Class": "prime",
            "Imaginary_Axis": 41,
            "Movements": 1399,
            "Points": {
             "im": 41,
             "re": -14
            },
            "Real_Axis": -14
           },
           {
            "Class": "composite",
            "Imaginary_Axis": 42,
            "Movements": 1400,
            "Points": {
             "im": 42,
             "re": -14
            },
            "Real_Axis": -14
           },
           {
            "Class": "composite",
            "Imaginary_Axis": 43,
            "Movements": 1401,
            "Points": {
             "im": 43,
             "re": -14
            },
            "Real_Axis": -14
           },
           {
            "Class": "composite",
            "Imaginary_Axis": 44,
            "Movements": 1402,
            "Points": {
             "im": 44,
             "re": -14
            },
            "Real_Axis": -14
           },
           {
            "Class": "prime",
            "Imaginary_Axis": 45,
            "Movements": 1403,
            "Points": {
             "im": 45,
             "re": -14
            },
            "Real_Axis": -14
           },
           {
            "Class": "composite",
            "Imaginary_Axis": 45,
            "Movements": 1404,
            "Points": {
             "im": 45,
             "re": -15
            },
            "Real_Axis": -15
           },
           {
            "Class": "prime",
            "Imaginary_Axis": 45,
            "Movements": 1405,
            "Points": {
             "im": 45,
             "re": -16
            },
            "Real_Axis": -16
           },
           {
            "Class": "composite",
            "Imaginary_Axis": 44,
            "Movements": 1406,
            "Points": {
             "im": 44,
             "re": -16
            },
            "Real_Axis": -16
           },
           {
            "Class": "composite",
            "Imaginary_Axis": 43,
            "Movements": 1407,
            "Points": {
             "im": 43,
             "re": -16
            },
            "Real_Axis": -16
           },
           {
            "Class": "composite",
            "Imaginary_Axis": 42,
            "Movements": 1408,
            "Points": {
             "im": 42,
             "re": -16
            },
            "Real_Axis": -16
           },
           {
            "Class": "composite",
            "Imaginary_Axis": 41,
            "Movements": 1409,
            "Points": {
             "im": 41,
             "re": -16
            },
            "Real_Axis": -16
           },
           {
            "Class": "composite",
            "Imaginary_Axis": 40,
            "Movements": 1410,
            "Points": {
             "im": 40,
             "re": -16
            },
            "Real_Axis": -16
           },
           {
            "Class": "prime",
            "Imaginary_Axis": 39,
            "Movements": 1411,
            "Points": {
             "im": 39,
             "re": -16
            },
            "Real_Axis": -16
           },
           {
            "Class": "composite",
            "Imaginary_Axis": 39,
            "Movements": 1412,
            "Points": {
             "im": 39,
             "re": -15
            },
            "Real_Axis": -15
           },
           {
            "Class": "composite",
            "Imaginary_Axis": 39,
            "Movements": 1413,
            "Points": {
             "im": 39,
             "re": -14
            },
            "Real_Axis": -14
           },
           {
            "Class": "composite",
            "Imaginary_Axis": 39,
            "Movements": 1414,
            "Points": {
             "im": 39,
             "re": -13
            },
            "Real_Axis": -13
           },
           {
            "Class": "composite",
            "Imaginary_Axis": 39,
            "Movements": 1415,
            "Points": {
             "im": 39,
             "re": -12
            },
            "Real_Axis": -12
           },
           {
            "Class": "composite",
            "Imaginary_Axis": 39,
            "Movements": 1416,
            "Points": {
             "im": 39,
             "re": -11
            },
            "Real_Axis": -11
           },
           {
            "Class": "prime",
            "Imaginary_Axis": 39,
            "Movements": 1417,
            "Points": {
             "im": 39,
             "re": -10
            },
            "Real_Axis": -10
           },
           {
            "Class": "composite",
            "Imaginary_Axis": 40,
            "Movements": 1418,
            "Points": {
             "im": 40,
             "re": -10
            },
            "Real_Axis": -10
           },
           {
            "Class": "composite",
            "Imaginary_Axis": 41,
            "Movements": 1419,
            "Points": {
             "im": 41,
             "re": -10
            },
            "Real_Axis": -10
           },
           {
            "Class": "composite",
            "Imaginary_Axis": 42,
            "Movements": 1420,
            "Points": {
             "im": 42,
             "re": -10
            },
            "Real_Axis": -10
           },
           {
            "Class": "prime",
            "Imaginary_Axis": 43,
            "Movements": 1421,
            "Points": {
             "im": 43,
             "re": -10
            },
            "Real_Axis": -10
           },
           {
            "Class": "composite",
            "Imaginary_Axis": 43,
            "Movements": 1422,
            "Points": {
             "im": 43,
             "re": -11
            },
            "Real_Axis": -11
           },
           {
            "Class": "prime",
            "Imaginary_Axis": 43,
            "Movements": 1423,
            "Points": {
             "im": 43,
             "re": -12
            },
            "Real_Axis": -12
           },
           {
            "Class": "composite",
            "Imaginary_Axis": 42,
            "Movements": 1424,
            "Points": {
             "im": 42,
             "re": -12
            },
            "Real_Axis": -12
           },
           {
            "Class": "composite",
            "Imaginary_Axis": 41,
            "Movements": 1425,
            "Points": {
             "im": 41,
             "re": -12
            },
            "Real_Axis": -12
           },
           {
            "Class": "composite",
            "Imaginary_Axis": 40,
            "Movements": 1426,
            "Points": {
             "im": 40,
             "re": -12
            },
            "Real_Axis": -12
           },
           {
            "Class": "composite",
            "Imaginary_Axis": 39,
            "Movements": 1427,
            "Points": {
             "im": 39,
             "re": -12
            },
            "Real_Axis": -12
           },
           {
            "Class": "composite",
            "Imaginary_Axis": 38,
            "Movements": 1428,
            "Points": {
             "im": 38,
             "re": -12
            },
            "Real_Axis": -12
           },
           {
            "Class": "composite",
            "Imaginary_Axis": 37,
            "Movements": 1429,
            "Points": {
             "im": 37,
             "re": -12
            },
            "Real_Axis": -12
           },
           {
            "Class": "composite",
            "Imaginary_Axis": 36,
            "Movements": 1430,
            "Points": {
             "im": 36,
             "re": -12
            },
            "Real_Axis": -12
           },
           {
            "Class": "composite",
            "Imaginary_Axis": 35,
            "Movements": 1431,
            "Points": {
             "im": 35,
             "re": -12
            },
            "Real_Axis": -12
           },
           {
            "Class": "composite",
            "Imaginary_Axis": 34,
            "Movements": 1432,
            "Points": {
             "im": 34,
             "re": -12
            },
            "Real_Axis": -12
           },
           {
            "Class": "composite",
            "Imaginary_Axis": 33,
            "Movements": 1433,
            "Points": {
             "im": 33,
             "re": -12
            },
            "Real_Axis": -12
           },
           {
            "Class": "composite",
            "Imaginary_Axis": 32,
            "Movements": 1434,
            "Points": {
             "im": 32,
             "re": -12
            },
            "Real_Axis": -12
           },
           {
            "Class": "composite",
            "Imaginary_Axis": 31,
            "Movements": 1435,
            "Points": {
             "im": 31,
             "re": -12
            },
            "Real_Axis": -12
           },
           {
            "Class": "composite",
            "Imaginary_Axis": 30,
            "Movements": 1436,
            "Points": {
             "im": 30,
             "re": -12
            },
            "Real_Axis": -12
           },
           {
            "Class": "composite",
            "Imaginary_Axis": 29,
            "Movements": 1437,
            "Points": {
             "im": 29,
             "re": -12
            },
            "Real_Axis": -12
           },
           {
            "Class": "composite",
            "Imaginary_Axis": 28,
            "Movements": 1438,
            "Points": {
             "im": 28,
             "re": -12
            },
            "Real_Axis": -12
           },
           {
            "Class": "composite",
            "Imaginary_Axis": 27,
            "Movements": 1439,
            "Points": {
             "im": 27,
             "re": -12
            },
            "Real_Axis": -12
           },
           {
            "Class": "composite",
            "Imaginary_Axis": 26,
            "Movements": 1440,
            "Points": {
             "im": 26,
             "re": -12
            },
            "Real_Axis": -12
           },
           {
            "Class": "prime",
            "Imaginary_Axis": 25,
            "Movements": 1441,
            "Points": {
             "im": 25,
             "re": -12
            },
            "Real_Axis": -12
           },
           {
            "Class": "composite",
            "Imaginary_Axis": 25,
            "Movements": 1442,
            "Points": {
             "im": 25,
             "re": -11
            },
            "Real_Axis": -11
           },
           {
            "Class": "composite",
            "Imaginary_Axis": 25,
            "Movements": 1443,
            "Points": {
             "im": 25,
             "re": -10
            },
            "Real_Axis": -10
           },
           {
            "Class": "composite",
            "Imaginary_Axis": 25,
            "Movements": 1444,
            "Points": {
             "im": 25,
             "re": -9
            },
            "Real_Axis": -9
           },
           {
            "Class": "composite",
            "Imaginary_Axis": 25,
            "Movements": 1445,
            "Points": {
             "im": 25,
             "re": -8
            },
            "Real_Axis": -8
           },
           {
            "Class": "composite",
            "Imaginary_Axis": 25,
            "Movements": 1446,
            "Points": {
             "im": 25,
             "re": -7
            },
            "Real_Axis": -7
           },
           {
            "Class": "prime",
            "Imaginary_Axis": 25,
            "Movements": 1447,
            "Points": {
             "im": 25,
             "re": -6
            },
            "Real_Axis": -6
           },
           {
            "Class": "composite",
            "Imaginary_Axis": 26,
            "Movements": 1448,
            "Points": {
             "im": 26,
             "re": -6
            },
            "Real_Axis": -6
           },
           {
            "Class": "composite",
            "Imaginary_Axis": 27,
            "Movements": 1449,
            "Points": {
             "im": 27,
             "re": -6
            },
            "Real_Axis": -6
           },
           {
            "Class": "composite",
            "Imaginary_Axis": 28,
            "Movements": 1450,
            "Points": {
             "im": 28,
             "re": -6
            },
            "Real_Axis": -6
           },
           {
            "Class": "prime",
            "Imaginary_Axis": 29,
            "Movements": 1451,
            "Points": {
             "im": 29,
             "re": -6
            },
            "Real_Axis": -6
           },
           {
            "Class": "composite",
            "Imaginary_Axis": 29,
            "Movements": 1452,
            "Points": {
             "im": 29,
             "re": -7
            },
            "Real_Axis": -7
           },
           {
            "Class": "composite",
            "Imaginary_Axis": 29,
            "Movements": 1453,
            "Points": {
             "im": 29,
             "re": -8
            },
            "Real_Axis": -8
           },
           {
            "Class": "composite",
            "Imaginary_Axis": 29,
            "Movements": 1454,
            "Points": {
             "im": 29,
             "re": -9
            },
            "Real_Axis": -9
           },
           {
            "Class": "prime",
            "Imaginary_Axis": 29,
            "Movements": 1455,
            "Points": {
             "im": 29,
             "re": -10
            },
            "Real_Axis": -10
           },
           {
            "Class": "composite",
            "Imaginary_Axis": 28,
            "Movements": 1456,
            "Points": {
             "im": 28,
             "re": -10
            },
            "Real_Axis": -10
           },
           {
            "Class": "prime",
            "Imaginary_Axis": 27,
            "Movements": 1457,
            "Points": {
             "im": 27,
             "re": -10
            },
            "Real_Axis": -10
           },
           {
            "Class": "composite",
            "Imaginary_Axis": 27,
            "Movements": 1458,
            "Points": {
             "im": 27,
             "re": -9
            },
            "Real_Axis": -9
           },
           {
            "Class": "composite",
            "Imaginary_Axis": 27,
            "Movements": 1459,
            "Points": {
             "im": 27,
             "re": -8
            },
            "Real_Axis": -8
           },
           {
            "Class": "composite",
            "Imaginary_Axis": 27,
            "Movements": 1460,
            "Points": {
             "im": 27,
             "re": -7
            },
            "Real_Axis": -7
           },
           {
            "Class": "composite",
            "Imaginary_Axis": 27,
            "Movements": 1461,
            "Points": {
             "im": 27,
             "re": -6
            },
            "Real_Axis": -6
           },
           {
            "Class": "composite",
            "Imaginary_Axis": 27,
            "Movements": 1462,
            "Points": {
             "im": 27,
             "re": -5
            },
            "Real_Axis": -5
           },
           {
            "Class": "composite",
            "Imaginary_Axis": 27,
            "Movements": 1463,
            "Points": {
             "im": 27,
             "re": -4
            },
            "Real_Axis": -4
           },
           {
            "Class": "composite",
            "Imaginary_Axis": 27,
            "Movements": 1464,
            "Points": {
             "im": 27,
             "re": -3
            },
            "Real_Axis": -3
           },
           {
            "Class": "prime",
            "Imaginary_Axis": 27,
            "Movements": 1465,
            "Points": {
             "im": 27,
             "re": -2
            },
            "Real_Axis": -2
           },
           {
            "Class": "composite",
            "Imaginary_Axis": 28,
            "Movements": 1466,
            "Points": {
             "im": 28,
             "re": -2
            },
            "Real_Axis": -2
           },
           {
            "Class": "composite",
            "Imaginary_Axis": 29,
            "Movements": 1467,
            "Points": {
             "im": 29,
             "re": -2
            },
            "Real_Axis": -2
           },
           {
            "Class": "composite",
            "Imaginary_Axis": 30,
            "Movements": 1468,
            "Points": {
             "im": 30,
             "re": -2
            },
            "Real_Axis": -2
           },
           {
            "Class": "composite",
            "Imaginary_Axis": 31,
            "Movements": 1469,
            "Points": {
             "im": 31,
             "re": -2
            },
            "Real_Axis": -2
           },
           {
            "Class": "composite",
            "Imaginary_Axis": 32,
            "Movements": 1470,
            "Points": {
             "im": 32,
             "re": -2
            },
            "Real_Axis": -2
           },
           {
            "Class": "prime",
            "Imaginary_Axis": 33,
            "Movements": 1471,
            "Points": {
             "im": 33,
             "re": -2
            },
            "Real_Axis": -2
           },
           {
            "Class": "composite",
            "Imaginary_Axis": 33,
            "Movements": 1472,
            "Points": {
             "im": 33,
             "re": -3
            },
            "Real_Axis": -3
           },
           {
            "Class": "composite",
            "Imaginary_Axis": 33,
            "Movements": 1473,
            "Points": {
             "im": 33,
             "re": -4
            },
            "Real_Axis": -4
           },
           {
            "Class": "composite",
            "Imaginary_Axis": 33,
            "Movements": 1474,
            "Points": {
             "im": 33,
             "re": -5
            },
            "Real_Axis": -5
           },
           {
            "Class": "composite",
            "Imaginary_Axis": 33,
            "Movements": 1475,
            "Points": {
             "im": 33,
             "re": -6
            },
            "Real_Axis": -6
           },
           {
            "Class": "composite",
            "Imaginary_Axis": 33,
            "Movements": 1476,
            "Points": {
             "im": 33,
             "re": -7
            },
            "Real_Axis": -7
           },
           {
            "Class": "prime",
            "Imaginary_Axis": 33,
            "Movements": 1477,
            "Points": {
             "im": 33,
             "re": -8
            },
            "Real_Axis": -8
           },
           {
            "Class": "composite",
            "Imaginary_Axis": 32,
            "Movements": 1478,
            "Points": {
             "im": 32,
             "re": -8
            },
            "Real_Axis": -8
           },
           {
            "Class": "composite",
            "Imaginary_Axis": 31,
            "Movements": 1479,
            "Points": {
             "im": 31,
             "re": -8
            },
            "Real_Axis": -8
           },
           {
            "Class": "composite",
            "Imaginary_Axis": 30,
            "Movements": 1480,
            "Points": {
             "im": 30,
             "re": -8
            },
            "Real_Axis": -8
           },
           {
            "Class": "composite",
            "Imaginary_Axis": 29,
            "Movements": 1481,
            "Points": {
             "im": 29,
             "re": -8
            },
            "Real_Axis": -8
           },
           {
            "Class": "composite",
            "Imaginary_Axis": 28,
            "Movements": 1482,
            "Points": {
             "im": 28,
             "re": -8
            },
            "Real_Axis": -8
           },
           {
            "Class": "composite",
            "Imaginary_Axis": 27,
            "Movements": 1483,
            "Points": {
             "im": 27,
             "re": -8
            },
            "Real_Axis": -8
           },
           {
            "Class": "composite",
            "Imaginary_Axis": 26,
            "Movements": 1484,
            "Points": {
             "im": 26,
             "re": -8
            },
            "Real_Axis": -8
           },
           {
            "Class": "composite",
            "Imaginary_Axis": 25,
            "Movements": 1485,
            "Points": {
             "im": 25,
             "re": -8
            },
            "Real_Axis": -8
           },
           {
            "Class": "composite",
            "Imaginary_Axis": 24,
            "Movements": 1486,
            "Points": {
             "im": 24,
             "re": -8
            },
            "Real_Axis": -8
           },
           {
            "Class": "prime",
            "Imaginary_Axis": 23,
            "Movements": 1487,
            "Points": {
             "im": 23,
             "re": -8
            },
            "Real_Axis": -8
           },
           {
            "Class": "composite",
            "Imaginary_Axis": 23,
            "Movements": 1488,
            "Points": {
             "im": 23,
             "re": -7
            },
            "Real_Axis": -7
           },
           {
            "Class": "composite",
            "Imaginary_Axis": 23,
            "Movements": 1489,
            "Points": {
             "im": 23,
             "re": -6
            },
            "Real_Axis": -6
           },
           {
            "Class": "composite",
            "Imaginary_Axis": 23,
            "Movements": 1490,
            "Points": {
             "im": 23,
             "re": -5
            },
            "Real_Axis": -5
           },
           {
            "Class": "composite",
            "Imaginary_Axis": 23,
            "Movements": 1491,
            "Points": {
             "im": 23,
             "re": -4
            },
            "Real_Axis": -4
           },
           {
            "Class": "composite",
            "Imaginary_Axis": 23,
            "Movements": 1492,
            "Points": {
             "im": 23,
             "re": -3
            },
            "Real_Axis": -3
           },
           {
            "Class": "composite",
            "Imaginary_Axis": 23,
            "Movements": 1493,
            "Points": {
             "im": 23,
             "re": -2
            },
            "Real_Axis": -2
           },
           {
            "Class": "composite",
            "Imaginary_Axis": 23,
            "Movements": 1494,
            "Points": {
             "im": 23,
             "re": -1
            },
            "Real_Axis": -1
           },
           {
            "Class": "prime",
            "Imaginary_Axis": 23,
            "Movements": 1495,
            "Points": {
             "im": 23,
             "re": 0
            },
            "Real_Axis": 0
           },
           {
            "Class": "composite",
            "Imaginary_Axis": 24,
            "Movements": 1496,
            "Points": {
             "im": 24,
             "re": 0
            },
            "Real_Axis": 0
           },
           {
            "Class": "composite",
            "Imaginary_Axis": 25,
            "Movements": 1497,
            "Points": {
             "im": 25,
             "re": 0
            },
            "Real_Axis": 0
           },
           {
            "Class": "composite",
            "Imaginary_Axis": 26,
            "Movements": 1498,
            "Points": {
             "im": 26,
             "re": 0
            },
            "Real_Axis": 0
           },
           {
            "Class": "composite",
            "Imaginary_Axis": 27,
            "Movements": 1499,
            "Points": {
             "im": 27,
             "re": 0
            },
            "Real_Axis": 0
           },
           {
            "Class": "composite",
            "Imaginary_Axis": 28,
            "Movements": 1500,
            "Points": {
             "im": 28,
             "re": 0
            },
            "Real_Axis": 0
           },
           {
            "Class": "composite",
            "Imaginary_Axis": 29,
            "Movements": 1501,
            "Points": {
             "im": 29,
             "re": 0
            },
            "Real_Axis": 0
           },
           {
            "Class": "composite",
            "Imaginary_Axis": 30,
            "Movements": 1502,
            "Points": {
             "im": 30,
             "re": 0
            },
            "Real_Axis": 0
           },
           {
            "Class": "prime",
            "Imaginary_Axis": 31,
            "Movements": 1503,
            "Points": {
             "im": 31,
             "re": 0
            },
            "Real_Axis": 0
           },
           {
            "Class": "composite",
            "Imaginary_Axis": 31,
            "Movements": 1504,
            "Points": {
             "im": 31,
             "re": -1
            },
            "Real_Axis": -1
           },
           {
            "Class": "composite",
            "Imaginary_Axis": 31,
            "Movements": 1505,
            "Points": {
             "im": 31,
             "re": -2
            },
            "Real_Axis": -2
           },
           {
            "Class": "composite",
            "Imaginary_Axis": 31,
            "Movements": 1506,
            "Points": {
             "im": 31,
             "re": -3
            },
            "Real_Axis": -3
           },
           {
            "Class": "prime",
            "Imaginary_Axis": 31,
            "Movements": 1507,
            "Points": {
             "im": 31,
             "re": -4
            },
            "Real_Axis": -4
           },
           {
            "Class": "composite",
            "Imaginary_Axis": 30,
            "Movements": 1508,
            "Points": {
             "im": 30,
             "re": -4
            },
            "Real_Axis": -4
           },
           {
            "Class": "prime",
            "Imaginary_Axis": 29,
            "Movements": 1509,
            "Points": {
             "im": 29,
             "re": -4
            },
            "Real_Axis": -4
           },
           {
            "Class": "composite",
            "Imaginary_Axis": 29,
            "Movements": 1510,
            "Points": {
             "im": 29,
             "re": -3
            },
            "Real_Axis": -3
           },
           {
            "Class": "composite",
            "Imaginary_Axis": 29,
            "Movements": 1511,
            "Points": {
             "im": 29,
             "re": -2
            },
            "Real_Axis": -2
           },
           {
            "Class": "composite",
            "Imaginary_Axis": 29,
            "Movements": 1512,
            "Points": {
             "im": 29,
             "re": -1
            },
            "Real_Axis": -1
           },
           {
            "Class": "composite",
            "Imaginary_Axis": 29,
            "Movements": 1513,
            "Points": {
             "im": 29,
             "re": 0
            },
            "Real_Axis": 0
           },
           {
            "Class": "composite",
            "Imaginary_Axis": 29,
            "Movements": 1514,
            "Points": {
             "im": 29,
             "re": 1
            },
            "Real_Axis": 1
           },
           {
            "Class": "composite",
            "Imaginary_Axis": 29,
            "Movements": 1515,
            "Points": {
             "im": 29,
             "re": 2
            },
            "Real_Axis": 2
           },
           {
            "Class": "composite",
            "Imaginary_Axis": 29,
            "Movements": 1516,
            "Points": {
             "im": 29,
             "re": 3
            },
            "Real_Axis": 3
           },
           {
            "Class": "prime",
            "Imaginary_Axis": 29,
            "Movements": 1517,
            "Points": {
             "im": 29,
             "re": 4
            },
            "Real_Axis": 4
           },
           {
            "Class": "composite",
            "Imaginary_Axis": 30,
            "Movements": 1518,
            "Points": {
             "im": 30,
             "re": 4
            },
            "Real_Axis": 4
           },
           {
            "Class": "prime",
            "Imaginary_Axis": 31,
            "Movements": 1519,
            "Points": {
             "im": 31,
             "re": 4
            },
            "Real_Axis": 4
           },
           {
            "Class": "composite",
            "Imaginary_Axis": 31,
            "Movements": 1520,
            "Points": {
             "im": 31,
             "re": 3
            },
            "Real_Axis": 3
           },
           {
            "Class": "composite",
            "Imaginary_Axis": 31,
            "Movements": 1521,
            "Points": {
             "im": 31,
             "re": 2
            },
            "Real_Axis": 2
           },
           {
            "Class": "composite",
            "Imaginary_Axis": 31,
            "Movements": 1522,
            "Points": {
             "im": 31,
             "re": 1
            },
            "Real_Axis": 1
           },
           {
            "Class": "prime",
            "Imaginary_Axis": 31,
            "Movements": 1523,
            "Points": {
             "im": 31,
             "re": 0
            },
            "Real_Axis": 0
           },
           {
            "Class": "composite",
            "Imaginary_Axis": 30,
            "Movements": 1524,
            "Points": {
             "im": 30,
             "re": 0
            },
            "Real_Axis": 0
           },
           {
            "Class": "composite",
            "Imaginary_Axis": 29,
            "Movements": 1525,
            "Points": {
             "im": 29,
             "re": 0
            },
            "Real_Axis": 0
           },
           {
            "Class": "composite",
            "Imaginary_Axis": 28,
            "Movements": 1526,
            "Points": {
             "im": 28,
             "re": 0
            },
            "Real_Axis": 0
           },
           {
            "Class": "composite",
            "Imaginary_Axis": 27,
            "Movements": 1527,
            "Points": {
             "im": 27,
             "re": 0
            },
            "Real_Axis": 0
           },
           {
            "Class": "composite",
            "Imaginary_Axis": 26,
            "Movements": 1528,
            "Points": {
             "im": 26,
             "re": 0
            },
            "Real_Axis": 0
           },
           {
            "Class": "composite",
            "Imaginary_Axis": 25,
            "Movements": 1529,
            "Points": {
             "im": 25,
             "re": 0
            },
            "Real_Axis": 0
           },
           {
            "Class": "composite",
            "Imaginary_Axis": 24,
            "Movements": 1530,
            "Points": {
             "im": 24,
             "re": 0
            },
            "Real_Axis": 0
           },
           {
            "Class": "prime",
            "Imaginary_Axis": 23,
            "Movements": 1531,
            "Points": {
             "im": 23,
             "re": 0
            },
            "Real_Axis": 0
           },
           {
            "Class": "composite",
            "Imaginary_Axis": 23,
            "Movements": 1532,
            "Points": {
             "im": 23,
             "re": 1
            },
            "Real_Axis": 1
           },
           {
            "Class": "composite",
            "Imaginary_Axis": 23,
            "Movements": 1533,
            "Points": {
             "im": 23,
             "re": 2
            },
            "Real_Axis": 2
           },
           {
            "Class": "composite",
            "Imaginary_Axis": 23,
            "Movements": 1534,
            "Points": {
             "im": 23,
             "re": 3
            },
            "Real_Axis": 3
           },
           {
            "Class": "composite",
            "Imaginary_Axis": 23,
            "Movements": 1535,
            "Points": {
             "im": 23,
             "re": 4
            },
            "Real_Axis": 4
           },
           {
            "Class": "composite",
            "Imaginary_Axis": 23,
            "Movements": 1536,
            "Points": {
             "im": 23,
             "re": 5
            },
            "Real_Axis": 5
           }
          ]
         },
         "encoding": {
          "order": {
           "field": "Movements",
           "type": "ordinal"
          },
          "x": {
           "field": "Real_Axis",
           "title": "Real Axis; Span = 5 + 23im; Movements = 1536",
           "type": "quantitative"
          },
          "y": {
           "field": "Imaginary_Axis",
           "title": "Imaginary Axis",
           "type": "quantitative"
          }
         },
         "mark": {
          "color": "black",
          "opacity": 1,
          "type": "line"
         }
        },
        {
         "data": {
          "values": [
           {
            "Class": "prime",
            "Imaginary_Axis": 23,
            "Movements": 3,
            "Points": {
             "im": 23,
             "re": 8
            },
            "Real_Axis": 8
           },
           {
            "Class": "prime",
            "Imaginary_Axis": 33,
            "Movements": 13,
            "Points": {
             "im": 33,
             "re": 8
            },
            "Real_Axis": 8
           },
           {
            "Class": "prime",
            "Imaginary_Axis": 33,
            "Movements": 19,
            "Points": {
             "im": 33,
             "re": 2
            },
            "Real_Axis": 2
           },
           {
            "Class": "prime",
            "Imaginary_Axis": 27,
            "Movements": 25,
            "Points": {
             "im": 27,
             "re": 2
            },
            "Real_Axis": 2
           },
           {
            "Class": "prime",
            "Imaginary_Axis": 27,
            "Movements": 33,
            "Points": {
             "im": 27,
             "re": 10
            },
            "Real_Axis": 10
           },
           {
            "Class": "prime",
            "Imaginary_Axis": 29,
            "Movements": 35,
            "Points": {
             "im": 29,
             "re": 10
            },
            "Real_Axis": 10
           },
           {
            "Class": "prime",
            "Imaginary_Axis": 29,
            "Movements": 39,
            "Points": {
             "im": 29,
             "re": 6
            },
            "Real_Axis": 6
           },
           {
            "Class": "prime",
            "Imaginary_Axis": 25,
            "Movements": 43,
            "Points": {
             "im": 25,
             "re": 6
            },
            "Real_Axis": 6
           },
           {
            "Class": "prime",
            "Imaginary_Axis": 25,
            "Movements": 49,
            "Points": {
             "im": 25,
             "re": 12
            },
            "Real_Axis": 12
           },
           {
            "Class": "prime",
            "Imaginary_Axis": 43,
            "Movements": 67,
            "Points": {
             "im": 43,
             "re": 12
            },
            "Real_Axis": 12
           },
           {
            "Class": "prime",
            "Imaginary_Axis": 43,
            "Movements": 69,
            "Points": {
             "im": 43,
             "re": 10
            },
            "Real_Axis": 10
           },
           {
            "Class": "prime",
            "Imaginary_Axis": 39,
            "Movements": 73,
            "Points": {
             "im": 39,
             "re": 10
            },
            "Real_Axis": 10
           },
           {
            "Class": "prime",
            "Imaginary_Axis": 39,
            "Movements": 79,
            "Points": {
             "im": 39,
             "re": 16
            },
            "Real_Axis": 16
           },
           {
            "Class": "prime",
            "Imaginary_Axis": 45,
            "Movements": 85,
            "Points": {
             "im": 45,
             "re": 16
            },
            "Real_Axis": 16
           },
           {
            "Class": "prime",
            "Imaginary_Axis": 45,
            "Movements": 87,
            "Points": {
             "im": 45,
             "re": 14
            },
            "Real_Axis": 14
           },
           {
            "Class": "prime",
            "Imaginary_Axis": 41,
            "Movements": 91,
            "Points": {
             "im": 41,
             "re": 14
            },
            "Real_Axis": 14
           },
           {
            "Class": "prime",
            "Imaginary_Axis": 41,
            "Movements": 97,
            "Points": {
             "im": 41,
             "re": 20
            },
            "Real_Axis": 20
           },
           {
            "Class": "prime",
            "Imaginary_Axis": 47,
            "Movements": 103,
            "Points": {
             "im": 47,
             "re": 20
            },
            "Real_Axis": 20
           },
           {
            "Class": "prime",
            "Imaginary_Axis": 47,
            "Movements": 113,
            "Points": {
             "im": 47,
             "re": 10
            },
            "Real_Axis": 10
           },
           {
            "Class": "prime",
            "Imaginary_Axis": 43,
            "Movements": 117,
            "Points": {
             "im": 43,
             "re": 10
            },
            "Real_Axis": 10
           },
           {
            "Class": "prime",
            "Imaginary_Axis": 43,
            "Movements": 119,
            "Points": {
             "im": 43,
             "re": 12
            },
            "Real_Axis": 12
           },
           {
            "Class": "prime",
            "Imaginary_Axis": 53,
            "Movements": 129,
            "Points": {
             "im": 53,
             "re": 12
            },
            "Real_Axis": 12
           },
           {
            "Class": "prime",
            "Imaginary_Axis": 53,
            "Movements": 131,
            "Points": {
             "im": 53,
             "re": 10
            },
            "Real_Axis": 10
           },
           {
            "Class": "prime",
            "Imaginary_Axis": 47,
            "Movements": 137,
            "Points": {
             "im": 47,
             "re": 10
            },
            "Real_Axis": 10
           },
           {
            "Class": "prime",
            "Imaginary_Axis": 47,
            "Movements": 147,
            "Points": {
             "im": 47,
             "re": 20
            },
            "Real_Axis": 20
           },
           {
            "Class": "prime",
            "Imaginary_Axis": 49,
            "Movements": 149,
            "Points": {
             "im": 49,
             "re": 20
            },
            "Real_Axis": 20
           },
           {
            "Class": "prime",
            "Imaginary_Axis": 49,
            "Movements": 153,
            "Points": {
             "im": 49,
             "re": 16
            },
            "Real_Axis": 16
           },
           {
            "Class": "prime",
            "Imaginary_Axis": 45,
            "Movements": 157,
            "Points": {
             "im": 45,
             "re": 16
            },
            "Real_Axis": 16
           },
           {
            "Class": "prime",
            "Imaginary_Axis": 45,
            "Movements": 173,
            "Points": {
             "im": 45,
             "re": 32
            },
            "Real_Axis": 32
           },
           {
            "Class": "prime",
            "Imaginary_Axis": 53,
            "Movements": 181,
            "Points": {
             "im": 53,
             "re": 32
            },
            "Real_Axis": 32
           },
           {
            "Class": "prime",
            "Imaginary_Axis": 53,
            "Movements": 183,
            "Points": {
             "im": 53,
             "re": 30
            },
            "Real_Axis": 30
           },
           {
            "Class": "prime",
            "Imaginary_Axis": 49,
            "Movements": 187,
            "Points": {
             "im": 49,
             "re": 30
            },
            "Real_Axis": 30
           },
           {
            "Class": "prime",
            "Imaginary_Axis": 49,
            "Movements": 191,
            "Points": {
             "im": 49,
             "re": 34
            },
            "Real_Axis": 34
           },
           {
            "Class": "prime",
            "Imaginary_Axis": 59,
            "Movements": 201,
            "Points": {
             "im": 59,
             "re": 34
            },
            "Real_Axis": 34
           },
           {
            "Class": "prime",
            "Imaginary_Axis": 59,
            "Movements": 209,
            "Points": {
             "im": 59,
             "re": 26
            },
            "Real_Axis": 26
           },
           {
            "Class": "prime",
            "Imaginary_Axis": 55,
            "Movements": 213,
            "Points": {
             "im": 55,
             "re": 26
            },
            "Real_Axis": 26
           },
           {
            "Class": "prime",
            "Imaginary_Axis": 55,
            "Movements": 219,
            "Points": {
             "im": 55,
             "re": 32
            },
            "Real_Axis": 32
           },
           {
            "Class": "prime",
            "Imaginary_Axis": 57,
            "Movements": 221,
            "Points": {
             "im": 57,
             "re": 32
            },
            "Real_Axis": 32
           },
           {
            "Class": "prime",
            "Imaginary_Axis": 57,
            "Movements": 231,
            "Points": {
             "im": 57,
             "re": 22
            },
            "Real_Axis": 22
           },
           {
            "Class": "prime",
            "Imaginary_Axis": 47,
            "Movements": 241,
            "Points": {
             "im": 47,
             "re": 22
            },
            "Real_Axis": 22
           },
           {
            "Class": "prime",
            "Imaginary_Axis": 47,
            "Movements": 249,
            "Points": {
             "im": 47,
             "re": 30
            },
            "Real_Axis": 30
           },
           {
            "Class": "prime",
            "Imaginary_Axis": 49,
            "Movements": 251,
            "Points": {
             "im": 49,
             "re": 30
            },
            "Real_Axis": 30
           },
           {
            "Class": "prime",
            "Imaginary_Axis": 49,
            "Movements": 261,
            "Points": {
             "im": 49,
             "re": 20
            },
            "Real_Axis": 20
           },
           {
            "Class": "prime",
            "Imaginary_Axis": 47,
            "Movements": 263,
            "Points": {
             "im": 47,
             "re": 20
            },
            "Real_Axis": 20
           },
           {
            "Class": "prime",
            "Imaginary_Axis": 47,
            "Movements": 265,
            "Points": {
             "im": 47,
             "re": 22
            },
            "Real_Axis": 22
           },
           {
            "Class": "prime",
            "Imaginary_Axis": 57,
            "Movements": 275,
            "Points": {
             "im": 57,
             "re": 22
            },
            "Real_Axis": 22
           },
           {
            "Class": "prime",
            "Imaginary_Axis": 57,
            "Movements": 289,
            "Points": {
             "im": 57,
             "re": 8
            },
            "Real_Axis": 8
           },
           {
            "Class": "prime",
            "Imaginary_Axis": 55,
            "Movements": 291,
            "Points": {
             "im": 55,
             "re": 8
            },
            "Real_Axis": 8
           },
           {
            "Class": "prime",
            "Imaginary_Axis": 55,
            "Movements": 295,
            "Points": {
             "im": 55,
             "re": 12
            },
            "Real_Axis": 12
           },
           {
            "Class": "prime",
            "Imaginary_Axis": 77,
            "Movements": 317,
            "Points": {
             "im": 77,
             "re": 12
            },
            "Real_Axis": 12
           },
           {
            "Class": "prime",
            "Imaginary_Axis": 77,
            "Movements": 319,
            "Points": {
             "im": 77,
             "re": 10
            },
            "Real_Axis": 10
           },
           {
            "Class": "prime",
            "Imaginary_Axis": 69,
            "Movements": 327,
            "Points": {
             "im": 69,
             "re": 10
            },
            "Real_Axis": 10
           },
           {
            "Class": "prime",
            "Imaginary_Axis": 69,
            "Movements": 331,
            "Points": {
             "im": 69,
             "re": 14
            },
            "Real_Axis": 14
           },
           {
            "Class": "prime",
            "Imaginary_Axis": 71,
            "Movements": 333,
            "Points": {
             "im": 71,
             "re": 14
            },
            "Real_Axis": 14
           },
           {
            "Class": "prime",
            "Imaginary_Axis": 71,
            "Movements": 341,
            "Points": {
             "im": 71,
             "re": 6
            },
            "Real_Axis": 6
           },
           {
            "Class": "prime",
            "Imaginary_Axis": 65,
            "Movements": 347,
            "Points": {
             "im": 65,
             "re": 6
            },
            "Real_Axis": 6
           },
           {
            "Class": "prime",
            "Imaginary_Axis": 65,
            "Movements": 349,
            "Points": {
             "im": 65,
             "re": 8
            },
            "Real_Axis": 8
           },
           {
            "Class": "prime",
            "Imaginary_Axis": 73,
            "Movements": 357,
            "Points": {
             "im": 73,
             "re": 8
            },
            "Real_Axis": 8
           },
           {
            "Class": "prime",
            "Imaginary_Axis": 73,
            "Movements": 363,
            "Points": {
             "im": 73,
             "re": 2
            },
            "Real_Axis": 2
           },
           {
            "Class": "prime",
            "Imaginary_Axis": 67,
            "Movements": 369,
            "Points": {
             "im": 67,
             "re": 2
            },
            "Real_Axis": 2
           },
           {
            "Class": "prime",
            "Imaginary_Axis": 67,
            "Movements": 385,
            "Points": {
             "im": 67,
             "re": 18
            },
            "Real_Axis": 18
           },
           {
            "Class": "prime",
            "Imaginary_Axis": 73,
            "Movements": 391,
            "Points": {
             "im": 73,
             "re": 18
            },
            "Real_Axis": 18
           },
           {
            "Class": "prime",
            "Imaginary_Axis": 73,
            "Movements": 401,
            "Points": {
             "im": 73,
             "re": 8
            },
            "Real_Axis": 8
           },
           {
            "Class": "prime",
            "Imaginary_Axis": 65,
            "Movements": 409,
            "Points": {
             "im": 65,
             "re": 8
            },
            "Real_Axis": 8
           },
           {
            "Class": "prime",
            "Imaginary_Axis": 65,
            "Movements": 415,
            "Points": {
             "im": 65,
             "re": 14
            },
            "Real_Axis": 14
           },
           {
            "Class": "prime",
            "Imaginary_Axis": 69,
            "Movements": 419,
            "Points": {
             "im": 69,
             "re": 14
            },
            "Real_Axis": 14
           },
           {
            "Class": "prime",
            "Imaginary_Axis": 69,
            "Movements": 423,
            "Points": {
             "im": 69,
             "re": 10
            },
            "Real_Axis": 10
           },
           {
            "Class": "prime",
            "Imaginary_Axis": 61,
            "Movements": 431,
            "Points": {
             "im": 61,
             "re": 10
            },
            "Real_Axis": 10
           },
           {
            "Class": "prime",
            "Imaginary_Axis": 61,
            "Movements": 435,
            "Points": {
             "im": 61,
             "re": 14
            },
            "Real_Axis": 14
           },
           {
            "Class": "prime",
            "Imaginary_Axis": 65,
            "Movements": 439,
            "Points": {
             "im": 65,
             "re": 14
            },
            "Real_Axis": 14
           },
           {
            "Class": "prime",
            "Imaginary_Axis": 65,
            "Movements": 445,
            "Points": {
             "im": 65,
             "re": 8
            },
            "Real_Axis": 8
           },
           {
            "Class": "prime",
            "Imaginary_Axis": 57,
            "Movements": 453,
            "Points": {
             "im": 57,
             "re": 8
            },
            "Real_Axis": 8
           },
           {
            "Class": "prime",
            "Imaginary_Axis": 57,
            "Movements": 467,
            "Points": {
             "im": 57,
             "re": 22
            },
            "Real_Axis": 22
           },
           {
            "Class": "prime",
            "Imaginary_Axis": 67,
            "Movements": 477,
            "Points": {
             "im": 67,
             "re": 22
            },
            "Real_Axis": 22
           },
           {
            "Class": "prime",
            "Imaginary_Axis": 67,
            "Movements": 479,
            "Points": {
             "im": 67,
             "re": 20
            },
            "Real_Axis": 20
           },
           {
            "Class": "prime",
            "Imaginary_Axis": 59,
            "Movements": 487,
            "Points": {
             "im": 59,
             "re": 20
            },
            "Real_Axis": 20
           },
           {
            "Class": "prime",
            "Imaginary_Axis": 59,
            "Movements": 491,
            "Points": {
             "im": 59,
             "re": 24
            },
            "Real_Axis": 24
           },
           {
            "Class": "prime",
            "Imaginary_Axis": 61,
            "Movements": 493,
            "Points": {
             "im": 61,
             "re": 24
            },
            "Real_Axis": 24
           },
           {
            "Class": "prime",
            "Imaginary_Axis": 61,
            "Movements": 503,
            "Points": {
             "im": 61,
             "re": 14
            },
            "Real_Axis": 14
           },
           {
            "Class": "prime",
            "Imaginary_Axis": 59,
            "Movements": 505,
            "Points": {
             "im": 59,
             "re": 14
            },
            "Real_Axis": 14
           },
           {
            "Class": "prime",
            "Imaginary_Axis": 59,
            "Movements": 511,
            "Points": {
             "im": 59,
             "re": 20
            },
            "Real_Axis": 20
           },
           {
            "Class": "prime",
            "Imaginary_Axis": 67,
            "Movements": 519,
            "Points": {
             "im": 67,
             "re": 20
            },
            "Real_Axis": 20
           },
           {
            "Class": "prime",
            "Imaginary_Axis": 67,
            "Movements": 521,
            "Points": {
             "im": 67,
             "re": 18
            },
            "Real_Axis": 18
           },
           {
            "Class": "prime",
            "Imaginary_Axis": 65,
            "Movements": 523,
            "Points": {
             "im": 65,
             "re": 18
            },
            "Real_Axis": 18
           },
           {
            "Class": "prime",
            "Imaginary_Axis": 65,
            "Movements": 529,
            "Points": {
             "im": 65,
             "re": 24
            },
            "Real_Axis": 24
           },
           {
            "Class": "prime",
            "Imaginary_Axis": 95,
            "Movements": 559,
            "Points": {
             "im": 95,
             "re": 24
            },
            "Real_Axis": 24
           },
           {
            "Class": "prime",
            "Imaginary_Axis": 95,
            "Movements": 565,
            "Points": {
             "im": 95,
             "re": 18
            },
            "Real_Axis": 18
           },
           {
            "Class": "prime",
            "Imaginary_Axis": 85,
            "Movements": 575,
            "Points": {
             "im": 85,
             "re": 18
            },
            "Real_Axis": 18
           },
           {
            "Class": "prime",
            "Imaginary_Axis": 85,
            "Movements": 583,
            "Points": {
             "im": 85,
             "re": 26
            },
            "Real_Axis": 26
           },
           {
            "Class": "prime",
            "Imaginary_Axis": 89,
            "Movements": 587,
            "Points": {
             "im": 89,
             "re": 26
            },
            "Real_Axis": 26
           },
           {
            "Class": "prime",
            "Imaginary_Axis": 89,
            "Movements": 599,
            "Points": {
             "im": 89,
             "re": 14
            },
            "Real_Axis": 14
           },
           {
            "Class": "prime",
            "Imaginary_Axis": 75,
            "Movements": 613,
            "Points": {
             "im": 75,
             "re": 14
            },
            "Real_Axis": 14
           },
           {
            "Class": "prime",
            "Imaginary_Axis": 75,
            "Movements": 615,
            "Points": {
             "im": 75,
             "re": 16
            },
            "Real_Axis": 16
           },
           {
            "Class": "prime",
            "Imaginary_Axis": 85,
            "Movements": 625,
            "Points": {
             "im": 85,
             "re": 16
            },
            "Real_Axis": 16
           },
           {
            "Class": "prime",
            "Imaginary_Axis": 85,
            "Movements": 629,
            "Points": {
             "im": 85,
             "re": 12
            },
            "Real_Axis": 12
           },
           {
            "Class": "prime",
            "Imaginary_Axis": 77,
            "Movements": 637,
            "Points": {
             "im": 77,
             "re": 12
            },
            "Real_Axis": 12
           },
           {
            "Class": "prime",
            "Imaginary_Axis": 77,
            "Movements": 645,
            "Points": {
             "im": 77,
             "re": 20
            },
            "Real_Axis": 20
           },
           {
            "Class": "prime",
            "Imaginary_Axis": 81,
            "Movements": 649,
            "Points": {
             "im": 81,
             "re": 20
            },
            "Real_Axis": 20
           },
           {
            "Class": "prime",
            "Imaginary_Axis": 81,
            "Movements": 659,
            "Points": {
             "im": 81,
             "re": 10
            },
            "Real_Axis": 10
           },
           {
            "Class": "prime",
            "Imaginary_Axis": 77,
            "Movements": 663,
            "Points": {
             "im": 77,
             "re": 10
            },
            "Real_Axis": 10
           },
           {
            "Class": "prime",
            "Imaginary_Axis": 77,
            "Movements": 665,
            "Points": {
             "im": 77,
             "re": 12
            },
            "Real_Axis": 12
           },
           {
            "Class": "prime",
            "Imaginary_Axis": 85,
            "Movements": 673,
            "Points": {
             "im": 85,
             "re": 12
            },
            "Real_Axis": 12
           },
           {
            "Class": "prime",
            "Imaginary_Axis": 85,
            "Movements": 683,
            "Points": {
             "im": 85,
             "re": 2
            },
            "Real_Axis": 2
           },
           {
            "Class": "prime",
            "Imaginary_Axis": 73,
            "Movements": 695,
            "Points": {
             "im": 73,
             "re": 2
            },
            "Real_Axis": 2
           },
           {
            "Class": "prime",
            "Imaginary_Axis": 73,
            "Movements": 701,
            "Points": {
             "im": 73,
             "re": 8
            },
            "Real_Axis": 8
           },
           {
            "Class": "prime",
            "Imaginary_Axis": 75,
            "Movements": 703,
            "Points": {
             "im": 75,
             "re": 8
            },
            "Real_Axis": 8
           },
           {
            "Class": "prime",
            "Imaginary_Axis": 75,
            "Movements": 707,
            "Points": {
             "im": 75,
             "re": 4
            },
            "Real_Axis": 4
           },
           {
            "Class": "prime",
            "Imaginary_Axis": 65,
            "Movements": 717,
            "Points": {
             "im": 65,
             "re": 4
            },
            "Real_Axis": 4
           },
           {
            "Class": "prime",
            "Imaginary_Axis": 65,
            "Movements": 719,
            "Points": {
             "im": 65,
             "re": 6
            },
            "Real_Axis": 6
           },
           {
            "Class": "prime",
            "Imaginary_Axis": 71,
            "Movements": 725,
            "Points": {
             "im": 71,
             "re": 6
            },
            "Real_Axis": 6
           },
           {
            "Class": "prime",
            "Imaginary_Axis": 71,
            "Movements": 731,
            "Points": {
             "im": 71,
             "re": 0
            },
            "Real_Axis": 0
           },
           {
            "Class": "prime",
            "Imaginary_Axis": 67,
            "Movements": 735,
            "Points": {
             "im": 67,
             "re": 0
            },
            "Real_Axis": 0
           },
           {
            "Class": "prime",
            "Imaginary_Axis": 67,
            "Movements": 737,
            "Points": {
             "im": 67,
             "re": 2
            },
            "Real_Axis": 2
           },
           {
            "Class": "prime",
            "Imaginary_Axis": 73,
            "Movements": 743,
            "Points": {
             "im": 73,
             "re": 2
            },
            "Real_Axis": 2
           },
           {
            "Class": "prime",
            "Imaginary_Axis": 73,
            "Movements": 747,
            "Points": {
             "im": 73,
             "re": -2
            },
            "Real_Axis": -2
           },
           {
            "Class": "prime",
            "Imaginary_Axis": 67,
            "Movements": 753,
            "Points": {
             "im": 67,
             "re": -2
            },
            "Real_Axis": -2
           },
           {
            "Class": "prime",
            "Imaginary_Axis": 67,
            "Movements": 755,
            "Points": {
             "im": 67,
             "re": 0
            },
            "Real_Axis": 0
           },
           {
            "Class": "prime",
            "Imaginary_Axis": 71,
            "Movements": 759,
            "Points": {
             "im": 71,
             "re": 0
            },
            "Real_Axis": 0
           },
           {
            "Class": "prime",
            "Imaginary_Axis": 71,
            "Movements": 765,
            "Points": {
             "im": 71,
             "re": -6
            },
            "Real_Axis": -6
           },
           {
            "Class": "prime",
            "Imaginary_Axis": 65,
            "Movements": 771,
            "Points": {
             "im": 65,
             "re": -6
            },
            "Real_Axis": -6
           },
           {
            "Class": "prime",
            "Imaginary_Axis": 65,
            "Movements": 773,
            "Points": {
             "im": 65,
             "re": -4
            },
            "Real_Axis": -4
           },
           {
            "Class": "prime",
            "Imaginary_Axis": 75,
            "Movements": 783,
            "Points": {
             "im": 75,
             "re": -4
            },
            "Real_Axis": -4
           },
           {
            "Class": "prime",
            "Imaginary_Axis": 75,
            "Movements": 787,
            "Points": {
             "im": 75,
             "re": -8
            },
            "Real_Axis": -8
           },
           {
            "Class": "prime",
            "Imaginary_Axis": 73,
            "Movements": 789,
            "Points": {
             "im": 73,
             "re": -8
            },
            "Real_Axis": -8
           },
           {
            "Class": "prime",
            "Imaginary_Axis": 73,
            "Movements": 795,
            "Points": {
             "im": 73,
             "re": -2
            },
            "Real_Axis": -2
           },
           {
            "Class": "prime",
            "Imaginary_Axis": 85,
            "Movements": 807,
            "Points": {
             "im": 85,
             "re": -2
            },
            "Real_Axis": -2
           },
           {
            "Class": "prime",
            "Imaginary_Axis": 85,
            "Movements": 817,
            "Points": {
             "im": 85,
             "re": -12
            },
            "Real_Axis": -12
           },
           {
            "Class": "prime",
            "Imaginary_Axis": 77,
            "Movements": 825,
            "Points": {
             "im": 77,
             "re": -12
            },
            "Real_Axis": -12
           },
           {
            "Class": "prime",
            "Imaginary_Axis": 77,
            "Movements": 827,
            "Points": {
             "im": 77,
             "re": -10
            },
            "Real_Axis": -10
           },
           {
            "Class": "prime",
            "Imaginary_Axis": 81,
            "Movements": 831,
            "Points": {
             "im": 81,
             "re": -10
            },
            "Real_Axis": -10
           },
           {
            "Class": "prime",
            "Imaginary_Axis": 81,
            "Movements": 841,
            "Points": {
             "im": 81,
             "re": -20
            },
            "Real_Axis": -20
           },
           {
            "Class": "prime",
            "Imaginary_Axis": 77,
            "Movements": 845,
            "Points": {
             "im": 77,
             "re": -20
            },
            "Real_Axis": -20
           },
           {
            "Class": "prime",
            "Imaginary_Axis": 77,
            "Movements": 853,
            "Points": {
             "im": 77,
             "re": -12
            },
            "Real_Axis": -12
           },
           {
            "Class": "prime",
            "Imaginary_Axis": 85,
            "Movements": 861,
            "Points": {
             "im": 85,
             "re": -12
            },
            "Real_Axis": -12
           },
           {
            "Class": "prime",
            "Imaginary_Axis": 85,
            "Movements": 865,
            "Points": {
             "im": 85,
             "re": -16
            },
            "Real_Axis": -16
           },
           {
            "Class": "prime",
            "Imaginary_Axis": 75,
            "Movements": 875,
            "Points": {
             "im": 75,
             "re": -16
            },
            "Real_Axis": -16
           },
           {
            "Class": "prime",
            "Imaginary_Axis": 75,
            "Movements": 877,
            "Points": {
             "im": 75,
             "re": -14
            },
            "Real_Axis": -14
           },
           {
            "Class": "prime",
            "Imaginary_Axis": 89,
            "Movements": 891,
            "Points": {
             "im": 89,
             "re": -14
            },
            "Real_Axis": -14
           },
           {
            "Class": "prime",
            "Imaginary_Axis": 89,
            "Movements": 903,
            "Points": {
             "im": 89,
             "re": -26
            },
            "Real_Axis": -26
           },
           {
            "Class": "prime",
            "Imaginary_Axis": 85,
            "Movements": 907,
            "Points": {
             "im": 85,
             "re": -26
            },
            "Real_Axis": -26
           },
           {
            "Class": "prime",
            "Imaginary_Axis": 85,
            "Movements": 915,
            "Points": {
             "im": 85,
             "re": -18
            },
            "Real_Axis": -18
           },
           {
            "Class": "prime",
            "Imaginary_Axis": 95,
            "Movements": 925,
            "Points": {
             "im": 95,
             "re": -18
            },
            "Real_Axis": -18
           },
           {
            "Class": "prime",
            "Imaginary_Axis": 95,
            "Movements": 931,
            "Points": {
             "im": 95,
             "re": -24
            },
            "Real_Axis": -24
           },
           {
            "Class": "prime",
            "Imaginary_Axis": 65,
            "Movements": 961,
            "Points": {
             "im": 65,
             "re": -24
            },
            "Real_Axis": -24
           },
           {
            "Class": "prime",
            "Imaginary_Axis": 65,
            "Movements": 967,
            "Points": {
             "im": 65,
             "re": -18
            },
            "Real_Axis": -18
           },
           {
            "Class": "prime",
            "Imaginary_Axis": 67,
            "Movements": 969,
            "Points": {
             "im": 67,
             "re": -18
            },
            "Real_Axis": -18
           },
           {
            "Class": "prime",
            "Imaginary_Axis": 67,
            "Movements": 971,
            "Points": {
             "im": 67,
             "re": -20
            },
            "Real_Axis": -20
           },
           {
            "Class": "prime",
            "Imaginary_Axis": 59,
            "Movements": 979,
            "Points": {
             "im": 59,
             "re": -20
            },
            "Real_Axis": -20
           },
           {
            "Class": "prime",
            "Imaginary_Axis": 59,
            "Movements": 985,
            "Points": {
             "im": 59,
             "re": -14
            },
            "Real_Axis": -14
           },
           {
            "Class": "prime",
            "Imaginary_Axis": 61,
            "Movements": 987,
            "Points": {
             "im": 61,
             "re": -14
            },
            "Real_Axis": -14
           },
           {
            "Class": "prime",
            "Imaginary_Axis": 61,
            "Movements": 997,
            "Points": {
             "im": 61,
             "re": -24
            },
            "Real_Axis": -24
           },
           {
            "Class": "prime",
            "Imaginary_Axis": 59,
            "Movements": 999,
            "Points": {
             "im": 59,
             "re": -24
            },
            "Real_Axis": -24
           },
           {
            "Class": "prime",
            "Imaginary_Axis": 59,
            "Movements": 1003,
            "Points": {
             "im": 59,
             "re": -20
            },
            "Real_Axis": -20
           },
           {
            "Class": "prime",
            "Imaginary_Axis": 67,
            "Movements": 1011,
            "Points": {
             "im": 67,
             "re": -20
            },
            "Real_Axis": -20
           },
           {
            "Class": "prime",
            "Imaginary_Axis": 67,
            "Movements": 1013,
            "Points": {
             "im": 67,
             "re": -22
            },
            "Real_Axis": -22
           },
           {
            "Class": "prime",
            "Imaginary_Axis": 57,
            "Movements": 1023,
            "Points": {
             "im": 57,
             "re": -22
            },
            "Real_Axis": -22
           },
           {
            "Class": "prime",
            "Imaginary_Axis": 57,
            "Movements": 1037,
            "Points": {
             "im": 57,
             "re": -8
            },
            "Real_Axis": -8
           },
           {
            "Class": "prime",
            "Imaginary_Axis": 65,
            "Movements": 1045,
            "Points": {
             "im": 65,
             "re": -8
            },
            "Real_Axis": -8
           },
           {
            "Class": "prime",
            "Imaginary_Axis": 65,
            "Movements": 1051,
            "Points": {
             "im": 65,
             "re": -14
            },
            "Real_Axis": -14
           },
           {
            "Class": "prime",
            "Imaginary_Axis": 61,
            "Movements": 1055,
            "Points": {
             "im": 61,
             "re": -14
            },
            "Real_Axis": -14
           },
           {
            "Class": "prime",
            "Imaginary_Axis": 61,
            "Movements": 1059,
            "Points": {
             "im": 61,
             "re": -10
            },
            "Real_Axis": -10
           },
           {
            "Class": "prime",
            "Imaginary_Axis": 69,
            "Movements": 1067,
            "Points": {
             "im": 69,
             "re": -10
            },
            "Real_Axis": -10
           },
           {
            "Class": "prime",
            "Imaginary_Axis": 69,
            "Movements": 1071,
            "Points": {
             "im": 69,
             "re": -14
            },
            "Real_Axis": -14
           },
           {
            "Class": "prime",
            "Imaginary_Axis": 65,
            "Movements": 1075,
            "Points": {
             "im": 65,
             "re": -14
            },
            "Real_Axis": -14
           },
           {
            "Class": "prime",
            "Imaginary_Axis": 65,
            "Movements": 1081,
            "Points": {
             "im": 65,
             "re": -8
            },
            "Real_Axis": -8
           },
           {
            "Class": "prime",
            "Imaginary_Axis": 73,
            "Movements": 1089,
            "Points": {
             "im": 73,
             "re": -8
            },
            "Real_Axis": -8
           },
           {
            "Class": "prime",
            "Imaginary_Axis": 73,
            "Movements": 1099,
            "Points": {
             "im": 73,
             "re": -18
            },
            "Real_Axis": -18
           },
           {
            "Class": "prime",
            "Imaginary_Axis": 67,
            "Movements": 1105,
            "Points": {
             "im": 67,
             "re": -18
            },
            "Real_Axis": -18
           },
           {
            "Class": "prime",
            "Imaginary_Axis": 67,
            "Movements": 1121,
            "Points": {
             "im": 67,
             "re": -2
            },
            "Real_Axis": -2
           },
           {
            "Class": "prime",
            "Imaginary_Axis": 73,
            "Movements": 1127,
            "Points": {
             "im": 73,
             "re": -2
            },
            "Real_Axis": -2
           },
           {
            "Class": "prime",
            "Imaginary_Axis": 73,
            "Movements": 1133,
            "Points": {
             "im": 73,
             "re": -8
            },
            "Real_Axis": -8
           },
           {
            "Class": "prime",
            "Imaginary_Axis": 65,
            "Movements": 1141,
            "Points": {
             "im": 65,
             "re": -8
            },
            "Real_Axis": -8
           },
           {
            "Class": "prime",
            "Imaginary_Axis": 65,
            "Movements": 1143,
            "Points": {
             "im": 65,
             "re": -6
            },
            "Real_Axis": -6
           },
           {
            "Class": "prime",
            "Imaginary_Axis": 71,
            "Movements": 1149,
            "Points": {
             "im": 71,
             "re": -6
            },
            "Real_Axis": -6
           },
           {
            "Class": "prime",
            "Imaginary_Axis": 71,
            "Movements": 1157,
            "Points": {
             "im": 71,
             "re": -14
            },
            "Real_Axis": -14
           },
           {
            "Class": "prime",
            "Imaginary_Axis": 69,
            "Movements": 1159,
            "Points": {
             "im": 69,
             "re": -14
            },
            "Real_Axis": -14
           },
           {
            "Class": "prime",
            "Imaginary_Axis": 69,
            "Movements": 1163,
            "Points": {
             "im": 69,
             "re": -10
            },
            "Real_Axis": -10
           },
           {
            "Class": "prime",
            "Imaginary_Axis": 77,
            "Movements": 1171,
            "Points": {
             "im": 77,
             "re": -10
            },
            "Real_Axis": -10
           },
           {
            "Class": "prime",
            "Imaginary_Axis": 77,
            "Movements": 1173,
            "Points": {
             "im": 77,
             "re": -12
            },
            "Real_Axis": -12
           },
           {
            "Class": "prime",
            "Imaginary_Axis": 55,
            "Movements": 1195,
            "Points": {
             "im": 55,
             "re": -12
            },
            "Real_Axis": -12
           },
           {
            "Class": "prime",
            "Imaginary_Axis": 55,
            "Movements": 1199,
            "Points": {
             "im": 55,
             "re": -8
            },
            "Real_Axis": -8
           },
           {
            "Class": "prime",
            "Imaginary_Axis": 57,
            "Movements": 1201,
            "Points": {
             "im": 57,
             "re": -8
            },
            "Real_Axis": -8
           },
           {
            "Class": "prime",
            "Imaginary_Axis": 57,
            "Movements": 1215,
            "Points": {
             "im": 57,
             "re": -22
            },
            "Real_Axis": -22
           },
           {
            "Class": "prime",
            "Imaginary_Axis": 47,
            "Movements": 1225,
            "Points": {
             "im": 47,
             "re": -22
            },
            "Real_Axis": -22
           },
           {
            "Class": "prime",
            "Imaginary_Axis": 47,
            "Movements": 1227,
            "Points": {
             "im": 47,
             "re": -20
            },
            "Real_Axis": -20
           },
           {
            "Class": "prime",
            "Imaginary_Axis": 49,
            "Movements": 1229,
            "Points": {
             "im": 49,
             "re": -20
            },
            "Real_Axis": -20
           },
           {
            "Class": "prime",
            "Imaginary_Axis": 49,
            "Movements": 1239,
            "Points": {
             "im": 49,
             "re": -30
            },
            "Real_Axis": -30
           },
           {
            "Class": "prime",
            "Imaginary_Axis": 47,
            "Movements": 1241,
            "Points": {
             "im": 47,
             "re": -30
            },
            "Real_Axis": -30
           },
           {
            "Class": "prime",
            "Imaginary_Axis": 47,
            "Movements": 1249,
            "Points": {
             "im": 47,
             "re": -22
            },
            "Real_Axis": -22
           },
           {
            "Class": "prime",
            "Imaginary_Axis": 57,
            "Movements": 1259,
            "Points": {
             "im": 57,
             "re": -22
            },
            "Real_Axis": -22
           },
           {
            "Class": "prime",
            "Imaginary_Axis": 57,
            "Movements": 1269,
            "Points": {
             "im": 57,
             "re": -32
            },
            "Real_Axis": -32
           },
           {
            "Class": "prime",
            "Imaginary_Axis": 55,
            "Movements": 1271,
            "Points": {
             "im": 55,
             "re": -32
            },
            "Real_Axis": -32
           },
           {
            "Class": "prime",
            "Imaginary_Axis": 55,
            "Movements": 1277,
            "Points": {
             "im": 55,
             "re": -26
            },
            "Real_Axis": -26
           },
           {
            "Class": "prime",
            "Imaginary_Axis": 59,
            "Movements": 1281,
            "Points": {
             "im": 59,
             "re": -26
            },
            "Real_Axis": -26
           },
           {
            "Class": "prime",
            "Imaginary_Axis": 59,
            "Movements": 1289,
            "Points": {
             "im": 59,
             "re": -34
            },
            "Real_Axis": -34
           },
           {
            "Class": "prime",
            "Imaginary_Axis": 49,
            "Movements": 1299,
            "Points": {
             "im": 49,
             "re": -34
            },
            "Real_Axis": -34
           },
           {
            "Class": "prime",
            "Imaginary_Axis": 49,
            "Movements": 1303,
            "Points": {
             "im": 49,
             "re": -30
            },
            "Real_Axis": -30
           },
           {
            "Class": "prime",
            "Imaginary_Axis": 53,
            "Movements": 1307,
            "Points": {
             "im": 53,
             "re": -30
            },
            "Real_Axis": -30
           },
           {
            "Class": "prime",
            "Imaginary_Axis": 53,
            "Movements": 1309,
            "Points": {
             "im": 53,
             "re": -32
            },
            "Real_Axis": -32
           },
           {
            "Class": "prime",
            "Imaginary_Axis": 45,
            "Movements": 1317,
            "Points": {
             "im": 45,
             "re": -32
            },
            "Real_Axis": -32
           },
           {
            "Class": "prime",
            "Imaginary_Axis": 45,
            "Movements": 1333,
            "Points": {
             "im": 45,
             "re": -16
            },
            "Real_Axis": -16
           },
           {
            "Class": "prime",
            "Imaginary_Axis": 49,
            "Movements": 1337,
            "Points": {
             "im": 49,
             "re": -16
            },
            "Real_Axis": -16
           },
           {
            "Class": "prime",
            "Imaginary_Axis": 49,
            "Movements": 1341,
            "Points": {
             "im": 49,
             "re": -20
            },
            "Real_Axis": -20
           },
           {
            "Class": "prime",
            "Imaginary_Axis": 47,
            "Movements": 1343,
            "Points": {
             "im": 47,
             "re": -20
            },
            "Real_Axis": -20
           },
           {
            "Class": "prime",
            "Imaginary_Axis": 47,
            "Movements": 1353,
            "Points": {
             "im": 47,
             "re": -10
            },
            "Real_Axis": -10
           },
           {
            "Class": "prime",
            "Imaginary_Axis": 53,
            "Movements": 1359,
            "Points": {
             "im": 53,
             "re": -10
            },
            "Real_Axis": -10
           },
           {
            "Class": "prime",
            "Imaginary_Axis": 53,
            "Movements": 1361,
            "Points": {
             "im": 53,
             "re": -12
            },
            "Real_Axis": -12
           },
           {
            "Class": "prime",
            "Imaginary_Axis": 43,
            "Movements": 1371,
            "Points": {
             "im": 43,
             "re": -12
            },
            "Real_Axis": -12
           },
           {
            "Class": "prime",
            "Imaginary_Axis": 43,
            "Movements": 1373,
            "Points": {
             "im": 43,
             "re": -10
            },
            "Real_Axis": -10
           },
           {
            "Class": "prime",
            "Imaginary_Axis": 47,
            "Movements": 1377,
            "Points": {
             "im": 47,
             "re": -10
            },
            "Real_Axis": -10
           },
           {
            "Class": "prime",
            "Imaginary_Axis": 47,
            "Movements": 1387,
            "Points": {
             "im": 47,
             "re": -20
            },
            "Real_Axis": -20
           },
           {
            "Class": "prime",
            "Imaginary_Axis": 41,
            "Movements": 1393,
            "Points": {
             "im": 41,
             "re": -20
            },
            "Real_Axis": -20
           },
           {
            "Class": "prime",
            "Imaginary_Axis": 41,
            "Movements": 1399,
            "Points": {
             "im": 41,
             "re": -14
            },
            "Real_Axis": -14
           },
           {
            "Class": "prime",
            "Imaginary_Axis": 45,
            "Movements": 1403,
            "Points": {
             "im": 45,
             "re": -14
            },
            "Real_Axis": -14
           },
           {
            "Class": "prime",
            "Imaginary_Axis": 45,
            "Movements": 1405,
            "Points": {
             "im": 45,
             "re": -16
            },
            "Real_Axis": -16
           },
           {
            "Class": "prime",
            "Imaginary_Axis": 39,
            "Movements": 1411,
            "Points": {
             "im": 39,
             "re": -16
            },
            "Real_Axis": -16
           },
           {
            "Class": "prime",
            "Imaginary_Axis": 39,
            "Movements": 1417,
            "Points": {
             "im": 39,
             "re": -10
            },
            "Real_Axis": -10
           },
           {
            "Class": "prime",
            "Imaginary_Axis": 43,
            "Movements": 1421,
            "Points": {
             "im": 43,
             "re": -10
            },
            "Real_Axis": -10
           },
           {
            "Class": "prime",
            "Imaginary_Axis": 43,
            "Movements": 1423,
            "Points": {
             "im": 43,
             "re": -12
            },
            "Real_Axis": -12
           },
           {
            "Class": "prime",
            "Imaginary_Axis": 25,
            "Movements": 1441,
            "Points": {
             "im": 25,
             "re": -12
            },
            "Real_Axis": -12
           },
           {
            "Class": "prime",
            "Imaginary_Axis": 25,
            "Movements": 1447,
            "Points": {
             "im": 25,
             "re": -6
            },
            "Real_Axis": -6
           },
           {
            "Class": "prime",
            "Imaginary_Axis": 29,
            "Movements": 1451,
            "Points": {
             "im": 29,
             "re": -6
            },
            "Real_Axis": -6
           },
           {
            "Class": "prime",
            "Imaginary_Axis": 29,
            "Movements": 1455,
            "Points": {
             "im": 29,
             "re": -10
            },
            "Real_Axis": -10
           },
           {
            "Class": "prime",
            "Imaginary_Axis": 27,
            "Movements": 1457,
            "Points": {
             "im": 27,
             "re": -10
            },
            "Real_Axis": -10
           },
           {
            "Class": "prime",
            "Imaginary_Axis": 27,
            "Movements": 1465,
            "Points": {
             "im": 27,
             "re": -2
            },
            "Real_Axis": -2
           },
           {
            "Class": "prime",
            "Imaginary_Axis": 33,
            "Movements": 1471,
            "Points": {
             "im": 33,
             "re": -2
            },
            "Real_Axis": -2
           },
           {
            "Class": "prime",
            "Imaginary_Axis": 33,
            "Movements": 1477,
            "Points": {
             "im": 33,
             "re": -8
            },
            "Real_Axis": -8
           },
           {
            "Class": "prime",
            "Imaginary_Axis": 23,
            "Movements": 1487,
            "Points": {
             "im": 23,
             "re": -8
            },
            "Real_Axis": -8
           },
           {
            "Class": "prime",
            "Imaginary_Axis": 23,
            "Movements": 1495,
            "Points": {
             "im": 23,
             "re": 0
            },
            "Real_Axis": 0
           },
           {
            "Class": "prime",
            "Imaginary_Axis": 31,
            "Movements": 1503,
            "Points": {
             "im": 31,
             "re": 0
            },
            "Real_Axis": 0
           },
           {
            "Class": "prime",
            "Imaginary_Axis": 31,
            "Movements": 1507,
            "Points": {
             "im": 31,
             "re": -4
            },
            "Real_Axis": -4
           },
           {
            "Class": "prime",
            "Imaginary_Axis": 29,
            "Movements": 1509,
            "Points": {
             "im": 29,
             "re": -4
            },
            "Real_Axis": -4
           },
           {
            "Class": "prime",
            "Imaginary_Axis": 29,
            "Movements": 1517,
            "Points": {
             "im": 29,
             "re": 4
            },
            "Real_Axis": 4
           },
           {
            "Class": "prime",
            "Imaginary_Axis": 31,
            "Movements": 1519,
            "Points": {
             "im": 31,
             "re": 4
            },
            "Real_Axis": 4
           },
           {
            "Class": "prime",
            "Imaginary_Axis": 31,
            "Movements": 1523,
            "Points": {
             "im": 31,
             "re": 0
            },
            "Real_Axis": 0
           },
           {
            "Class": "prime",
            "Imaginary_Axis": 23,
            "Movements": 1531,
            "Points": {
             "im": 23,
             "re": 0
            },
            "Real_Axis": 0
           }
          ]
         },
         "encoding": {
          "x": {
           "field": "Real_Axis",
           "type": "quantitative"
          },
          "y": {
           "field": "Imaginary_Axis",
           "type": "quantitative"
          }
         },
         "mark": {
          "color": "red",
          "opacity": 0.5,
          "type": "circle"
         }
        }
       ],
       "title": "Gaussian Prime Spiral",
       "width": 700
      },
      "image/png": "[encoded data removed]",
      "image/svg+xml": [
       "<?xml version=\"1.0\" encoding=\"utf-8\"?>\n",
       "<!DOCTYPE svg PUBLIC \"-//W3C//DTD SVG 1.1//EN\" \"http://www.w3.org/Graphics/SVG/1.1/DTD/svg11.dtd\">\n",
       "<svg class=\"marks\" width=\"751\" height=\"764\" viewBox=\"0 0 751 764\" version=\"1.1\" xmlns=\"http://www.w3.org/2000/svg\" xmlns:xlink=\"http://www.w3.org/1999/xlink\"><rect width=\"751\" height=\"764\" fill=\"white\"></rect><g fill=\"none\" stroke-miterlimit=\"10\" transform=\"translate(45,27)\"><g class=\"mark-group role-frame root\" role=\"graphics-object\" aria-roledescription=\"group mark container\"><g transform=\"translate(0,0)\"><path class=\"background\" aria-hidden=\"true\" d=\"M0.5,0.5h700v700h-700Z\" stroke=\"#ddd\"></path><g><g class=\"mark-group role-axis\" aria-hidden=\"true\"><g transform=\"translate(0.5,700.5)\"><path class=\"background\" aria-hidden=\"true\" d=\"M0,0h0v0h0Z\" pointer-events=\"none\"></path><g><g class=\"mark-rule role-axis-grid\" pointer-events=\"none\"><line transform=\"translate(0,-700)\" x2=\"0\" y2=\"700\" stroke=\"#ddd\" stroke-width=\"1\" opacity=\"1\"></line><line transform=\"translate(50,-700)\" x2=\"0\" y2=\"700\" stroke=\"#ddd\" stroke-width=\"1\" opacity=\"1\"></line><line transform=\"translate(100,-700)\" x2=\"0\" y2=\"700\" stroke=\"#ddd\" stroke-width=\"1\" opacity=\"1\"></line><line transform=\"translate(150,-700)\" x2=\"0\" y2=\"700\" stroke=\"#ddd\" stroke-width=\"1\" opacity=\"1\"></line><line transform=\"translate(200,-700)\" x2=\"0\" y2=\"700\" stroke=\"#ddd\" stroke-width=\"1\" opacity=\"1\"></line><line transform=\"translate(250,-700)\" x2=\"0\" y2=\"700\" stroke=\"#ddd\" stroke-width=\"1\" opacity=\"1\"></line><line transform=\"translate(300,-700)\" x2=\"0\" y2=\"700\" stroke=\"#ddd\" stroke-width=\"1\" opacity=\"1\"></line><line transform=\"translate(350,-700)\" x2=\"0\" y2=\"700\" stroke=\"#ddd\" stroke-width=\"1\" opacity=\"1\"></line><line transform=\"translate(400,-700)\" x2=\"0\" y2=\"700\" stroke=\"#ddd\" stroke-width=\"1\" opacity=\"1\"></line><line transform=\"translate(450,-700)\" x2=\"0\" y2=\"700\" stroke=\"#ddd\" stroke-width=\"1\" opacity=\"1\"></line><line transform=\"translate(500,-700)\" x2=\"0\" y2=\"700\" stroke=\"#ddd\" stroke-width=\"1\" opacity=\"1\"></line><line transform=\"translate(550,-700)\" x2=\"0\" y2=\"700\" stroke=\"#ddd\" stroke-width=\"1\" opacity=\"1\"></line><line transform=\"translate(600,-700)\" x2=\"0\" y2=\"700\" stroke=\"#ddd\" stroke-width=\"1\" opacity=\"1\"></line><line transform=\"translate(650,-700)\" x2=\"0\" y2=\"700\" stroke=\"#ddd\" stroke-width=\"1\" opacity=\"1\"></line><line transform=\"translate(700,-700)\" x2=\"0\" y2=\"700\" stroke=\"#ddd\" stroke-width=\"1\" opacity=\"1\"></line></g></g><path class=\"foreground\" aria-hidden=\"true\" d=\"\" pointer-events=\"none\" display=\"none\"></path></g></g><g class=\"mark-group role-axis\" aria-hidden=\"true\"><g transform=\"translate(0.5,0.5)\"><path class=\"background\" aria-hidden=\"true\" d=\"M0,0h0v0h0Z\" pointer-events=\"none\"></path><g><g class=\"mark-rule role-axis-grid\" pointer-events=\"none\"><line transform=\"translate(0,700)\" x2=\"700\" y2=\"0\" stroke=\"#ddd\" stroke-width=\"1\" opacity=\"1\"></line><line transform=\"translate(0,665)\" x2=\"700\" y2=\"0\" stroke=\"#ddd\" stroke-width=\"1\" opacity=\"1\"></line><line transform=\"translate(0,630)\" x2=\"700\" y2=\"0\" stroke=\"#ddd\" stroke-width=\"1\" opacity=\"1\"></line><line transform=\"translate(0,595)\" x2=\"700\" y2=\"0\" stroke=\"#ddd\" stroke-width=\"1\" opacity=\"1\"></line><line transform=\"translate(0,560)\" x2=\"700\" y2=\"0\" stroke=\"#ddd\" stroke-width=\"1\" opacity=\"1\"></line><line transform=\"translate(0,525)\" x2=\"700\" y2=\"0\" stroke=\"#ddd\" stroke-width=\"1\" opacity=\"1\"></line><line transform=\"translate(0,490)\" x2=\"700\" y2=\"0\" stroke=\"#ddd\" stroke-width=\"1\" opacity=\"1\"></line><line transform=\"translate(0,455)\" x2=\"700\" y2=\"0\" stroke=\"#ddd\" stroke-width=\"1\" opacity=\"1\"></line><line transform=\"translate(0,420)\" x2=\"700\" y2=\"0\" stroke=\"#ddd\" stroke-width=\"1\" opacity=\"1\"></line><line transform=\"translate(0,385)\" x2=\"700\" y2=\"0\" stroke=\"#ddd\" stroke-width=\"1\" opacity=\"1\"></line><line transform=\"translate(0,350)\" x2=\"700\" y2=\"0\" stroke=\"#ddd\" stroke-width=\"1\" opacity=\"1\"></line><line transform=\"translate(0,315)\" x2=\"700\" y2=\"0\" stroke=\"#ddd\" stroke-width=\"1\" opacity=\"1\"></line><line transform=\"translate(0,280)\" x2=\"700\" y2=\"0\" stroke=\"#ddd\" stroke-width=\"1\" opacity=\"1\"></line><line transform=\"translate(0,245)\" x2=\"700\" y2=\"0\" stroke=\"#ddd\" stroke-width=\"1\" opacity=\"1\"></line><line transform=\"translate(0,210)\" x2=\"700\" y2=\"0\" stroke=\"#ddd\" stroke-width=\"1\" opacity=\"1\"></line><line transform=\"translate(0,175)\" x2=\"700\" y2=\"0\" stroke=\"#ddd\" stroke-width=\"1\" opacity=\"1\"></line><line transform=\"translate(0,140)\" x2=\"700\" y2=\"0\" stroke=\"#ddd\" stroke-width=\"1\" opacity=\"1\"></line><line transform=\"translate(0,105)\" x2=\"700\" y2=\"0\" stroke=\"#ddd\" stroke-width=\"1\" opacity=\"1\"></line><line transform=\"translate(0,70)\" x2=\"700\" y2=\"0\" stroke=\"#ddd\" stroke-width=\"1\" opacity=\"1\"></line><line transform=\"translate(0,35)\" x2=\"700\" y2=\"0\" stroke=\"#ddd\" stroke-width=\"1\" opacity=\"1\"></line><line transform=\"translate(0,0)\" x2=\"700\" y2=\"0\" stroke=\"#ddd\" stroke-width=\"1\" opacity=\"1\"></line></g></g><path class=\"foreground\" aria-hidden=\"true\" d=\"\" pointer-events=\"none\" display=\"none\"></path></g></g><g class=\"mark-group role-axis\" role=\"graphics-symbol\" aria-roledescription=\"axis\" aria-label=\"X-axis titled 'Real Axis; Span = 5 + 23im; Movements = 1536' for a linear scale with values from -35 to 35\"><g transform=\"translate(0.5,700.5)\"><path class=\"background\" aria-hidden=\"true\" d=\"M0,0h0v0h0Z\" pointer-events=\"none\"></path><g><g class=\"mark-rule role-axis-tick\" pointer-events=\"none\"><line transform=\"translate(0,0)\" x2=\"0\" y2=\"5\" stroke=\"#888\" stroke-width=\"1\" opacity=\"1\"></line><line transform=\"translate(50,0)\" x2=\"0\" y2=\"5\" stroke=\"#888\" stroke-width=\"1\" opacity=\"1\"></line><line transform=\"translate(100,0)\" x2=\"0\" y2=\"5\" stroke=\"#888\" stroke-width=\"1\" opacity=\"1\"></line><line transform=\"translate(150,0)\" x2=\"0\" y2=\"5\" stroke=\"#888\" stroke-width=\"1\" opacity=\"1\"></line><line transform=\"translate(200,0)\" x2=\"0\" y2=\"5\" stroke=\"#888\" stroke-width=\"1\" opacity=\"1\"></line><line transform=\"translate(250,0)\" x2=\"0\" y2=\"5\" stroke=\"#888\" stroke-width=\"1\" opacity=\"1\"></line><line transform=\"translate(300,0)\" x2=\"0\" y2=\"5\" stroke=\"#888\" stroke-width=\"1\" opacity=\"1\"></line><line transform=\"translate(350,0)\" x2=\"0\" y2=\"5\" stroke=\"#888\" stroke-width=\"1\" opacity=\"1\"></line><line transform=\"translate(400,0)\" x2=\"0\" y2=\"5\" stroke=\"#888\" stroke-width=\"1\" opacity=\"1\"></line><line transform=\"translate(450,0)\" x2=\"0\" y2=\"5\" stroke=\"#888\" stroke-width=\"1\" opacity=\"1\"></line><line transform=\"translate(500,0)\" x2=\"0\" y2=\"5\" stroke=\"#888\" stroke-width=\"1\" opacity=\"1\"></line><line transform=\"translate(550,0)\" x2=\"0\" y2=\"5\" stroke=\"#888\" stroke-width=\"1\" opacity=\"1\"></line><line transform=\"translate(600,0)\" x2=\"0\" y2=\"5\" stroke=\"#888\" stroke-width=\"1\" opacity=\"1\"></line><line transform=\"translate(650,0)\" x2=\"0\" y2=\"5\" stroke=\"#888\" stroke-width=\"1\" opacity=\"1\"></line><line transform=\"translate(700,0)\" x2=\"0\" y2=\"5\" stroke=\"#888\" stroke-width=\"1\" opacity=\"1\"></line></g><g class=\"mark-text role-axis-label\" pointer-events=\"none\"><text text-anchor=\"start\" transform=\"translate(0,15)\" font-family=\"sans-serif\" font-size=\"10px\" fill=\"#000\" opacity=\"1\">-35</text><text text-anchor=\"middle\" transform=\"translate(50,15)\" font-family=\"sans-serif\" font-size=\"10px\" fill=\"#000\" opacity=\"1\">-30</text><text text-anchor=\"middle\" transform=\"translate(100,15)\" font-family=\"sans-serif\" font-size=\"10px\" fill=\"#000\" opacity=\"1\">-25</text><text text-anchor=\"middle\" transform=\"translate(150,15)\" font-family=\"sans-serif\" font-size=\"10px\" fill=\"#000\" opacity=\"1\">-20</text><text text-anchor=\"middle\" transform=\"translate(200,15)\" font-family=\"sans-serif\" font-size=\"10px\" fill=\"#000\" opacity=\"1\">-15</text><text text-anchor=\"middle\" transform=\"translate(250,15)\" font-family=\"sans-serif\" font-size=\"10px\" fill=\"#000\" opacity=\"1\">-10</text><text text-anchor=\"middle\" transform=\"translate(300,15)\" font-family=\"sans-serif\" font-size=\"10px\" fill=\"#000\" opacity=\"1\">-5</text><text text-anchor=\"middle\" transform=\"translate(350,15)\" font-family=\"sans-serif\" font-size=\"10px\" fill=\"#000\" opacity=\"1\">0</text><text text-anchor=\"middle\" transform=\"translate(400,15)\" font-family=\"sans-serif\" font-size=\"10px\" fill=\"#000\" opacity=\"1\">5</text><text text-anchor=\"middle\" transform=\"translate(450.00000000000006,15)\" font-family=\"sans-serif\" font-size=\"10px\" fill=\"#000\" opacity=\"1\">10</text><text text-anchor=\"middle\" transform=\"translate(500,15)\" font-family=\"sans-serif\" font-size=\"10px\" fill=\"#000\" opacity=\"1\">15</text><text text-anchor=\"middle\" transform=\"translate(550,15)\" font-family=\"sans-serif\" font-size=\"10px\" fill=\"#000\" opacity=\"1\">20</text><text text-anchor=\"middle\" transform=\"translate(600,15)\" font-family=\"sans-serif\" font-size=\"10px\" fill=\"#000\" opacity=\"1\">25</text><text text-anchor=\"middle\" transform=\"translate(650,15)\" font-family=\"sans-serif\" font-size=\"10px\" fill=\"#000\" opacity=\"1\">30</text><text text-anchor=\"end\" transform=\"translate(700,15)\" font-family=\"sans-serif\" font-size=\"10px\" fill=\"#000\" opacity=\"1\">35</text></g><g class=\"mark-rule role-axis-domain\" pointer-events=\"none\"><line transform=\"translate(0,0)\" x2=\"700\" y2=\"0\" stroke=\"#888\" stroke-width=\"1\" opacity=\"1\"></line></g><g class=\"mark-text role-axis-title\" pointer-events=\"none\"><text text-anchor=\"middle\" transform=\"translate(350,30)\" font-family=\"sans-serif\" font-size=\"11px\" font-weight=\"bold\" fill=\"#000\" opacity=\"1\">Real Axis; Span = 5 + 23im; Movements = 1536</text></g></g><path class=\"foreground\" aria-hidden=\"true\" d=\"\" pointer-events=\"none\" display=\"none\"></path></g></g><g class=\"mark-group role-axis\" role=\"graphics-symbol\" aria-roledescription=\"axis\" aria-label=\"Y-axis titled 'Imaginary Axis' for a linear scale with values from 0 to 100\"><g transform=\"translate(0.5,0.5)\"><path class=\"background\" aria-hidden=\"true\" d=\"M0,0h0v0h0Z\" pointer-events=\"none\"></path><g><g class=\"mark-rule role-axis-tick\" pointer-events=\"none\"><line transform=\"translate(0,700)\" x2=\"-5\" y2=\"0\" stroke=\"#888\" stroke-width=\"1\" opacity=\"1\"></line><line transform=\"translate(0,665)\" x2=\"-5\" y2=\"0\" stroke=\"#888\" stroke-width=\"1\" opacity=\"1\"></line><line transform=\"translate(0,630)\" x2=\"-5\" y2=\"0\" stroke=\"#888\" stroke-width=\"1\" opacity=\"1\"></line><line transform=\"translate(0,595)\" x2=\"-5\" y2=\"0\" stroke=\"#888\" stroke-width=\"1\" opacity=\"1\"></line><line transform=\"translate(0,560)\" x2=\"-5\" y2=\"0\" stroke=\"#888\" stroke-width=\"1\" opacity=\"1\"></line><line transform=\"translate(0,525)\" x2=\"-5\" y2=\"0\" stroke=\"#888\" stroke-width=\"1\" opacity=\"1\"></line><line transform=\"translate(0,490)\" x2=\"-5\" y2=\"0\" stroke=\"#888\" stroke-width=\"1\" opacity=\"1\"></line><line transform=\"translate(0,455)\" x2=\"-5\" y2=\"0\" stroke=\"#888\" stroke-width=\"1\" opacity=\"1\"></line><line transform=\"translate(0,420)\" x2=\"-5\" y2=\"0\" stroke=\"#888\" stroke-width=\"1\" opacity=\"1\"></line><line transform=\"translate(0,385)\" x2=\"-5\" y2=\"0\" stroke=\"#888\" stroke-width=\"1\" opacity=\"1\"></line><line transform=\"translate(0,350)\" x2=\"-5\" y2=\"0\" stroke=\"#888\" stroke-width=\"1\" opacity=\"1\"></line><line transform=\"translate(0,315)\" x2=\"-5\" y2=\"0\" stroke=\"#888\" stroke-width=\"1\" opacity=\"1\"></line><line transform=\"translate(0,280)\" x2=\"-5\" y2=\"0\" stroke=\"#888\" stroke-width=\"1\" opacity=\"1\"></line><line transform=\"translate(0,245)\" x2=\"-5\" y2=\"0\" stroke=\"#888\" stroke-width=\"1\" opacity=\"1\"></line><line transform=\"translate(0,210)\" x2=\"-5\" y2=\"0\" stroke=\"#888\" stroke-width=\"1\" opacity=\"1\"></line><line transform=\"translate(0,175)\" x2=\"-5\" y2=\"0\" stroke=\"#888\" stroke-width=\"1\" opacity=\"1\"></line><line transform=\"translate(0,140)\" x2=\"-5\" y2=\"0\" stroke=\"#888\" stroke-width=\"1\" opacity=\"1\"></line><line transform=\"translate(0,105)\" x2=\"-5\" y2=\"0\" stroke=\"#888\" stroke-width=\"1\" opacity=\"1\"></line><line transform=\"translate(0,70)\" x2=\"-5\" y2=\"0\" stroke=\"#888\" stroke-width=\"1\" opacity=\"1\"></line><line transform=\"translate(0,35)\" x2=\"-5\" y2=\"0\" stroke=\"#888\" stroke-width=\"1\" opacity=\"1\"></line><line transform=\"translate(0,0)\" x2=\"-5\" y2=\"0\" stroke=\"#888\" stroke-width=\"1\" opacity=\"1\"></line></g><g class=\"mark-text role-axis-label\" pointer-events=\"none\"><text text-anchor=\"end\" transform=\"translate(-7,703)\" font-family=\"sans-serif\" font-size=\"10px\" fill=\"#000\" opacity=\"1\">0</text><text text-anchor=\"end\" transform=\"translate(-7,668)\" font-family=\"sans-serif\" font-size=\"10px\" fill=\"#000\" opacity=\"1\">5</text><text text-anchor=\"end\" transform=\"translate(-7,633)\" font-family=\"sans-serif\" font-size=\"10px\" fill=\"#000\" opacity=\"1\">10</text><text text-anchor=\"end\" transform=\"translate(-7,598)\" font-family=\"sans-serif\" font-size=\"10px\" fill=\"#000\" opacity=\"1\">15</text><text text-anchor=\"end\" transform=\"translate(-7,563)\" font-family=\"sans-serif\" font-size=\"10px\" fill=\"#000\" opacity=\"1\">20</text><text text-anchor=\"end\" transform=\"translate(-7,528)\" font-family=\"sans-serif\" font-size=\"10px\" fill=\"#000\" opacity=\"1\">25</text><text text-anchor=\"end\" transform=\"translate(-7,492.99999999999994)\" font-family=\"sans-serif\" font-size=\"10px\" fill=\"#000\" opacity=\"1\">30</text><text text-anchor=\"end\" transform=\"translate(-7,458)\" font-family=\"sans-serif\" font-size=\"10px\" fill=\"#000\" opacity=\"1\">35</text><text text-anchor=\"end\" transform=\"translate(-7,423)\" font-family=\"sans-serif\" font-size=\"10px\" fill=\"#000\" opacity=\"1\">40</text><text text-anchor=\"end\" transform=\"translate(-7,388.00000000000006)\" font-family=\"sans-serif\" font-size=\"10px\" fill=\"#000\" opacity=\"1\">45</text><text text-anchor=\"end\" transform=\"translate(-7,353)\" font-family=\"sans-serif\" font-size=\"10px\" fill=\"#000\" opacity=\"1\">50</text><text text-anchor=\"end\" transform=\"translate(-7,317.99999999999994)\" font-family=\"sans-serif\" font-size=\"10px\" fill=\"#000\" opacity=\"1\">55</text><text text-anchor=\"end\" transform=\"translate(-7,283)\" font-family=\"sans-serif\" font-size=\"10px\" fill=\"#000\" opacity=\"1\">60</text><text text-anchor=\"end\" transform=\"translate(-7,247.99999999999997)\" font-family=\"sans-serif\" font-size=\"10px\" fill=\"#000\" opacity=\"1\">65</text><text text-anchor=\"end\" transform=\"translate(-7,213.00000000000003)\" font-family=\"sans-serif\" font-size=\"10px\" fill=\"#000\" opacity=\"1\">70</text><text text-anchor=\"end\" transform=\"translate(-7,178)\" font-family=\"sans-serif\" font-size=\"10px\" fill=\"#000\" opacity=\"1\">75</text><text text-anchor=\"end\" transform=\"translate(-7,142.99999999999997)\" font-family=\"sans-serif\" font-size=\"10px\" fill=\"#000\" opacity=\"1\">80</text><text text-anchor=\"end\" transform=\"translate(-7,108.00000000000001)\" font-family=\"sans-serif\" font-size=\"10px\" fill=\"#000\" opacity=\"1\">85</text><text text-anchor=\"end\" transform=\"translate(-7,72.99999999999999)\" font-family=\"sans-serif\" font-size=\"10px\" fill=\"#000\" opacity=\"1\">90</text><text text-anchor=\"end\" transform=\"translate(-7,38.00000000000003)\" font-family=\"sans-serif\" font-size=\"10px\" fill=\"#000\" opacity=\"1\">95</text><text text-anchor=\"end\" transform=\"translate(-7,3)\" font-family=\"sans-serif\" font-size=\"10px\" fill=\"#000\" opacity=\"1\">100</text></g><g class=\"mark-rule role-axis-domain\" pointer-events=\"none\"><line transform=\"translate(0,700)\" x2=\"0\" y2=\"-700\" stroke=\"#888\" stroke-width=\"1\" opacity=\"1\"></line></g><g class=\"mark-text role-axis-title\" pointer-events=\"none\"><text text-anchor=\"middle\" transform=\"translate(-29,350) rotate(-90) translate(0,-2)\" font-family=\"sans-serif\" font-size=\"11px\" font-weight=\"bold\" fill=\"#000\" opacity=\"1\">Imaginary Axis</text></g></g><path class=\"foreground\" aria-hidden=\"true\" d=\"\" pointer-events=\"none\" display=\"none\"></path></g></g><g class=\"mark-line role-mark layer_0_marks\" role=\"graphics-object\" aria-roledescription=\"line mark container\"><path aria-label=\"Real Axis; Span = 5 + 23im; Movements = 1536: 5; Imaginary Axis: 23; Movements: 0\" role=\"graphics-symbol\" aria-roledescription=\"line mark\" d=\"M400,539L410,539L420,539L430,539L430,532L430,525L430,518L430,511L430,504L430,497L430,489.99999999999994L430,482.99999999999994L430,475.99999999999994L430,468.99999999999994L420,468.99999999999994L410,468.99999999999994L400,468.99999999999994L390,468.99999999999994L379.99999999999994,468.99999999999994L370,468.99999999999994L370,475.99999999999994L370,482.99999999999994L370,489.99999999999994L370,497L370,504L370,511L379.99999999999994,511L390,511L400,511L410,511L420,511L430,511L440,511L450.00000000000006,511L450.00000000000006,504L450.00000000000006,497L440,497L430,497L420,497L410,497L410,504L410,511L410,518L410,525L420,525L430,525L440,525L450.00000000000006,525L460,525L469.99999999999994,525L469.99999999999994,518L469.99999999999994,511L469.99999999999994,504L469.99999999999994,497L469.99999999999994,489.99999999999994L469.99999999999994,482.99999999999994L469.99999999999994,475.99999999999994L469.99999999999994,468.99999999999994L469.99999999999994,461.99999999999994L469.99999999999994,455L469.99999999999994,448L469.99999999999994,441L469.99999999999994,434L469.99999999999994,427L469.99999999999994,420L469.99999999999994,413.00000000000006L469.99999999999994,406.00000000000006L469.99999999999994,399.00000000000006L460,399.00000000000006L450.00000000000006,399.00000000000006L450.00000000000006,406.00000000000006L450.00000000000006,413.00000000000006L450.00000000000006,420L450.00000000000006,427L460,427L469.99999999999994,427L480,427L489.99999999999994,427L500,427L510,427L510,420L510,413.00000000000006L510,406.00000000000006L510,399.00000000000006L510,392.00000000000006L510,385.00000000000006L500,385.00000000000006L489.99999999999994,385.00000000000006L489.99999999999994,392.00000000000006L489.99999999999994,399.00000000000006L489.99999999999994,406.00000000000006L489.99999999999994,413.00000000000006L500,413.00000000000006L510,413.00000000000006L520,413.00000000000006L530,413.00000000000006L540,413.00000000000006L550,413.00000000000006L550,406.00000000000006L550,399.00000000000006L550,392.00000000000006L550,385.00000000000006L550,378L550,371L540,371L530,371L520,371L510,371L500,371L489.99999999999994,371L480,371L469.99999999999994,371L460,371L450.00000000000006,371L450.00000000000006,378L450.00000000000006,385.00000000000006L450.00000000000006,392.00000000000006L450.00000000000006,399.00000000000006L460,399.00000000000006L469.99999999999994,399.00000000000006L469.99999999999994,392.00000000000006L469.99999999999994,385.00000000000006L469.99999999999994,378L469.99999999999994,371L469.99999999999994,364L469.99999999999994,357L469.99999999999994,350L469.99999999999994,343L469.99999999999994,336L469.99999999999994,329L460,329L450.00000000000006,329L450.00000000000006,336L450.00000000000006,343L450.00000000000006,350L450.00000000000006,357L450.00000000000006,364L450.00000000000006,371L460,371L469.99999999999994,371L480,371L489.99999999999994,371L500,371L510,371L520,371L530,371L540,371L550,371L550,364L550,357L540,357L530,357L520,357L510,357L510,364L510,371L510,378L510,385.00000000000006L520,385.00000000000006L530,385.00000000000006L540,385.00000000000006L550,385.00000000000006L560,385.00000000000006L570,385.00000000000006L580,385.00000000000006L590,385.00000000000006L600,385.00000000000006L610,385.00000000000006L620,385.00000000000006L630,385.00000000000006L640,385.00000000000006L650,385.00000000000006L660,385.00000000000006L670,385.00000000000006L670,378L670,371L670,364L670,357L670,350L670,343L670,336L670,329L660,329L650,329L650,336L650,343L650,350L650,357L660,357L670,357L680,357L690,357L690,350L690,343L690,336L690,329L690,322L690,314.99999999999994L690,307.99999999999994L690,301.00000000000006L690,294L690,287L680,287L670,287L660,287L650,287L640,287L630,287L620,287L610,287L610,294L610,301.00000000000006L610,307.99999999999994L610,314.99999999999994L620,314.99999999999994L630,314.99999999999994L640,314.99999999999994L650,314.99999999999994L660,314.99999999999994L670,314.99999999999994L670,307.99999999999994L670,301.00000000000006L660,301.00000000000006L650,301.00000000000006L640,301.00000000000006L630,301.00000000000006L620,301.00000000000006L610,301.00000000000006L600,301.00000000000006L590,301.00000000000006L580,301.00000000000006L570,301.00000000000006L570,307.99999999999994L570,314.99999999999994L570,322L570,329L570,336L570,343L570,350L570,357L570,364L570,371L580,371L590,371L600,371L610,371L620,371L630,371L640,371L650,371L650,364L650,357L640,357L630,357L620,357L610,357L600,357L590,357L580,357L570,357L560,357L550,357L550,364L550,371L560,371L570,371L570,364L570,357L570,350L570,343L570,336L570,329L570,322L570,314.99999999999994L570,307.99999999999994L570,301.00000000000006L560,301.00000000000006L550,301.00000000000006L540,301.00000000000006L530,301.00000000000006L520,301.00000000000006L510,301.00000000000006L500,301.00000000000006L489.99999999999994,301.00000000000006L480,301.00000000000006L469.99999999999994,301.00000000000006L460,301.00000000000006L450.00000000000006,301.00000000000006L440,301.00000000000006L430,301.00000000000006L430,307.99999999999994L430,314.99999999999994L440,314.99999999999994L450.00000000000006,314.99999999999994L460,314.99999999999994L469.99999999999994,314.99999999999994L469.99999999999994,307.99999999999994L469.99999999999994,301.00000000000006L469.99999999999994,294L469.99999999999994,287L469.99999999999994,280L469.99999999999994,273L469.99999999999994,266L469.99999999999994,259L469.99999999999994,252L469.99999999999994,244.99999999999997L469.99999999999994,237.99999999999997L469.99999999999994,230.99999999999997L469.99999999999994,223.99999999999997L469.99999999999994,217.00000000000003L469.99999999999994,210.00000000000003L469.99999999999994,203.00000000000003L469.99999999999994,196.00000000000003L469.99999999999994,189L469.99999999999994,182L469.99999999999994,175L469.99999999999994,168L469.99999999999994,161L460,161L450.00000000000006,161L450.00000000000006,168L450.00000000000006,175L450.00000000000006,182L450.00000000000006,189L450.00000000000006,196.00000000000003L450.00000000000006,203.00000000000003L450.00000000000006,210.00000000000003L450.00000000000006,217.00000000000003L460,217.00000000000003L469.99999999999994,217.00000000000003L480,217.00000000000003L489.99999999999994,217.00000000000003L489.99999999999994,210.00000000000003L489.99999999999994,203.00000000000003L480,203.00000000000003L469.99999999999994,203.00000000000003L460,203.00000000000003L450.00000000000006,203.00000000000003L440,203.00000000000003L430,203.00000000000003L420,203.00000000000003L410,203.00000000000003L410,210.00000000000003L410,217.00000000000003L410,223.99999999999997L410,230.99999999999997L410,237.99999999999997L410,244.99999999999997L420,244.99999999999997L430,244.99999999999997L430,237.99999999999997L430,230.99999999999997L430,223.99999999999997L430,217.00000000000003L430,210.00000000000003L430,203.00000000000003L430,196.00000000000003L430,189L420,189L410,189L400,189L390,189L379.99999999999994,189L370,189L370,196.00000000000003L370,203.00000000000003L370,210.00000000000003L370,217.00000000000003L370,223.99999999999997L370,230.99999999999997L379.99999999999994,230.99999999999997L390,230.99999999999997L400,230.99999999999997L410,230.99999999999997L420,230.99999999999997L430,230.99999999999997L440,230.99999999999997L450.00000000000006,230.99999999999997L460,230.99999999999997L469.99999999999994,230.99999999999997L480,230.99999999999997L489.99999999999994,230.99999999999997L500,230.99999999999997L510,230.99999999999997L520,230.99999999999997L530,230.99999999999997L530,223.99999999999997L530,217.00000000000003L530,210.00000000000003L530,203.00000000000003L530,196.00000000000003L530,189L520,189L510,189L500,189L489.99999999999994,189L480,189L469.99999999999994,189L460,189L450.00000000000006,189L440,189L430,189L430,196.00000000000003L430,203.00000000000003L430,210.00000000000003L430,217.00000000000003L430,223.99999999999997L430,230.99999999999997L430,237.99999999999997L430,244.99999999999997L440,244.99999999999997L450.00000000000006,244.99999999999997L460,244.99999999999997L469.99999999999994,244.99999999999997L480,244.99999999999997L489.99999999999994,244.99999999999997L489.99999999999994,237.99999999999997L489.99999999999994,230.99999999999997L489.99999999999994,223.99999999999997L489.99999999999994,217.00000000000003L480,217.00000000000003L469.99999999999994,217.00000000000003L460,217.00000000000003L450.00000000000006,217.00000000000003L450.00000000000006,223.99999999999997L450.00000000000006,230.99999999999997L450.00000000000006,237.99999999999997L450.00000000000006,244.99999999999997L450.00000000000006,252L450.00000000000006,259L450.00000000000006,266L450.00000000000006,273L460,273L469.99999999999994,273L480,273L489.99999999999994,273L489.99999999999994,266L489.99999999999994,259L489.99999999999994,252L489.99999999999994,244.99999999999997L480,244.99999999999997L469.99999999999994,244.99999999999997L460,244.99999999999997L450.00000000000006,244.99999999999997L440,244.99999999999997L430,244.99999999999997L430,252L430,259L430,266L430,273L430,280L430,287L430,294L430,301.00000000000006L440,301.00000000000006L450.00000000000006,301.00000000000006L460,301.00000000000006L469.99999999999994,301.00000000000006L480,301.00000000000006L489.99999999999994,301.00000000000006L500,301.00000000000006L510,301.00000000000006L520,301.00000000000006L530,301.00000000000006L540,301.00000000000006L550,301.00000000000006L560,301.00000000000006L570,301.00000000000006L570,294L570,287L570,280L570,273L570,266L570,259L570,252L570,244.99999999999997L570,237.99999999999997L570,230.99999999999997L560,230.99999999999997L550,230.99999999999997L550,237.99999999999997L550,244.99999999999997L550,252L550,259L550,266L550,273L550,280L550,287L560,287L570,287L580,287L590,287L590,280L590,273L580,273L570,273L560,273L550,273L540,273L530,273L520,273L510,273L500,273L489.99999999999994,273L489.99999999999994,280L489.99999999999994,287L500,287L510,287L520,287L530,287L540,287L550,287L550,280L550,273L550,266L550,259L550,252L550,244.99999999999997L550,237.99999999999997L550,230.99999999999997L540,230.99999999999997L530,230.99999999999997L530,237.99999999999997L530,244.99999999999997L540,244.99999999999997L550,244.99999999999997L560,244.99999999999997L570,244.99999999999997L580,244.99999999999997L590,244.99999999999997L590,237.99999999999997L590,230.99999999999997L590,223.99999999999997L590,217.00000000000003L590,210.00000000000003L590,203.00000000000003L590,196.00000000000003L590,189L590,182L590,175L590,168L590,161L590,153.99999999999997L590,146.99999999999997L590,139.99999999999997L590,132.99999999999997L590,126.00000000000003L590,119.00000000000003L590,112.00000000000003L590,105.00000000000001L590,98.00000000000001L590,91L590,84L590,76.99999999999999L590,69.99999999999999L590,62.99999999999998L590,55.99999999999997L590,48.999999999999964L590,42.000000000000036L590,35.00000000000003L580,35.00000000000003L570,35.00000000000003L560,35.00000000000003L550,35.00000000000003L540,35.00000000000003L530,35.00000000000003L530,42.000000000000036L530,48.999999999999964L530,55.99999999999997L530,62.99999999999998L530,69.99999999999999L530,76.99999999999999L530,84L530,91L530,98.00000000000001L530,105.00000000000001L540,105.00000000000001L550,105.00000000000001L560,105.00000000000001L570,105.00000000000001L580,105.00000000000001L590,105.00000000000001L600,105.00000000000001L610,105.00000000000001L610,98.00000000000001L610,91L610,84L610,76.99999999999999L600,76.99999999999999L590,76.99999999999999L580,76.99999999999999L570,76.99999999999999L560,76.99999999999999L550,76.99999999999999L540,76.99999999999999L530,76.99999999999999L520,76.99999999999999L510,76.99999999999999L500,76.99999999999999L489.99999999999994,76.99999999999999L489.99999999999994,84L489.99999999999994,91L489.99999999999994,98.00000000000001L489.99999999999994,105.00000000000001L489.99999999999994,112.00000000000003L489.99999999999994,119.00000000000003L489.99999999999994,126.00000000000003L489.99999999999994,132.99999999999997L489.99999999999994,139.99999999999997L489.99999999999994,146.99999999999997L489.99999999999994,153.99999999999997L489.99999999999994,161L489.99999999999994,168L489.99999999999994,175L500,175L510,175L510,168L510,161L510,153.99999999999997L510,146.99999999999997L510,139.99999999999997L510,132.99999999999997L510,126.00000000000003L510,119.00000000000003L510,112.00000000000003L510,105.00000000000001L500,105.00000000000001L489.99999999999994,105.00000000000001L480,105.00000000000001L469.99999999999994,105.00000000000001L469.99999999999994,112.00000000000003L469.99999999999994,119.00000000000003L469.99999999999994,126.00000000000003L469.99999999999994,132.99999999999997L469.99999999999994,139.99999999999997L469.99999999999994,146.99999999999997L469.99999999999994,153.99999999999997L469.99999999999994,161L480,161L489.99999999999994,161L500,161L510,161L520,161L530,161L540,161L550,161L550,153.99999999999997L550,146.99999999999997L550,139.99999999999997L550,132.99999999999997L540,132.99999999999997L530,132.99999999999997L520,132.99999999999997L510,132.99999999999997L500,132.99999999999997L489.99999999999994,132.99999999999997L480,132.99999999999997L469.99999999999994,132.99999999999997L460,132.99999999999997L450.00000000000006,132.99999999999997L450.00000000000006,139.99999999999997L450.00000000000006,146.99999999999997L450.00000000000006,153.99999999999997L450.00000000000006,161L460,161L469.99999999999994,161L469.99999999999994,153.99999999999997L469.99999999999994,146.99999999999997L469.99999999999994,139.99999999999997L469.99999999999994,132.99999999999997L469.99999999999994,126.00000000000003L469.99999999999994,119.00000000000003L469.99999999999994,112.00000000000003L469.99999999999994,105.00000000000001L460,105.00000000000001L450.00000000000006,105.00000000000001L440,105.00000000000001L430,105.00000000000001L420,105.00000000000001L410,105.00000000000001L400,105.00000000000001L390,105.00000000000001L379.99999999999994,105.00000000000001L370,105.00000000000001L370,112.00000000000003L370,119.00000000000003L370,126.00000000000003L370,132.99999999999997L370,139.99999999999997L370,146.99999999999997L370,153.99999999999997L370,161L370,168L370,175L370,182L370,189L379.99999999999994,189L390,189L400,189L410,189L420,189L430,189L430,182L430,175L420,175L410,175L400,175L390,175L390,182L390,189L390,196.00000000000003L390,203.00000000000003L390,210.00000000000003L390,217.00000000000003L390,223.99999999999997L390,230.99999999999997L390,237.99999999999997L390,244.99999999999997L400,244.99999999999997L410,244.99999999999997L410,237.99999999999997L410,230.99999999999997L410,223.99999999999997L410,217.00000000000003L410,210.00000000000003L410,203.00000000000003L400,203.00000000000003L390,203.00000000000003L379.99999999999994,203.00000000000003L370,203.00000000000003L359.99999999999994,203.00000000000003L350,203.00000000000003L350,210.00000000000003L350,217.00000000000003L350,223.99999999999997L350,230.99999999999997L359.99999999999994,230.99999999999997L370,230.99999999999997L370,223.99999999999997L370,217.00000000000003L370,210.00000000000003L370,203.00000000000003L370,196.00000000000003L370,189L359.99999999999994,189L350,189L340,189L330,189L330,196.00000000000003L330,203.00000000000003L330,210.00000000000003L330,217.00000000000003L330,223.99999999999997L330,230.99999999999997L340,230.99999999999997L350,230.99999999999997L350,223.99999999999997L350,217.00000000000003L350,210.00000000000003L350,203.00000000000003L340,203.00000000000003L330,203.00000000000003L320,203.00000000000003L310,203.00000000000003L300,203.00000000000003L290,203.00000000000003L290,210.00000000000003L290,217.00000000000003L290,223.99999999999997L290,230.99999999999997L290,237.99999999999997L290,244.99999999999997L300,244.99999999999997L310,244.99999999999997L310,237.99999999999997L310,230.99999999999997L310,223.99999999999997L310,217.00000000000003L310,210.00000000000003L310,203.00000000000003L310,196.00000000000003L310,189L310,182L310,175L300,175L290,175L280,175L270,175L270,182L270,189L280,189L290,189L300,189L310,189L320,189L330,189L330,182L330,175L330,168L330,161L330,153.99999999999997L330,146.99999999999997L330,139.99999999999997L330,132.99999999999997L330,126.00000000000003L330,119.00000000000003L330,112.00000000000003L330,105.00000000000001L320,105.00000000000001L310,105.00000000000001L300,105.00000000000001L290,105.00000000000001L280,105.00000000000001L270,105.00000000000001L260,105.00000000000001L250,105.00000000000001L240,105.00000000000001L230,105.00000000000001L230,112.00000000000003L230,119.00000000000003L230,126.00000000000003L230,132.99999999999997L230,139.99999999999997L230,146.99999999999997L230,153.99999999999997L230,161L240,161L250,161L250,153.99999999999997L250,146.99999999999997L250,139.99999999999997L250,132.99999999999997L240,132.99999999999997L230,132.99999999999997L220,132.99999999999997L210,132.99999999999997L200,132.99999999999997L189.99999999999997,132.99999999999997L179.99999999999997,132.99999999999997L170,132.99999999999997L160,132.99999999999997L150,132.99999999999997L150,139.99999999999997L150,146.99999999999997L150,153.99999999999997L150,161L160,161L170,161L179.99999999999997,161L189.99999999999997,161L200,161L210,161L220,161L230,161L230,153.99999999999997L230,146.99999999999997L230,139.99999999999997L230,132.99999999999997L230,126.00000000000003L230,119.00000000000003L230,112.00000000000003L230,105.00000000000001L220,105.00000000000001L210,105.00000000000001L200,105.00000000000001L189.99999999999997,105.00000000000001L189.99999999999997,112.00000000000003L189.99999999999997,119.00000000000003L189.99999999999997,126.00000000000003L189.99999999999997,132.99999999999997L189.99999999999997,139.99999999999997L189.99999999999997,146.99999999999997L189.99999999999997,153.99999999999997L189.99999999999997,161L189.99999999999997,168L189.99999999999997,175L200,175L210,175L210,168L210,161L210,153.99999999999997L210,146.99999999999997L210,139.99999999999997L210,132.99999999999997L210,126.00000000000003L210,119.00000000000003L210,112.00000000000003L210,105.00000000000001L210,98.00000000000001L210,91L210,84L210,76.99999999999999L200,76.99999999999999L189.99999999999997,76.99999999999999L179.99999999999997,76.99999999999999L170,76.99999999999999L160,76.99999999999999L150,76.99999999999999L140,76.99999999999999L130,76.99999999999999L120,76.99999999999999L110,76.99999999999999L100,76.99999999999999L89.99999999999999,76.99999999999999L89.99999999999999,84L89.99999999999999,91L89.99999999999999,98.00000000000001L89.99999999999999,105.00000000000001L100,105.00000000000001L110,105.00000000000001L120,105.00000000000001L130,105.00000000000001L140,105.00000000000001L150,105.00000000000001L160,105.00000000000001L170,105.00000000000001L170,98.00000000000001L170,91L170,84L170,76.99999999999999L170,69.99999999999999L170,62.99999999999998L170,55.99999999999997L170,48.999999999999964L170,42.000000000000036L170,35.00000000000003L160,35.00000000000003L150,35.00000000000003L140,35.00000000000003L130,35.00000000000003L120,35.00000000000003L110,35.00000000000003L110,42.000000000000036L110,48.999999999999964L110,55.99999999999997L110,62.99999999999998L110,69.99999999999999L110,76.99999999999999L110,84L110,91L110,98.00000000000001L110,105.00000000000001L110,112.00000000000003L110,119.00000000000003L110,126.00000000000003L110,132.99999999999997L110,139.99999999999997L110,146.99999999999997L110,153.99999999999997L110,161L110,168L110,175L110,182L110,189L110,196.00000000000003L110,203.00000000000003L110,210.00000000000003L110,217.00000000000003L110,223.99999999999997L110,230.99999999999997L110,237.99999999999997L110,244.99999999999997L120,244.99999999999997L130,244.99999999999997L140,244.99999999999997L150,244.99999999999997L160,244.99999999999997L170,244.99999999999997L170,237.99999999999997L170,230.99999999999997L160,230.99999999999997L150,230.99999999999997L150,237.99999999999997L150,244.99999999999997L150,252L150,259L150,266L150,273L150,280L150,287L160,287L170,287L179.99999999999997,287L189.99999999999997,287L200,287L210,287L210,280L210,273L200,273L189.99999999999997,273L179.99999999999997,273L170,273L160,273L150,273L140,273L130,273L120,273L110,273L110,280L110,287L120,287L130,287L140,287L150,287L150,280L150,273L150,266L150,259L150,252L150,244.99999999999997L150,237.99999999999997L150,230.99999999999997L140,230.99999999999997L130,230.99999999999997L130,237.99999999999997L130,244.99999999999997L130,252L130,259L130,266L130,273L130,280L130,287L130,294L130,301.00000000000006L140,301.00000000000006L150,301.00000000000006L160,301.00000000000006L170,301.00000000000006L179.99999999999997,301.00000000000006L189.99999999999997,301.00000000000006L200,301.00000000000006L210,301.00000000000006L220,301.00000000000006L230,301.00000000000006L240,301.00000000000006L250,301.00000000000006L260,301.00000000000006L270,301.00000000000006L270,294L270,287L270,280L270,273L270,266L270,259L270,252L270,244.99999999999997L260,244.99999999999997L250,244.99999999999997L240,244.99999999999997L230,244.99999999999997L220,244.99999999999997L210,244.99999999999997L210,252L210,259L210,266L210,273L220,273L230,273L240,273L250,273L250,266L250,259L250,252L250,244.99999999999997L250,237.99999999999997L250,230.99999999999997L250,223.99999999999997L250,217.00000000000003L240,217.00000000000003L230,217.00000000000003L220,217.00000000000003L210,217.00000000000003L210,223.99999999999997L210,230.99999999999997L210,237.99999999999997L210,244.99999999999997L220,244.99999999999997L230,244.99999999999997L240,244.99999999999997L250,244.99999999999997L260,244.99999999999997L270,244.99999999999997L270,237.99999999999997L270,230.99999999999997L270,223.99999999999997L270,217.00000000000003L270,210.00000000000003L270,203.00000000000003L270,196.00000000000003L270,189L260,189L250,189L240,189L230,189L220,189L210,189L200,189L189.99999999999997,189L179.99999999999997,189L170,189L170,196.00000000000003L170,203.00000000000003L170,210.00000000000003L170,217.00000000000003L170,223.99999999999997L170,230.99999999999997L179.99999999999997,230.99999999999997L189.99999999999997,230.99999999999997L200,230.99999999999997L210,230.99999999999997L220,230.99999999999997L230,230.99999999999997L240,230.99999999999997L250,230.99999999999997L260,230.99999999999997L270,230.99999999999997L280,230.99999999999997L290,230.99999999999997L300,230.99999999999997L310,230.99999999999997L320,230.99999999999997L330,230.99999999999997L330,223.99999999999997L330,217.00000000000003L330,210.00000000000003L330,203.00000000000003L330,196.00000000000003L330,189L320,189L310,189L300,189L290,189L280,189L270,189L270,196.00000000000003L270,203.00000000000003L270,210.00000000000003L270,217.00000000000003L270,223.99999999999997L270,230.99999999999997L270,237.99999999999997L270,244.99999999999997L280,244.99999999999997L290,244.99999999999997L290,237.99999999999997L290,230.99999999999997L290,223.99999999999997L290,217.00000000000003L290,210.00000000000003L290,203.00000000000003L280,203.00000000000003L270,203.00000000000003L260,203.00000000000003L250,203.00000000000003L240,203.00000000000003L230,203.00000000000003L220,203.00000000000003L210,203.00000000000003L210,210.00000000000003L210,217.00000000000003L220,217.00000000000003L230,217.00000000000003L240,217.00000000000003L250,217.00000000000003L250,210.00000000000003L250,203.00000000000003L250,196.00000000000003L250,189L250,182L250,175L250,168L250,161L240,161L230,161L230,168L230,175L230,182L230,189L230,196.00000000000003L230,203.00000000000003L230,210.00000000000003L230,217.00000000000003L230,223.99999999999997L230,230.99999999999997L230,237.99999999999997L230,244.99999999999997L230,252L230,259L230,266L230,273L230,280L230,287L230,294L230,301.00000000000006L230,307.99999999999994L230,314.99999999999994L240,314.99999999999994L250,314.99999999999994L260,314.99999999999994L270,314.99999999999994L270,307.99999999999994L270,301.00000000000006L260,301.00000000000006L250,301.00000000000006L240,301.00000000000006L230,301.00000000000006L220,301.00000000000006L210,301.00000000000006L200,301.00000000000006L189.99999999999997,301.00000000000006L179.99999999999997,301.00000000000006L170,301.00000000000006L160,301.00000000000006L150,301.00000000000006L140,301.00000000000006L130,301.00000000000006L130,307.99999999999994L130,314.99999999999994L130,322L130,329L130,336L130,343L130,350L130,357L130,364L130,371L140,371L150,371L150,364L150,357L140,357L130,357L120,357L110,357L100,357L89.99999999999999,357L80,357L70,357L60,357L50,357L50,364L50,371L60,371L70,371L80,371L89.99999999999999,371L100,371L110,371L120,371L130,371L130,364L130,357L130,350L130,343L130,336L130,329L130,322L130,314.99999999999994L130,307.99999999999994L130,301.00000000000006L120,301.00000000000006L110,301.00000000000006L100,301.00000000000006L89.99999999999999,301.00000000000006L80,301.00000000000006L70,301.00000000000006L60,301.00000000000006L50,301.00000000000006L40,301.00000000000006L30,301.00000000000006L30,307.99999999999994L30,314.99999999999994L40,314.99999999999994L50,314.99999999999994L60,314.99999999999994L70,314.99999999999994L80,314.99999999999994L89.99999999999999,314.99999999999994L89.99999999999999,307.99999999999994L89.99999999999999,301.00000000000006L89.99999999999999,294L89.99999999999999,287L80,287L70,287L60,287L50,287L40,287L30,287L20,287L10,287L10,294L10,301.00000000000006L10,307.99999999999994L10,314.99999999999994L10,322L10,329L10,336L10,343L10,350L10,357L20,357L30,357L40,357L50,357L50,350L50,343L50,336L50,329L40,329L30,329L30,336L30,343L30,350L30,357L30,364L30,371L30,378L30,385.00000000000006L40,385.00000000000006L50,385.00000000000006L60,385.00000000000006L70,385.00000000000006L80,385.00000000000006L89.99999999999999,385.00000000000006L100,385.00000000000006L110,385.00000000000006L120,385.00000000000006L130,385.00000000000006L140,385.00000000000006L150,385.00000000000006L160,385.00000000000006L170,385.00000000000006L179.99999999999997,385.00000000000006L189.99999999999997,385.00000000000006L189.99999999999997,378L189.99999999999997,371L189.99999999999997,364L189.99999999999997,357L179.99999999999997,357L170,357L160,357L150,357L150,364L150,371L160,371L170,371L179.99999999999997,371L189.99999999999997,371L200,371L210,371L220,371L230,371L240,371L250,371L250,364L250,357L250,350L250,343L250,336L250,329L240,329L230,329L230,336L230,343L230,350L230,357L230,364L230,371L230,378L230,385.00000000000006L230,392.00000000000006L230,399.00000000000006L240,399.00000000000006L250,399.00000000000006L250,392.00000000000006L250,385.00000000000006L250,378L250,371L240,371L230,371L220,371L210,371L200,371L189.99999999999997,371L179.99999999999997,371L170,371L160,371L150,371L150,378L150,385.00000000000006L150,392.00000000000006L150,399.00000000000006L150,406.00000000000006L150,413.00000000000006L160,413.00000000000006L170,413.00000000000006L179.99999999999997,413.00000000000006L189.99999999999997,413.00000000000006L200,413.00000000000006L210,413.00000000000006L210,406.00000000000006L210,399.00000000000006L210,392.00000000000006L210,385.00000000000006L200,385.00000000000006L189.99999999999997,385.00000000000006L189.99999999999997,392.00000000000006L189.99999999999997,399.00000000000006L189.99999999999997,406.00000000000006L189.99999999999997,413.00000000000006L189.99999999999997,420L189.99999999999997,427L200,427L210,427L220,427L230,427L240,427L250,427L250,420L250,413.00000000000006L250,406.00000000000006L250,399.00000000000006L240,399.00000000000006L230,399.00000000000006L230,406.00000000000006L230,413.00000000000006L230,420L230,427L230,434L230,441L230,448L230,455L230,461.99999999999994L230,468.99999999999994L230,475.99999999999994L230,482.99999999999994L230,489.99999999999994L230,497L230,504L230,511L230,518L230,525L240,525L250,525L260,525L270,525L280,525L290,525L290,518L290,511L290,504L290,497L280,497L270,497L260,497L250,497L250,504L250,511L260,511L270,511L280,511L290,511L300,511L310,511L320,511L330,511L330,504L330,497L330,489.99999999999994L330,482.99999999999994L330,475.99999999999994L330,468.99999999999994L320,468.99999999999994L310,468.99999999999994L300,468.99999999999994L290,468.99999999999994L280,468.99999999999994L270,468.99999999999994L270,475.99999999999994L270,482.99999999999994L270,489.99999999999994L270,497L270,504L270,511L270,518L270,525L270,532L270,539L280,539L290,539L300,539L310,539L320,539L330,539L340,539L350,539L350,532L350,525L350,518L350,511L350,504L350,497L350,489.99999999999994L350,482.99999999999994L340,482.99999999999994L330,482.99999999999994L320,482.99999999999994L310,482.99999999999994L310,489.99999999999994L310,497L320,497L330,497L340,497L350,497L359.99999999999994,497L370,497L379.99999999999994,497L390,497L390,489.99999999999994L390,482.99999999999994L379.99999999999994,482.99999999999994L370,482.99999999999994L359.99999999999994,482.99999999999994L350,482.99999999999994L350,489.99999999999994L350,497L350,504L350,511L350,518L350,525L350,532L350,539L359.99999999999994,539L370,539L379.99999999999994,539L390,539L400,539\" stroke=\"black\" stroke-width=\"2\" opacity=\"1\"></path></g><g class=\"mark-symbol role-mark layer_1_marks\" role=\"graphics-object\" aria-roledescription=\"symbol mark container\"><path aria-label=\"Real_Axis: 8; Imaginary_Axis: 23\" role=\"graphics-symbol\" aria-roledescription=\"circle\" transform=\"translate(430,539)\" d=\"M2.7386127875258306,0A2.7386127875258306,2.7386127875258306,0,1,1,-2.7386127875258306,0A2.7386127875258306,2.7386127875258306,0,1,1,2.7386127875258306,0\" fill=\"red\" stroke-width=\"2\" opacity=\"0.5\"></path><path aria-label=\"Real_Axis: 8; Imaginary_Axis: 33\" role=\"graphics-symbol\" aria-roledescription=\"circle\" transform=\"translate(430,468.99999999999994)\" d=\"M2.7386127875258306,0A2.7386127875258306,2.7386127875258306,0,1,1,-2.7386127875258306,0A2.7386127875258306,2.7386127875258306,0,1,1,2.7386127875258306,0\" fill=\"red\" stroke-width=\"2\" opacity=\"0.5\"></path><path aria-label=\"Real_Axis: 2; Imaginary_Axis: 33\" role=\"graphics-symbol\" aria-roledescription=\"circle\" transform=\"translate(370,468.99999999999994)\" d=\"M2.7386127875258306,0A2.7386127875258306,2.7386127875258306,0,1,1,-2.7386127875258306,0A2.7386127875258306,2.7386127875258306,0,1,1,2.7386127875258306,0\" fill=\"red\" stroke-width=\"2\" opacity=\"0.5\"></path><path aria-label=\"Real_Axis: 2; Imaginary_Axis: 27\" role=\"graphics-symbol\" aria-roledescription=\"circle\" transform=\"translate(370,511)\" d=\"M2.7386127875258306,0A2.7386127875258306,2.7386127875258306,0,1,1,-2.7386127875258306,0A2.7386127875258306,2.7386127875258306,0,1,1,2.7386127875258306,0\" fill=\"red\" stroke-width=\"2\" opacity=\"0.5\"></path><path aria-label=\"Real_Axis: 10; Imaginary_Axis: 27\" role=\"graphics-symbol\" aria-roledescription=\"circle\" transform=\"translate(450.00000000000006,511)\" d=\"M2.7386127875258306,0A2.7386127875258306,2.7386127875258306,0,1,1,-2.7386127875258306,0A2.7386127875258306,2.7386127875258306,0,1,1,2.7386127875258306,0\" fill=\"red\" stroke-width=\"2\" opacity=\"0.5\"></path><path aria-label=\"Real_Axis: 10; Imaginary_Axis: 29\" role=\"graphics-symbol\" aria-roledescription=\"circle\" transform=\"translate(450.00000000000006,497)\" d=\"M2.7386127875258306,0A2.7386127875258306,2.7386127875258306,0,1,1,-2.7386127875258306,0A2.7386127875258306,2.7386127875258306,0,1,1,2.7386127875258306,0\" fill=\"red\" stroke-width=\"2\" opacity=\"0.5\"></path><path aria-label=\"Real_Axis: 6; Imaginary_Axis: 29\" role=\"graphics-symbol\" aria-roledescription=\"circle\" transform=\"translate(410,497)\" d=\"M2.7386127875258306,0A2.7386127875258306,2.7386127875258306,0,1,1,-2.7386127875258306,0A2.7386127875258306,2.7386127875258306,0,1,1,2.7386127875258306,0\" fill=\"red\" stroke-width=\"2\" opacity=\"0.5\"></path><path aria-label=\"Real_Axis: 6; Imaginary_Axis: 25\" role=\"graphics-symbol\" aria-roledescription=\"circle\" transform=\"translate(410,525)\" d=\"M2.7386127875258306,0A2.7386127875258306,2.7386127875258306,0,1,1,-2.7386127875258306,0A2.7386127875258306,2.7386127875258306,0,1,1,2.7386127875258306,0\" fill=\"red\" stroke-width=\"2\" opacity=\"0.5\"></path><path aria-label=\"Real_Axis: 12; Imaginary_Axis: 25\" role=\"graphics-symbol\" aria-roledescription=\"circle\" transform=\"translate(469.99999999999994,525)\" d=\"M2.7386127875258306,0A2.7386127875258306,2.7386127875258306,0,1,1,-2.7386127875258306,0A2.7386127875258306,2.7386127875258306,0,1,1,2.7386127875258306,0\" fill=\"red\" stroke-width=\"2\" opacity=\"0.5\"></path><path aria-label=\"Real_Axis: 12; Imaginary_Axis: 43\" role=\"graphics-symbol\" aria-roledescription=\"circle\" transform=\"translate(469.99999999999994,399.00000000000006)\" d=\"M2.7386127875258306,0A2.7386127875258306,2.7386127875258306,0,1,1,-2.7386127875258306,0A2.7386127875258306,2.7386127875258306,0,1,1,2.7386127875258306,0\" fill=\"red\" stroke-width=\"2\" opacity=\"0.5\"></path><path aria-label=\"Real_Axis: 10; Imaginary_Axis: 43\" role=\"graphics-symbol\" aria-roledescription=\"circle\" transform=\"translate(450.00000000000006,399.00000000000006)\" d=\"M2.7386127875258306,0A2.7386127875258306,2.7386127875258306,0,1,1,-2.7386127875258306,0A2.7386127875258306,2.7386127875258306,0,1,1,2.7386127875258306,0\" fill=\"red\" stroke-width=\"2\" opacity=\"0.5\"></path><path aria-label=\"Real_Axis: 10; Imaginary_Axis: 39\" role=\"graphics-symbol\" aria-roledescription=\"circle\" transform=\"translate(450.00000000000006,427)\" d=\"M2.7386127875258306,0A2.7386127875258306,2.7386127875258306,0,1,1,-2.7386127875258306,0A2.7386127875258306,2.7386127875258306,0,1,1,2.7386127875258306,0\" fill=\"red\" stroke-width=\"2\" opacity=\"0.5\"></path><path aria-label=\"Real_Axis: 16; Imaginary_Axis: 39\" role=\"graphics-symbol\" aria-roledescription=\"circle\" transform=\"translate(510,427)\" d=\"M2.7386127875258306,0A2.7386127875258306,2.7386127875258306,0,1,1,-2.7386127875258306,0A2.7386127875258306,2.7386127875258306,0,1,1,2.7386127875258306,0\" fill=\"red\" stroke-width=\"2\" opacity=\"0.5\"></path><path aria-label=\"Real_Axis: 16; Imaginary_Axis: 45\" role=\"graphics-symbol\" aria-roledescription=\"circle\" transform=\"translate(510,385.00000000000006)\" d=\"M2.7386127875258306,0A2.7386127875258306,2.7386127875258306,0,1,1,-2.7386127875258306,0A2.7386127875258306,2.7386127875258306,0,1,1,2.7386127875258306,0\" fill=\"red\" stroke-width=\"2\" opacity=\"0.5\"></path><path aria-label=\"Real_Axis: 14; Imaginary_Axis: 45\" role=\"graphics-symbol\" aria-roledescription=\"circle\" transform=\"translate(489.99999999999994,385.00000000000006)\" d=\"M2.7386127875258306,0A2.7386127875258306,2.7386127875258306,0,1,1,-2.7386127875258306,0A2.7386127875258306,2.7386127875258306,0,1,1,2.7386127875258306,0\" fill=\"red\" stroke-width=\"2\" opacity=\"0.5\"></path><path aria-label=\"Real_Axis: 14; Imaginary_Axis: 41\" role=\"graphics-symbol\" aria-roledescription=\"circle\" transform=\"translate(489.99999999999994,413.00000000000006)\" d=\"M2.7386127875258306,0A2.7386127875258306,2.7386127875258306,0,1,1,-2.7386127875258306,0A2.7386127875258306,2.7386127875258306,0,1,1,2.7386127875258306,0\" fill=\"red\" stroke-width=\"2\" opacity=\"0.5\"></path><path aria-label=\"Real_Axis: 20; Imaginary_Axis: 41\" role=\"graphics-symbol\" aria-roledescription=\"circle\" transform=\"translate(550,413.00000000000006)\" d=\"M2.7386127875258306,0A2.7386127875258306,2.7386127875258306,0,1,1,-2.7386127875258306,0A2.7386127875258306,2.7386127875258306,0,1,1,2.7386127875258306,0\" fill=\"red\" stroke-width=\"2\" opacity=\"0.5\"></path><path aria-label=\"Real_Axis: 20; Imaginary_Axis: 47\" role=\"graphics-symbol\" aria-roledescription=\"circle\" transform=\"translate(550,371)\" d=\"M2.7386127875258306,0A2.7386127875258306,2.7386127875258306,0,1,1,-2.7386127875258306,0A2.7386127875258306,2.7386127875258306,0,1,1,2.7386127875258306,0\" fill=\"red\" stroke-width=\"2\" opacity=\"0.5\"></path><path aria-label=\"Real_Axis: 10; Imaginary_Axis: 47\" role=\"graphics-symbol\" aria-roledescription=\"circle\" transform=\"translate(450.00000000000006,371)\" d=\"M2.7386127875258306,0A2.7386127875258306,2.7386127875258306,0,1,1,-2.7386127875258306,0A2.7386127875258306,2.7386127875258306,0,1,1,2.7386127875258306,0\" fill=\"red\" stroke-width=\"2\" opacity=\"0.5\"></path><path aria-label=\"Real_Axis: 10; Imaginary_Axis: 43\" role=\"graphics-symbol\" aria-roledescription=\"circle\" transform=\"translate(450.00000000000006,399.00000000000006)\" d=\"M2.7386127875258306,0A2.7386127875258306,2.7386127875258306,0,1,1,-2.7386127875258306,0A2.7386127875258306,2.7386127875258306,0,1,1,2.7386127875258306,0\" fill=\"red\" stroke-width=\"2\" opacity=\"0.5\"></path><path aria-label=\"Real_Axis: 12; Imaginary_Axis: 43\" role=\"graphics-symbol\" aria-roledescription=\"circle\" transform=\"translate(469.99999999999994,399.00000000000006)\" d=\"M2.7386127875258306,0A2.7386127875258306,2.7386127875258306,0,1,1,-2.7386127875258306,0A2.7386127875258306,2.7386127875258306,0,1,1,2.7386127875258306,0\" fill=\"red\" stroke-width=\"2\" opacity=\"0.5\"></path><path aria-label=\"Real_Axis: 12; Imaginary_Axis: 53\" role=\"graphics-symbol\" aria-roledescription=\"circle\" transform=\"translate(469.99999999999994,329)\" d=\"M2.7386127875258306,0A2.7386127875258306,2.7386127875258306,0,1,1,-2.7386127875258306,0A2.7386127875258306,2.7386127875258306,0,1,1,2.7386127875258306,0\" fill=\"red\" stroke-width=\"2\" opacity=\"0.5\"></path><path aria-label=\"Real_Axis: 10; Imaginary_Axis: 53\" role=\"graphics-symbol\" aria-roledescription=\"circle\" transform=\"translate(450.00000000000006,329)\" d=\"M2.7386127875258306,0A2.7386127875258306,2.7386127875258306,0,1,1,-2.7386127875258306,0A2.7386127875258306,2.7386127875258306,0,1,1,2.7386127875258306,0\" fill=\"red\" stroke-width=\"2\" opacity=\"0.5\"></path><path aria-label=\"Real_Axis: 10; Imaginary_Axis: 47\" role=\"graphics-symbol\" aria-roledescription=\"circle\" transform=\"translate(450.00000000000006,371)\" d=\"M2.7386127875258306,0A2.7386127875258306,2.7386127875258306,0,1,1,-2.7386127875258306,0A2.7386127875258306,2.7386127875258306,0,1,1,2.7386127875258306,0\" fill=\"red\" stroke-width=\"2\" opacity=\"0.5\"></path><path aria-label=\"Real_Axis: 20; Imaginary_Axis: 47\" role=\"graphics-symbol\" aria-roledescription=\"circle\" transform=\"translate(550,371)\" d=\"M2.7386127875258306,0A2.7386127875258306,2.7386127875258306,0,1,1,-2.7386127875258306,0A2.7386127875258306,2.7386127875258306,0,1,1,2.7386127875258306,0\" fill=\"red\" stroke-width=\"2\" opacity=\"0.5\"></path><path aria-label=\"Real_Axis: 20; Imaginary_Axis: 49\" role=\"graphics-symbol\" aria-roledescription=\"circle\" transform=\"translate(550,357)\" d=\"M2.7386127875258306,0A2.7386127875258306,2.7386127875258306,0,1,1,-2.7386127875258306,0A2.7386127875258306,2.7386127875258306,0,1,1,2.7386127875258306,0\" fill=\"red\" stroke-width=\"2\" opacity=\"0.5\"></path><path aria-label=\"Real_Axis: 16; Imaginary_Axis: 49\" role=\"graphics-symbol\" aria-roledescription=\"circle\" transform=\"translate(510,357)\" d=\"M2.7386127875258306,0A2.7386127875258306,2.7386127875258306,0,1,1,-2.7386127875258306,0A2.7386127875258306,2.7386127875258306,0,1,1,2.7386127875258306,0\" fill=\"red\" stroke-width=\"2\" opacity=\"0.5\"></path><path aria-label=\"Real_Axis: 16; Imaginary_Axis: 45\" role=\"graphics-symbol\" aria-roledescription=\"circle\" transform=\"translate(510,385.00000000000006)\" d=\"M2.7386127875258306,0A2.7386127875258306,2.7386127875258306,0,1,1,-2.7386127875258306,0A2.7386127875258306,2.7386127875258306,0,1,1,2.7386127875258306,0\" fill=\"red\" stroke-width=\"2\" opacity=\"0.5\"></path><path aria-label=\"Real_Axis: 32; Imaginary_Axis: 45\" role=\"graphics-symbol\" aria-roledescription=\"circle\" transform=\"translate(670,385.00000000000006)\" d=\"M2.7386127875258306,0A2.7386127875258306,2.7386127875258306,0,1,1,-2.7386127875258306,0A2.7386127875258306,2.7386127875258306,0,1,1,2.7386127875258306,0\" fill=\"red\" stroke-width=\"2\" opacity=\"0.5\"></path><path aria-label=\"Real_Axis: 32; Imaginary_Axis: 53\" role=\"graphics-symbol\" aria-roledescription=\"circle\" transform=\"translate(670,329)\" d=\"M2.7386127875258306,0A2.7386127875258306,2.7386127875258306,0,1,1,-2.7386127875258306,0A2.7386127875258306,2.7386127875258306,0,1,1,2.7386127875258306,0\" fill=\"red\" stroke-width=\"2\" opacity=\"0.5\"></path><path aria-label=\"Real_Axis: 30; Imaginary_Axis: 53\" role=\"graphics-symbol\" aria-roledescription=\"circle\" transform=\"translate(650,329)\" d=\"M2.7386127875258306,0A2.7386127875258306,2.7386127875258306,0,1,1,-2.7386127875258306,0A2.7386127875258306,2.7386127875258306,0,1,1,2.7386127875258306,0\" fill=\"red\" stroke-width=\"2\" opacity=\"0.5\"></path><path aria-label=\"Real_Axis: 30; Imaginary_Axis: 49\" role=\"graphics-symbol\" aria-roledescription=\"circle\" transform=\"translate(650,357)\" d=\"M2.7386127875258306,0A2.7386127875258306,2.7386127875258306,0,1,1,-2.7386127875258306,0A2.7386127875258306,2.7386127875258306,0,1,1,2.7386127875258306,0\" fill=\"red\" stroke-width=\"2\" opacity=\"0.5\"></path><path aria-label=\"Real_Axis: 34; Imaginary_Axis: 49\" role=\"graphics-symbol\" aria-roledescription=\"circle\" transform=\"translate(690,357)\" d=\"M2.7386127875258306,0A2.7386127875258306,2.7386127875258306,0,1,1,-2.7386127875258306,0A2.7386127875258306,2.7386127875258306,0,1,1,2.7386127875258306,0\" fill=\"red\" stroke-width=\"2\" opacity=\"0.5\"></path><path aria-label=\"Real_Axis: 34; Imaginary_Axis: 59\" role=\"graphics-symbol\" aria-roledescription=\"circle\" transform=\"translate(690,287)\" d=\"M2.7386127875258306,0A2.7386127875258306,2.7386127875258306,0,1,1,-2.7386127875258306,0A2.7386127875258306,2.7386127875258306,0,1,1,2.7386127875258306,0\" fill=\"red\" stroke-width=\"2\" opacity=\"0.5\"></path><path aria-label=\"Real_Axis: 26; Imaginary_Axis: 59\" role=\"graphics-symbol\" aria-roledescription=\"circle\" transform=\"translate(610,287)\" d=\"M2.7386127875258306,0A2.7386127875258306,2.7386127875258306,0,1,1,-2.7386127875258306,0A2.7386127875258306,2.7386127875258306,0,1,1,2.7386127875258306,0\" fill=\"red\" stroke-width=\"2\" opacity=\"0.5\"></path><path aria-label=\"Real_Axis: 26; Imaginary_Axis: 55\" role=\"graphics-symbol\" aria-roledescription=\"circle\" transform=\"translate(610,314.99999999999994)\" d=\"M2.7386127875258306,0A2.7386127875258306,2.7386127875258306,0,1,1,-2.7386127875258306,0A2.7386127875258306,2.7386127875258306,0,1,1,2.7386127875258306,0\" fill=\"red\" stroke-width=\"2\" opacity=\"0.5\"></path><path aria-label=\"Real_Axis: 32; Imaginary_Axis: 55\" role=\"graphics-symbol\" aria-roledescription=\"circle\" transform=\"translate(670,314.99999999999994)\" d=\"M2.7386127875258306,0A2.7386127875258306,2.7386127875258306,0,1,1,-2.7386127875258306,0A2.7386127875258306,2.7386127875258306,0,1,1,2.7386127875258306,0\" fill=\"red\" stroke-width=\"2\" opacity=\"0.5\"></path><path aria-label=\"Real_Axis: 32; Imaginary_Axis: 57\" role=\"graphics-symbol\" aria-roledescription=\"circle\" transform=\"translate(670,301.00000000000006)\" d=\"M2.7386127875258306,0A2.7386127875258306,2.7386127875258306,0,1,1,-2.7386127875258306,0A2.7386127875258306,2.7386127875258306,0,1,1,2.7386127875258306,0\" fill=\"red\" stroke-width=\"2\" opacity=\"0.5\"></path><path aria-label=\"Real_Axis: 22; Imaginary_Axis: 57\" role=\"graphics-symbol\" aria-roledescription=\"circle\" transform=\"translate(570,301.00000000000006)\" d=\"M2.7386127875258306,0A2.7386127875258306,2.7386127875258306,0,1,1,-2.7386127875258306,0A2.7386127875258306,2.7386127875258306,0,1,1,2.7386127875258306,0\" fill=\"red\" stroke-width=\"2\" opacity=\"0.5\"></path><path aria-label=\"Real_Axis: 22; Imaginary_Axis: 47\" role=\"graphics-symbol\" aria-roledescription=\"circle\" transform=\"translate(570,371)\" d=\"M2.7386127875258306,0A2.7386127875258306,2.7386127875258306,0,1,1,-2.7386127875258306,0A2.7386127875258306,2.7386127875258306,0,1,1,2.7386127875258306,0\" fill=\"red\" stroke-width=\"2\" opacity=\"0.5\"></path><path aria-label=\"Real_Axis: 30; Imaginary_Axis: 47\" role=\"graphics-symbol\" aria-roledescription=\"circle\" transform=\"translate(650,371)\" d=\"M2.7386127875258306,0A2.7386127875258306,2.7386127875258306,0,1,1,-2.7386127875258306,0A2.7386127875258306,2.7386127875258306,0,1,1,2.7386127875258306,0\" fill=\"red\" stroke-width=\"2\" opacity=\"0.5\"></path><path aria-label=\"Real_Axis: 30; Imaginary_Axis: 49\" role=\"graphics-symbol\" aria-roledescription=\"circle\" transform=\"translate(650,357)\" d=\"M2.7386127875258306,0A2.7386127875258306,2.7386127875258306,0,1,1,-2.7386127875258306,0A2.7386127875258306,2.7386127875258306,0,1,1,2.7386127875258306,0\" fill=\"red\" stroke-width=\"2\" opacity=\"0.5\"></path><path aria-label=\"Real_Axis: 20; Imaginary_Axis: 49\" role=\"graphics-symbol\" aria-roledescription=\"circle\" transform=\"translate(550,357)\" d=\"M2.7386127875258306,0A2.7386127875258306,2.7386127875258306,0,1,1,-2.7386127875258306,0A2.7386127875258306,2.7386127875258306,0,1,1,2.7386127875258306,0\" fill=\"red\" stroke-width=\"2\" opacity=\"0.5\"></path><path aria-label=\"Real_Axis: 20; Imaginary_Axis: 47\" role=\"graphics-symbol\" aria-roledescription=\"circle\" transform=\"translate(550,371)\" d=\"M2.7386127875258306,0A2.7386127875258306,2.7386127875258306,0,1,1,-2.7386127875258306,0A2.7386127875258306,2.7386127875258306,0,1,1,2.7386127875258306,0\" fill=\"red\" stroke-width=\"2\" opacity=\"0.5\"></path><path aria-label=\"Real_Axis: 22; Imaginary_Axis: 47\" role=\"graphics-symbol\" aria-roledescription=\"circle\" transform=\"translate(570,371)\" d=\"M2.7386127875258306,0A2.7386127875258306,2.7386127875258306,0,1,1,-2.7386127875258306,0A2.7386127875258306,2.7386127875258306,0,1,1,2.7386127875258306,0\" fill=\"red\" stroke-width=\"2\" opacity=\"0.5\"></path><path aria-label=\"Real_Axis: 22; Imaginary_Axis: 57\" role=\"graphics-symbol\" aria-roledescription=\"circle\" transform=\"translate(570,301.00000000000006)\" d=\"M2.7386127875258306,0A2.7386127875258306,2.7386127875258306,0,1,1,-2.7386127875258306,0A2.7386127875258306,2.7386127875258306,0,1,1,2.7386127875258306,0\" fill=\"red\" stroke-width=\"2\" opacity=\"0.5\"></path><path aria-label=\"Real_Axis: 8; Imaginary_Axis: 57\" role=\"graphics-symbol\" aria-roledescription=\"circle\" transform=\"translate(430,301.00000000000006)\" d=\"M2.7386127875258306,0A2.7386127875258306,2.7386127875258306,0,1,1,-2.7386127875258306,0A2.7386127875258306,2.7386127875258306,0,1,1,2.7386127875258306,0\" fill=\"red\" stroke-width=\"2\" opacity=\"0.5\"></path><path aria-label=\"Real_Axis: 8; Imaginary_Axis: 55\" role=\"graphics-symbol\" aria-roledescription=\"circle\" transform=\"translate(430,314.99999999999994)\" d=\"M2.7386127875258306,0A2.7386127875258306,2.7386127875258306,0,1,1,-2.7386127875258306,0A2.7386127875258306,2.7386127875258306,0,1,1,2.7386127875258306,0\" fill=\"red\" stroke-width=\"2\" opacity=\"0.5\"></path><path aria-label=\"Real_Axis: 12; Imaginary_Axis: 55\" role=\"graphics-symbol\" aria-roledescription=\"circle\" transform=\"translate(469.99999999999994,314.99999999999994)\" d=\"M2.7386127875258306,0A2.7386127875258306,2.7386127875258306,0,1,1,-2.7386127875258306,0A2.7386127875258306,2.7386127875258306,0,1,1,2.7386127875258306,0\" fill=\"red\" stroke-width=\"2\" opacity=\"0.5\"></path><path aria-label=\"Real_Axis: 12; Imaginary_Axis: 77\" role=\"graphics-symbol\" aria-roledescription=\"circle\" transform=\"translate(469.99999999999994,161)\" d=\"M2.7386127875258306,0A2.7386127875258306,2.7386127875258306,0,1,1,-2.7386127875258306,0A2.7386127875258306,2.7386127875258306,0,1,1,2.7386127875258306,0\" fill=\"red\" stroke-width=\"2\" opacity=\"0.5\"></path><path aria-label=\"Real_Axis: 10; Imaginary_Axis: 77\" role=\"graphics-symbol\" aria-roledescription=\"circle\" transform=\"translate(450.00000000000006,161)\" d=\"M2.7386127875258306,0A2.7386127875258306,2.7386127875258306,0,1,1,-2.7386127875258306,0A2.7386127875258306,2.7386127875258306,0,1,1,2.7386127875258306,0\" fill=\"red\" stroke-width=\"2\" opacity=\"0.5\"></path><path aria-label=\"Real_Axis: 10; Imaginary_Axis: 69\" role=\"graphics-symbol\" aria-roledescription=\"circle\" transform=\"translate(450.00000000000006,217.00000000000003)\" d=\"M2.7386127875258306,0A2.7386127875258306,2.7386127875258306,0,1,1,-2.7386127875258306,0A2.7386127875258306,2.7386127875258306,0,1,1,2.7386127875258306,0\" fill=\"red\" stroke-width=\"2\" opacity=\"0.5\"></path><path aria-label=\"Real_Axis: 14; Imaginary_Axis: 69\" role=\"graphics-symbol\" aria-roledescription=\"circle\" transform=\"translate(489.99999999999994,217.00000000000003)\" d=\"M2.7386127875258306,0A2.7386127875258306,2.7386127875258306,0,1,1,-2.7386127875258306,0A2.7386127875258306,2.7386127875258306,0,1,1,2.7386127875258306,0\" fill=\"red\" stroke-width=\"2\" opacity=\"0.5\"></path><path aria-label=\"Real_Axis: 14; Imaginary_Axis: 71\" role=\"graphics-symbol\" aria-roledescription=\"circle\" transform=\"translate(489.99999999999994,203.00000000000003)\" d=\"M2.7386127875258306,0A2.7386127875258306,2.7386127875258306,0,1,1,-2.7386127875258306,0A2.7386127875258306,2.7386127875258306,0,1,1,2.7386127875258306,0\" fill=\"red\" stroke-width=\"2\" opacity=\"0.5\"></path><path aria-label=\"Real_Axis: 6; Imaginary_Axis: 71\" role=\"graphics-symbol\" aria-roledescription=\"circle\" transform=\"translate(410,203.00000000000003)\" d=\"M2.7386127875258306,0A2.7386127875258306,2.7386127875258306,0,1,1,-2.7386127875258306,0A2.7386127875258306,2.7386127875258306,0,1,1,2.7386127875258306,0\" fill=\"red\" stroke-width=\"2\" opacity=\"0.5\"></path><path aria-label=\"Real_Axis: 6; Imaginary_Axis: 65\" role=\"graphics-symbol\" aria-roledescription=\"circle\" transform=\"translate(410,244.99999999999997)\" d=\"M2.7386127875258306,0A2.7386127875258306,2.7386127875258306,0,1,1,-2.7386127875258306,0A2.7386127875258306,2.7386127875258306,0,1,1,2.7386127875258306,0\" fill=\"red\" stroke-width=\"2\" opacity=\"0.5\"></path><path aria-label=\"Real_Axis: 8; Imaginary_Axis: 65\" role=\"graphics-symbol\" aria-roledescription=\"circle\" transform=\"translate(430,244.99999999999997)\" d=\"M2.7386127875258306,0A2.7386127875258306,2.7386127875258306,0,1,1,-2.7386127875258306,0A2.7386127875258306,2.7386127875258306,0,1,1,2.7386127875258306,0\" fill=\"red\" stroke-width=\"2\" opacity=\"0.5\"></path><path aria-label=\"Real_Axis: 8; Imaginary_Axis: 73\" role=\"graphics-symbol\" aria-roledescription=\"circle\" transform=\"translate(430,189)\" d=\"M2.7386127875258306,0A2.7386127875258306,2.7386127875258306,0,1,1,-2.7386127875258306,0A2.7386127875258306,2.7386127875258306,0,1,1,2.7386127875258306,0\" fill=\"red\" stroke-width=\"2\" opacity=\"0.5\"></path><path aria-label=\"Real_Axis: 2; Imaginary_Axis: 73\" role=\"graphics-symbol\" aria-roledescription=\"circle\" transform=\"translate(370,189)\" d=\"M2.7386127875258306,0A2.7386127875258306,2.7386127875258306,0,1,1,-2.7386127875258306,0A2.7386127875258306,2.7386127875258306,0,1,1,2.7386127875258306,0\" fill=\"red\" stroke-width=\"2\" opacity=\"0.5\"></path><path aria-label=\"Real_Axis: 2; Imaginary_Axis: 67\" role=\"graphics-symbol\" aria-roledescription=\"circle\" transform=\"translate(370,230.99999999999997)\" d=\"M2.7386127875258306,0A2.7386127875258306,2.7386127875258306,0,1,1,-2.7386127875258306,0A2.7386127875258306,2.7386127875258306,0,1,1,2.7386127875258306,0\" fill=\"red\" stroke-width=\"2\" opacity=\"0.5\"></path><path aria-label=\"Real_Axis: 18; Imaginary_Axis: 67\" role=\"graphics-symbol\" aria-roledescription=\"circle\" transform=\"translate(530,230.99999999999997)\" d=\"M2.7386127875258306,0A2.7386127875258306,2.7386127875258306,0,1,1,-2.7386127875258306,0A2.7386127875258306,2.7386127875258306,0,1,1,2.7386127875258306,0\" fill=\"red\" stroke-width=\"2\" opacity=\"0.5\"></path><path aria-label=\"Real_Axis: 18; Imaginary_Axis: 73\" role=\"graphics-symbol\" aria-roledescription=\"circle\" transform=\"translate(530,189)\" d=\"M2.7386127875258306,0A2.7386127875258306,2.7386127875258306,0,1,1,-2.7386127875258306,0A2.7386127875258306,2.7386127875258306,0,1,1,2.7386127875258306,0\" fill=\"red\" stroke-width=\"2\" opacity=\"0.5\"></path><path aria-label=\"Real_Axis: 8; Imaginary_Axis: 73\" role=\"graphics-symbol\" aria-roledescription=\"circle\" transform=\"translate(430,189)\" d=\"M2.7386127875258306,0A2.7386127875258306,2.7386127875258306,0,1,1,-2.7386127875258306,0A2.7386127875258306,2.7386127875258306,0,1,1,2.7386127875258306,0\" fill=\"red\" stroke-width=\"2\" opacity=\"0.5\"></path><path aria-label=\"Real_Axis: 8; Imaginary_Axis: 65\" role=\"graphics-symbol\" aria-roledescription=\"circle\" transform=\"translate(430,244.99999999999997)\" d=\"M2.7386127875258306,0A2.7386127875258306,2.7386127875258306,0,1,1,-2.7386127875258306,0A2.7386127875258306,2.7386127875258306,0,1,1,2.7386127875258306,0\" fill=\"red\" stroke-width=\"2\" opacity=\"0.5\"></path><path aria-label=\"Real_Axis: 14; Imaginary_Axis: 65\" role=\"graphics-symbol\" aria-roledescription=\"circle\" transform=\"translate(489.99999999999994,244.99999999999997)\" d=\"M2.7386127875258306,0A2.7386127875258306,2.7386127875258306,0,1,1,-2.7386127875258306,0A2.7386127875258306,2.7386127875258306,0,1,1,2.7386127875258306,0\" fill=\"red\" stroke-width=\"2\" opacity=\"0.5\"></path><path aria-label=\"Real_Axis: 14; Imaginary_Axis: 69\" role=\"graphics-symbol\" aria-roledescription=\"circle\" transform=\"translate(489.99999999999994,217.00000000000003)\" d=\"M2.7386127875258306,0A2.7386127875258306,2.7386127875258306,0,1,1,-2.7386127875258306,0A2.7386127875258306,2.7386127875258306,0,1,1,2.7386127875258306,0\" fill=\"red\" stroke-width=\"2\" opacity=\"0.5\"></path><path aria-label=\"Real_Axis: 10; Imaginary_Axis: 69\" role=\"graphics-symbol\" aria-roledescription=\"circle\" transform=\"translate(450.00000000000006,217.00000000000003)\" d=\"M2.7386127875258306,0A2.7386127875258306,2.7386127875258306,0,1,1,-2.7386127875258306,0A2.7386127875258306,2.7386127875258306,0,1,1,2.7386127875258306,0\" fill=\"red\" stroke-width=\"2\" opacity=\"0.5\"></path><path aria-label=\"Real_Axis: 10; Imaginary_Axis: 61\" role=\"graphics-symbol\" aria-roledescription=\"circle\" transform=\"translate(450.00000000000006,273)\" d=\"M2.7386127875258306,0A2.7386127875258306,2.7386127875258306,0,1,1,-2.7386127875258306,0A2.7386127875258306,2.7386127875258306,0,1,1,2.7386127875258306,0\" fill=\"red\" stroke-width=\"2\" opacity=\"0.5\"></path><path aria-label=\"Real_Axis: 14; Imaginary_Axis: 61\" role=\"graphics-symbol\" aria-roledescription=\"circle\" transform=\"translate(489.99999999999994,273)\" d=\"M2.7386127875258306,0A2.7386127875258306,2.7386127875258306,0,1,1,-2.7386127875258306,0A2.7386127875258306,2.7386127875258306,0,1,1,2.7386127875258306,0\" fill=\"red\" stroke-width=\"2\" opacity=\"0.5\"></path><path aria-label=\"Real_Axis: 14; Imaginary_Axis: 65\" role=\"graphics-symbol\" aria-roledescription=\"circle\" transform=\"translate(489.99999999999994,244.99999999999997)\" d=\"M2.7386127875258306,0A2.7386127875258306,2.7386127875258306,0,1,1,-2.7386127875258306,0A2.7386127875258306,2.7386127875258306,0,1,1,2.7386127875258306,0\" fill=\"red\" stroke-width=\"2\" opacity=\"0.5\"></path><path aria-label=\"Real_Axis: 8; Imaginary_Axis: 65\" role=\"graphics-symbol\" aria-roledescription=\"circle\" transform=\"translate(430,244.99999999999997)\" d=\"M2.7386127875258306,0A2.7386127875258306,2.7386127875258306,0,1,1,-2.7386127875258306,0A2.7386127875258306,2.7386127875258306,0,1,1,2.7386127875258306,0\" fill=\"red\" stroke-width=\"2\" opacity=\"0.5\"></path><path aria-label=\"Real_Axis: 8; Imaginary_Axis: 57\" role=\"graphics-symbol\" aria-roledescription=\"circle\" transform=\"translate(430,301.00000000000006)\" d=\"M2.7386127875258306,0A2.7386127875258306,2.7386127875258306,0,1,1,-2.7386127875258306,0A2.7386127875258306,2.7386127875258306,0,1,1,2.7386127875258306,0\" fill=\"red\" stroke-width=\"2\" opacity=\"0.5\"></path><path aria-label=\"Real_Axis: 22; Imaginary_Axis: 57\" role=\"graphics-symbol\" aria-roledescription=\"circle\" transform=\"translate(570,301.00000000000006)\" d=\"M2.7386127875258306,0A2.7386127875258306,2.7386127875258306,0,1,1,-2.7386127875258306,0A2.7386127875258306,2.7386127875258306,0,1,1,2.7386127875258306,0\" fill=\"red\" stroke-width=\"2\" opacity=\"0.5\"></path><path aria-label=\"Real_Axis: 22; Imaginary_Axis: 67\" role=\"graphics-symbol\" aria-roledescription=\"circle\" transform=\"translate(570,230.99999999999997)\" d=\"M2.7386127875258306,0A2.7386127875258306,2.7386127875258306,0,1,1,-2.7386127875258306,0A2.7386127875258306,2.7386127875258306,0,1,1,2.7386127875258306,0\" fill=\"red\" stroke-width=\"2\" opacity=\"0.5\"></path><path aria-label=\"Real_Axis: 20; Imaginary_Axis: 67\" role=\"graphics-symbol\" aria-roledescription=\"circle\" transform=\"translate(550,230.99999999999997)\" d=\"M2.7386127875258306,0A2.7386127875258306,2.7386127875258306,0,1,1,-2.7386127875258306,0A2.7386127875258306,2.7386127875258306,0,1,1,2.7386127875258306,0\" fill=\"red\" stroke-width=\"2\" opacity=\"0.5\"></path><path aria-label=\"Real_Axis: 20; Imaginary_Axis: 59\" role=\"graphics-symbol\" aria-roledescription=\"circle\" transform=\"translate(550,287)\" d=\"M2.7386127875258306,0A2.7386127875258306,2.7386127875258306,0,1,1,-2.7386127875258306,0A2.7386127875258306,2.7386127875258306,0,1,1,2.7386127875258306,0\" fill=\"red\" stroke-width=\"2\" opacity=\"0.5\"></path><path aria-label=\"Real_Axis: 24; Imaginary_Axis: 59\" role=\"graphics-symbol\" aria-roledescription=\"circle\" transform=\"translate(590,287)\" d=\"M2.7386127875258306,0A2.7386127875258306,2.7386127875258306,0,1,1,-2.7386127875258306,0A2.7386127875258306,2.7386127875258306,0,1,1,2.7386127875258306,0\" fill=\"red\" stroke-width=\"2\" opacity=\"0.5\"></path><path aria-label=\"Real_Axis: 24; Imaginary_Axis: 61\" role=\"graphics-symbol\" aria-roledescription=\"circle\" transform=\"translate(590,273)\" d=\"M2.7386127875258306,0A2.7386127875258306,2.7386127875258306,0,1,1,-2.7386127875258306,0A2.7386127875258306,2.7386127875258306,0,1,1,2.7386127875258306,0\" fill=\"red\" stroke-width=\"2\" opacity=\"0.5\"></path><path aria-label=\"Real_Axis: 14; Imaginary_Axis: 61\" role=\"graphics-symbol\" aria-roledescription=\"circle\" transform=\"translate(489.99999999999994,273)\" d=\"M2.7386127875258306,0A2.7386127875258306,2.7386127875258306,0,1,1,-2.7386127875258306,0A2.7386127875258306,2.7386127875258306,0,1,1,2.7386127875258306,0\" fill=\"red\" stroke-width=\"2\" opacity=\"0.5\"></path><path aria-label=\"Real_Axis: 14; Imaginary_Axis: 59\" role=\"graphics-symbol\" aria-roledescription=\"circle\" transform=\"translate(489.99999999999994,287)\" d=\"M2.7386127875258306,0A2.7386127875258306,2.7386127875258306,0,1,1,-2.7386127875258306,0A2.7386127875258306,2.7386127875258306,0,1,1,2.7386127875258306,0\" fill=\"red\" stroke-width=\"2\" opacity=\"0.5\"></path><path aria-label=\"Real_Axis: 20; Imaginary_Axis: 59\" role=\"graphics-symbol\" aria-roledescription=\"circle\" transform=\"translate(550,287)\" d=\"M2.7386127875258306,0A2.7386127875258306,2.7386127875258306,0,1,1,-2.7386127875258306,0A2.7386127875258306,2.7386127875258306,0,1,1,2.7386127875258306,0\" fill=\"red\" stroke-width=\"2\" opacity=\"0.5\"></path><path aria-label=\"Real_Axis: 20; Imaginary_Axis: 67\" role=\"graphics-symbol\" aria-roledescription=\"circle\" transform=\"translate(550,230.99999999999997)\" d=\"M2.7386127875258306,0A2.7386127875258306,2.7386127875258306,0,1,1,-2.7386127875258306,0A2.7386127875258306,2.7386127875258306,0,1,1,2.7386127875258306,0\" fill=\"red\" stroke-width=\"2\" opacity=\"0.5\"></path><path aria-label=\"Real_Axis: 18; Imaginary_Axis: 67\" role=\"graphics-symbol\" aria-roledescription=\"circle\" transform=\"translate(530,230.99999999999997)\" d=\"M2.7386127875258306,0A2.7386127875258306,2.7386127875258306,0,1,1,-2.7386127875258306,0A2.7386127875258306,2.7386127875258306,0,1,1,2.7386127875258306,0\" fill=\"red\" stroke-width=\"2\" opacity=\"0.5\"></path><path aria-label=\"Real_Axis: 18; Imaginary_Axis: 65\" role=\"graphics-symbol\" aria-roledescription=\"circle\" transform=\"translate(530,244.99999999999997)\" d=\"M2.7386127875258306,0A2.7386127875258306,2.7386127875258306,0,1,1,-2.7386127875258306,0A2.7386127875258306,2.7386127875258306,0,1,1,2.7386127875258306,0\" fill=\"red\" stroke-width=\"2\" opacity=\"0.5\"></path><path aria-label=\"Real_Axis: 24; Imaginary_Axis: 65\" role=\"graphics-symbol\" aria-roledescription=\"circle\" transform=\"translate(590,244.99999999999997)\" d=\"M2.7386127875258306,0A2.7386127875258306,2.7386127875258306,0,1,1,-2.7386127875258306,0A2.7386127875258306,2.7386127875258306,0,1,1,2.7386127875258306,0\" fill=\"red\" stroke-width=\"2\" opacity=\"0.5\"></path><path aria-label=\"Real_Axis: 24; Imaginary_Axis: 95\" role=\"graphics-symbol\" aria-roledescription=\"circle\" transform=\"translate(590,35.00000000000003)\" d=\"M2.7386127875258306,0A2.7386127875258306,2.7386127875258306,0,1,1,-2.7386127875258306,0A2.7386127875258306,2.7386127875258306,0,1,1,2.7386127875258306,0\" fill=\"red\" stroke-width=\"2\" opacity=\"0.5\"></path><path aria-label=\"Real_Axis: 18; Imaginary_Axis: 95\" role=\"graphics-symbol\" aria-roledescription=\"circle\" transform=\"translate(530,35.00000000000003)\" d=\"M2.7386127875258306,0A2.7386127875258306,2.7386127875258306,0,1,1,-2.7386127875258306,0A2.7386127875258306,2.7386127875258306,0,1,1,2.7386127875258306,0\" fill=\"red\" stroke-width=\"2\" opacity=\"0.5\"></path><path aria-label=\"Real_Axis: 18; Imaginary_Axis: 85\" role=\"graphics-symbol\" aria-roledescription=\"circle\" transform=\"translate(530,105.00000000000001)\" d=\"M2.7386127875258306,0A2.7386127875258306,2.7386127875258306,0,1,1,-2.7386127875258306,0A2.7386127875258306,2.7386127875258306,0,1,1,2.7386127875258306,0\" fill=\"red\" stroke-width=\"2\" opacity=\"0.5\"></path><path aria-label=\"Real_Axis: 26; Imaginary_Axis: 85\" role=\"graphics-symbol\" aria-roledescription=\"circle\" transform=\"translate(610,105.00000000000001)\" d=\"M2.7386127875258306,0A2.7386127875258306,2.7386127875258306,0,1,1,-2.7386127875258306,0A2.7386127875258306,2.7386127875258306,0,1,1,2.7386127875258306,0\" fill=\"red\" stroke-width=\"2\" opacity=\"0.5\"></path><path aria-label=\"Real_Axis: 26; Imaginary_Axis: 89\" role=\"graphics-symbol\" aria-roledescription=\"circle\" transform=\"translate(610,76.99999999999999)\" d=\"M2.7386127875258306,0A2.7386127875258306,2.7386127875258306,0,1,1,-2.7386127875258306,0A2.7386127875258306,2.7386127875258306,0,1,1,2.7386127875258306,0\" fill=\"red\" stroke-width=\"2\" opacity=\"0.5\"></path><path aria-label=\"Real_Axis: 14; Imaginary_Axis: 89\" role=\"graphics-symbol\" aria-roledescription=\"circle\" transform=\"translate(489.99999999999994,76.99999999999999)\" d=\"M2.7386127875258306,0A2.7386127875258306,2.7386127875258306,0,1,1,-2.7386127875258306,0A2.7386127875258306,2.7386127875258306,0,1,1,2.7386127875258306,0\" fill=\"red\" stroke-width=\"2\" opacity=\"0.5\"></path><path aria-label=\"Real_Axis: 14; Imaginary_Axis: 75\" role=\"graphics-symbol\" aria-roledescription=\"circle\" transform=\"translate(489.99999999999994,175)\" d=\"M2.7386127875258306,0A2.7386127875258306,2.7386127875258306,0,1,1,-2.7386127875258306,0A2.7386127875258306,2.7386127875258306,0,1,1,2.7386127875258306,0\" fill=\"red\" stroke-width=\"2\" opacity=\"0.5\"></path><path aria-label=\"Real_Axis: 16; Imaginary_Axis: 75\" role=\"graphics-symbol\" aria-roledescription=\"circle\" transform=\"translate(510,175)\" d=\"M2.7386127875258306,0A2.7386127875258306,2.7386127875258306,0,1,1,-2.7386127875258306,0A2.7386127875258306,2.7386127875258306,0,1,1,2.7386127875258306,0\" fill=\"red\" stroke-width=\"2\" opacity=\"0.5\"></path><path aria-label=\"Real_Axis: 16; Imaginary_Axis: 85\" role=\"graphics-symbol\" aria-roledescription=\"circle\" transform=\"translate(510,105.00000000000001)\" d=\"M2.7386127875258306,0A2.7386127875258306,2.7386127875258306,0,1,1,-2.7386127875258306,0A2.7386127875258306,2.7386127875258306,0,1,1,2.7386127875258306,0\" fill=\"red\" stroke-width=\"2\" opacity=\"0.5\"></path><path aria-label=\"Real_Axis: 12; Imaginary_Axis: 85\" role=\"graphics-symbol\" aria-roledescription=\"circle\" transform=\"translate(469.99999999999994,105.00000000000001)\" d=\"M2.7386127875258306,0A2.7386127875258306,2.7386127875258306,0,1,1,-2.7386127875258306,0A2.7386127875258306,2.7386127875258306,0,1,1,2.7386127875258306,0\" fill=\"red\" stroke-width=\"2\" opacity=\"0.5\"></path><path aria-label=\"Real_Axis: 12; Imaginary_Axis: 77\" role=\"graphics-symbol\" aria-roledescription=\"circle\" transform=\"translate(469.99999999999994,161)\" d=\"M2.7386127875258306,0A2.7386127875258306,2.7386127875258306,0,1,1,-2.7386127875258306,0A2.7386127875258306,2.7386127875258306,0,1,1,2.7386127875258306,0\" fill=\"red\" stroke-width=\"2\" opacity=\"0.5\"></path><path aria-label=\"Real_Axis: 20; Imaginary_Axis: 77\" role=\"graphics-symbol\" aria-roledescription=\"circle\" transform=\"translate(550,161)\" d=\"M2.7386127875258306,0A2.7386127875258306,2.7386127875258306,0,1,1,-2.7386127875258306,0A2.7386127875258306,2.7386127875258306,0,1,1,2.7386127875258306,0\" fill=\"red\" stroke-width=\"2\" opacity=\"0.5\"></path><path aria-label=\"Real_Axis: 20; Imaginary_Axis: 81\" role=\"graphics-symbol\" aria-roledescription=\"circle\" transform=\"translate(550,132.99999999999997)\" d=\"M2.7386127875258306,0A2.7386127875258306,2.7386127875258306,0,1,1,-2.7386127875258306,0A2.7386127875258306,2.7386127875258306,0,1,1,2.7386127875258306,0\" fill=\"red\" stroke-width=\"2\" opacity=\"0.5\"></path><path aria-label=\"Real_Axis: 10; Imaginary_Axis: 81\" role=\"graphics-symbol\" aria-roledescription=\"circle\" transform=\"translate(450.00000000000006,132.99999999999997)\" d=\"M2.7386127875258306,0A2.7386127875258306,2.7386127875258306,0,1,1,-2.7386127875258306,0A2.7386127875258306,2.7386127875258306,0,1,1,2.7386127875258306,0\" fill=\"red\" stroke-width=\"2\" opacity=\"0.5\"></path><path aria-label=\"Real_Axis: 10; Imaginary_Axis: 77\" role=\"graphics-symbol\" aria-roledescription=\"circle\" transform=\"translate(450.00000000000006,161)\" d=\"M2.7386127875258306,0A2.7386127875258306,2.7386127875258306,0,1,1,-2.7386127875258306,0A2.7386127875258306,2.7386127875258306,0,1,1,2.7386127875258306,0\" fill=\"red\" stroke-width=\"2\" opacity=\"0.5\"></path><path aria-label=\"Real_Axis: 12; Imaginary_Axis: 77\" role=\"graphics-symbol\" aria-roledescription=\"circle\" transform=\"translate(469.99999999999994,161)\" d=\"M2.7386127875258306,0A2.7386127875258306,2.7386127875258306,0,1,1,-2.7386127875258306,0A2.7386127875258306,2.7386127875258306,0,1,1,2.7386127875258306,0\" fill=\"red\" stroke-width=\"2\" opacity=\"0.5\"></path><path aria-label=\"Real_Axis: 12; Imaginary_Axis: 85\" role=\"graphics-symbol\" aria-roledescription=\"circle\" transform=\"translate(469.99999999999994,105.00000000000001)\" d=\"M2.7386127875258306,0A2.7386127875258306,2.7386127875258306,0,1,1,-2.7386127875258306,0A2.7386127875258306,2.7386127875258306,0,1,1,2.7386127875258306,0\" fill=\"red\" stroke-width=\"2\" opacity=\"0.5\"></path><path aria-label=\"Real_Axis: 2; Imaginary_Axis: 85\" role=\"graphics-symbol\" aria-roledescription=\"circle\" transform=\"translate(370,105.00000000000001)\" d=\"M2.7386127875258306,0A2.7386127875258306,2.7386127875258306,0,1,1,-2.7386127875258306,0A2.7386127875258306,2.7386127875258306,0,1,1,2.7386127875258306,0\" fill=\"red\" stroke-width=\"2\" opacity=\"0.5\"></path><path aria-label=\"Real_Axis: 2; Imaginary_Axis: 73\" role=\"graphics-symbol\" aria-roledescription=\"circle\" transform=\"translate(370,189)\" d=\"M2.7386127875258306,0A2.7386127875258306,2.7386127875258306,0,1,1,-2.7386127875258306,0A2.7386127875258306,2.7386127875258306,0,1,1,2.7386127875258306,0\" fill=\"red\" stroke-width=\"2\" opacity=\"0.5\"></path><path aria-label=\"Real_Axis: 8; Imaginary_Axis: 73\" role=\"graphics-symbol\" aria-roledescription=\"circle\" transform=\"translate(430,189)\" d=\"M2.7386127875258306,0A2.7386127875258306,2.7386127875258306,0,1,1,-2.7386127875258306,0A2.7386127875258306,2.7386127875258306,0,1,1,2.7386127875258306,0\" fill=\"red\" stroke-width=\"2\" opacity=\"0.5\"></path><path aria-label=\"Real_Axis: 8; Imaginary_Axis: 75\" role=\"graphics-symbol\" aria-roledescription=\"circle\" transform=\"translate(430,175)\" d=\"M2.7386127875258306,0A2.7386127875258306,2.7386127875258306,0,1,1,-2.7386127875258306,0A2.7386127875258306,2.7386127875258306,0,1,1,2.7386127875258306,0\" fill=\"red\" stroke-width=\"2\" opacity=\"0.5\"></path><path aria-label=\"Real_Axis: 4; Imaginary_Axis: 75\" role=\"graphics-symbol\" aria-roledescription=\"circle\" transform=\"translate(390,175)\" d=\"M2.7386127875258306,0A2.7386127875258306,2.7386127875258306,0,1,1,-2.7386127875258306,0A2.7386127875258306,2.7386127875258306,0,1,1,2.7386127875258306,0\" fill=\"red\" stroke-width=\"2\" opacity=\"0.5\"></path><path aria-label=\"Real_Axis: 4; Imaginary_Axis: 65\" role=\"graphics-symbol\" aria-roledescription=\"circle\" transform=\"translate(390,244.99999999999997)\" d=\"M2.7386127875258306,0A2.7386127875258306,2.7386127875258306,0,1,1,-2.7386127875258306,0A2.7386127875258306,2.7386127875258306,0,1,1,2.7386127875258306,0\" fill=\"red\" stroke-width=\"2\" opacity=\"0.5\"></path><path aria-label=\"Real_Axis: 6; Imaginary_Axis: 65\" role=\"graphics-symbol\" aria-roledescription=\"circle\" transform=\"translate(410,244.99999999999997)\" d=\"M2.7386127875258306,0A2.7386127875258306,2.7386127875258306,0,1,1,-2.7386127875258306,0A2.7386127875258306,2.7386127875258306,0,1,1,2.7386127875258306,0\" fill=\"red\" stroke-width=\"2\" opacity=\"0.5\"></path><path aria-label=\"Real_Axis: 6; Imaginary_Axis: 71\" role=\"graphics-symbol\" aria-roledescription=\"circle\" transform=\"translate(410,203.00000000000003)\" d=\"M2.7386127875258306,0A2.7386127875258306,2.7386127875258306,0,1,1,-2.7386127875258306,0A2.7386127875258306,2.7386127875258306,0,1,1,2.7386127875258306,0\" fill=\"red\" stroke-width=\"2\" opacity=\"0.5\"></path><path aria-label=\"Real_Axis: 0; Imaginary_Axis: 71\" role=\"graphics-symbol\" aria-roledescription=\"circle\" transform=\"translate(350,203.00000000000003)\" d=\"M2.7386127875258306,0A2.7386127875258306,2.7386127875258306,0,1,1,-2.7386127875258306,0A2.7386127875258306,2.7386127875258306,0,1,1,2.7386127875258306,0\" fill=\"red\" stroke-width=\"2\" opacity=\"0.5\"></path><path aria-label=\"Real_Axis: 0; Imaginary_Axis: 67\" role=\"graphics-symbol\" aria-roledescription=\"circle\" transform=\"translate(350,230.99999999999997)\" d=\"M2.7386127875258306,0A2.7386127875258306,2.7386127875258306,0,1,1,-2.7386127875258306,0A2.7386127875258306,2.7386127875258306,0,1,1,2.7386127875258306,0\" fill=\"red\" stroke-width=\"2\" opacity=\"0.5\"></path><path aria-label=\"Real_Axis: 2; Imaginary_Axis: 67\" role=\"graphics-symbol\" aria-roledescription=\"circle\" transform=\"translate(370,230.99999999999997)\" d=\"M2.7386127875258306,0A2.7386127875258306,2.7386127875258306,0,1,1,-2.7386127875258306,0A2.7386127875258306,2.7386127875258306,0,1,1,2.7386127875258306,0\" fill=\"red\" stroke-width=\"2\" opacity=\"0.5\"></path><path aria-label=\"Real_Axis: 2; Imaginary_Axis: 73\" role=\"graphics-symbol\" aria-roledescription=\"circle\" transform=\"translate(370,189)\" d=\"M2.7386127875258306,0A2.7386127875258306,2.7386127875258306,0,1,1,-2.7386127875258306,0A2.7386127875258306,2.7386127875258306,0,1,1,2.7386127875258306,0\" fill=\"red\" stroke-width=\"2\" opacity=\"0.5\"></path><path aria-label=\"Real_Axis: -2; Imaginary_Axis: 73\" role=\"graphics-symbol\" aria-roledescription=\"circle\" transform=\"translate(330,189)\" d=\"M2.7386127875258306,0A2.7386127875258306,2.7386127875258306,0,1,1,-2.7386127875258306,0A2.7386127875258306,2.7386127875258306,0,1,1,2.7386127875258306,0\" fill=\"red\" stroke-width=\"2\" opacity=\"0.5\"></path><path aria-label=\"Real_Axis: -2; Imaginary_Axis: 67\" role=\"graphics-symbol\" aria-roledescription=\"circle\" transform=\"translate(330,230.99999999999997)\" d=\"M2.7386127875258306,0A2.7386127875258306,2.7386127875258306,0,1,1,-2.7386127875258306,0A2.7386127875258306,2.7386127875258306,0,1,1,2.7386127875258306,0\" fill=\"red\" stroke-width=\"2\" opacity=\"0.5\"></path><path aria-label=\"Real_Axis: 0; Imaginary_Axis: 67\" role=\"graphics-symbol\" aria-roledescription=\"circle\" transform=\"translate(350,230.99999999999997)\" d=\"M2.7386127875258306,0A2.7386127875258306,2.7386127875258306,0,1,1,-2.7386127875258306,0A2.7386127875258306,2.7386127875258306,0,1,1,2.7386127875258306,0\" fill=\"red\" stroke-width=\"2\" opacity=\"0.5\"></path><path aria-label=\"Real_Axis: 0; Imaginary_Axis: 71\" role=\"graphics-symbol\" aria-roledescription=\"circle\" transform=\"translate(350,203.00000000000003)\" d=\"M2.7386127875258306,0A2.7386127875258306,2.7386127875258306,0,1,1,-2.7386127875258306,0A2.7386127875258306,2.7386127875258306,0,1,1,2.7386127875258306,0\" fill=\"red\" stroke-width=\"2\" opacity=\"0.5\"></path><path aria-label=\"Real_Axis: -6; Imaginary_Axis: 71\" role=\"graphics-symbol\" aria-roledescription=\"circle\" transform=\"translate(290,203.00000000000003)\" d=\"M2.7386127875258306,0A2.7386127875258306,2.7386127875258306,0,1,1,-2.7386127875258306,0A2.7386127875258306,2.7386127875258306,0,1,1,2.7386127875258306,0\" fill=\"red\" stroke-width=\"2\" opacity=\"0.5\"></path><path aria-label=\"Real_Axis: -6; Imaginary_Axis: 65\" role=\"graphics-symbol\" aria-roledescription=\"circle\" transform=\"translate(290,244.99999999999997)\" d=\"M2.7386127875258306,0A2.7386127875258306,2.7386127875258306,0,1,1,-2.7386127875258306,0A2.7386127875258306,2.7386127875258306,0,1,1,2.7386127875258306,0\" fill=\"red\" stroke-width=\"2\" opacity=\"0.5\"></path><path aria-label=\"Real_Axis: -4; Imaginary_Axis: 65\" role=\"graphics-symbol\" aria-roledescription=\"circle\" transform=\"translate(310,244.99999999999997)\" d=\"M2.7386127875258306,0A2.7386127875258306,2.7386127875258306,0,1,1,-2.7386127875258306,0A2.7386127875258306,2.7386127875258306,0,1,1,2.7386127875258306,0\" fill=\"red\" stroke-width=\"2\" opacity=\"0.5\"></path><path aria-label=\"Real_Axis: -4; Imaginary_Axis: 75\" role=\"graphics-symbol\" aria-roledescription=\"circle\" transform=\"translate(310,175)\" d=\"M2.7386127875258306,0A2.7386127875258306,2.7386127875258306,0,1,1,-2.7386127875258306,0A2.7386127875258306,2.7386127875258306,0,1,1,2.7386127875258306,0\" fill=\"red\" stroke-width=\"2\" opacity=\"0.5\"></path><path aria-label=\"Real_Axis: -8; Imaginary_Axis: 75\" role=\"graphics-symbol\" aria-roledescription=\"circle\" transform=\"translate(270,175)\" d=\"M2.7386127875258306,0A2.7386127875258306,2.7386127875258306,0,1,1,-2.7386127875258306,0A2.7386127875258306,2.7386127875258306,0,1,1,2.7386127875258306,0\" fill=\"red\" stroke-width=\"2\" opacity=\"0.5\"></path><path aria-label=\"Real_Axis: -8; Imaginary_Axis: 73\" role=\"graphics-symbol\" aria-roledescription=\"circle\" transform=\"translate(270,189)\" d=\"M2.7386127875258306,0A2.7386127875258306,2.7386127875258306,0,1,1,-2.7386127875258306,0A2.7386127875258306,2.7386127875258306,0,1,1,2.7386127875258306,0\" fill=\"red\" stroke-width=\"2\" opacity=\"0.5\"></path><path aria-label=\"Real_Axis: -2; Imaginary_Axis: 73\" role=\"graphics-symbol\" aria-roledescription=\"circle\" transform=\"translate(330,189)\" d=\"M2.7386127875258306,0A2.7386127875258306,2.7386127875258306,0,1,1,-2.7386127875258306,0A2.7386127875258306,2.7386127875258306,0,1,1,2.7386127875258306,0\" fill=\"red\" stroke-width=\"2\" opacity=\"0.5\"></path><path aria-label=\"Real_Axis: -2; Imaginary_Axis: 85\" role=\"graphics-symbol\" aria-roledescription=\"circle\" transform=\"translate(330,105.00000000000001)\" d=\"M2.7386127875258306,0A2.7386127875258306,2.7386127875258306,0,1,1,-2.7386127875258306,0A2.7386127875258306,2.7386127875258306,0,1,1,2.7386127875258306,0\" fill=\"red\" stroke-width=\"2\" opacity=\"0.5\"></path><path aria-label=\"Real_Axis: -12; Imaginary_Axis: 85\" role=\"graphics-symbol\" aria-roledescription=\"circle\" transform=\"translate(230,105.00000000000001)\" d=\"M2.7386127875258306,0A2.7386127875258306,2.7386127875258306,0,1,1,-2.7386127875258306,0A2.7386127875258306,2.7386127875258306,0,1,1,2.7386127875258306,0\" fill=\"red\" stroke-width=\"2\" opacity=\"0.5\"></path><path aria-label=\"Real_Axis: -12; Imaginary_Axis: 77\" role=\"graphics-symbol\" aria-roledescription=\"circle\" transform=\"translate(230,161)\" d=\"M2.7386127875258306,0A2.7386127875258306,2.7386127875258306,0,1,1,-2.7386127875258306,0A2.7386127875258306,2.7386127875258306,0,1,1,2.7386127875258306,0\" fill=\"red\" stroke-width=\"2\" opacity=\"0.5\"></path><path aria-label=\"Real_Axis: -10; Imaginary_Axis: 77\" role=\"graphics-symbol\" aria-roledescription=\"circle\" transform=\"translate(250,161)\" d=\"M2.7386127875258306,0A2.7386127875258306,2.7386127875258306,0,1,1,-2.7386127875258306,0A2.7386127875258306,2.7386127875258306,0,1,1,2.7386127875258306,0\" fill=\"red\" stroke-width=\"2\" opacity=\"0.5\"></path><path aria-label=\"Real_Axis: -10; Imaginary_Axis: 81\" role=\"graphics-symbol\" aria-roledescription=\"circle\" transform=\"translate(250,132.99999999999997)\" d=\"M2.7386127875258306,0A2.7386127875258306,2.7386127875258306,0,1,1,-2.7386127875258306,0A2.7386127875258306,2.7386127875258306,0,1,1,2.7386127875258306,0\" fill=\"red\" stroke-width=\"2\" opacity=\"0.5\"></path><path aria-label=\"Real_Axis: -20; Imaginary_Axis: 81\" role=\"graphics-symbol\" aria-roledescription=\"circle\" transform=\"translate(150,132.99999999999997)\" d=\"M2.7386127875258306,0A2.7386127875258306,2.7386127875258306,0,1,1,-2.7386127875258306,0A2.7386127875258306,2.7386127875258306,0,1,1,2.7386127875258306,0\" fill=\"red\" stroke-width=\"2\" opacity=\"0.5\"></path><path aria-label=\"Real_Axis: -20; Imaginary_Axis: 77\" role=\"graphics-symbol\" aria-roledescription=\"circle\" transform=\"translate(150,161)\" d=\"M2.7386127875258306,0A2.7386127875258306,2.7386127875258306,0,1,1,-2.7386127875258306,0A2.7386127875258306,2.7386127875258306,0,1,1,2.7386127875258306,0\" fill=\"red\" stroke-width=\"2\" opacity=\"0.5\"></path><path aria-label=\"Real_Axis: -12; Imaginary_Axis: 77\" role=\"graphics-symbol\" aria-roledescription=\"circle\" transform=\"translate(230,161)\" d=\"M2.7386127875258306,0A2.7386127875258306,2.7386127875258306,0,1,1,-2.7386127875258306,0A2.7386127875258306,2.7386127875258306,0,1,1,2.7386127875258306,0\" fill=\"red\" stroke-width=\"2\" opacity=\"0.5\"></path><path aria-label=\"Real_Axis: -12; Imaginary_Axis: 85\" role=\"graphics-symbol\" aria-roledescription=\"circle\" transform=\"translate(230,105.00000000000001)\" d=\"M2.7386127875258306,0A2.7386127875258306,2.7386127875258306,0,1,1,-2.7386127875258306,0A2.7386127875258306,2.7386127875258306,0,1,1,2.7386127875258306,0\" fill=\"red\" stroke-width=\"2\" opacity=\"0.5\"></path><path aria-label=\"Real_Axis: -16; Imaginary_Axis: 85\" role=\"graphics-symbol\" aria-roledescription=\"circle\" transform=\"translate(189.99999999999997,105.00000000000001)\" d=\"M2.7386127875258306,0A2.7386127875258306,2.7386127875258306,0,1,1,-2.7386127875258306,0A2.7386127875258306,2.7386127875258306,0,1,1,2.7386127875258306,0\" fill=\"red\" stroke-width=\"2\" opacity=\"0.5\"></path><path aria-label=\"Real_Axis: -16; Imaginary_Axis: 75\" role=\"graphics-symbol\" aria-roledescription=\"circle\" transform=\"translate(189.99999999999997,175)\" d=\"M2.7386127875258306,0A2.7386127875258306,2.7386127875258306,0,1,1,-2.7386127875258306,0A2.7386127875258306,2.7386127875258306,0,1,1,2.7386127875258306,0\" fill=\"red\" stroke-width=\"2\" opacity=\"0.5\"></path><path aria-label=\"Real_Axis: -14; Imaginary_Axis: 75\" role=\"graphics-symbol\" aria-roledescription=\"circle\" transform=\"translate(210,175)\" d=\"M2.7386127875258306,0A2.7386127875258306,2.7386127875258306,0,1,1,-2.7386127875258306,0A2.7386127875258306,2.7386127875258306,0,1,1,2.7386127875258306,0\" fill=\"red\" stroke-width=\"2\" opacity=\"0.5\"></path><path aria-label=\"Real_Axis: -14; Imaginary_Axis: 89\" role=\"graphics-symbol\" aria-roledescription=\"circle\" transform=\"translate(210,76.99999999999999)\" d=\"M2.7386127875258306,0A2.7386127875258306,2.7386127875258306,0,1,1,-2.7386127875258306,0A2.7386127875258306,2.7386127875258306,0,1,1,2.7386127875258306,0\" fill=\"red\" stroke-width=\"2\" opacity=\"0.5\"></path><path aria-label=\"Real_Axis: -26; Imaginary_Axis: 89\" role=\"graphics-symbol\" aria-roledescription=\"circle\" transform=\"translate(89.99999999999999,76.99999999999999)\" d=\"M2.7386127875258306,0A2.7386127875258306,2.7386127875258306,0,1,1,-2.7386127875258306,0A2.7386127875258306,2.7386127875258306,0,1,1,2.7386127875258306,0\" fill=\"red\" stroke-width=\"2\" opacity=\"0.5\"></path><path aria-label=\"Real_Axis: -26; Imaginary_Axis: 85\" role=\"graphics-symbol\" aria-roledescription=\"circle\" transform=\"translate(89.99999999999999,105.00000000000001)\" d=\"M2.7386127875258306,0A2.7386127875258306,2.7386127875258306,0,1,1,-2.7386127875258306,0A2.7386127875258306,2.7386127875258306,0,1,1,2.7386127875258306,0\" fill=\"red\" stroke-width=\"2\" opacity=\"0.5\"></path><path aria-label=\"Real_Axis: -18; Imaginary_Axis: 85\" role=\"graphics-symbol\" aria-roledescription=\"circle\" transform=\"translate(170,105.00000000000001)\" d=\"M2.7386127875258306,0A2.7386127875258306,2.7386127875258306,0,1,1,-2.7386127875258306,0A2.7386127875258306,2.7386127875258306,0,1,1,2.7386127875258306,0\" fill=\"red\" stroke-width=\"2\" opacity=\"0.5\"></path><path aria-label=\"Real_Axis: -18; Imaginary_Axis: 95\" role=\"graphics-symbol\" aria-roledescription=\"circle\" transform=\"translate(170,35.00000000000003)\" d=\"M2.7386127875258306,0A2.7386127875258306,2.7386127875258306,0,1,1,-2.7386127875258306,0A2.7386127875258306,2.7386127875258306,0,1,1,2.7386127875258306,0\" fill=\"red\" stroke-width=\"2\" opacity=\"0.5\"></path><path aria-label=\"Real_Axis: -24; Imaginary_Axis: 95\" role=\"graphics-symbol\" aria-roledescription=\"circle\" transform=\"translate(110,35.00000000000003)\" d=\"M2.7386127875258306,0A2.7386127875258306,2.7386127875258306,0,1,1,-2.7386127875258306,0A2.7386127875258306,2.7386127875258306,0,1,1,2.7386127875258306,0\" fill=\"red\" stroke-width=\"2\" opacity=\"0.5\"></path><path aria-label=\"Real_Axis: -24; Imaginary_Axis: 65\" role=\"graphics-symbol\" aria-roledescription=\"circle\" transform=\"translate(110,244.99999999999997)\" d=\"M2.7386127875258306,0A2.7386127875258306,2.7386127875258306,0,1,1,-2.7386127875258306,0A2.7386127875258306,2.7386127875258306,0,1,1,2.7386127875258306,0\" fill=\"red\" stroke-width=\"2\" opacity=\"0.5\"></path><path aria-label=\"Real_Axis: -18; Imaginary_Axis: 65\" role=\"graphics-symbol\" aria-roledescription=\"circle\" transform=\"translate(170,244.99999999999997)\" d=\"M2.7386127875258306,0A2.7386127875258306,2.7386127875258306,0,1,1,-2.7386127875258306,0A2.7386127875258306,2.7386127875258306,0,1,1,2.7386127875258306,0\" fill=\"red\" stroke-width=\"2\" opacity=\"0.5\"></path><path aria-label=\"Real_Axis: -18; Imaginary_Axis: 67\" role=\"graphics-symbol\" aria-roledescription=\"circle\" transform=\"translate(170,230.99999999999997)\" d=\"M2.7386127875258306,0A2.7386127875258306,2.7386127875258306,0,1,1,-2.7386127875258306,0A2.7386127875258306,2.7386127875258306,0,1,1,2.7386127875258306,0\" fill=\"red\" stroke-width=\"2\" opacity=\"0.5\"></path><path aria-label=\"Real_Axis: -20; Imaginary_Axis: 67\" role=\"graphics-symbol\" aria-roledescription=\"circle\" transform=\"translate(150,230.99999999999997)\" d=\"M2.7386127875258306,0A2.7386127875258306,2.7386127875258306,0,1,1,-2.7386127875258306,0A2.7386127875258306,2.7386127875258306,0,1,1,2.7386127875258306,0\" fill=\"red\" stroke-width=\"2\" opacity=\"0.5\"></path><path aria-label=\"Real_Axis: -20; Imaginary_Axis: 59\" role=\"graphics-symbol\" aria-roledescription=\"circle\" transform=\"translate(150,287)\" d=\"M2.7386127875258306,0A2.7386127875258306,2.7386127875258306,0,1,1,-2.7386127875258306,0A2.7386127875258306,2.7386127875258306,0,1,1,2.7386127875258306,0\" fill=\"red\" stroke-width=\"2\" opacity=\"0.5\"></path><path aria-label=\"Real_Axis: -14; Imaginary_Axis: 59\" role=\"graphics-symbol\" aria-roledescription=\"circle\" transform=\"translate(210,287)\" d=\"M2.7386127875258306,0A2.7386127875258306,2.7386127875258306,0,1,1,-2.7386127875258306,0A2.7386127875258306,2.7386127875258306,0,1,1,2.7386127875258306,0\" fill=\"red\" stroke-width=\"2\" opacity=\"0.5\"></path><path aria-label=\"Real_Axis: -14; Imaginary_Axis: 61\" role=\"graphics-symbol\" aria-roledescription=\"circle\" transform=\"translate(210,273)\" d=\"M2.7386127875258306,0A2.7386127875258306,2.7386127875258306,0,1,1,-2.7386127875258306,0A2.7386127875258306,2.7386127875258306,0,1,1,2.7386127875258306,0\" fill=\"red\" stroke-width=\"2\" opacity=\"0.5\"></path><path aria-label=\"Real_Axis: -24; Imaginary_Axis: 61\" role=\"graphics-symbol\" aria-roledescription=\"circle\" transform=\"translate(110,273)\" d=\"M2.7386127875258306,0A2.7386127875258306,2.7386127875258306,0,1,1,-2.7386127875258306,0A2.7386127875258306,2.7386127875258306,0,1,1,2.7386127875258306,0\" fill=\"red\" stroke-width=\"2\" opacity=\"0.5\"></path><path aria-label=\"Real_Axis: -24; Imaginary_Axis: 59\" role=\"graphics-symbol\" aria-roledescription=\"circle\" transform=\"translate(110,287)\" d=\"M2.7386127875258306,0A2.7386127875258306,2.7386127875258306,0,1,1,-2.7386127875258306,0A2.7386127875258306,2.7386127875258306,0,1,1,2.7386127875258306,0\" fill=\"red\" stroke-width=\"2\" opacity=\"0.5\"></path><path aria-label=\"Real_Axis: -20; Imaginary_Axis: 59\" role=\"graphics-symbol\" aria-roledescription=\"circle\" transform=\"translate(150,287)\" d=\"M2.7386127875258306,0A2.7386127875258306,2.7386127875258306,0,1,1,-2.7386127875258306,0A2.7386127875258306,2.7386127875258306,0,1,1,2.7386127875258306,0\" fill=\"red\" stroke-width=\"2\" opacity=\"0.5\"></path><path aria-label=\"Real_Axis: -20; Imaginary_Axis: 67\" role=\"graphics-symbol\" aria-roledescription=\"circle\" transform=\"translate(150,230.99999999999997)\" d=\"M2.7386127875258306,0A2.7386127875258306,2.7386127875258306,0,1,1,-2.7386127875258306,0A2.7386127875258306,2.7386127875258306,0,1,1,2.7386127875258306,0\" fill=\"red\" stroke-width=\"2\" opacity=\"0.5\"></path><path aria-label=\"Real_Axis: -22; Imaginary_Axis: 67\" role=\"graphics-symbol\" aria-roledescription=\"circle\" transform=\"translate(130,230.99999999999997)\" d=\"M2.7386127875258306,0A2.7386127875258306,2.7386127875258306,0,1,1,-2.7386127875258306,0A2.7386127875258306,2.7386127875258306,0,1,1,2.7386127875258306,0\" fill=\"red\" stroke-width=\"2\" opacity=\"0.5\"></path><path aria-label=\"Real_Axis: -22; Imaginary_Axis: 57\" role=\"graphics-symbol\" aria-roledescription=\"circle\" transform=\"translate(130,301.00000000000006)\" d=\"M2.7386127875258306,0A2.7386127875258306,2.7386127875258306,0,1,1,-2.7386127875258306,0A2.7386127875258306,2.7386127875258306,0,1,1,2.7386127875258306,0\" fill=\"red\" stroke-width=\"2\" opacity=\"0.5\"></path><path aria-label=\"Real_Axis: -8; Imaginary_Axis: 57\" role=\"graphics-symbol\" aria-roledescription=\"circle\" transform=\"translate(270,301.00000000000006)\" d=\"M2.7386127875258306,0A2.7386127875258306,2.7386127875258306,0,1,1,-2.7386127875258306,0A2.7386127875258306,2.7386127875258306,0,1,1,2.7386127875258306,0\" fill=\"red\" stroke-width=\"2\" opacity=\"0.5\"></path><path aria-label=\"Real_Axis: -8; Imaginary_Axis: 65\" role=\"graphics-symbol\" aria-roledescription=\"circle\" transform=\"translate(270,244.99999999999997)\" d=\"M2.7386127875258306,0A2.7386127875258306,2.7386127875258306,0,1,1,-2.7386127875258306,0A2.7386127875258306,2.7386127875258306,0,1,1,2.7386127875258306,0\" fill=\"red\" stroke-width=\"2\" opacity=\"0.5\"></path><path aria-label=\"Real_Axis: -14; Imaginary_Axis: 65\" role=\"graphics-symbol\" aria-roledescription=\"circle\" transform=\"translate(210,244.99999999999997)\" d=\"M2.7386127875258306,0A2.7386127875258306,2.7386127875258306,0,1,1,-2.7386127875258306,0A2.7386127875258306,2.7386127875258306,0,1,1,2.7386127875258306,0\" fill=\"red\" stroke-width=\"2\" opacity=\"0.5\"></path><path aria-label=\"Real_Axis: -14; Imaginary_Axis: 61\" role=\"graphics-symbol\" aria-roledescription=\"circle\" transform=\"translate(210,273)\" d=\"M2.7386127875258306,0A2.7386127875258306,2.7386127875258306,0,1,1,-2.7386127875258306,0A2.7386127875258306,2.7386127875258306,0,1,1,2.7386127875258306,0\" fill=\"red\" stroke-width=\"2\" opacity=\"0.5\"></path><path aria-label=\"Real_Axis: -10; Imaginary_Axis: 61\" role=\"graphics-symbol\" aria-roledescription=\"circle\" transform=\"translate(250,273)\" d=\"M2.7386127875258306,0A2.7386127875258306,2.7386127875258306,0,1,1,-2.7386127875258306,0A2.7386127875258306,2.7386127875258306,0,1,1,2.7386127875258306,0\" fill=\"red\" stroke-width=\"2\" opacity=\"0.5\"></path><path aria-label=\"Real_Axis: -10; Imaginary_Axis: 69\" role=\"graphics-symbol\" aria-roledescription=\"circle\" transform=\"translate(250,217.00000000000003)\" d=\"M2.7386127875258306,0A2.7386127875258306,2.7386127875258306,0,1,1,-2.7386127875258306,0A2.7386127875258306,2.7386127875258306,0,1,1,2.7386127875258306,0\" fill=\"red\" stroke-width=\"2\" opacity=\"0.5\"></path><path aria-label=\"Real_Axis: -14; Imaginary_Axis: 69\" role=\"graphics-symbol\" aria-roledescription=\"circle\" transform=\"translate(210,217.00000000000003)\" d=\"M2.7386127875258306,0A2.7386127875258306,2.7386127875258306,0,1,1,-2.7386127875258306,0A2.7386127875258306,2.7386127875258306,0,1,1,2.7386127875258306,0\" fill=\"red\" stroke-width=\"2\" opacity=\"0.5\"></path><path aria-label=\"Real_Axis: -14; Imaginary_Axis: 65\" role=\"graphics-symbol\" aria-roledescription=\"circle\" transform=\"translate(210,244.99999999999997)\" d=\"M2.7386127875258306,0A2.7386127875258306,2.7386127875258306,0,1,1,-2.7386127875258306,0A2.7386127875258306,2.7386127875258306,0,1,1,2.7386127875258306,0\" fill=\"red\" stroke-width=\"2\" opacity=\"0.5\"></path><path aria-label=\"Real_Axis: -8; Imaginary_Axis: 65\" role=\"graphics-symbol\" aria-roledescription=\"circle\" transform=\"translate(270,244.99999999999997)\" d=\"M2.7386127875258306,0A2.7386127875258306,2.7386127875258306,0,1,1,-2.7386127875258306,0A2.7386127875258306,2.7386127875258306,0,1,1,2.7386127875258306,0\" fill=\"red\" stroke-width=\"2\" opacity=\"0.5\"></path><path aria-label=\"Real_Axis: -8; Imaginary_Axis: 73\" role=\"graphics-symbol\" aria-roledescription=\"circle\" transform=\"translate(270,189)\" d=\"M2.7386127875258306,0A2.7386127875258306,2.7386127875258306,0,1,1,-2.7386127875258306,0A2.7386127875258306,2.7386127875258306,0,1,1,2.7386127875258306,0\" fill=\"red\" stroke-width=\"2\" opacity=\"0.5\"></path><path aria-label=\"Real_Axis: -18; Imaginary_Axis: 73\" role=\"graphics-symbol\" aria-roledescription=\"circle\" transform=\"translate(170,189)\" d=\"M2.7386127875258306,0A2.7386127875258306,2.7386127875258306,0,1,1,-2.7386127875258306,0A2.7386127875258306,2.7386127875258306,0,1,1,2.7386127875258306,0\" fill=\"red\" stroke-width=\"2\" opacity=\"0.5\"></path><path aria-label=\"Real_Axis: -18; Imaginary_Axis: 67\" role=\"graphics-symbol\" aria-roledescription=\"circle\" transform=\"translate(170,230.99999999999997)\" d=\"M2.7386127875258306,0A2.7386127875258306,2.7386127875258306,0,1,1,-2.7386127875258306,0A2.7386127875258306,2.7386127875258306,0,1,1,2.7386127875258306,0\" fill=\"red\" stroke-width=\"2\" opacity=\"0.5\"></path><path aria-label=\"Real_Axis: -2; Imaginary_Axis: 67\" role=\"graphics-symbol\" aria-roledescription=\"circle\" transform=\"translate(330,230.99999999999997)\" d=\"M2.7386127875258306,0A2.7386127875258306,2.7386127875258306,0,1,1,-2.7386127875258306,0A2.7386127875258306,2.7386127875258306,0,1,1,2.7386127875258306,0\" fill=\"red\" stroke-width=\"2\" opacity=\"0.5\"></path><path aria-label=\"Real_Axis: -2; Imaginary_Axis: 73\" role=\"graphics-symbol\" aria-roledescription=\"circle\" transform=\"translate(330,189)\" d=\"M2.7386127875258306,0A2.7386127875258306,2.7386127875258306,0,1,1,-2.7386127875258306,0A2.7386127875258306,2.7386127875258306,0,1,1,2.7386127875258306,0\" fill=\"red\" stroke-width=\"2\" opacity=\"0.5\"></path><path aria-label=\"Real_Axis: -8; Imaginary_Axis: 73\" role=\"graphics-symbol\" aria-roledescription=\"circle\" transform=\"translate(270,189)\" d=\"M2.7386127875258306,0A2.7386127875258306,2.7386127875258306,0,1,1,-2.7386127875258306,0A2.7386127875258306,2.7386127875258306,0,1,1,2.7386127875258306,0\" fill=\"red\" stroke-width=\"2\" opacity=\"0.5\"></path><path aria-label=\"Real_Axis: -8; Imaginary_Axis: 65\" role=\"graphics-symbol\" aria-roledescription=\"circle\" transform=\"translate(270,244.99999999999997)\" d=\"M2.7386127875258306,0A2.7386127875258306,2.7386127875258306,0,1,1,-2.7386127875258306,0A2.7386127875258306,2.7386127875258306,0,1,1,2.7386127875258306,0\" fill=\"red\" stroke-width=\"2\" opacity=\"0.5\"></path><path aria-label=\"Real_Axis: -6; Imaginary_Axis: 65\" role=\"graphics-symbol\" aria-roledescription=\"circle\" transform=\"translate(290,244.99999999999997)\" d=\"M2.7386127875258306,0A2.7386127875258306,2.7386127875258306,0,1,1,-2.7386127875258306,0A2.7386127875258306,2.7386127875258306,0,1,1,2.7386127875258306,0\" fill=\"red\" stroke-width=\"2\" opacity=\"0.5\"></path><path aria-label=\"Real_Axis: -6; Imaginary_Axis: 71\" role=\"graphics-symbol\" aria-roledescription=\"circle\" transform=\"translate(290,203.00000000000003)\" d=\"M2.7386127875258306,0A2.7386127875258306,2.7386127875258306,0,1,1,-2.7386127875258306,0A2.7386127875258306,2.7386127875258306,0,1,1,2.7386127875258306,0\" fill=\"red\" stroke-width=\"2\" opacity=\"0.5\"></path><path aria-label=\"Real_Axis: -14; Imaginary_Axis: 71\" role=\"graphics-symbol\" aria-roledescription=\"circle\" transform=\"translate(210,203.00000000000003)\" d=\"M2.7386127875258306,0A2.7386127875258306,2.7386127875258306,0,1,1,-2.7386127875258306,0A2.7386127875258306,2.7386127875258306,0,1,1,2.7386127875258306,0\" fill=\"red\" stroke-width=\"2\" opacity=\"0.5\"></path><path aria-label=\"Real_Axis: -14; Imaginary_Axis: 69\" role=\"graphics-symbol\" aria-roledescription=\"circle\" transform=\"translate(210,217.00000000000003)\" d=\"M2.7386127875258306,0A2.7386127875258306,2.7386127875258306,0,1,1,-2.7386127875258306,0A2.7386127875258306,2.7386127875258306,0,1,1,2.7386127875258306,0\" fill=\"red\" stroke-width=\"2\" opacity=\"0.5\"></path><path aria-label=\"Real_Axis: -10; Imaginary_Axis: 69\" role=\"graphics-symbol\" aria-roledescription=\"circle\" transform=\"translate(250,217.00000000000003)\" d=\"M2.7386127875258306,0A2.7386127875258306,2.7386127875258306,0,1,1,-2.7386127875258306,0A2.7386127875258306,2.7386127875258306,0,1,1,2.7386127875258306,0\" fill=\"red\" stroke-width=\"2\" opacity=\"0.5\"></path><path aria-label=\"Real_Axis: -10; Imaginary_Axis: 77\" role=\"graphics-symbol\" aria-roledescription=\"circle\" transform=\"translate(250,161)\" d=\"M2.7386127875258306,0A2.7386127875258306,2.7386127875258306,0,1,1,-2.7386127875258306,0A2.7386127875258306,2.7386127875258306,0,1,1,2.7386127875258306,0\" fill=\"red\" stroke-width=\"2\" opacity=\"0.5\"></path><path aria-label=\"Real_Axis: -12; Imaginary_Axis: 77\" role=\"graphics-symbol\" aria-roledescription=\"circle\" transform=\"translate(230,161)\" d=\"M2.7386127875258306,0A2.7386127875258306,2.7386127875258306,0,1,1,-2.7386127875258306,0A2.7386127875258306,2.7386127875258306,0,1,1,2.7386127875258306,0\" fill=\"red\" stroke-width=\"2\" opacity=\"0.5\"></path><path aria-label=\"Real_Axis: -12; Imaginary_Axis: 55\" role=\"graphics-symbol\" aria-roledescription=\"circle\" transform=\"translate(230,314.99999999999994)\" d=\"M2.7386127875258306,0A2.7386127875258306,2.7386127875258306,0,1,1,-2.7386127875258306,0A2.7386127875258306,2.7386127875258306,0,1,1,2.7386127875258306,0\" fill=\"red\" stroke-width=\"2\" opacity=\"0.5\"></path><path aria-label=\"Real_Axis: -8; Imaginary_Axis: 55\" role=\"graphics-symbol\" aria-roledescription=\"circle\" transform=\"translate(270,314.99999999999994)\" d=\"M2.7386127875258306,0A2.7386127875258306,2.7386127875258306,0,1,1,-2.7386127875258306,0A2.7386127875258306,2.7386127875258306,0,1,1,2.7386127875258306,0\" fill=\"red\" stroke-width=\"2\" opacity=\"0.5\"></path><path aria-label=\"Real_Axis: -8; Imaginary_Axis: 57\" role=\"graphics-symbol\" aria-roledescription=\"circle\" transform=\"translate(270,301.00000000000006)\" d=\"M2.7386127875258306,0A2.7386127875258306,2.7386127875258306,0,1,1,-2.7386127875258306,0A2.7386127875258306,2.7386127875258306,0,1,1,2.7386127875258306,0\" fill=\"red\" stroke-width=\"2\" opacity=\"0.5\"></path><path aria-label=\"Real_Axis: -22; Imaginary_Axis: 57\" role=\"graphics-symbol\" aria-roledescription=\"circle\" transform=\"translate(130,301.00000000000006)\" d=\"M2.7386127875258306,0A2.7386127875258306,2.7386127875258306,0,1,1,-2.7386127875258306,0A2.7386127875258306,2.7386127875258306,0,1,1,2.7386127875258306,0\" fill=\"red\" stroke-width=\"2\" opacity=\"0.5\"></path><path aria-label=\"Real_Axis: -22; Imaginary_Axis: 47\" role=\"graphics-symbol\" aria-roledescription=\"circle\" transform=\"translate(130,371)\" d=\"M2.7386127875258306,0A2.7386127875258306,2.7386127875258306,0,1,1,-2.7386127875258306,0A2.7386127875258306,2.7386127875258306,0,1,1,2.7386127875258306,0\" fill=\"red\" stroke-width=\"2\" opacity=\"0.5\"></path><path aria-label=\"Real_Axis: -20; Imaginary_Axis: 47\" role=\"graphics-symbol\" aria-roledescription=\"circle\" transform=\"translate(150,371)\" d=\"M2.7386127875258306,0A2.7386127875258306,2.7386127875258306,0,1,1,-2.7386127875258306,0A2.7386127875258306,2.7386127875258306,0,1,1,2.7386127875258306,0\" fill=\"red\" stroke-width=\"2\" opacity=\"0.5\"></path><path aria-label=\"Real_Axis: -20; Imaginary_Axis: 49\" role=\"graphics-symbol\" aria-roledescription=\"circle\" transform=\"translate(150,357)\" d=\"M2.7386127875258306,0A2.7386127875258306,2.7386127875258306,0,1,1,-2.7386127875258306,0A2.7386127875258306,2.7386127875258306,0,1,1,2.7386127875258306,0\" fill=\"red\" stroke-width=\"2\" opacity=\"0.5\"></path><path aria-label=\"Real_Axis: -30; Imaginary_Axis: 49\" role=\"graphics-symbol\" aria-roledescription=\"circle\" transform=\"translate(50,357)\" d=\"M2.7386127875258306,0A2.7386127875258306,2.7386127875258306,0,1,1,-2.7386127875258306,0A2.7386127875258306,2.7386127875258306,0,1,1,2.7386127875258306,0\" fill=\"red\" stroke-width=\"2\" opacity=\"0.5\"></path><path aria-label=\"Real_Axis: -30; Imaginary_Axis: 47\" role=\"graphics-symbol\" aria-roledescription=\"circle\" transform=\"translate(50,371)\" d=\"M2.7386127875258306,0A2.7386127875258306,2.7386127875258306,0,1,1,-2.7386127875258306,0A2.7386127875258306,2.7386127875258306,0,1,1,2.7386127875258306,0\" fill=\"red\" stroke-width=\"2\" opacity=\"0.5\"></path><path aria-label=\"Real_Axis: -22; Imaginary_Axis: 47\" role=\"graphics-symbol\" aria-roledescription=\"circle\" transform=\"translate(130,371)\" d=\"M2.7386127875258306,0A2.7386127875258306,2.7386127875258306,0,1,1,-2.7386127875258306,0A2.7386127875258306,2.7386127875258306,0,1,1,2.7386127875258306,0\" fill=\"red\" stroke-width=\"2\" opacity=\"0.5\"></path><path aria-label=\"Real_Axis: -22; Imaginary_Axis: 57\" role=\"graphics-symbol\" aria-roledescription=\"circle\" transform=\"translate(130,301.00000000000006)\" d=\"M2.7386127875258306,0A2.7386127875258306,2.7386127875258306,0,1,1,-2.7386127875258306,0A2.7386127875258306,2.7386127875258306,0,1,1,2.7386127875258306,0\" fill=\"red\" stroke-width=\"2\" opacity=\"0.5\"></path><path aria-label=\"Real_Axis: -32; Imaginary_Axis: 57\" role=\"graphics-symbol\" aria-roledescription=\"circle\" transform=\"translate(30,301.00000000000006)\" d=\"M2.7386127875258306,0A2.7386127875258306,2.7386127875258306,0,1,1,-2.7386127875258306,0A2.7386127875258306,2.7386127875258306,0,1,1,2.7386127875258306,0\" fill=\"red\" stroke-width=\"2\" opacity=\"0.5\"></path><path aria-label=\"Real_Axis: -32; Imaginary_Axis: 55\" role=\"graphics-symbol\" aria-roledescription=\"circle\" transform=\"translate(30,314.99999999999994)\" d=\"M2.7386127875258306,0A2.7386127875258306,2.7386127875258306,0,1,1,-2.7386127875258306,0A2.7386127875258306,2.7386127875258306,0,1,1,2.7386127875258306,0\" fill=\"red\" stroke-width=\"2\" opacity=\"0.5\"></path><path aria-label=\"Real_Axis: -26; Imaginary_Axis: 55\" role=\"graphics-symbol\" aria-roledescription=\"circle\" transform=\"translate(89.99999999999999,314.99999999999994)\" d=\"M2.7386127875258306,0A2.7386127875258306,2.7386127875258306,0,1,1,-2.7386127875258306,0A2.7386127875258306,2.7386127875258306,0,1,1,2.7386127875258306,0\" fill=\"red\" stroke-width=\"2\" opacity=\"0.5\"></path><path aria-label=\"Real_Axis: -26; Imaginary_Axis: 59\" role=\"graphics-symbol\" aria-roledescription=\"circle\" transform=\"translate(89.99999999999999,287)\" d=\"M2.7386127875258306,0A2.7386127875258306,2.7386127875258306,0,1,1,-2.7386127875258306,0A2.7386127875258306,2.7386127875258306,0,1,1,2.7386127875258306,0\" fill=\"red\" stroke-width=\"2\" opacity=\"0.5\"></path><path aria-label=\"Real_Axis: -34; Imaginary_Axis: 59\" role=\"graphics-symbol\" aria-roledescription=\"circle\" transform=\"translate(10,287)\" d=\"M2.7386127875258306,0A2.7386127875258306,2.7386127875258306,0,1,1,-2.7386127875258306,0A2.7386127875258306,2.7386127875258306,0,1,1,2.7386127875258306,0\" fill=\"red\" stroke-width=\"2\" opacity=\"0.5\"></path><path aria-label=\"Real_Axis: -34; Imaginary_Axis: 49\" role=\"graphics-symbol\" aria-roledescription=\"circle\" transform=\"translate(10,357)\" d=\"M2.7386127875258306,0A2.7386127875258306,2.7386127875258306,0,1,1,-2.7386127875258306,0A2.7386127875258306,2.7386127875258306,0,1,1,2.7386127875258306,0\" fill=\"red\" stroke-width=\"2\" opacity=\"0.5\"></path><path aria-label=\"Real_Axis: -30; Imaginary_Axis: 49\" role=\"graphics-symbol\" aria-roledescription=\"circle\" transform=\"translate(50,357)\" d=\"M2.7386127875258306,0A2.7386127875258306,2.7386127875258306,0,1,1,-2.7386127875258306,0A2.7386127875258306,2.7386127875258306,0,1,1,2.7386127875258306,0\" fill=\"red\" stroke-width=\"2\" opacity=\"0.5\"></path><path aria-label=\"Real_Axis: -30; Imaginary_Axis: 53\" role=\"graphics-symbol\" aria-roledescription=\"circle\" transform=\"translate(50,329)\" d=\"M2.7386127875258306,0A2.7386127875258306,2.7386127875258306,0,1,1,-2.7386127875258306,0A2.7386127875258306,2.7386127875258306,0,1,1,2.7386127875258306,0\" fill=\"red\" stroke-width=\"2\" opacity=\"0.5\"></path><path aria-label=\"Real_Axis: -32; Imaginary_Axis: 53\" role=\"graphics-symbol\" aria-roledescription=\"circle\" transform=\"translate(30,329)\" d=\"M2.7386127875258306,0A2.7386127875258306,2.7386127875258306,0,1,1,-2.7386127875258306,0A2.7386127875258306,2.7386127875258306,0,1,1,2.7386127875258306,0\" fill=\"red\" stroke-width=\"2\" opacity=\"0.5\"></path><path aria-label=\"Real_Axis: -32; Imaginary_Axis: 45\" role=\"graphics-symbol\" aria-roledescription=\"circle\" transform=\"translate(30,385.00000000000006)\" d=\"M2.7386127875258306,0A2.7386127875258306,2.7386127875258306,0,1,1,-2.7386127875258306,0A2.7386127875258306,2.7386127875258306,0,1,1,2.7386127875258306,0\" fill=\"red\" stroke-width=\"2\" opacity=\"0.5\"></path><path aria-label=\"Real_Axis: -16; Imaginary_Axis: 45\" role=\"graphics-symbol\" aria-roledescription=\"circle\" transform=\"translate(189.99999999999997,385.00000000000006)\" d=\"M2.7386127875258306,0A2.7386127875258306,2.7386127875258306,0,1,1,-2.7386127875258306,0A2.7386127875258306,2.7386127875258306,0,1,1,2.7386127875258306,0\" fill=\"red\" stroke-width=\"2\" opacity=\"0.5\"></path><path aria-label=\"Real_Axis: -16; Imaginary_Axis: 49\" role=\"graphics-symbol\" aria-roledescription=\"circle\" transform=\"translate(189.99999999999997,357)\" d=\"M2.7386127875258306,0A2.7386127875258306,2.7386127875258306,0,1,1,-2.7386127875258306,0A2.7386127875258306,2.7386127875258306,0,1,1,2.7386127875258306,0\" fill=\"red\" stroke-width=\"2\" opacity=\"0.5\"></path><path aria-label=\"Real_Axis: -20; Imaginary_Axis: 49\" role=\"graphics-symbol\" aria-roledescription=\"circle\" transform=\"translate(150,357)\" d=\"M2.7386127875258306,0A2.7386127875258306,2.7386127875258306,0,1,1,-2.7386127875258306,0A2.7386127875258306,2.7386127875258306,0,1,1,2.7386127875258306,0\" fill=\"red\" stroke-width=\"2\" opacity=\"0.5\"></path><path aria-label=\"Real_Axis: -20; Imaginary_Axis: 47\" role=\"graphics-symbol\" aria-roledescription=\"circle\" transform=\"translate(150,371)\" d=\"M2.7386127875258306,0A2.7386127875258306,2.7386127875258306,0,1,1,-2.7386127875258306,0A2.7386127875258306,2.7386127875258306,0,1,1,2.7386127875258306,0\" fill=\"red\" stroke-width=\"2\" opacity=\"0.5\"></path><path aria-label=\"Real_Axis: -10; Imaginary_Axis: 47\" role=\"graphics-symbol\" aria-roledescription=\"circle\" transform=\"translate(250,371)\" d=\"M2.7386127875258306,0A2.7386127875258306,2.7386127875258306,0,1,1,-2.7386127875258306,0A2.7386127875258306,2.7386127875258306,0,1,1,2.7386127875258306,0\" fill=\"red\" stroke-width=\"2\" opacity=\"0.5\"></path><path aria-label=\"Real_Axis: -10; Imaginary_Axis: 53\" role=\"graphics-symbol\" aria-roledescription=\"circle\" transform=\"translate(250,329)\" d=\"M2.7386127875258306,0A2.7386127875258306,2.7386127875258306,0,1,1,-2.7386127875258306,0A2.7386127875258306,2.7386127875258306,0,1,1,2.7386127875258306,0\" fill=\"red\" stroke-width=\"2\" opacity=\"0.5\"></path><path aria-label=\"Real_Axis: -12; Imaginary_Axis: 53\" role=\"graphics-symbol\" aria-roledescription=\"circle\" transform=\"translate(230,329)\" d=\"M2.7386127875258306,0A2.7386127875258306,2.7386127875258306,0,1,1,-2.7386127875258306,0A2.7386127875258306,2.7386127875258306,0,1,1,2.7386127875258306,0\" fill=\"red\" stroke-width=\"2\" opacity=\"0.5\"></path><path aria-label=\"Real_Axis: -12; Imaginary_Axis: 43\" role=\"graphics-symbol\" aria-roledescription=\"circle\" transform=\"translate(230,399.00000000000006)\" d=\"M2.7386127875258306,0A2.7386127875258306,2.7386127875258306,0,1,1,-2.7386127875258306,0A2.7386127875258306,2.7386127875258306,0,1,1,2.7386127875258306,0\" fill=\"red\" stroke-width=\"2\" opacity=\"0.5\"></path><path aria-label=\"Real_Axis: -10; Imaginary_Axis: 43\" role=\"graphics-symbol\" aria-roledescription=\"circle\" transform=\"translate(250,399.00000000000006)\" d=\"M2.7386127875258306,0A2.7386127875258306,2.7386127875258306,0,1,1,-2.7386127875258306,0A2.7386127875258306,2.7386127875258306,0,1,1,2.7386127875258306,0\" fill=\"red\" stroke-width=\"2\" opacity=\"0.5\"></path><path aria-label=\"Real_Axis: -10; Imaginary_Axis: 47\" role=\"graphics-symbol\" aria-roledescription=\"circle\" transform=\"translate(250,371)\" d=\"M2.7386127875258306,0A2.7386127875258306,2.7386127875258306,0,1,1,-2.7386127875258306,0A2.7386127875258306,2.7386127875258306,0,1,1,2.7386127875258306,0\" fill=\"red\" stroke-width=\"2\" opacity=\"0.5\"></path><path aria-label=\"Real_Axis: -20; Imaginary_Axis: 47\" role=\"graphics-symbol\" aria-roledescription=\"circle\" transform=\"translate(150,371)\" d=\"M2.7386127875258306,0A2.7386127875258306,2.7386127875258306,0,1,1,-2.7386127875258306,0A2.7386127875258306,2.7386127875258306,0,1,1,2.7386127875258306,0\" fill=\"red\" stroke-width=\"2\" opacity=\"0.5\"></path><path aria-label=\"Real_Axis: -20; Imaginary_Axis: 41\" role=\"graphics-symbol\" aria-roledescription=\"circle\" transform=\"translate(150,413.00000000000006)\" d=\"M2.7386127875258306,0A2.7386127875258306,2.7386127875258306,0,1,1,-2.7386127875258306,0A2.7386127875258306,2.7386127875258306,0,1,1,2.7386127875258306,0\" fill=\"red\" stroke-width=\"2\" opacity=\"0.5\"></path><path aria-label=\"Real_Axis: -14; Imaginary_Axis: 41\" role=\"graphics-symbol\" aria-roledescription=\"circle\" transform=\"translate(210,413.00000000000006)\" d=\"M2.7386127875258306,0A2.7386127875258306,2.7386127875258306,0,1,1,-2.7386127875258306,0A2.7386127875258306,2.7386127875258306,0,1,1,2.7386127875258306,0\" fill=\"red\" stroke-width=\"2\" opacity=\"0.5\"></path><path aria-label=\"Real_Axis: -14; Imaginary_Axis: 45\" role=\"graphics-symbol\" aria-roledescription=\"circle\" transform=\"translate(210,385.00000000000006)\" d=\"M2.7386127875258306,0A2.7386127875258306,2.7386127875258306,0,1,1,-2.7386127875258306,0A2.7386127875258306,2.7386127875258306,0,1,1,2.7386127875258306,0\" fill=\"red\" stroke-width=\"2\" opacity=\"0.5\"></path><path aria-label=\"Real_Axis: -16; Imaginary_Axis: 45\" role=\"graphics-symbol\" aria-roledescription=\"circle\" transform=\"translate(189.99999999999997,385.00000000000006)\" d=\"M2.7386127875258306,0A2.7386127875258306,2.7386127875258306,0,1,1,-2.7386127875258306,0A2.7386127875258306,2.7386127875258306,0,1,1,2.7386127875258306,0\" fill=\"red\" stroke-width=\"2\" opacity=\"0.5\"></path><path aria-label=\"Real_Axis: -16; Imaginary_Axis: 39\" role=\"graphics-symbol\" aria-roledescription=\"circle\" transform=\"translate(189.99999999999997,427)\" d=\"M2.7386127875258306,0A2.7386127875258306,2.7386127875258306,0,1,1,-2.7386127875258306,0A2.7386127875258306,2.7386127875258306,0,1,1,2.7386127875258306,0\" fill=\"red\" stroke-width=\"2\" opacity=\"0.5\"></path><path aria-label=\"Real_Axis: -10; Imaginary_Axis: 39\" role=\"graphics-symbol\" aria-roledescription=\"circle\" transform=\"translate(250,427)\" d=\"M2.7386127875258306,0A2.7386127875258306,2.7386127875258306,0,1,1,-2.7386127875258306,0A2.7386127875258306,2.7386127875258306,0,1,1,2.7386127875258306,0\" fill=\"red\" stroke-width=\"2\" opacity=\"0.5\"></path><path aria-label=\"Real_Axis: -10; Imaginary_Axis: 43\" role=\"graphics-symbol\" aria-roledescription=\"circle\" transform=\"translate(250,399.00000000000006)\" d=\"M2.7386127875258306,0A2.7386127875258306,2.7386127875258306,0,1,1,-2.7386127875258306,0A2.7386127875258306,2.7386127875258306,0,1,1,2.7386127875258306,0\" fill=\"red\" stroke-width=\"2\" opacity=\"0.5\"></path><path aria-label=\"Real_Axis: -12; Imaginary_Axis: 43\" role=\"graphics-symbol\" aria-roledescription=\"circle\" transform=\"translate(230,399.00000000000006)\" d=\"M2.7386127875258306,0A2.7386127875258306,2.7386127875258306,0,1,1,-2.7386127875258306,0A2.7386127875258306,2.7386127875258306,0,1,1,2.7386127875258306,0\" fill=\"red\" stroke-width=\"2\" opacity=\"0.5\"></path><path aria-label=\"Real_Axis: -12; Imaginary_Axis: 25\" role=\"graphics-symbol\" aria-roledescription=\"circle\" transform=\"translate(230,525)\" d=\"M2.7386127875258306,0A2.7386127875258306,2.7386127875258306,0,1,1,-2.7386127875258306,0A2.7386127875258306,2.7386127875258306,0,1,1,2.7386127875258306,0\" fill=\"red\" stroke-width=\"2\" opacity=\"0.5\"></path><path aria-label=\"Real_Axis: -6; Imaginary_Axis: 25\" role=\"graphics-symbol\" aria-roledescription=\"circle\" transform=\"translate(290,525)\" d=\"M2.7386127875258306,0A2.7386127875258306,2.7386127875258306,0,1,1,-2.7386127875258306,0A2.7386127875258306,2.7386127875258306,0,1,1,2.7386127875258306,0\" fill=\"red\" stroke-width=\"2\" opacity=\"0.5\"></path><path aria-label=\"Real_Axis: -6; Imaginary_Axis: 29\" role=\"graphics-symbol\" aria-roledescription=\"circle\" transform=\"translate(290,497)\" d=\"M2.7386127875258306,0A2.7386127875258306,2.7386127875258306,0,1,1,-2.7386127875258306,0A2.7386127875258306,2.7386127875258306,0,1,1,2.7386127875258306,0\" fill=\"red\" stroke-width=\"2\" opacity=\"0.5\"></path><path aria-label=\"Real_Axis: -10; Imaginary_Axis: 29\" role=\"graphics-symbol\" aria-roledescription=\"circle\" transform=\"translate(250,497)\" d=\"M2.7386127875258306,0A2.7386127875258306,2.7386127875258306,0,1,1,-2.7386127875258306,0A2.7386127875258306,2.7386127875258306,0,1,1,2.7386127875258306,0\" fill=\"red\" stroke-width=\"2\" opacity=\"0.5\"></path><path aria-label=\"Real_Axis: -10; Imaginary_Axis: 27\" role=\"graphics-symbol\" aria-roledescription=\"circle\" transform=\"translate(250,511)\" d=\"M2.7386127875258306,0A2.7386127875258306,2.7386127875258306,0,1,1,-2.7386127875258306,0A2.7386127875258306,2.7386127875258306,0,1,1,2.7386127875258306,0\" fill=\"red\" stroke-width=\"2\" opacity=\"0.5\"></path><path aria-label=\"Real_Axis: -2; Imaginary_Axis: 27\" role=\"graphics-symbol\" aria-roledescription=\"circle\" transform=\"translate(330,511)\" d=\"M2.7386127875258306,0A2.7386127875258306,2.7386127875258306,0,1,1,-2.7386127875258306,0A2.7386127875258306,2.7386127875258306,0,1,1,2.7386127875258306,0\" fill=\"red\" stroke-width=\"2\" opacity=\"0.5\"></path><path aria-label=\"Real_Axis: -2; Imaginary_Axis: 33\" role=\"graphics-symbol\" aria-roledescription=\"circle\" transform=\"translate(330,468.99999999999994)\" d=\"M2.7386127875258306,0A2.7386127875258306,2.7386127875258306,0,1,1,-2.7386127875258306,0A2.7386127875258306,2.7386127875258306,0,1,1,2.7386127875258306,0\" fill=\"red\" stroke-width=\"2\" opacity=\"0.5\"></path><path aria-label=\"Real_Axis: -8; Imaginary_Axis: 33\" role=\"graphics-symbol\" aria-roledescription=\"circle\" transform=\"translate(270,468.99999999999994)\" d=\"M2.7386127875258306,0A2.7386127875258306,2.7386127875258306,0,1,1,-2.7386127875258306,0A2.7386127875258306,2.7386127875258306,0,1,1,2.7386127875258306,0\" fill=\"red\" stroke-width=\"2\" opacity=\"0.5\"></path><path aria-label=\"Real_Axis: -8; Imaginary_Axis: 23\" role=\"graphics-symbol\" aria-roledescription=\"circle\" transform=\"translate(270,539)\" d=\"M2.7386127875258306,0A2.7386127875258306,2.7386127875258306,0,1,1,-2.7386127875258306,0A2.7386127875258306,2.7386127875258306,0,1,1,2.7386127875258306,0\" fill=\"red\" stroke-width=\"2\" opacity=\"0.5\"></path><path aria-label=\"Real_Axis: 0; Imaginary_Axis: 23\" role=\"graphics-symbol\" aria-roledescription=\"circle\" transform=\"translate(350,539)\" d=\"M2.7386127875258306,0A2.7386127875258306,2.7386127875258306,0,1,1,-2.7386127875258306,0A2.7386127875258306,2.7386127875258306,0,1,1,2.7386127875258306,0\" fill=\"red\" stroke-width=\"2\" opacity=\"0.5\"></path><path aria-label=\"Real_Axis: 0; Imaginary_Axis: 31\" role=\"graphics-symbol\" aria-roledescription=\"circle\" transform=\"translate(350,482.99999999999994)\" d=\"M2.7386127875258306,0A2.7386127875258306,2.7386127875258306,0,1,1,-2.7386127875258306,0A2.7386127875258306,2.7386127875258306,0,1,1,2.7386127875258306,0\" fill=\"red\" stroke-width=\"2\" opacity=\"0.5\"></path><path aria-label=\"Real_Axis: -4; Imaginary_Axis: 31\" role=\"graphics-symbol\" aria-roledescription=\"circle\" transform=\"translate(310,482.99999999999994)\" d=\"M2.7386127875258306,0A2.7386127875258306,2.7386127875258306,0,1,1,-2.7386127875258306,0A2.7386127875258306,2.7386127875258306,0,1,1,2.7386127875258306,0\" fill=\"red\" stroke-width=\"2\" opacity=\"0.5\"></path><path aria-label=\"Real_Axis: -4; Imaginary_Axis: 29\" role=\"graphics-symbol\" aria-roledescription=\"circle\" transform=\"translate(310,497)\" d=\"M2.7386127875258306,0A2.7386127875258306,2.7386127875258306,0,1,1,-2.7386127875258306,0A2.7386127875258306,2.7386127875258306,0,1,1,2.7386127875258306,0\" fill=\"red\" stroke-width=\"2\" opacity=\"0.5\"></path><path aria-label=\"Real_Axis: 4; Imaginary_Axis: 29\" role=\"graphics-symbol\" aria-roledescription=\"circle\" transform=\"translate(390,497)\" d=\"M2.7386127875258306,0A2.7386127875258306,2.7386127875258306,0,1,1,-2.7386127875258306,0A2.7386127875258306,2.7386127875258306,0,1,1,2.7386127875258306,0\" fill=\"red\" stroke-width=\"2\" opacity=\"0.5\"></path><path aria-label=\"Real_Axis: 4; Imaginary_Axis: 31\" role=\"graphics-symbol\" aria-roledescription=\"circle\" transform=\"translate(390,482.99999999999994)\" d=\"M2.7386127875258306,0A2.7386127875258306,2.7386127875258306,0,1,1,-2.7386127875258306,0A2.7386127875258306,2.7386127875258306,0,1,1,2.7386127875258306,0\" fill=\"red\" stroke-width=\"2\" opacity=\"0.5\"></path><path aria-label=\"Real_Axis: 0; Imaginary_Axis: 31\" role=\"graphics-symbol\" aria-roledescription=\"circle\" transform=\"translate(350,482.99999999999994)\" d=\"M2.7386127875258306,0A2.7386127875258306,2.7386127875258306,0,1,1,-2.7386127875258306,0A2.7386127875258306,2.7386127875258306,0,1,1,2.7386127875258306,0\" fill=\"red\" stroke-width=\"2\" opacity=\"0.5\"></path><path aria-label=\"Real_Axis: 0; Imaginary_Axis: 23\" role=\"graphics-symbol\" aria-roledescription=\"circle\" transform=\"translate(350,539)\" d=\"M2.7386127875258306,0A2.7386127875258306,2.7386127875258306,0,1,1,-2.7386127875258306,0A2.7386127875258306,2.7386127875258306,0,1,1,2.7386127875258306,0\" fill=\"red\" stroke-width=\"2\" opacity=\"0.5\"></path></g><g class=\"mark-group role-title\"><g transform=\"translate(350,-22)\"><path class=\"background\" aria-hidden=\"true\" d=\"M0,0h0v0h0Z\" pointer-events=\"none\"></path><g><g class=\"mark-text role-title-text\" role=\"graphics-symbol\" aria-roledescription=\"title\" aria-label=\"Title text 'Gaussian Prime Spiral'\" pointer-events=\"none\"><text text-anchor=\"middle\" transform=\"translate(0,10)\" font-family=\"sans-serif\" font-size=\"13px\" font-weight=\"bold\" fill=\"#000\" opacity=\"1\">Gaussian Prime Spiral</text></g></g><path class=\"foreground\" aria-hidden=\"true\" d=\"\" pointer-events=\"none\" display=\"none\"></path></g></g></g><path class=\"foreground\" aria-hidden=\"true\" d=\"\" display=\"none\"></path></g></g></g></svg>\n"
      ],
      "text/plain": [
       "@vlplot(\n",
       "    title=\"Gaussian Prime Spiral\",\n",
       "    height=700,\n",
       "    width=700,\n",
       "    layer=[\n",
       "        {\n",
       "            data={\n",
       "                values=...\n",
       "            },\n",
       "            mark={\n",
       "                color=\"black\",\n",
       "                opacity=1.0,\n",
       "                type=\"line\"\n",
       "            },\n",
       "            encoding={\n",
       "                x={\n",
       "                    title=\"Real Axis; Span = 5 + 23im; Movements = 1536\",\n",
       "                    field=\"Real_Axis\",\n",
       "                    type=\"quantitative\"\n",
       "                },\n",
       "                y={\n",
       "                    title=\"Imaginary Axis\",\n",
       "                    field=\"Imaginary_Axis\",\n",
       "                    type=\"quantitative\"\n",
       "                },\n",
       "                order={\n",
       "                    field=\"Movements\",\n",
       "                    type=\"ordinal\"\n",
       "                }\n",
       "            }\n",
       "        },\n",
       "        {\n",
       "            data={\n",
       "                values=...\n",
       "            },\n",
       "            mark={\n",
       "                color=\"red\",\n",
       "                opacity=0.5,\n",
       "                type=\"circle\"\n",
       "            },\n",
       "            encoding={\n",
       "                x={\n",
       "                    field=\"Real_Axis\",\n",
       "                    type=\"quantitative\"\n",
       "                },\n",
       "                y={\n",
       "                    field=\"Imaginary_Axis\",\n",
       "                    type=\"quantitative\"\n",
       "                }\n",
       "            }\n",
       "        }\n",
       "    ]\n",
       ")"
      ]
     },
     "execution_count": 3,
     "metadata": {},
     "output_type": "execute_result"
    }
   ],
   "source": [
    "# Create a spiral object\n",
    "s = Spiral(5 + 23im, 300)\n",
    "\n",
    "# Transverse the spiral object\n",
    "transverse!(s)\n",
    "\n",
    "# Display the spiral object\n",
    "display(s)"
   ]
  },
  {
   "cell_type": "code",
   "execution_count": null,
   "metadata": {},
   "outputs": [],
   "source": []
  }
 ],
 "metadata": {
  "kernel_info": {
   "name": "julia-1.6"
  },
  "kernelspec": {
   "display_name": "Julia 1.6.0",
   "language": "julia",
   "name": "julia-1.6"
  },
  "language_info": {
   "file_extension": ".jl",
   "mimetype": "application/julia",
   "name": "julia",
   "version": "1.6.0"
  },
  "nteract": {
   "version": "0.28.0"
  }
 },
 "nbformat": 4,
 "nbformat_minor": 4
}
