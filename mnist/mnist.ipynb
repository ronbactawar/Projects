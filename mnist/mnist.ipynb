{
  "cells": [
    {
      "cell_type": "code",
      "source": [
        "using Pkg\n",
        "Pkg.activate(\"my_environment\", shared=true)\n",
        "Pkg.add(\"MLJFlux\")\n",
        "Pkg.add(\"MLJ\")\n",
        "using Dates\n",
        "using Statistics\n",
        "using DataFrames\n",
        "using Queryverse\n",
        "using VegaLite\n",
        "using MLJ\n",
        "using MLJBase\n",
        "using MLJFlux\n",
        "using Flux\n"
      ],
      "outputs": [
        {
          "output_type": "stream",
          "name": "stderr",
          "text": [
            "\u001b[32m\u001b[1m Activating\u001b[22m\u001b[39m environment at `~/.julia/environments/my_environment/Project.toml`\n",
            "\u001b[32m\u001b[1m   Updating\u001b[22m\u001b[39m registry at `~/.julia/registries/General`\n",
            "\u001b[32m\u001b[1m   Updating\u001b[22m\u001b[39m git-repo `https://github.com/JuliaRegistries/General.git`\n",
            "\u001b[32m\u001b[1m  Resolving\u001b[22m\u001b[39m package versions...\n",
            "\u001b[32m\u001b[1mNo Changes\u001b[22m\u001b[39m to `~/.julia/environments/my_environment/Project.toml`\n",
            "\u001b[32m\u001b[1mNo Changes\u001b[22m\u001b[39m to `~/.julia/environments/my_environment/Manifest.toml`\n",
            "\u001b[32m\u001b[1m  Resolving\u001b[22m\u001b[39m package versions...\n",
            "\u001b[32m\u001b[1mNo Changes\u001b[22m\u001b[39m to `~/.julia/environments/my_environment/Project.toml`\n",
            "\u001b[32m\u001b[1mNo Changes\u001b[22m\u001b[39m to `~/.julia/environments/my_environment/Manifest.toml`\n",
            "┌ Info: Precompiling Queryverse [612083be-0b0f-5412-89c1-4e7c75506a58]\n",
            "└ @ Base loading.jl:1278\n",
            "┌ Info: Precompiling MLJ [add582a8-e3ab-11e8-2d5e-e98b27df1bc7]\n",
            "└ @ Base loading.jl:1278\n",
            "[ Info: Model metadata loaded from registry. \n",
            "┌ Info: Precompiling MLJFlux [094fc8d1-fd35-5302-93ea-dabda2abf845]\n",
            "└ @ Base loading.jl:1278\n"
          ]
        },
        {
          "output_type": "stream",
          "name": "stdout",
          "text": [
            "\u001b[?25l    \u001b[36m\u001b[1mFetching:\u001b[22m\u001b[39m [>                                        ]  0.0 %\r    \u001b[36m\u001b[1mFetching:\u001b[22m\u001b[39m [========================================>]  100.0 %\r\u001b[2K\u001b[?25h"
          ]
        }
      ],
      "execution_count": 1,
      "metadata": {
        "collapsed": true,
        "jupyter": {
          "source_hidden": false,
          "outputs_hidden": true
        },
        "nteract": {
          "transient": {
            "deleting": false
          }
        },
        "execution": {
          "iopub.status.busy": "2020-10-18T14:41:13.433Z",
          "iopub.execute_input": "2020-10-18T14:41:13.804Z",
          "iopub.status.idle": "2020-10-18T14:43:38.914Z"
        }
      }
    },
    {
      "cell_type": "markdown",
      "source": [
        "## Objective\n",
        "\n",
        "The objective is to develop and use a deep-learning neural to classify the hand written number images of the mnist dataset.  "
      ],
      "metadata": {
        "nteract": {
          "transient": {
            "deleting": false
          }
        }
      }
    },
    {
      "cell_type": "markdown",
      "source": [
        "## Data \n",
        "\n",
        "A dataframe of a thousand 28 X 28 images and labels were generated for this analysis.  Modeling and testing data was partitioned on the basis of a 70/30 split. An example of  such an image is given below."
      ],
      "metadata": {
        "nteract": {
          "transient": {
            "deleting": false
          }
        }
      }
    },
    {
      "cell_type": "code",
      "source": [
        "# Load 1000 images and labels into a dataframe\n",
        "minst = \n",
        "DataFrame(images = Flux.Data.MNIST.images(), labels = Flux.Data.MNIST.labels()) |> \n",
        "@take(1000) |> @mutate(labels = string(_.labels)) |> DataFrame\n",
        "\n",
        "# Get X and y\n",
        "X = minst.images\n",
        "y = categorical(minst.labels)\n",
        "\n",
        "# Create an index for model and validation sets\n",
        "m, v = partition(eachindex(y), 0.7, shuffle=true)\n",
        "\n",
        "# Data for modeling\n",
        "Xm = X[m]\n",
        "ym = y[m]\n",
        "\n",
        "# Data for validation \n",
        "Xv = X[v]\n",
        "yv = y[v]\n",
        "\n",
        "# Example image\n",
        "X[5]"
      ],
      "outputs": [
        {
          "output_type": "execute_result",
          "execution_count": 2,
          "data": {
            "text/plain": "28×28 Array{Gray{N0f8},2} with eltype ColorTypes.Gray{FixedPointNumbers.Normed{UInt8,8}}:\n Gray{N0f8}(0.0)  Gray{N0f8}(0.0)  …  Gray{N0f8}(0.0)  Gray{N0f8}(0.0)\n Gray{N0f8}(0.0)  Gray{N0f8}(0.0)     Gray{N0f8}(0.0)  Gray{N0f8}(0.0)\n Gray{N0f8}(0.0)  Gray{N0f8}(0.0)     Gray{N0f8}(0.0)  Gray{N0f8}(0.0)\n Gray{N0f8}(0.0)  Gray{N0f8}(0.0)     Gray{N0f8}(0.0)  Gray{N0f8}(0.0)\n Gray{N0f8}(0.0)  Gray{N0f8}(0.0)     Gray{N0f8}(0.0)  Gray{N0f8}(0.0)\n Gray{N0f8}(0.0)  Gray{N0f8}(0.0)  …  Gray{N0f8}(0.0)  Gray{N0f8}(0.0)\n Gray{N0f8}(0.0)  Gray{N0f8}(0.0)     Gray{N0f8}(0.0)  Gray{N0f8}(0.0)\n Gray{N0f8}(0.0)  Gray{N0f8}(0.0)     Gray{N0f8}(0.0)  Gray{N0f8}(0.0)\n Gray{N0f8}(0.0)  Gray{N0f8}(0.0)     Gray{N0f8}(0.0)  Gray{N0f8}(0.0)\n Gray{N0f8}(0.0)  Gray{N0f8}(0.0)     Gray{N0f8}(0.0)  Gray{N0f8}(0.0)\n Gray{N0f8}(0.0)  Gray{N0f8}(0.0)  …  Gray{N0f8}(0.0)  Gray{N0f8}(0.0)\n Gray{N0f8}(0.0)  Gray{N0f8}(0.0)     Gray{N0f8}(0.0)  Gray{N0f8}(0.0)\n Gray{N0f8}(0.0)  Gray{N0f8}(0.0)     Gray{N0f8}(0.0)  Gray{N0f8}(0.0)\n ⋮                                 ⋱                   \n Gray{N0f8}(0.0)  Gray{N0f8}(0.0)     Gray{N0f8}(0.0)  Gray{N0f8}(0.0)\n Gray{N0f8}(0.0)  Gray{N0f8}(0.0)     Gray{N0f8}(0.0)  Gray{N0f8}(0.0)\n Gray{N0f8}(0.0)  Gray{N0f8}(0.0)     Gray{N0f8}(0.0)  Gray{N0f8}(0.0)\n Gray{N0f8}(0.0)  Gray{N0f8}(0.0)     Gray{N0f8}(0.0)  Gray{N0f8}(0.0)\n Gray{N0f8}(0.0)  Gray{N0f8}(0.0)  …  Gray{N0f8}(0.0)  Gray{N0f8}(0.0)\n Gray{N0f8}(0.0)  Gray{N0f8}(0.0)     Gray{N0f8}(0.0)  Gray{N0f8}(0.0)\n Gray{N0f8}(0.0)  Gray{N0f8}(0.0)     Gray{N0f8}(0.0)  Gray{N0f8}(0.0)\n Gray{N0f8}(0.0)  Gray{N0f8}(0.0)     Gray{N0f8}(0.0)  Gray{N0f8}(0.0)\n Gray{N0f8}(0.0)  Gray{N0f8}(0.0)     Gray{N0f8}(0.0)  Gray{N0f8}(0.0)\n Gray{N0f8}(0.0)  Gray{N0f8}(0.0)  …  Gray{N0f8}(0.0)  Gray{N0f8}(0.0)\n Gray{N0f8}(0.0)  Gray{N0f8}(0.0)     Gray{N0f8}(0.0)  Gray{N0f8}(0.0)\n Gray{N0f8}(0.0)  Gray{N0f8}(0.0)     Gray{N0f8}(0.0)  Gray{N0f8}(0.0)",
            "image/svg+xml": "<?xml version=\"1.0\" encoding=\"UTF-8\"?>\n<!DOCTYPE svg PUBLIC \"-//W3C//DTD SVG 1.1//EN\"\n \"http://www.w3.org/Graphics/SVG/1.1/DTD/svg11.dtd\">\n<svg xmlns=\"http://www.w3.org/2000/svg\" version=\"1.1\"\n     width=\"150mm\" height=\"150mm\"\n     viewBox=\"0 0 28 28\" preserveAspectRatio=\"none\"\n     shape-rendering=\"crispEdges\" stroke=\"none\">\n<rect width=\".81\" height=\".81\" x=\"0\" y=\"0\" fill=\"#000000\" />\n<rect width=\".81\" height=\".81\" x=\"1\" y=\"0\" fill=\"#000000\" />\n<rect width=\".81\" height=\".81\" x=\"2\" y=\"0\" fill=\"#000000\" />\n<rect width=\".81\" height=\".81\" x=\"3\" y=\"0\" fill=\"#000000\" />\n<rect width=\".81\" height=\".81\" x=\"4\" y=\"0\" fill=\"#000000\" />\n<rect width=\".81\" height=\".81\" x=\"5\" y=\"0\" fill=\"#000000\" />\n<rect width=\".81\" height=\".81\" x=\"6\" y=\"0\" fill=\"#000000\" />\n<rect width=\".81\" height=\".81\" x=\"7\" y=\"0\" fill=\"#000000\" />\n<rect width=\".81\" height=\".81\" x=\"8\" y=\"0\" fill=\"#000000\" />\n<rect width=\".81\" height=\".81\" x=\"9\" y=\"0\" fill=\"#000000\" />\n<rect width=\".81\" height=\".81\" x=\"10\" y=\"0\" fill=\"#000000\" />\n<rect width=\".81\" height=\".81\" x=\"11\" y=\"0\" fill=\"#000000\" />\n<rect width=\".81\" height=\".81\" x=\"12\" y=\"0\" fill=\"#000000\" />\n<rect width=\".81\" height=\".81\" x=\"13\" y=\"0\" fill=\"#000000\" />\n<rect width=\".81\" height=\".81\" x=\"14\" y=\"0\" fill=\"#000000\" />\n<rect width=\".81\" height=\".81\" x=\"15\" y=\"0\" fill=\"#000000\" />\n<rect width=\".81\" height=\".81\" x=\"16\" y=\"0\" fill=\"#000000\" />\n<rect width=\".81\" height=\".81\" x=\"17\" y=\"0\" fill=\"#000000\" />\n<rect width=\".81\" height=\".81\" x=\"18\" y=\"0\" fill=\"#000000\" />\n<rect width=\".81\" height=\".81\" x=\"19\" y=\"0\" fill=\"#000000\" />\n<rect width=\".81\" height=\".81\" x=\"20\" y=\"0\" fill=\"#000000\" />\n<rect width=\".81\" height=\".81\" x=\"21\" y=\"0\" fill=\"#000000\" />\n<rect width=\".81\" height=\".81\" x=\"22\" y=\"0\" fill=\"#000000\" />\n<rect width=\".81\" height=\".81\" x=\"23\" y=\"0\" fill=\"#000000\" />\n<rect width=\".81\" height=\".81\" x=\"24\" y=\"0\" fill=\"#000000\" />\n<rect width=\".81\" height=\".81\" x=\"25\" y=\"0\" fill=\"#000000\" />\n<rect width=\".81\" height=\".81\" x=\"26\" y=\"0\" fill=\"#000000\" />\n<rect width=\".81\" height=\".81\" x=\"27\" y=\"0\" fill=\"#000000\" />\n<rect width=\".81\" height=\".81\" x=\"0\" y=\"1\" fill=\"#000000\" />\n<rect width=\".81\" height=\".81\" x=\"1\" y=\"1\" fill=\"#000000\" />\n<rect width=\".81\" height=\".81\" x=\"2\" y=\"1\" fill=\"#000000\" />\n<rect width=\".81\" height=\".81\" x=\"3\" y=\"1\" fill=\"#000000\" />\n<rect width=\".81\" height=\".81\" x=\"4\" y=\"1\" fill=\"#000000\" />\n<rect width=\".81\" height=\".81\" x=\"5\" y=\"1\" fill=\"#000000\" />\n<rect width=\".81\" height=\".81\" x=\"6\" y=\"1\" fill=\"#000000\" />\n<rect width=\".81\" height=\".81\" x=\"7\" y=\"1\" fill=\"#000000\" />\n<rect width=\".81\" height=\".81\" x=\"8\" y=\"1\" fill=\"#000000\" />\n<rect width=\".81\" height=\".81\" x=\"9\" y=\"1\" fill=\"#000000\" />\n<rect width=\".81\" height=\".81\" x=\"10\" y=\"1\" fill=\"#000000\" />\n<rect width=\".81\" height=\".81\" x=\"11\" y=\"1\" fill=\"#000000\" />\n<rect width=\".81\" height=\".81\" x=\"12\" y=\"1\" fill=\"#000000\" />\n<rect width=\".81\" height=\".81\" x=\"13\" y=\"1\" fill=\"#000000\" />\n<rect width=\".81\" height=\".81\" x=\"14\" y=\"1\" fill=\"#000000\" />\n<rect width=\".81\" height=\".81\" x=\"15\" y=\"1\" fill=\"#000000\" />\n<rect width=\".81\" height=\".81\" x=\"16\" y=\"1\" fill=\"#000000\" />\n<rect width=\".81\" height=\".81\" x=\"17\" y=\"1\" fill=\"#000000\" />\n<rect width=\".81\" height=\".81\" x=\"18\" y=\"1\" fill=\"#000000\" />\n<rect width=\".81\" height=\".81\" x=\"19\" y=\"1\" fill=\"#000000\" />\n<rect width=\".81\" height=\".81\" x=\"20\" y=\"1\" fill=\"#000000\" />\n<rect width=\".81\" height=\".81\" x=\"21\" y=\"1\" fill=\"#000000\" />\n<rect width=\".81\" height=\".81\" x=\"22\" y=\"1\" fill=\"#000000\" />\n<rect width=\".81\" height=\".81\" x=\"23\" y=\"1\" fill=\"#000000\" />\n<rect width=\".81\" height=\".81\" x=\"24\" y=\"1\" fill=\"#000000\" />\n<rect width=\".81\" height=\".81\" x=\"25\" y=\"1\" fill=\"#000000\" />\n<rect width=\".81\" height=\".81\" x=\"26\" y=\"1\" fill=\"#000000\" />\n<rect width=\".81\" height=\".81\" x=\"27\" y=\"1\" fill=\"#000000\" />\n<rect width=\".81\" height=\".81\" x=\"0\" y=\"2\" fill=\"#000000\" />\n<rect width=\".81\" height=\".81\" x=\"1\" y=\"2\" fill=\"#000000\" />\n<rect width=\".81\" height=\".81\" x=\"2\" y=\"2\" fill=\"#000000\" />\n<rect width=\".81\" height=\".81\" x=\"3\" y=\"2\" fill=\"#000000\" />\n<rect width=\".81\" height=\".81\" x=\"4\" y=\"2\" fill=\"#000000\" />\n<rect width=\".81\" height=\".81\" x=\"5\" y=\"2\" fill=\"#000000\" />\n<rect width=\".81\" height=\".81\" x=\"6\" y=\"2\" fill=\"#000000\" />\n<rect width=\".81\" height=\".81\" x=\"7\" y=\"2\" fill=\"#000000\" />\n<rect width=\".81\" height=\".81\" x=\"8\" y=\"2\" fill=\"#000000\" />\n<rect width=\".81\" height=\".81\" x=\"9\" y=\"2\" fill=\"#000000\" />\n<rect width=\".81\" height=\".81\" x=\"10\" y=\"2\" fill=\"#000000\" />\n<rect width=\".81\" height=\".81\" x=\"11\" y=\"2\" fill=\"#000000\" />\n<rect width=\".81\" height=\".81\" x=\"12\" y=\"2\" fill=\"#000000\" />\n<rect width=\".81\" height=\".81\" x=\"13\" y=\"2\" fill=\"#000000\" />\n<rect width=\".81\" height=\".81\" x=\"14\" y=\"2\" fill=\"#000000\" />\n<rect width=\".81\" height=\".81\" x=\"15\" y=\"2\" fill=\"#000000\" />\n<rect width=\".81\" height=\".81\" x=\"16\" y=\"2\" fill=\"#000000\" />\n<rect width=\".81\" height=\".81\" x=\"17\" y=\"2\" fill=\"#000000\" />\n<rect width=\".81\" height=\".81\" x=\"18\" y=\"2\" fill=\"#000000\" />\n<rect width=\".81\" height=\".81\" x=\"19\" y=\"2\" fill=\"#000000\" />\n<rect width=\".81\" height=\".81\" x=\"20\" y=\"2\" fill=\"#000000\" />\n<rect width=\".81\" height=\".81\" x=\"21\" y=\"2\" fill=\"#000000\" />\n<rect width=\".81\" height=\".81\" x=\"22\" y=\"2\" fill=\"#000000\" />\n<rect width=\".81\" height=\".81\" x=\"23\" y=\"2\" fill=\"#000000\" />\n<rect width=\".81\" height=\".81\" x=\"24\" y=\"2\" fill=\"#000000\" />\n<rect width=\".81\" height=\".81\" x=\"25\" y=\"2\" fill=\"#000000\" />\n<rect width=\".81\" height=\".81\" x=\"26\" y=\"2\" fill=\"#000000\" />\n<rect width=\".81\" height=\".81\" x=\"27\" y=\"2\" fill=\"#000000\" />\n<rect width=\".81\" height=\".81\" x=\"0\" y=\"3\" fill=\"#000000\" />\n<rect width=\".81\" height=\".81\" x=\"1\" y=\"3\" fill=\"#000000\" />\n<rect width=\".81\" height=\".81\" x=\"2\" y=\"3\" fill=\"#000000\" />\n<rect width=\".81\" height=\".81\" x=\"3\" y=\"3\" fill=\"#000000\" />\n<rect width=\".81\" height=\".81\" x=\"4\" y=\"3\" fill=\"#000000\" />\n<rect width=\".81\" height=\".81\" x=\"5\" y=\"3\" fill=\"#000000\" />\n<rect width=\".81\" height=\".81\" x=\"6\" y=\"3\" fill=\"#000000\" />\n<rect width=\".81\" height=\".81\" x=\"7\" y=\"3\" fill=\"#000000\" />\n<rect width=\".81\" height=\".81\" x=\"8\" y=\"3\" fill=\"#000000\" />\n<rect width=\".81\" height=\".81\" x=\"9\" y=\"3\" fill=\"#000000\" />\n<rect width=\".81\" height=\".81\" x=\"10\" y=\"3\" fill=\"#000000\" />\n<rect width=\".81\" height=\".81\" x=\"11\" y=\"3\" fill=\"#000000\" />\n<rect width=\".81\" height=\".81\" x=\"12\" y=\"3\" fill=\"#000000\" />\n<rect width=\".81\" height=\".81\" x=\"13\" y=\"3\" fill=\"#000000\" />\n<rect width=\".81\" height=\".81\" x=\"14\" y=\"3\" fill=\"#000000\" />\n<rect width=\".81\" height=\".81\" x=\"15\" y=\"3\" fill=\"#000000\" />\n<rect width=\".81\" height=\".81\" x=\"16\" y=\"3\" fill=\"#000000\" />\n<rect width=\".81\" height=\".81\" x=\"17\" y=\"3\" fill=\"#000000\" />\n<rect width=\".81\" height=\".81\" x=\"18\" y=\"3\" fill=\"#000000\" />\n<rect width=\".81\" height=\".81\" x=\"19\" y=\"3\" fill=\"#000000\" />\n<rect width=\".81\" height=\".81\" x=\"20\" y=\"3\" fill=\"#000000\" />\n<rect width=\".81\" height=\".81\" x=\"21\" y=\"3\" fill=\"#000000\" />\n<rect width=\".81\" height=\".81\" x=\"22\" y=\"3\" fill=\"#000000\" />\n<rect width=\".81\" height=\".81\" x=\"23\" y=\"3\" fill=\"#000000\" />\n<rect width=\".81\" height=\".81\" x=\"24\" y=\"3\" fill=\"#000000\" />\n<rect width=\".81\" height=\".81\" x=\"25\" y=\"3\" fill=\"#000000\" />\n<rect width=\".81\" height=\".81\" x=\"26\" y=\"3\" fill=\"#000000\" />\n<rect width=\".81\" height=\".81\" x=\"27\" y=\"3\" fill=\"#000000\" />\n<rect width=\".81\" height=\".81\" x=\"0\" y=\"4\" fill=\"#000000\" />\n<rect width=\".81\" height=\".81\" x=\"1\" y=\"4\" fill=\"#000000\" />\n<rect width=\".81\" height=\".81\" x=\"2\" y=\"4\" fill=\"#000000\" />\n<rect width=\".81\" height=\".81\" x=\"3\" y=\"4\" fill=\"#000000\" />\n<rect width=\".81\" height=\".81\" x=\"4\" y=\"4\" fill=\"#000000\" />\n<rect width=\".81\" height=\".81\" x=\"5\" y=\"4\" fill=\"#000000\" />\n<rect width=\".81\" height=\".81\" x=\"6\" y=\"4\" fill=\"#000000\" />\n<rect width=\".81\" height=\".81\" x=\"7\" y=\"4\" fill=\"#000000\" />\n<rect width=\".81\" height=\".81\" x=\"8\" y=\"4\" fill=\"#000000\" />\n<rect width=\".81\" height=\".81\" x=\"9\" y=\"4\" fill=\"#000000\" />\n<rect width=\".81\" height=\".81\" x=\"10\" y=\"4\" fill=\"#000000\" />\n<rect width=\".81\" height=\".81\" x=\"11\" y=\"4\" fill=\"#000000\" />\n<rect width=\".81\" height=\".81\" x=\"12\" y=\"4\" fill=\"#000000\" />\n<rect width=\".81\" height=\".81\" x=\"13\" y=\"4\" fill=\"#000000\" />\n<rect width=\".81\" height=\".81\" x=\"14\" y=\"4\" fill=\"#000000\" />\n<rect width=\".81\" height=\".81\" x=\"15\" y=\"4\" fill=\"#000000\" />\n<rect width=\".81\" height=\".81\" x=\"16\" y=\"4\" fill=\"#000000\" />\n<rect width=\".81\" height=\".81\" x=\"17\" y=\"4\" fill=\"#000000\" />\n<rect width=\".81\" height=\".81\" x=\"18\" y=\"4\" fill=\"#000000\" />\n<rect width=\".81\" height=\".81\" x=\"19\" y=\"4\" fill=\"#000000\" />\n<rect width=\".81\" height=\".81\" x=\"20\" y=\"4\" fill=\"#000000\" />\n<rect width=\".81\" height=\".81\" x=\"21\" y=\"4\" fill=\"#000000\" />\n<rect width=\".81\" height=\".81\" x=\"22\" y=\"4\" fill=\"#000000\" />\n<rect width=\".81\" height=\".81\" x=\"23\" y=\"4\" fill=\"#000000\" />\n<rect width=\".81\" height=\".81\" x=\"24\" y=\"4\" fill=\"#000000\" />\n<rect width=\".81\" height=\".81\" x=\"25\" y=\"4\" fill=\"#000000\" />\n<rect width=\".81\" height=\".81\" x=\"26\" y=\"4\" fill=\"#000000\" />\n<rect width=\".81\" height=\".81\" x=\"27\" y=\"4\" fill=\"#000000\" />\n<rect width=\".81\" height=\".81\" x=\"0\" y=\"5\" fill=\"#000000\" />\n<rect width=\".81\" height=\".81\" x=\"1\" y=\"5\" fill=\"#000000\" />\n<rect width=\".81\" height=\".81\" x=\"2\" y=\"5\" fill=\"#000000\" />\n<rect width=\".81\" height=\".81\" x=\"3\" y=\"5\" fill=\"#000000\" />\n<rect width=\".81\" height=\".81\" x=\"4\" y=\"5\" fill=\"#000000\" />\n<rect width=\".81\" height=\".81\" x=\"5\" y=\"5\" fill=\"#000000\" />\n<rect width=\".81\" height=\".81\" x=\"6\" y=\"5\" fill=\"#000000\" />\n<rect width=\".81\" height=\".81\" x=\"7\" y=\"5\" fill=\"#000000\" />\n<rect width=\".81\" height=\".81\" x=\"8\" y=\"5\" fill=\"#000000\" />\n<rect width=\".81\" height=\".81\" x=\"9\" y=\"5\" fill=\"#000000\" />\n<rect width=\".81\" height=\".81\" x=\"10\" y=\"5\" fill=\"#000000\" />\n<rect width=\".81\" height=\".81\" x=\"11\" y=\"5\" fill=\"#000000\" />\n<rect width=\".81\" height=\".81\" x=\"12\" y=\"5\" fill=\"#000000\" />\n<rect width=\".81\" height=\".81\" x=\"13\" y=\"5\" fill=\"#000000\" />\n<rect width=\".81\" height=\".81\" x=\"14\" y=\"5\" fill=\"#000000\" />\n<rect width=\".81\" height=\".81\" x=\"15\" y=\"5\" fill=\"#000000\" />\n<rect width=\".81\" height=\".81\" x=\"16\" y=\"5\" fill=\"#000000\" />\n<rect width=\".81\" height=\".81\" x=\"17\" y=\"5\" fill=\"#000000\" />\n<rect width=\".81\" height=\".81\" x=\"18\" y=\"5\" fill=\"#000000\" />\n<rect width=\".81\" height=\".81\" x=\"19\" y=\"5\" fill=\"#000000\" />\n<rect width=\".81\" height=\".81\" x=\"20\" y=\"5\" fill=\"#000000\" />\n<rect width=\".81\" height=\".81\" x=\"21\" y=\"5\" fill=\"#000000\" />\n<rect width=\".81\" height=\".81\" x=\"22\" y=\"5\" fill=\"#000000\" />\n<rect width=\".81\" height=\".81\" x=\"23\" y=\"5\" fill=\"#000000\" />\n<rect width=\".81\" height=\".81\" x=\"24\" y=\"5\" fill=\"#000000\" />\n<rect width=\".81\" height=\".81\" x=\"25\" y=\"5\" fill=\"#000000\" />\n<rect width=\".81\" height=\".81\" x=\"26\" y=\"5\" fill=\"#000000\" />\n<rect width=\".81\" height=\".81\" x=\"27\" y=\"5\" fill=\"#000000\" />\n<rect width=\".81\" height=\".81\" x=\"0\" y=\"6\" fill=\"#000000\" />\n<rect width=\".81\" height=\".81\" x=\"1\" y=\"6\" fill=\"#000000\" />\n<rect width=\".81\" height=\".81\" x=\"2\" y=\"6\" fill=\"#000000\" />\n<rect width=\".81\" height=\".81\" x=\"3\" y=\"6\" fill=\"#000000\" />\n<rect width=\".81\" height=\".81\" x=\"4\" y=\"6\" fill=\"#000000\" />\n<rect width=\".81\" height=\".81\" x=\"5\" y=\"6\" fill=\"#000000\" />\n<rect width=\".81\" height=\".81\" x=\"6\" y=\"6\" fill=\"#000000\" />\n<rect width=\".81\" height=\".81\" x=\"7\" y=\"6\" fill=\"#000000\" />\n<rect width=\".81\" height=\".81\" x=\"8\" y=\"6\" fill=\"#000000\" />\n<rect width=\".81\" height=\".81\" x=\"9\" y=\"6\" fill=\"#000000\" />\n<rect width=\".81\" height=\".81\" x=\"10\" y=\"6\" fill=\"#000000\" />\n<rect width=\".81\" height=\".81\" x=\"11\" y=\"6\" fill=\"#000000\" />\n<rect width=\".81\" height=\".81\" x=\"12\" y=\"6\" fill=\"#000000\" />\n<rect width=\".81\" height=\".81\" x=\"13\" y=\"6\" fill=\"#000000\" />\n<rect width=\".81\" height=\".81\" x=\"14\" y=\"6\" fill=\"#000000\" />\n<rect width=\".81\" height=\".81\" x=\"15\" y=\"6\" fill=\"#000000\" />\n<rect width=\".81\" height=\".81\" x=\"16\" y=\"6\" fill=\"#000000\" />\n<rect width=\".81\" height=\".81\" x=\"17\" y=\"6\" fill=\"#000000\" />\n<rect width=\".81\" height=\".81\" x=\"18\" y=\"6\" fill=\"#000000\" />\n<rect width=\".81\" height=\".81\" x=\"19\" y=\"6\" fill=\"#000000\" />\n<rect width=\".81\" height=\".81\" x=\"20\" y=\"6\" fill=\"#000000\" />\n<rect width=\".81\" height=\".81\" x=\"21\" y=\"6\" fill=\"#000000\" />\n<rect width=\".81\" height=\".81\" x=\"22\" y=\"6\" fill=\"#000000\" />\n<rect width=\".81\" height=\".81\" x=\"23\" y=\"6\" fill=\"#000000\" />\n<rect width=\".81\" height=\".81\" x=\"24\" y=\"6\" fill=\"#000000\" />\n<rect width=\".81\" height=\".81\" x=\"25\" y=\"6\" fill=\"#000000\" />\n<rect width=\".81\" height=\".81\" x=\"26\" y=\"6\" fill=\"#000000\" />\n<rect width=\".81\" height=\".81\" x=\"27\" y=\"6\" fill=\"#000000\" />\n<rect width=\".81\" height=\".81\" x=\"0\" y=\"7\" fill=\"#000000\" />\n<rect width=\".81\" height=\".81\" x=\"1\" y=\"7\" fill=\"#000000\" />\n<rect width=\".81\" height=\".81\" x=\"2\" y=\"7\" fill=\"#000000\" />\n<rect width=\".81\" height=\".81\" x=\"3\" y=\"7\" fill=\"#000000\" />\n<rect width=\".81\" height=\".81\" x=\"4\" y=\"7\" fill=\"#000000\" />\n<rect width=\".81\" height=\".81\" x=\"5\" y=\"7\" fill=\"#000000\" />\n<rect width=\".81\" height=\".81\" x=\"6\" y=\"7\" fill=\"#000000\" />\n<rect width=\".81\" height=\".81\" x=\"7\" y=\"7\" fill=\"#000000\" />\n<rect width=\".81\" height=\".81\" x=\"8\" y=\"7\" fill=\"#000000\" />\n<rect width=\".81\" height=\".81\" x=\"9\" y=\"7\" fill=\"#000000\" />\n<rect width=\".81\" height=\".81\" x=\"10\" y=\"7\" fill=\"#000000\" />\n<rect width=\".81\" height=\".81\" x=\"11\" y=\"7\" fill=\"#000000\" />\n<rect width=\".81\" height=\".81\" x=\"12\" y=\"7\" fill=\"#373737\" />\n<rect width=\".81\" height=\".81\" x=\"13\" y=\"7\" fill=\"#949494\" />\n<rect width=\".81\" height=\".81\" x=\"14\" y=\"7\" fill=\"#D2D2D2\" />\n<rect width=\".81\" height=\".81\" x=\"15\" y=\"7\" fill=\"#FDFDFD\" />\n<rect width=\".81\" height=\".81\" x=\"16\" y=\"7\" fill=\"#FDFDFD\" />\n<rect width=\".81\" height=\".81\" x=\"17\" y=\"7\" fill=\"#717171\" />\n<rect width=\".81\" height=\".81\" x=\"18\" y=\"7\" fill=\"#575757\" />\n<rect width=\".81\" height=\".81\" x=\"19\" y=\"7\" fill=\"#949494\" />\n<rect width=\".81\" height=\".81\" x=\"20\" y=\"7\" fill=\"#373737\" />\n<rect width=\".81\" height=\".81\" x=\"21\" y=\"7\" fill=\"#000000\" />\n<rect width=\".81\" height=\".81\" x=\"22\" y=\"7\" fill=\"#000000\" />\n<rect width=\".81\" height=\".81\" x=\"23\" y=\"7\" fill=\"#000000\" />\n<rect width=\".81\" height=\".81\" x=\"24\" y=\"7\" fill=\"#000000\" />\n<rect width=\".81\" height=\".81\" x=\"25\" y=\"7\" fill=\"#000000\" />\n<rect width=\".81\" height=\".81\" x=\"26\" y=\"7\" fill=\"#000000\" />\n<rect width=\".81\" height=\".81\" x=\"27\" y=\"7\" fill=\"#000000\" />\n<rect width=\".81\" height=\".81\" x=\"0\" y=\"8\" fill=\"#000000\" />\n<rect width=\".81\" height=\".81\" x=\"1\" y=\"8\" fill=\"#000000\" />\n<rect width=\".81\" height=\".81\" x=\"2\" y=\"8\" fill=\"#000000\" />\n<rect width=\".81\" height=\".81\" x=\"3\" y=\"8\" fill=\"#000000\" />\n<rect width=\".81\" height=\".81\" x=\"4\" y=\"8\" fill=\"#000000\" />\n<rect width=\".81\" height=\".81\" x=\"5\" y=\"8\" fill=\"#000000\" />\n<rect width=\".81\" height=\".81\" x=\"6\" y=\"8\" fill=\"#000000\" />\n<rect width=\".81\" height=\".81\" x=\"7\" y=\"8\" fill=\"#000000\" />\n<rect width=\".81\" height=\".81\" x=\"8\" y=\"8\" fill=\"#000000\" />\n<rect width=\".81\" height=\".81\" x=\"9\" y=\"8\" fill=\"#000000\" />\n<rect width=\".81\" height=\".81\" x=\"10\" y=\"8\" fill=\"#000000\" />\n<rect width=\".81\" height=\".81\" x=\"11\" y=\"8\" fill=\"#575757\" />\n<rect width=\".81\" height=\".81\" x=\"12\" y=\"8\" fill=\"#E8E8E8\" />\n<rect width=\".81\" height=\".81\" x=\"13\" y=\"8\" fill=\"#FCFCFC\" />\n<rect width=\".81\" height=\".81\" x=\"14\" y=\"8\" fill=\"#FDFDFD\" />\n<rect width=\".81\" height=\".81\" x=\"15\" y=\"8\" fill=\"#BDBDBD\" />\n<rect width=\".81\" height=\".81\" x=\"16\" y=\"8\" fill=\"#D2D2D2\" />\n<rect width=\".81\" height=\".81\" x=\"17\" y=\"8\" fill=\"#FCFCFC\" />\n<rect width=\".81\" height=\".81\" x=\"18\" y=\"8\" fill=\"#FCFCFC\" />\n<rect width=\".81\" height=\".81\" x=\"19\" y=\"8\" fill=\"#FDFDFD\" />\n<rect width=\".81\" height=\".81\" x=\"20\" y=\"8\" fill=\"#A8A8A8\" />\n<rect width=\".81\" height=\".81\" x=\"21\" y=\"8\" fill=\"#000000\" />\n<rect width=\".81\" height=\".81\" x=\"22\" y=\"8\" fill=\"#000000\" />\n<rect width=\".81\" height=\".81\" x=\"23\" y=\"8\" fill=\"#000000\" />\n<rect width=\".81\" height=\".81\" x=\"24\" y=\"8\" fill=\"#000000\" />\n<rect width=\".81\" height=\".81\" x=\"25\" y=\"8\" fill=\"#000000\" />\n<rect width=\".81\" height=\".81\" x=\"26\" y=\"8\" fill=\"#000000\" />\n<rect width=\".81\" height=\".81\" x=\"27\" y=\"8\" fill=\"#000000\" />\n<rect width=\".81\" height=\".81\" x=\"0\" y=\"9\" fill=\"#000000\" />\n<rect width=\".81\" height=\".81\" x=\"1\" y=\"9\" fill=\"#000000\" />\n<rect width=\".81\" height=\".81\" x=\"2\" y=\"9\" fill=\"#000000\" />\n<rect width=\".81\" height=\".81\" x=\"3\" y=\"9\" fill=\"#000000\" />\n<rect width=\".81\" height=\".81\" x=\"4\" y=\"9\" fill=\"#000000\" />\n<rect width=\".81\" height=\".81\" x=\"5\" y=\"9\" fill=\"#000000\" />\n<rect width=\".81\" height=\".81\" x=\"6\" y=\"9\" fill=\"#000000\" />\n<rect width=\".81\" height=\".81\" x=\"7\" y=\"9\" fill=\"#000000\" />\n<rect width=\".81\" height=\".81\" x=\"8\" y=\"9\" fill=\"#000000\" />\n<rect width=\".81\" height=\".81\" x=\"9\" y=\"9\" fill=\"#040404\" />\n<rect width=\".81\" height=\".81\" x=\"10\" y=\"9\" fill=\"#393939\" />\n<rect width=\".81\" height=\".81\" x=\"11\" y=\"9\" fill=\"#F2F2F2\" />\n<rect width=\".81\" height=\".81\" x=\"12\" y=\"9\" fill=\"#FCFCFC\" />\n<rect width=\".81\" height=\".81\" x=\"13\" y=\"9\" fill=\"#BEBEBE\" />\n<rect width=\".81\" height=\".81\" x=\"14\" y=\"9\" fill=\"#414141\" />\n<rect width=\".81\" height=\".81\" x=\"15\" y=\"9\" fill=\"#050505\" />\n<rect width=\".81\" height=\".81\" x=\"16\" y=\"9\" fill=\"#0C0C0C\" />\n<rect width=\".81\" height=\".81\" x=\"17\" y=\"9\" fill=\"#B6B6B6\" />\n<rect width=\".81\" height=\".81\" x=\"18\" y=\"9\" fill=\"#FCFCFC\" />\n<rect width=\".81\" height=\".81\" x=\"19\" y=\"9\" fill=\"#FDFDFD\" />\n<rect width=\".81\" height=\".81\" x=\"20\" y=\"9\" fill=\"#747474\" />\n<rect width=\".81\" height=\".81\" x=\"21\" y=\"9\" fill=\"#000000\" />\n<rect width=\".81\" height=\".81\" x=\"22\" y=\"9\" fill=\"#000000\" />\n<rect width=\".81\" height=\".81\" x=\"23\" y=\"9\" fill=\"#000000\" />\n<rect width=\".81\" height=\".81\" x=\"24\" y=\"9\" fill=\"#000000\" />\n<rect width=\".81\" height=\".81\" x=\"25\" y=\"9\" fill=\"#000000\" />\n<rect width=\".81\" height=\".81\" x=\"26\" y=\"9\" fill=\"#000000\" />\n<rect width=\".81\" height=\".81\" x=\"27\" y=\"9\" fill=\"#000000\" />\n<rect width=\".81\" height=\".81\" x=\"0\" y=\"10\" fill=\"#000000\" />\n<rect width=\".81\" height=\".81\" x=\"1\" y=\"10\" fill=\"#000000\" />\n<rect width=\".81\" height=\".81\" x=\"2\" y=\"10\" fill=\"#000000\" />\n<rect width=\".81\" height=\".81\" x=\"3\" y=\"10\" fill=\"#000000\" />\n<rect width=\".81\" height=\".81\" x=\"4\" y=\"10\" fill=\"#000000\" />\n<rect width=\".81\" height=\".81\" x=\"5\" y=\"10\" fill=\"#000000\" />\n<rect width=\".81\" height=\".81\" x=\"6\" y=\"10\" fill=\"#000000\" />\n<rect width=\".81\" height=\".81\" x=\"7\" y=\"10\" fill=\"#000000\" />\n<rect width=\".81\" height=\".81\" x=\"8\" y=\"10\" fill=\"#000000\" />\n<rect width=\".81\" height=\".81\" x=\"9\" y=\"10\" fill=\"#606060\" />\n<rect width=\".81\" height=\".81\" x=\"10\" y=\"10\" fill=\"#FCFCFC\" />\n<rect width=\".81\" height=\".81\" x=\"11\" y=\"10\" fill=\"#FCFCFC\" />\n<rect width=\".81\" height=\".81\" x=\"12\" y=\"10\" fill=\"#B7B7B7\" />\n<rect width=\".81\" height=\".81\" x=\"13\" y=\"10\" fill=\"#0E0E0E\" />\n<rect width=\".81\" height=\".81\" x=\"14\" y=\"10\" fill=\"#000000\" />\n<rect width=\".81\" height=\".81\" x=\"15\" y=\"10\" fill=\"#000000\" />\n<rect width=\".81\" height=\".81\" x=\"16\" y=\"10\" fill=\"#5C5C5C\" />\n<rect width=\".81\" height=\".81\" x=\"17\" y=\"10\" fill=\"#FCFCFC\" />\n<rect width=\".81\" height=\".81\" x=\"18\" y=\"10\" fill=\"#FCFCFC\" />\n<rect width=\".81\" height=\".81\" x=\"19\" y=\"10\" fill=\"#E1E1E1\" />\n<rect width=\".81\" height=\".81\" x=\"20\" y=\"10\" fill=\"#151515\" />\n<rect width=\".81\" height=\".81\" x=\"21\" y=\"10\" fill=\"#000000\" />\n<rect width=\".81\" height=\".81\" x=\"22\" y=\"10\" fill=\"#000000\" />\n<rect width=\".81\" height=\".81\" x=\"23\" y=\"10\" fill=\"#000000\" />\n<rect width=\".81\" height=\".81\" x=\"24\" y=\"10\" fill=\"#000000\" />\n<rect width=\".81\" height=\".81\" x=\"25\" y=\"10\" fill=\"#000000\" />\n<rect width=\".81\" height=\".81\" x=\"26\" y=\"10\" fill=\"#000000\" />\n<rect width=\".81\" height=\".81\" x=\"27\" y=\"10\" fill=\"#000000\" />\n<rect width=\".81\" height=\".81\" x=\"0\" y=\"11\" fill=\"#000000\" />\n<rect width=\".81\" height=\".81\" x=\"1\" y=\"11\" fill=\"#000000\" />\n<rect width=\".81\" height=\".81\" x=\"2\" y=\"11\" fill=\"#000000\" />\n<rect width=\".81\" height=\".81\" x=\"3\" y=\"11\" fill=\"#000000\" />\n<rect width=\".81\" height=\".81\" x=\"4\" y=\"11\" fill=\"#000000\" />\n<rect width=\".81\" height=\".81\" x=\"5\" y=\"11\" fill=\"#000000\" />\n<rect width=\".81\" height=\".81\" x=\"6\" y=\"11\" fill=\"#000000\" />\n<rect width=\".81\" height=\".81\" x=\"7\" y=\"11\" fill=\"#000000\" />\n<rect width=\".81\" height=\".81\" x=\"8\" y=\"11\" fill=\"#848484\" />\n<rect width=\".81\" height=\".81\" x=\"9\" y=\"11\" fill=\"#FDFDFD\" />\n<rect width=\".81\" height=\".81\" x=\"10\" y=\"11\" fill=\"#FCFCFC\" />\n<rect width=\".81\" height=\".81\" x=\"11\" y=\"11\" fill=\"#929292\" />\n<rect width=\".81\" height=\".81\" x=\"12\" y=\"11\" fill=\"#0E0E0E\" />\n<rect width=\".81\" height=\".81\" x=\"13\" y=\"11\" fill=\"#000000\" />\n<rect width=\".81\" height=\".81\" x=\"14\" y=\"11\" fill=\"#000000\" />\n<rect width=\".81\" height=\".81\" x=\"15\" y=\"11\" fill=\"#000000\" />\n<rect width=\".81\" height=\".81\" x=\"16\" y=\"11\" fill=\"#D7D7D7\" />\n<rect width=\".81\" height=\".81\" x=\"17\" y=\"11\" fill=\"#FCFCFC\" />\n<rect width=\".81\" height=\".81\" x=\"18\" y=\"11\" fill=\"#FCFCFC\" />\n<rect width=\".81\" height=\".81\" x=\"19\" y=\"11\" fill=\"#4F4F4F\" />\n<rect width=\".81\" height=\".81\" x=\"20\" y=\"11\" fill=\"#000000\" />\n<rect width=\".81\" height=\".81\" x=\"21\" y=\"11\" fill=\"#000000\" />\n<rect width=\".81\" height=\".81\" x=\"22\" y=\"11\" fill=\"#000000\" />\n<rect width=\".81\" height=\".81\" x=\"23\" y=\"11\" fill=\"#000000\" />\n<rect width=\".81\" height=\".81\" x=\"24\" y=\"11\" fill=\"#000000\" />\n<rect width=\".81\" height=\".81\" x=\"25\" y=\"11\" fill=\"#000000\" />\n<rect width=\".81\" height=\".81\" x=\"26\" y=\"11\" fill=\"#000000\" />\n<rect width=\".81\" height=\".81\" x=\"27\" y=\"11\" fill=\"#000000\" />\n<rect width=\".81\" height=\".81\" x=\"0\" y=\"12\" fill=\"#000000\" />\n<rect width=\".81\" height=\".81\" x=\"1\" y=\"12\" fill=\"#000000\" />\n<rect width=\".81\" height=\".81\" x=\"2\" y=\"12\" fill=\"#000000\" />\n<rect width=\".81\" height=\".81\" x=\"3\" y=\"12\" fill=\"#000000\" />\n<rect width=\".81\" height=\".81\" x=\"4\" y=\"12\" fill=\"#000000\" />\n<rect width=\".81\" height=\".81\" x=\"5\" y=\"12\" fill=\"#000000\" />\n<rect width=\".81\" height=\".81\" x=\"6\" y=\"12\" fill=\"#000000\" />\n<rect width=\".81\" height=\".81\" x=\"7\" y=\"12\" fill=\"#7E7E7E\" />\n<rect width=\".81\" height=\".81\" x=\"8\" y=\"12\" fill=\"#FDFDFD\" />\n<rect width=\".81\" height=\".81\" x=\"9\" y=\"12\" fill=\"#F7F7F7\" />\n<rect width=\".81\" height=\".81\" x=\"10\" y=\"12\" fill=\"#B0B0B0\" />\n<rect width=\".81\" height=\".81\" x=\"11\" y=\"12\" fill=\"#090909\" />\n<rect width=\".81\" height=\".81\" x=\"12\" y=\"12\" fill=\"#000000\" />\n<rect width=\".81\" height=\".81\" x=\"13\" y=\"12\" fill=\"#000000\" />\n<rect width=\".81\" height=\".81\" x=\"14\" y=\"12\" fill=\"#080808\" />\n<rect width=\".81\" height=\".81\" x=\"15\" y=\"12\" fill=\"#4E4E4E\" />\n<rect width=\".81\" height=\".81\" x=\"16\" y=\"12\" fill=\"#F5F5F5\" />\n<rect width=\".81\" height=\".81\" x=\"17\" y=\"12\" fill=\"#FDFDFD\" />\n<rect width=\".81\" height=\".81\" x=\"18\" y=\"12\" fill=\"#818181\" />\n<rect width=\".81\" height=\".81\" x=\"19\" y=\"12\" fill=\"#000000\" />\n<rect width=\".81\" height=\".81\" x=\"20\" y=\"12\" fill=\"#000000\" />\n<rect width=\".81\" height=\".81\" x=\"21\" y=\"12\" fill=\"#000000\" />\n<rect width=\".81\" height=\".81\" x=\"22\" y=\"12\" fill=\"#000000\" />\n<rect width=\".81\" height=\".81\" x=\"23\" y=\"12\" fill=\"#000000\" />\n<rect width=\".81\" height=\".81\" x=\"24\" y=\"12\" fill=\"#000000\" />\n<rect width=\".81\" height=\".81\" x=\"25\" y=\"12\" fill=\"#000000\" />\n<rect width=\".81\" height=\".81\" x=\"26\" y=\"12\" fill=\"#000000\" />\n<rect width=\".81\" height=\".81\" x=\"27\" y=\"12\" fill=\"#000000\" />\n<rect width=\".81\" height=\".81\" x=\"0\" y=\"13\" fill=\"#000000\" />\n<rect width=\".81\" height=\".81\" x=\"1\" y=\"13\" fill=\"#000000\" />\n<rect width=\".81\" height=\".81\" x=\"2\" y=\"13\" fill=\"#000000\" />\n<rect width=\".81\" height=\".81\" x=\"3\" y=\"13\" fill=\"#000000\" />\n<rect width=\".81\" height=\".81\" x=\"4\" y=\"13\" fill=\"#000000\" />\n<rect width=\".81\" height=\".81\" x=\"5\" y=\"13\" fill=\"#000000\" />\n<rect width=\".81\" height=\".81\" x=\"6\" y=\"13\" fill=\"#101010\" />\n<rect width=\".81\" height=\".81\" x=\"7\" y=\"13\" fill=\"#E8E8E8\" />\n<rect width=\".81\" height=\".81\" x=\"8\" y=\"13\" fill=\"#FCFCFC\" />\n<rect width=\".81\" height=\".81\" x=\"9\" y=\"13\" fill=\"#B0B0B0\" />\n<rect width=\".81\" height=\".81\" x=\"10\" y=\"13\" fill=\"#000000\" />\n<rect width=\".81\" height=\".81\" x=\"11\" y=\"13\" fill=\"#000000\" />\n<rect width=\".81\" height=\".81\" x=\"12\" y=\"13\" fill=\"#000000\" />\n<rect width=\".81\" height=\".81\" x=\"13\" y=\"13\" fill=\"#242424\" />\n<rect width=\".81\" height=\".81\" x=\"14\" y=\"13\" fill=\"#C9C9C9\" />\n<rect width=\".81\" height=\".81\" x=\"15\" y=\"13\" fill=\"#FCFCFC\" />\n<rect width=\".81\" height=\".81\" x=\"16\" y=\"13\" fill=\"#FCFCFC\" />\n<rect width=\".81\" height=\".81\" x=\"17\" y=\"13\" fill=\"#A9A9A9\" />\n<rect width=\".81\" height=\".81\" x=\"18\" y=\"13\" fill=\"#0B0B0B\" />\n<rect width=\".81\" height=\".81\" x=\"19\" y=\"13\" fill=\"#000000\" />\n<rect width=\".81\" height=\".81\" x=\"20\" y=\"13\" fill=\"#000000\" />\n<rect width=\".81\" height=\".81\" x=\"21\" y=\"13\" fill=\"#000000\" />\n<rect width=\".81\" height=\".81\" x=\"22\" y=\"13\" fill=\"#000000\" />\n<rect width=\".81\" height=\".81\" x=\"23\" y=\"13\" fill=\"#000000\" />\n<rect width=\".81\" height=\".81\" x=\"24\" y=\"13\" fill=\"#000000\" />\n<rect width=\".81\" height=\".81\" x=\"25\" y=\"13\" fill=\"#000000\" />\n<rect width=\".81\" height=\".81\" x=\"26\" y=\"13\" fill=\"#000000\" />\n<rect width=\".81\" height=\".81\" x=\"27\" y=\"13\" fill=\"#000000\" />\n<rect width=\".81\" height=\".81\" x=\"0\" y=\"14\" fill=\"#000000\" />\n<rect width=\".81\" height=\".81\" x=\"1\" y=\"14\" fill=\"#000000\" />\n<rect width=\".81\" height=\".81\" x=\"2\" y=\"14\" fill=\"#000000\" />\n<rect width=\".81\" height=\".81\" x=\"3\" y=\"14\" fill=\"#000000\" />\n<rect width=\".81\" height=\".81\" x=\"4\" y=\"14\" fill=\"#000000\" />\n<rect width=\".81\" height=\".81\" x=\"5\" y=\"14\" fill=\"#000000\" />\n<rect width=\".81\" height=\".81\" x=\"6\" y=\"14\" fill=\"#161616\" />\n<rect width=\".81\" height=\".81\" x=\"7\" y=\"14\" fill=\"#FCFCFC\" />\n<rect width=\".81\" height=\".81\" x=\"8\" y=\"14\" fill=\"#FCFCFC\" />\n<rect width=\".81\" height=\".81\" x=\"9\" y=\"14\" fill=\"#1E1E1E\" />\n<rect width=\".81\" height=\".81\" x=\"10\" y=\"14\" fill=\"#161616\" />\n<rect width=\".81\" height=\".81\" x=\"11\" y=\"14\" fill=\"#777777\" />\n<rect width=\".81\" height=\".81\" x=\"12\" y=\"14\" fill=\"#C5C5C5\" />\n<rect width=\".81\" height=\".81\" x=\"13\" y=\"14\" fill=\"#F1F1F1\" />\n<rect width=\".81\" height=\".81\" x=\"14\" y=\"14\" fill=\"#FDFDFD\" />\n<rect width=\".81\" height=\".81\" x=\"15\" y=\"14\" fill=\"#FCFCFC\" />\n<rect width=\".81\" height=\".81\" x=\"16\" y=\"14\" fill=\"#FBFBFB\" />\n<rect width=\".81\" height=\".81\" x=\"17\" y=\"14\" fill=\"#4D4D4D\" />\n<rect width=\".81\" height=\".81\" x=\"18\" y=\"14\" fill=\"#000000\" />\n<rect width=\".81\" height=\".81\" x=\"19\" y=\"14\" fill=\"#000000\" />\n<rect width=\".81\" height=\".81\" x=\"20\" y=\"14\" fill=\"#000000\" />\n<rect width=\".81\" height=\".81\" x=\"21\" y=\"14\" fill=\"#000000\" />\n<rect width=\".81\" height=\".81\" x=\"22\" y=\"14\" fill=\"#000000\" />\n<rect width=\".81\" height=\".81\" x=\"23\" y=\"14\" fill=\"#000000\" />\n<rect width=\".81\" height=\".81\" x=\"24\" y=\"14\" fill=\"#000000\" />\n<rect width=\".81\" height=\".81\" x=\"25\" y=\"14\" fill=\"#000000\" />\n<rect width=\".81\" height=\".81\" x=\"26\" y=\"14\" fill=\"#000000\" />\n<rect width=\".81\" height=\".81\" x=\"27\" y=\"14\" fill=\"#000000\" />\n<rect width=\".81\" height=\".81\" x=\"0\" y=\"15\" fill=\"#000000\" />\n<rect width=\".81\" height=\".81\" x=\"1\" y=\"15\" fill=\"#000000\" />\n<rect width=\".81\" height=\".81\" x=\"2\" y=\"15\" fill=\"#000000\" />\n<rect width=\".81\" height=\".81\" x=\"3\" y=\"15\" fill=\"#000000\" />\n<rect width=\".81\" height=\".81\" x=\"4\" y=\"15\" fill=\"#000000\" />\n<rect width=\".81\" height=\".81\" x=\"5\" y=\"15\" fill=\"#000000\" />\n<rect width=\".81\" height=\".81\" x=\"6\" y=\"15\" fill=\"#101010\" />\n<rect width=\".81\" height=\".81\" x=\"7\" y=\"15\" fill=\"#E7E7E7\" />\n<rect width=\".81\" height=\".81\" x=\"8\" y=\"15\" fill=\"#FCFCFC\" />\n<rect width=\".81\" height=\".81\" x=\"9\" y=\"15\" fill=\"#FDFDFD\" />\n<rect width=\".81\" height=\".81\" x=\"10\" y=\"15\" fill=\"#FCFCFC\" />\n<rect width=\".81\" height=\".81\" x=\"11\" y=\"15\" fill=\"#FCFCFC\" />\n<rect width=\".81\" height=\".81\" x=\"12\" y=\"15\" fill=\"#FCFCFC\" />\n<rect width=\".81\" height=\".81\" x=\"13\" y=\"15\" fill=\"#E2E2E2\" />\n<rect width=\".81\" height=\".81\" x=\"14\" y=\"15\" fill=\"#E3E3E3\" />\n<rect width=\".81\" height=\".81\" x=\"15\" y=\"15\" fill=\"#FCFCFC\" />\n<rect width=\".81\" height=\".81\" x=\"16\" y=\"15\" fill=\"#E7E7E7\" />\n<rect width=\".81\" height=\".81\" x=\"17\" y=\"15\" fill=\"#000000\" />\n<rect width=\".81\" height=\".81\" x=\"18\" y=\"15\" fill=\"#000000\" />\n<rect width=\".81\" height=\".81\" x=\"19\" y=\"15\" fill=\"#000000\" />\n<rect width=\".81\" height=\".81\" x=\"20\" y=\"15\" fill=\"#000000\" />\n<rect width=\".81\" height=\".81\" x=\"21\" y=\"15\" fill=\"#000000\" />\n<rect width=\".81\" height=\".81\" x=\"22\" y=\"15\" fill=\"#000000\" />\n<rect width=\".81\" height=\".81\" x=\"23\" y=\"15\" fill=\"#000000\" />\n<rect width=\".81\" height=\".81\" x=\"24\" y=\"15\" fill=\"#000000\" />\n<rect width=\".81\" height=\".81\" x=\"25\" y=\"15\" fill=\"#000000\" />\n<rect width=\".81\" height=\".81\" x=\"26\" y=\"15\" fill=\"#000000\" />\n<rect width=\".81\" height=\".81\" x=\"27\" y=\"15\" fill=\"#000000\" />\n<rect width=\".81\" height=\".81\" x=\"0\" y=\"16\" fill=\"#000000\" />\n<rect width=\".81\" height=\".81\" x=\"1\" y=\"16\" fill=\"#000000\" />\n<rect width=\".81\" height=\".81\" x=\"2\" y=\"16\" fill=\"#000000\" />\n<rect width=\".81\" height=\".81\" x=\"3\" y=\"16\" fill=\"#000000\" />\n<rect width=\".81\" height=\".81\" x=\"4\" y=\"16\" fill=\"#000000\" />\n<rect width=\".81\" height=\".81\" x=\"5\" y=\"16\" fill=\"#000000\" />\n<rect width=\".81\" height=\".81\" x=\"6\" y=\"16\" fill=\"#000000\" />\n<rect width=\".81\" height=\".81\" x=\"7\" y=\"16\" fill=\"#373737\" />\n<rect width=\".81\" height=\".81\" x=\"8\" y=\"16\" fill=\"#EBEBEB\" />\n<rect width=\".81\" height=\".81\" x=\"9\" y=\"16\" fill=\"#FDFDFD\" />\n<rect width=\".81\" height=\".81\" x=\"10\" y=\"16\" fill=\"#D9D9D9\" />\n<rect width=\".81\" height=\".81\" x=\"11\" y=\"16\" fill=\"#8A8A8A\" />\n<rect width=\".81\" height=\".81\" x=\"12\" y=\"16\" fill=\"#2A2A2A\" />\n<rect width=\".81\" height=\".81\" x=\"13\" y=\"16\" fill=\"#181818\" />\n<rect width=\".81\" height=\".81\" x=\"14\" y=\"16\" fill=\"#C0C0C0\" />\n<rect width=\".81\" height=\".81\" x=\"15\" y=\"16\" fill=\"#FCFCFC\" />\n<rect width=\".81\" height=\".81\" x=\"16\" y=\"16\" fill=\"#8F8F8F\" />\n<rect width=\".81\" height=\".81\" x=\"17\" y=\"16\" fill=\"#000000\" />\n<rect width=\".81\" height=\".81\" x=\"18\" y=\"16\" fill=\"#000000\" />\n<rect width=\".81\" height=\".81\" x=\"19\" y=\"16\" fill=\"#000000\" />\n<rect width=\".81\" height=\".81\" x=\"20\" y=\"16\" fill=\"#000000\" />\n<rect width=\".81\" height=\".81\" x=\"21\" y=\"16\" fill=\"#000000\" />\n<rect width=\".81\" height=\".81\" x=\"22\" y=\"16\" fill=\"#000000\" />\n<rect width=\".81\" height=\".81\" x=\"23\" y=\"16\" fill=\"#000000\" />\n<rect width=\".81\" height=\".81\" x=\"24\" y=\"16\" fill=\"#000000\" />\n<rect width=\".81\" height=\".81\" x=\"25\" y=\"16\" fill=\"#000000\" />\n<rect width=\".81\" height=\".81\" x=\"26\" y=\"16\" fill=\"#000000\" />\n<rect width=\".81\" height=\".81\" x=\"27\" y=\"16\" fill=\"#000000\" />\n<rect width=\".81\" height=\".81\" x=\"0\" y=\"17\" fill=\"#000000\" />\n<rect width=\".81\" height=\".81\" x=\"1\" y=\"17\" fill=\"#000000\" />\n<rect width=\".81\" height=\".81\" x=\"2\" y=\"17\" fill=\"#000000\" />\n<rect width=\".81\" height=\".81\" x=\"3\" y=\"17\" fill=\"#000000\" />\n<rect width=\".81\" height=\".81\" x=\"4\" y=\"17\" fill=\"#000000\" />\n<rect width=\".81\" height=\".81\" x=\"5\" y=\"17\" fill=\"#000000\" />\n<rect width=\".81\" height=\".81\" x=\"6\" y=\"17\" fill=\"#000000\" />\n<rect width=\".81\" height=\".81\" x=\"7\" y=\"17\" fill=\"#000000\" />\n<rect width=\".81\" height=\".81\" x=\"8\" y=\"17\" fill=\"#000000\" />\n<rect width=\".81\" height=\".81\" x=\"9\" y=\"17\" fill=\"#000000\" />\n<rect width=\".81\" height=\".81\" x=\"10\" y=\"17\" fill=\"#000000\" />\n<rect width=\".81\" height=\".81\" x=\"11\" y=\"17\" fill=\"#000000\" />\n<rect width=\".81\" height=\".81\" x=\"12\" y=\"17\" fill=\"#000000\" />\n<rect width=\".81\" height=\".81\" x=\"13\" y=\"17\" fill=\"#3E3E3E\" />\n<rect width=\".81\" height=\".81\" x=\"14\" y=\"17\" fill=\"#FFFFFF\" />\n<rect width=\".81\" height=\".81\" x=\"15\" y=\"17\" fill=\"#FDFDFD\" />\n<rect width=\".81\" height=\".81\" x=\"16\" y=\"17\" fill=\"#6D6D6D\" />\n<rect width=\".81\" height=\".81\" x=\"17\" y=\"17\" fill=\"#000000\" />\n<rect width=\".81\" height=\".81\" x=\"18\" y=\"17\" fill=\"#000000\" />\n<rect width=\".81\" height=\".81\" x=\"19\" y=\"17\" fill=\"#000000\" />\n<rect width=\".81\" height=\".81\" x=\"20\" y=\"17\" fill=\"#000000\" />\n<rect width=\".81\" height=\".81\" x=\"21\" y=\"17\" fill=\"#000000\" />\n<rect width=\".81\" height=\".81\" x=\"22\" y=\"17\" fill=\"#000000\" />\n<rect width=\".81\" height=\".81\" x=\"23\" y=\"17\" fill=\"#000000\" />\n<rect width=\".81\" height=\".81\" x=\"24\" y=\"17\" fill=\"#000000\" />\n<rect width=\".81\" height=\".81\" x=\"25\" y=\"17\" fill=\"#000000\" />\n<rect width=\".81\" height=\".81\" x=\"26\" y=\"17\" fill=\"#000000\" />\n<rect width=\".81\" height=\".81\" x=\"27\" y=\"17\" fill=\"#000000\" />\n<rect width=\".81\" height=\".81\" x=\"0\" y=\"18\" fill=\"#000000\" />\n<rect width=\".81\" height=\".81\" x=\"1\" y=\"18\" fill=\"#000000\" />\n<rect width=\".81\" height=\".81\" x=\"2\" y=\"18\" fill=\"#000000\" />\n<rect width=\".81\" height=\".81\" x=\"3\" y=\"18\" fill=\"#000000\" />\n<rect width=\".81\" height=\".81\" x=\"4\" y=\"18\" fill=\"#000000\" />\n<rect width=\".81\" height=\".81\" x=\"5\" y=\"18\" fill=\"#000000\" />\n<rect width=\".81\" height=\".81\" x=\"6\" y=\"18\" fill=\"#000000\" />\n<rect width=\".81\" height=\".81\" x=\"7\" y=\"18\" fill=\"#000000\" />\n<rect width=\".81\" height=\".81\" x=\"8\" y=\"18\" fill=\"#000000\" />\n<rect width=\".81\" height=\".81\" x=\"9\" y=\"18\" fill=\"#000000\" />\n<rect width=\".81\" height=\".81\" x=\"10\" y=\"18\" fill=\"#000000\" />\n<rect width=\".81\" height=\".81\" x=\"11\" y=\"18\" fill=\"#000000\" />\n<rect width=\".81\" height=\".81\" x=\"12\" y=\"18\" fill=\"#000000\" />\n<rect width=\".81\" height=\".81\" x=\"13\" y=\"18\" fill=\"#474747\" />\n<rect width=\".81\" height=\".81\" x=\"14\" y=\"18\" fill=\"#FDFDFD\" />\n<rect width=\".81\" height=\".81\" x=\"15\" y=\"18\" fill=\"#FCFCFC\" />\n<rect width=\".81\" height=\".81\" x=\"16\" y=\"18\" fill=\"#151515\" />\n<rect width=\".81\" height=\".81\" x=\"17\" y=\"18\" fill=\"#000000\" />\n<rect width=\".81\" height=\".81\" x=\"18\" y=\"18\" fill=\"#000000\" />\n<rect width=\".81\" height=\".81\" x=\"19\" y=\"18\" fill=\"#000000\" />\n<rect width=\".81\" height=\".81\" x=\"20\" y=\"18\" fill=\"#000000\" />\n<rect width=\".81\" height=\".81\" x=\"21\" y=\"18\" fill=\"#000000\" />\n<rect width=\".81\" height=\".81\" x=\"22\" y=\"18\" fill=\"#000000\" />\n<rect width=\".81\" height=\".81\" x=\"23\" y=\"18\" fill=\"#000000\" />\n<rect width=\".81\" height=\".81\" x=\"24\" y=\"18\" fill=\"#000000\" />\n<rect width=\".81\" height=\".81\" x=\"25\" y=\"18\" fill=\"#000000\" />\n<rect width=\".81\" height=\".81\" x=\"26\" y=\"18\" fill=\"#000000\" />\n<rect width=\".81\" height=\".81\" x=\"27\" y=\"18\" fill=\"#000000\" />\n<rect width=\".81\" height=\".81\" x=\"0\" y=\"19\" fill=\"#000000\" />\n<rect width=\".81\" height=\".81\" x=\"1\" y=\"19\" fill=\"#000000\" />\n<rect width=\".81\" height=\".81\" x=\"2\" y=\"19\" fill=\"#000000\" />\n<rect width=\".81\" height=\".81\" x=\"3\" y=\"19\" fill=\"#000000\" />\n<rect width=\".81\" height=\".81\" x=\"4\" y=\"19\" fill=\"#000000\" />\n<rect width=\".81\" height=\".81\" x=\"5\" y=\"19\" fill=\"#000000\" />\n<rect width=\".81\" height=\".81\" x=\"6\" y=\"19\" fill=\"#000000\" />\n<rect width=\".81\" height=\".81\" x=\"7\" y=\"19\" fill=\"#000000\" />\n<rect width=\".81\" height=\".81\" x=\"8\" y=\"19\" fill=\"#000000\" />\n<rect width=\".81\" height=\".81\" x=\"9\" y=\"19\" fill=\"#000000\" />\n<rect width=\".81\" height=\".81\" x=\"10\" y=\"19\" fill=\"#000000\" />\n<rect width=\".81\" height=\".81\" x=\"11\" y=\"19\" fill=\"#000000\" />\n<rect width=\".81\" height=\".81\" x=\"12\" y=\"19\" fill=\"#000000\" />\n<rect width=\".81\" height=\".81\" x=\"13\" y=\"19\" fill=\"#000000\" />\n<rect width=\".81\" height=\".81\" x=\"14\" y=\"19\" fill=\"#FDFDFD\" />\n<rect width=\".81\" height=\".81\" x=\"15\" y=\"19\" fill=\"#FCFCFC\" />\n<rect width=\".81\" height=\".81\" x=\"16\" y=\"19\" fill=\"#151515\" />\n<rect width=\".81\" height=\".81\" x=\"17\" y=\"19\" fill=\"#000000\" />\n<rect width=\".81\" height=\".81\" x=\"18\" y=\"19\" fill=\"#000000\" />\n<rect width=\".81\" height=\".81\" x=\"19\" y=\"19\" fill=\"#000000\" />\n<rect width=\".81\" height=\".81\" x=\"20\" y=\"19\" fill=\"#000000\" />\n<rect width=\".81\" height=\".81\" x=\"21\" y=\"19\" fill=\"#000000\" />\n<rect width=\".81\" height=\".81\" x=\"22\" y=\"19\" fill=\"#000000\" />\n<rect width=\".81\" height=\".81\" x=\"23\" y=\"19\" fill=\"#000000\" />\n<rect width=\".81\" height=\".81\" x=\"24\" y=\"19\" fill=\"#000000\" />\n<rect width=\".81\" height=\".81\" x=\"25\" y=\"19\" fill=\"#000000\" />\n<rect width=\".81\" height=\".81\" x=\"26\" y=\"19\" fill=\"#000000\" />\n<rect width=\".81\" height=\".81\" x=\"27\" y=\"19\" fill=\"#000000\" />\n<rect width=\".81\" height=\".81\" x=\"0\" y=\"20\" fill=\"#000000\" />\n<rect width=\".81\" height=\".81\" x=\"1\" y=\"20\" fill=\"#000000\" />\n<rect width=\".81\" height=\".81\" x=\"2\" y=\"20\" fill=\"#000000\" />\n<rect width=\".81\" height=\".81\" x=\"3\" y=\"20\" fill=\"#000000\" />\n<rect width=\".81\" height=\".81\" x=\"4\" y=\"20\" fill=\"#000000\" />\n<rect width=\".81\" height=\".81\" x=\"5\" y=\"20\" fill=\"#000000\" />\n<rect width=\".81\" height=\".81\" x=\"6\" y=\"20\" fill=\"#000000\" />\n<rect width=\".81\" height=\".81\" x=\"7\" y=\"20\" fill=\"#000000\" />\n<rect width=\".81\" height=\".81\" x=\"8\" y=\"20\" fill=\"#000000\" />\n<rect width=\".81\" height=\".81\" x=\"9\" y=\"20\" fill=\"#000000\" />\n<rect width=\".81\" height=\".81\" x=\"10\" y=\"20\" fill=\"#000000\" />\n<rect width=\".81\" height=\".81\" x=\"11\" y=\"20\" fill=\"#000000\" />\n<rect width=\".81\" height=\".81\" x=\"12\" y=\"20\" fill=\"#000000\" />\n<rect width=\".81\" height=\".81\" x=\"13\" y=\"20\" fill=\"#474747\" />\n<rect width=\".81\" height=\".81\" x=\"14\" y=\"20\" fill=\"#FDFDFD\" />\n<rect width=\".81\" height=\".81\" x=\"15\" y=\"20\" fill=\"#FCFCFC\" />\n<rect width=\".81\" height=\".81\" x=\"16\" y=\"20\" fill=\"#151515\" />\n<rect width=\".81\" height=\".81\" x=\"17\" y=\"20\" fill=\"#000000\" />\n<rect width=\".81\" height=\".81\" x=\"18\" y=\"20\" fill=\"#000000\" />\n<rect width=\".81\" height=\".81\" x=\"19\" y=\"20\" fill=\"#000000\" />\n<rect width=\".81\" height=\".81\" x=\"20\" y=\"20\" fill=\"#000000\" />\n<rect width=\".81\" height=\".81\" x=\"21\" y=\"20\" fill=\"#000000\" />\n<rect width=\".81\" height=\".81\" x=\"22\" y=\"20\" fill=\"#000000\" />\n<rect width=\".81\" height=\".81\" x=\"23\" y=\"20\" fill=\"#000000\" />\n<rect width=\".81\" height=\".81\" x=\"24\" y=\"20\" fill=\"#000000\" />\n<rect width=\".81\" height=\".81\" x=\"25\" y=\"20\" fill=\"#000000\" />\n<rect width=\".81\" height=\".81\" x=\"26\" y=\"20\" fill=\"#000000\" />\n<rect width=\".81\" height=\".81\" x=\"27\" y=\"20\" fill=\"#000000\" />\n<rect width=\".81\" height=\".81\" x=\"0\" y=\"21\" fill=\"#000000\" />\n<rect width=\".81\" height=\".81\" x=\"1\" y=\"21\" fill=\"#000000\" />\n<rect width=\".81\" height=\".81\" x=\"2\" y=\"21\" fill=\"#000000\" />\n<rect width=\".81\" height=\".81\" x=\"3\" y=\"21\" fill=\"#000000\" />\n<rect width=\".81\" height=\".81\" x=\"4\" y=\"21\" fill=\"#000000\" />\n<rect width=\".81\" height=\".81\" x=\"5\" y=\"21\" fill=\"#000000\" />\n<rect width=\".81\" height=\".81\" x=\"6\" y=\"21\" fill=\"#000000\" />\n<rect width=\".81\" height=\".81\" x=\"7\" y=\"21\" fill=\"#000000\" />\n<rect width=\".81\" height=\".81\" x=\"8\" y=\"21\" fill=\"#000000\" />\n<rect width=\".81\" height=\".81\" x=\"9\" y=\"21\" fill=\"#000000\" />\n<rect width=\".81\" height=\".81\" x=\"10\" y=\"21\" fill=\"#000000\" />\n<rect width=\".81\" height=\".81\" x=\"11\" y=\"21\" fill=\"#000000\" />\n<rect width=\".81\" height=\".81\" x=\"12\" y=\"21\" fill=\"#000000\" />\n<rect width=\".81\" height=\".81\" x=\"13\" y=\"21\" fill=\"#6A6A6A\" />\n<rect width=\".81\" height=\".81\" x=\"14\" y=\"21\" fill=\"#FDFDFD\" />\n<rect width=\".81\" height=\".81\" x=\"15\" y=\"21\" fill=\"#FCFCFC\" />\n<rect width=\".81\" height=\".81\" x=\"16\" y=\"21\" fill=\"#151515\" />\n<rect width=\".81\" height=\".81\" x=\"17\" y=\"21\" fill=\"#000000\" />\n<rect width=\".81\" height=\".81\" x=\"18\" y=\"21\" fill=\"#000000\" />\n<rect width=\".81\" height=\".81\" x=\"19\" y=\"21\" fill=\"#000000\" />\n<rect width=\".81\" height=\".81\" x=\"20\" y=\"21\" fill=\"#000000\" />\n<rect width=\".81\" height=\".81\" x=\"21\" y=\"21\" fill=\"#000000\" />\n<rect width=\".81\" height=\".81\" x=\"22\" y=\"21\" fill=\"#000000\" />\n<rect width=\".81\" height=\".81\" x=\"23\" y=\"21\" fill=\"#000000\" />\n<rect width=\".81\" height=\".81\" x=\"24\" y=\"21\" fill=\"#000000\" />\n<rect width=\".81\" height=\".81\" x=\"25\" y=\"21\" fill=\"#000000\" />\n<rect width=\".81\" height=\".81\" x=\"26\" y=\"21\" fill=\"#000000\" />\n<rect width=\".81\" height=\".81\" x=\"27\" y=\"21\" fill=\"#000000\" />\n<rect width=\".81\" height=\".81\" x=\"0\" y=\"22\" fill=\"#000000\" />\n<rect width=\".81\" height=\".81\" x=\"1\" y=\"22\" fill=\"#000000\" />\n<rect width=\".81\" height=\".81\" x=\"2\" y=\"22\" fill=\"#000000\" />\n<rect width=\".81\" height=\".81\" x=\"3\" y=\"22\" fill=\"#000000\" />\n<rect width=\".81\" height=\".81\" x=\"4\" y=\"22\" fill=\"#000000\" />\n<rect width=\".81\" height=\".81\" x=\"5\" y=\"22\" fill=\"#000000\" />\n<rect width=\".81\" height=\".81\" x=\"6\" y=\"22\" fill=\"#000000\" />\n<rect width=\".81\" height=\".81\" x=\"7\" y=\"22\" fill=\"#000000\" />\n<rect width=\".81\" height=\".81\" x=\"8\" y=\"22\" fill=\"#000000\" />\n<rect width=\".81\" height=\".81\" x=\"9\" y=\"22\" fill=\"#000000\" />\n<rect width=\".81\" height=\".81\" x=\"10\" y=\"22\" fill=\"#000000\" />\n<rect width=\".81\" height=\".81\" x=\"11\" y=\"22\" fill=\"#000000\" />\n<rect width=\".81\" height=\".81\" x=\"12\" y=\"22\" fill=\"#000000\" />\n<rect width=\".81\" height=\".81\" x=\"13\" y=\"22\" fill=\"#2D2D2D\" />\n<rect width=\".81\" height=\".81\" x=\"14\" y=\"22\" fill=\"#FFFFFF\" />\n<rect width=\".81\" height=\".81\" x=\"15\" y=\"22\" fill=\"#FDFDFD\" />\n<rect width=\".81\" height=\".81\" x=\"16\" y=\"22\" fill=\"#151515\" />\n<rect width=\".81\" height=\".81\" x=\"17\" y=\"22\" fill=\"#000000\" />\n<rect width=\".81\" height=\".81\" x=\"18\" y=\"22\" fill=\"#000000\" />\n<rect width=\".81\" height=\".81\" x=\"19\" y=\"22\" fill=\"#000000\" />\n<rect width=\".81\" height=\".81\" x=\"20\" y=\"22\" fill=\"#000000\" />\n<rect width=\".81\" height=\".81\" x=\"21\" y=\"22\" fill=\"#000000\" />\n<rect width=\".81\" height=\".81\" x=\"22\" y=\"22\" fill=\"#000000\" />\n<rect width=\".81\" height=\".81\" x=\"23\" y=\"22\" fill=\"#000000\" />\n<rect width=\".81\" height=\".81\" x=\"24\" y=\"22\" fill=\"#000000\" />\n<rect width=\".81\" height=\".81\" x=\"25\" y=\"22\" fill=\"#000000\" />\n<rect width=\".81\" height=\".81\" x=\"26\" y=\"22\" fill=\"#000000\" />\n<rect width=\".81\" height=\".81\" x=\"27\" y=\"22\" fill=\"#000000\" />\n<rect width=\".81\" height=\".81\" x=\"0\" y=\"23\" fill=\"#000000\" />\n<rect width=\".81\" height=\".81\" x=\"1\" y=\"23\" fill=\"#000000\" />\n<rect width=\".81\" height=\".81\" x=\"2\" y=\"23\" fill=\"#000000\" />\n<rect width=\".81\" height=\".81\" x=\"3\" y=\"23\" fill=\"#000000\" />\n<rect width=\".81\" height=\".81\" x=\"4\" y=\"23\" fill=\"#000000\" />\n<rect width=\".81\" height=\".81\" x=\"5\" y=\"23\" fill=\"#000000\" />\n<rect width=\".81\" height=\".81\" x=\"6\" y=\"23\" fill=\"#000000\" />\n<rect width=\".81\" height=\".81\" x=\"7\" y=\"23\" fill=\"#000000\" />\n<rect width=\".81\" height=\".81\" x=\"8\" y=\"23\" fill=\"#000000\" />\n<rect width=\".81\" height=\".81\" x=\"9\" y=\"23\" fill=\"#000000\" />\n<rect width=\".81\" height=\".81\" x=\"10\" y=\"23\" fill=\"#000000\" />\n<rect width=\".81\" height=\".81\" x=\"11\" y=\"23\" fill=\"#000000\" />\n<rect width=\".81\" height=\".81\" x=\"12\" y=\"23\" fill=\"#000000\" />\n<rect width=\".81\" height=\".81\" x=\"13\" y=\"23\" fill=\"#000000\" />\n<rect width=\".81\" height=\".81\" x=\"14\" y=\"23\" fill=\"#DADADA\" />\n<rect width=\".81\" height=\".81\" x=\"15\" y=\"23\" fill=\"#FCFCFC\" />\n<rect width=\".81\" height=\".81\" x=\"16\" y=\"23\" fill=\"#383838\" />\n<rect width=\".81\" height=\".81\" x=\"17\" y=\"23\" fill=\"#000000\" />\n<rect width=\".81\" height=\".81\" x=\"18\" y=\"23\" fill=\"#000000\" />\n<rect width=\".81\" height=\".81\" x=\"19\" y=\"23\" fill=\"#000000\" />\n<rect width=\".81\" height=\".81\" x=\"20\" y=\"23\" fill=\"#000000\" />\n<rect width=\".81\" height=\".81\" x=\"21\" y=\"23\" fill=\"#000000\" />\n<rect width=\".81\" height=\".81\" x=\"22\" y=\"23\" fill=\"#000000\" />\n<rect width=\".81\" height=\".81\" x=\"23\" y=\"23\" fill=\"#000000\" />\n<rect width=\".81\" height=\".81\" x=\"24\" y=\"23\" fill=\"#000000\" />\n<rect width=\".81\" height=\".81\" x=\"25\" y=\"23\" fill=\"#000000\" />\n<rect width=\".81\" height=\".81\" x=\"26\" y=\"23\" fill=\"#000000\" />\n<rect width=\".81\" height=\".81\" x=\"27\" y=\"23\" fill=\"#000000\" />\n<rect width=\".81\" height=\".81\" x=\"0\" y=\"24\" fill=\"#000000\" />\n<rect width=\".81\" height=\".81\" x=\"1\" y=\"24\" fill=\"#000000\" />\n<rect width=\".81\" height=\".81\" x=\"2\" y=\"24\" fill=\"#000000\" />\n<rect width=\".81\" height=\".81\" x=\"3\" y=\"24\" fill=\"#000000\" />\n<rect width=\".81\" height=\".81\" x=\"4\" y=\"24\" fill=\"#000000\" />\n<rect width=\".81\" height=\".81\" x=\"5\" y=\"24\" fill=\"#000000\" />\n<rect width=\".81\" height=\".81\" x=\"6\" y=\"24\" fill=\"#000000\" />\n<rect width=\".81\" height=\".81\" x=\"7\" y=\"24\" fill=\"#000000\" />\n<rect width=\".81\" height=\".81\" x=\"8\" y=\"24\" fill=\"#000000\" />\n<rect width=\".81\" height=\".81\" x=\"9\" y=\"24\" fill=\"#000000\" />\n<rect width=\".81\" height=\".81\" x=\"10\" y=\"24\" fill=\"#000000\" />\n<rect width=\".81\" height=\".81\" x=\"11\" y=\"24\" fill=\"#000000\" />\n<rect width=\".81\" height=\".81\" x=\"12\" y=\"24\" fill=\"#000000\" />\n<rect width=\".81\" height=\".81\" x=\"13\" y=\"24\" fill=\"#000000\" />\n<rect width=\".81\" height=\".81\" x=\"14\" y=\"24\" fill=\"#606060\" />\n<rect width=\".81\" height=\".81\" x=\"15\" y=\"24\" fill=\"#FCFCFC\" />\n<rect width=\".81\" height=\".81\" x=\"16\" y=\"24\" fill=\"#BDBDBD\" />\n<rect width=\".81\" height=\".81\" x=\"17\" y=\"24\" fill=\"#2A2A2A\" />\n<rect width=\".81\" height=\".81\" x=\"18\" y=\"24\" fill=\"#000000\" />\n<rect width=\".81\" height=\".81\" x=\"19\" y=\"24\" fill=\"#000000\" />\n<rect width=\".81\" height=\".81\" x=\"20\" y=\"24\" fill=\"#000000\" />\n<rect width=\".81\" height=\".81\" x=\"21\" y=\"24\" fill=\"#000000\" />\n<rect width=\".81\" height=\".81\" x=\"22\" y=\"24\" fill=\"#000000\" />\n<rect width=\".81\" height=\".81\" x=\"23\" y=\"24\" fill=\"#000000\" />\n<rect width=\".81\" height=\".81\" x=\"24\" y=\"24\" fill=\"#000000\" />\n<rect width=\".81\" height=\".81\" x=\"25\" y=\"24\" fill=\"#000000\" />\n<rect width=\".81\" height=\".81\" x=\"26\" y=\"24\" fill=\"#000000\" />\n<rect width=\".81\" height=\".81\" x=\"27\" y=\"24\" fill=\"#000000\" />\n<rect width=\".81\" height=\".81\" x=\"0\" y=\"25\" fill=\"#000000\" />\n<rect width=\".81\" height=\".81\" x=\"1\" y=\"25\" fill=\"#000000\" />\n<rect width=\".81\" height=\".81\" x=\"2\" y=\"25\" fill=\"#000000\" />\n<rect width=\".81\" height=\".81\" x=\"3\" y=\"25\" fill=\"#000000\" />\n<rect width=\".81\" height=\".81\" x=\"4\" y=\"25\" fill=\"#000000\" />\n<rect width=\".81\" height=\".81\" x=\"5\" y=\"25\" fill=\"#000000\" />\n<rect width=\".81\" height=\".81\" x=\"6\" y=\"25\" fill=\"#000000\" />\n<rect width=\".81\" height=\".81\" x=\"7\" y=\"25\" fill=\"#000000\" />\n<rect width=\".81\" height=\".81\" x=\"8\" y=\"25\" fill=\"#000000\" />\n<rect width=\".81\" height=\".81\" x=\"9\" y=\"25\" fill=\"#000000\" />\n<rect width=\".81\" height=\".81\" x=\"10\" y=\"25\" fill=\"#000000\" />\n<rect width=\".81\" height=\".81\" x=\"11\" y=\"25\" fill=\"#000000\" />\n<rect width=\".81\" height=\".81\" x=\"12\" y=\"25\" fill=\"#000000\" />\n<rect width=\".81\" height=\".81\" x=\"13\" y=\"25\" fill=\"#000000\" />\n<rect width=\".81\" height=\".81\" x=\"14\" y=\"25\" fill=\"#0E0E0E\" />\n<rect width=\".81\" height=\".81\" x=\"15\" y=\"25\" fill=\"#B8B8B8\" />\n<rect width=\".81\" height=\".81\" x=\"16\" y=\"25\" fill=\"#FCFCFC\" />\n<rect width=\".81\" height=\".81\" x=\"17\" y=\"25\" fill=\"#AAAAAA\" />\n<rect width=\".81\" height=\".81\" x=\"18\" y=\"25\" fill=\"#0B0B0B\" />\n<rect width=\".81\" height=\".81\" x=\"19\" y=\"25\" fill=\"#000000\" />\n<rect width=\".81\" height=\".81\" x=\"20\" y=\"25\" fill=\"#000000\" />\n<rect width=\".81\" height=\".81\" x=\"21\" y=\"25\" fill=\"#000000\" />\n<rect width=\".81\" height=\".81\" x=\"22\" y=\"25\" fill=\"#000000\" />\n<rect width=\".81\" height=\".81\" x=\"23\" y=\"25\" fill=\"#000000\" />\n<rect width=\".81\" height=\".81\" x=\"24\" y=\"25\" fill=\"#000000\" />\n<rect width=\".81\" height=\".81\" x=\"25\" y=\"25\" fill=\"#000000\" />\n<rect width=\".81\" height=\".81\" x=\"26\" y=\"25\" fill=\"#000000\" />\n<rect width=\".81\" height=\".81\" x=\"27\" y=\"25\" fill=\"#000000\" />\n<rect width=\".81\" height=\".81\" x=\"0\" y=\"26\" fill=\"#000000\" />\n<rect width=\".81\" height=\".81\" x=\"1\" y=\"26\" fill=\"#000000\" />\n<rect width=\".81\" height=\".81\" x=\"2\" y=\"26\" fill=\"#000000\" />\n<rect width=\".81\" height=\".81\" x=\"3\" y=\"26\" fill=\"#000000\" />\n<rect width=\".81\" height=\".81\" x=\"4\" y=\"26\" fill=\"#000000\" />\n<rect width=\".81\" height=\".81\" x=\"5\" y=\"26\" fill=\"#000000\" />\n<rect width=\".81\" height=\".81\" x=\"6\" y=\"26\" fill=\"#000000\" />\n<rect width=\".81\" height=\".81\" x=\"7\" y=\"26\" fill=\"#000000\" />\n<rect width=\".81\" height=\".81\" x=\"8\" y=\"26\" fill=\"#000000\" />\n<rect width=\".81\" height=\".81\" x=\"9\" y=\"26\" fill=\"#000000\" />\n<rect width=\".81\" height=\".81\" x=\"10\" y=\"26\" fill=\"#000000\" />\n<rect width=\".81\" height=\".81\" x=\"11\" y=\"26\" fill=\"#000000\" />\n<rect width=\".81\" height=\".81\" x=\"12\" y=\"26\" fill=\"#000000\" />\n<rect width=\".81\" height=\".81\" x=\"13\" y=\"26\" fill=\"#000000\" />\n<rect width=\".81\" height=\".81\" x=\"14\" y=\"26\" fill=\"#000000\" />\n<rect width=\".81\" height=\".81\" x=\"15\" y=\"26\" fill=\"#0E0E0E\" />\n<rect width=\".81\" height=\".81\" x=\"16\" y=\"26\" fill=\"#939393\" />\n<rect width=\".81\" height=\".81\" x=\"17\" y=\"26\" fill=\"#FCFCFC\" />\n<rect width=\".81\" height=\".81\" x=\"18\" y=\"26\" fill=\"#2A2A2A\" />\n<rect width=\".81\" height=\".81\" x=\"19\" y=\"26\" fill=\"#000000\" />\n<rect width=\".81\" height=\".81\" x=\"20\" y=\"26\" fill=\"#000000\" />\n<rect width=\".81\" height=\".81\" x=\"21\" y=\"26\" fill=\"#000000\" />\n<rect width=\".81\" height=\".81\" x=\"22\" y=\"26\" fill=\"#000000\" />\n<rect width=\".81\" height=\".81\" x=\"23\" y=\"26\" fill=\"#000000\" />\n<rect width=\".81\" height=\".81\" x=\"24\" y=\"26\" fill=\"#000000\" />\n<rect width=\".81\" height=\".81\" x=\"25\" y=\"26\" fill=\"#000000\" />\n<rect width=\".81\" height=\".81\" x=\"26\" y=\"26\" fill=\"#000000\" />\n<rect width=\".81\" height=\".81\" x=\"27\" y=\"26\" fill=\"#000000\" />\n<rect width=\".81\" height=\".81\" x=\"0\" y=\"27\" fill=\"#000000\" />\n<rect width=\".81\" height=\".81\" x=\"1\" y=\"27\" fill=\"#000000\" />\n<rect width=\".81\" height=\".81\" x=\"2\" y=\"27\" fill=\"#000000\" />\n<rect width=\".81\" height=\".81\" x=\"3\" y=\"27\" fill=\"#000000\" />\n<rect width=\".81\" height=\".81\" x=\"4\" y=\"27\" fill=\"#000000\" />\n<rect width=\".81\" height=\".81\" x=\"5\" y=\"27\" fill=\"#000000\" />\n<rect width=\".81\" height=\".81\" x=\"6\" y=\"27\" fill=\"#000000\" />\n<rect width=\".81\" height=\".81\" x=\"7\" y=\"27\" fill=\"#000000\" />\n<rect width=\".81\" height=\".81\" x=\"8\" y=\"27\" fill=\"#000000\" />\n<rect width=\".81\" height=\".81\" x=\"9\" y=\"27\" fill=\"#000000\" />\n<rect width=\".81\" height=\".81\" x=\"10\" y=\"27\" fill=\"#000000\" />\n<rect width=\".81\" height=\".81\" x=\"11\" y=\"27\" fill=\"#000000\" />\n<rect width=\".81\" height=\".81\" x=\"12\" y=\"27\" fill=\"#000000\" />\n<rect width=\".81\" height=\".81\" x=\"13\" y=\"27\" fill=\"#000000\" />\n<rect width=\".81\" height=\".81\" x=\"14\" y=\"27\" fill=\"#000000\" />\n<rect width=\".81\" height=\".81\" x=\"15\" y=\"27\" fill=\"#000000\" />\n<rect width=\".81\" height=\".81\" x=\"16\" y=\"27\" fill=\"#000000\" />\n<rect width=\".81\" height=\".81\" x=\"17\" y=\"27\" fill=\"#000000\" />\n<rect width=\".81\" height=\".81\" x=\"18\" y=\"27\" fill=\"#000000\" />\n<rect width=\".81\" height=\".81\" x=\"19\" y=\"27\" fill=\"#000000\" />\n<rect width=\".81\" height=\".81\" x=\"20\" y=\"27\" fill=\"#000000\" />\n<rect width=\".81\" height=\".81\" x=\"21\" y=\"27\" fill=\"#000000\" />\n<rect width=\".81\" height=\".81\" x=\"22\" y=\"27\" fill=\"#000000\" />\n<rect width=\".81\" height=\".81\" x=\"23\" y=\"27\" fill=\"#000000\" />\n<rect width=\".81\" height=\".81\" x=\"24\" y=\"27\" fill=\"#000000\" />\n<rect width=\".81\" height=\".81\" x=\"25\" y=\"27\" fill=\"#000000\" />\n<rect width=\".81\" height=\".81\" x=\"26\" y=\"27\" fill=\"#000000\" />\n<rect width=\".81\" height=\".81\" x=\"27\" y=\"27\" fill=\"#000000\" />\n</svg>"
          },
          "metadata": {}
        }
      ],
      "execution_count": 2,
      "metadata": {
        "collapsed": false,
        "jupyter": {
          "source_hidden": false,
          "outputs_hidden": false
        },
        "nteract": {
          "transient": {
            "deleting": false
          }
        },
        "execution": {
          "iopub.status.busy": "2020-10-18T14:43:38.920Z",
          "iopub.execute_input": "2020-10-18T14:43:39.238Z",
          "iopub.status.idle": "2020-10-18T14:43:43.201Z"
        }
      }
    },
    {
      "cell_type": "markdown",
      "source": [
        "## Model Building\n",
        "\n",
        "A Deep Neural network defined by convolution, maxpool and dense layers was generated.  The architecture of this network was as follows: conv, maxpool, conv, maxpool, dense.  The number of channels in the first and second conv layer was 9 and 27 respectively.  "
      ],
      "metadata": {
        "nteract": {
          "transient": {
            "deleting": false
          }
        }
      }
    },
    {
      "cell_type": "code",
      "source": [
        "# Define a builder of 2 channels for our custom deep neural network\n",
        "mutable struct MyANN <: MLJFlux.Builder\n",
        "  channels1::Int64\n",
        "  channels2::Int64\n",
        "end\n",
        "\n",
        "# n_channels is number of channels of input image and it is usually 3 or 1 because of rgb or greyscale inputs\n",
        "# n_in is a tuple such as (28, 28) with represents the length and width of image\n",
        "# n_out is number of levels of the y output, n_out = 10 (digits 0-9) in the case of mnist\n",
        "# for conv layers choose pad = (f - 1) / 2 to preserve HW dimensions\n",
        "# for maxpool choose (2,2) with f = stride = 2 to shrink image by a 2 each time\n",
        "# After pooling the image shrinks as follows: (28, 28) -> (14, 14) ->  (7, 7)\n",
        "\n",
        "function MLJFlux.build(b::MyANN, n_in, n_out, n_channels)\n",
        "  c1, c2 = b.channels1, b.channels2  \n",
        "  \n",
        "  Chain(\n",
        "    Conv((3,3), n_channels => c1, relu; pad=1),\n",
        "    MaxPool((2,2); pad = 0, stride = 2),\n",
        "    Conv((3,3), c1 => c2, relu; pad=1),\n",
        "    MaxPool((2,2); pad = 0, stride = 2),\n",
        "    Flux.flatten,\n",
        "    Dense(49 * c2, n_out) \n",
        "  )  \n",
        "\n",
        "end\n",
        "\n",
        "#Load ImageClassifier\n",
        "@load ImageClassifier\n",
        "\n",
        "# Create an image classifier model with 9 and 27 channels\n",
        "clf = ImageClassifier(builder=MyANN(9, 27),\n",
        "                      epochs=10,\n",
        "                      loss=Flux.crossentropy)\n",
        "\n",
        "# Create and fit machine\n",
        "mach = machine(clf, Xm, ym)\n",
        "fit!(mach)\n",
        "\n",
        "# Show model\n",
        "clf"
      ],
      "outputs": [
        {
          "output_type": "stream",
          "name": "stderr",
          "text": [
            "┌ Info: Training \u001b[34mMachine{ImageClassifier{MyANN,…}} @409\u001b[39m.\n",
            "└ @ MLJBase /home/chigball/.julia/packages/MLJBase/uKzAz/src/machines.jl:319\n",
            "\u001b[33mOptimising neural net:100%[=========================] Time: 0:00:13\u001b[39m\n"
          ]
        },
        {
          "output_type": "execute_result",
          "execution_count": 3,
          "data": {
            "text/plain": "ImageClassifier(\n    builder = MyANN(\n            channels1 = 9,\n            channels2 = 27),\n    finaliser = NNlib.softmax,\n    optimiser = ADAM(0.001, (0.9, 0.999), IdDict{Any,Any}()),\n    loss = Flux.crossentropy,\n    epochs = 10,\n    batch_size = 1,\n    lambda = 0.0,\n    alpha = 0.0,\n    optimiser_changes_trigger_retraining = false)\u001b[34m @086\u001b[39m"
          },
          "metadata": {}
        }
      ],
      "execution_count": 3,
      "metadata": {
        "collapsed": true,
        "jupyter": {
          "source_hidden": false,
          "outputs_hidden": false
        },
        "nteract": {
          "transient": {
            "deleting": false
          }
        },
        "execution": {
          "iopub.status.busy": "2020-10-18T14:43:43.209Z",
          "iopub.execute_input": "2020-10-18T14:43:43.213Z",
          "iopub.status.idle": "2020-10-18T14:44:24.371Z"
        }
      }
    },
    {
      "cell_type": "markdown",
      "source": [
        "## Model Evaluation\n",
        "\n",
        "Model accuracy was tested in two ways:\n",
        "\n",
        "1. Via 6-fold cross validation\n",
        "2. Using the testing set\n",
        "\n",
        "In both cases the models was over 90% accurate.  "
      ],
      "metadata": {
        "nteract": {
          "transient": {
            "deleting": false
          }
        }
      }
    },
    {
      "cell_type": "code",
      "source": [
        "# Model evaluation using a holdout\n",
        "evaluate!(mach, resampling=CV(nfolds=6, rng=1234), operation=predict_mode, measure=accuracy)"
      ],
      "outputs": [
        {
          "output_type": "stream",
          "name": "stderr",
          "text": [
            "\u001b[33mEvaluating over 6 folds: 100%[=========================] Time: 0:00:30\u001b[39m\n"
          ]
        },
        {
          "output_type": "execute_result",
          "execution_count": 4,
          "data": {
            "text/plain": "┌\u001b[0m───────────\u001b[0m┬\u001b[0m───────────────\u001b[0m┬\u001b[0m───────────────────────────────────────────\u001b[0m┐\u001b[0m\n│\u001b[0m\u001b[22m _.measure \u001b[0m│\u001b[0m\u001b[22m _.measurement \u001b[0m│\u001b[0m\u001b[22m _.per_fold                                \u001b[0m│\u001b[0m\n├\u001b[0m───────────\u001b[0m┼\u001b[0m───────────────\u001b[0m┼\u001b[0m───────────────────────────────────────────\u001b[0m┤\u001b[0m\n│\u001b[0m accuracy  \u001b[0m│\u001b[0m 0.929         \u001b[0m│\u001b[0m [0.923, 0.94, 0.923, 0.949, 0.931, 0.905] \u001b[0m│\u001b[0m\n└\u001b[0m───────────\u001b[0m┴\u001b[0m───────────────\u001b[0m┴\u001b[0m───────────────────────────────────────────\u001b[0m┘\u001b[0m\n_.per_observation = [missing]\n_.fitted_params_per_fold = [ … ]\n_.report_per_fold = [ … ]\n"
          },
          "metadata": {}
        }
      ],
      "execution_count": 4,
      "metadata": {
        "collapsed": true,
        "jupyter": {
          "source_hidden": false,
          "outputs_hidden": false
        },
        "nteract": {
          "transient": {
            "deleting": false
          }
        },
        "execution": {
          "iopub.status.busy": "2020-10-18T14:44:24.378Z",
          "iopub.execute_input": "2020-10-18T14:44:24.383Z",
          "iopub.status.idle": "2020-10-18T14:44:57.960Z"
        }
      }
    },
    {
      "cell_type": "code",
      "source": [
        "# Here we test predictions actual results using the Xv data\n",
        "acc = accuracy(predict_mode(mach, Xv), yv)\n",
        "acc = round(acc, digits = 3);\n",
        "\n",
        "println(\"The final accuracy is $(acc)\")"
      ],
      "outputs": [
        {
          "output_type": "stream",
          "name": "stdout",
          "text": [
            "The final accuracy is 0.937\n"
          ]
        }
      ],
      "execution_count": 5,
      "metadata": {
        "collapsed": true,
        "jupyter": {
          "source_hidden": false,
          "outputs_hidden": false
        },
        "nteract": {
          "transient": {
            "deleting": false
          }
        },
        "execution": {
          "iopub.status.busy": "2020-10-18T14:44:57.969Z",
          "iopub.execute_input": "2020-10-18T14:44:57.975Z",
          "iopub.status.idle": "2020-10-18T14:44:58.062Z"
        }
      }
    }
  ],
  "metadata": {
    "kernel_info": {
      "name": "julia-1.5"
    },
    "language_info": {
      "file_extension": ".jl",
      "name": "julia",
      "mimetype": "application/julia",
      "version": "1.5.0"
    },
    "kernelspec": {
      "argv": [
        "/home/chigball/julia/bin/julia",
        "-i",
        "--startup-file=yes",
        "--color=yes",
        "--project=@.",
        "/home/chigball/.julia/packages/IJulia/tOM8L/src/kernel.jl",
        "{connection_file}"
      ],
      "display_name": "Julia 1.5.0",
      "env": {},
      "interrupt_mode": "signal",
      "language": "julia",
      "name": "julia-1.5"
    },
    "nteract": {
      "version": "0.25.1"
    }
  },
  "nbformat": 4,
  "nbformat_minor": 0
}